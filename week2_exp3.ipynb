{
  "cells": [
    {
      "cell_type": "markdown",
      "id": "f4bd763d",
      "metadata": {
        "id": "f4bd763d",
        "papermill": {
          "duration": 0.032218,
          "end_time": "2022-02-09T03:08:27.838484",
          "exception": false,
          "start_time": "2022-02-09T03:08:27.806266",
          "status": "completed"
        },
        "tags": []
      },
      "source": [
        "# install library"
      ]
    },
    {
      "cell_type": "code",
      "source": [
        "import os\n",
        "\n",
        "if os.environ.get(\"KAGGLE_KERNEL_RUN_TYPE\") is None:\n",
        "    ON_KAGGLE = False\n",
        "else:\n",
        "    ON_KAGGLE = True\n",
        "if not ON_KAGGLE:\n",
        "    import shutil\n",
        "    from requests import get\n",
        "\n",
        "    from google.colab import drive, files\n",
        "    # mount Google Drive\n",
        "    drive.mount(\"/content/drive\")\n",
        "else:\n",
        "    for dirname, _, filenames in os.walk('/kaggle/input'):\n",
        "        for filename in filenames:\n",
        "            print(os.path.join(dirname, filename))"
      ],
      "metadata": {
        "colab": {
          "base_uri": "https://localhost:8080/"
        },
        "id": "_Q3570EacqKW",
        "outputId": "391ec5aa-6f07-4493-cdd0-20b5ae91025f"
      },
      "id": "_Q3570EacqKW",
      "execution_count": 1,
      "outputs": [
        {
          "output_type": "stream",
          "name": "stdout",
          "text": [
            "Mounted at /content/drive\n"
          ]
        }
      ]
    },
    {
      "cell_type": "code",
      "source": [
        "if not ON_KAGGLE: \n",
        "    !pip uninstall -y kaggle\n",
        "    !pip install kaggle\n",
        "    !mkdir /root/.kaggle\n",
        "    !cp /content/drive/MyDrive/kaggla-za/kaggle.json /root/.kaggle\n",
        "    !kaggle datasets download -d  kozodoi/timm-pytorch-image-models\n",
        "    !mkdir -p ../input/timm-pytorch-image-models\n",
        "    !unzip -n -qq timm-pytorch-image-models.zip -d ../input/timm-pytorch-image-models"
      ],
      "metadata": {
        "colab": {
          "base_uri": "https://localhost:8080/"
        },
        "id": "Fw7XE-0QrN8h",
        "outputId": "1e3f1641-3561-43e1-a161-31fc5341f7bd"
      },
      "id": "Fw7XE-0QrN8h",
      "execution_count": 2,
      "outputs": [
        {
          "output_type": "stream",
          "name": "stdout",
          "text": [
            "Found existing installation: kaggle 1.5.12\n",
            "Uninstalling kaggle-1.5.12:\n",
            "  Successfully uninstalled kaggle-1.5.12\n",
            "Collecting kaggle\n",
            "  Downloading kaggle-1.5.12.tar.gz (58 kB)\n",
            "\u001b[K     |████████████████████████████████| 58 kB 3.8 MB/s \n",
            "\u001b[?25hRequirement already satisfied: six>=1.10 in /usr/local/lib/python3.7/dist-packages (from kaggle) (1.15.0)\n",
            "Requirement already satisfied: certifi in /usr/local/lib/python3.7/dist-packages (from kaggle) (2021.10.8)\n",
            "Requirement already satisfied: python-dateutil in /usr/local/lib/python3.7/dist-packages (from kaggle) (2.8.2)\n",
            "Requirement already satisfied: requests in /usr/local/lib/python3.7/dist-packages (from kaggle) (2.23.0)\n",
            "Requirement already satisfied: tqdm in /usr/local/lib/python3.7/dist-packages (from kaggle) (4.62.3)\n",
            "Requirement already satisfied: python-slugify in /usr/local/lib/python3.7/dist-packages (from kaggle) (5.0.2)\n",
            "Requirement already satisfied: urllib3 in /usr/local/lib/python3.7/dist-packages (from kaggle) (1.24.3)\n",
            "Requirement already satisfied: text-unidecode>=1.3 in /usr/local/lib/python3.7/dist-packages (from python-slugify->kaggle) (1.3)\n",
            "Requirement already satisfied: idna<3,>=2.5 in /usr/local/lib/python3.7/dist-packages (from requests->kaggle) (2.10)\n",
            "Requirement already satisfied: chardet<4,>=3.0.2 in /usr/local/lib/python3.7/dist-packages (from requests->kaggle) (3.0.4)\n",
            "Building wheels for collected packages: kaggle\n",
            "  Building wheel for kaggle (setup.py) ... \u001b[?25l\u001b[?25hdone\n",
            "  Created wheel for kaggle: filename=kaggle-1.5.12-py3-none-any.whl size=73051 sha256=5f87b2789f6739583c514d0b4bb7346fecc20bfe4b2021b3fb4e14edbfa47b02\n",
            "  Stored in directory: /root/.cache/pip/wheels/62/d6/58/5853130f941e75b2177d281eb7e44b4a98ed46dd155f556dc5\n",
            "Successfully built kaggle\n",
            "Installing collected packages: kaggle\n",
            "Successfully installed kaggle-1.5.12\n",
            "Downloading timm-pytorch-image-models.zip to /content\n",
            " 63% 9.00M/14.3M [00:00<00:00, 27.7MB/s]\n",
            "100% 14.3M/14.3M [00:00<00:00, 43.5MB/s]\n"
          ]
        }
      ]
    },
    {
      "cell_type": "code",
      "execution_count": 3,
      "id": "7f4e40f9",
      "metadata": {
        "execution": {
          "iopub.execute_input": "2022-02-09T03:08:27.912344Z",
          "iopub.status.busy": "2022-02-09T03:08:27.911521Z",
          "iopub.status.idle": "2022-02-09T03:08:32.520311Z",
          "shell.execute_reply": "2022-02-09T03:08:32.520731Z",
          "shell.execute_reply.started": "2021-10-27T03:31:42.119425Z"
        },
        "id": "7f4e40f9",
        "outputId": "2c085225-7e27-4d3d-bbc4-17beda1796d3",
        "papermill": {
          "duration": 4.649891,
          "end_time": "2022-02-09T03:08:32.520947",
          "exception": false,
          "start_time": "2022-02-09T03:08:27.871056",
          "status": "completed"
        },
        "tags": [],
        "colab": {
          "base_uri": "https://localhost:8080/"
        }
      },
      "outputs": [
        {
          "output_type": "stream",
          "name": "stdout",
          "text": [
            "Collecting albumentations==0.4.6\n",
            "  Downloading albumentations-0.4.6.tar.gz (117 kB)\n",
            "\u001b[K     |████████████████████████████████| 117 kB 8.1 MB/s \n",
            "\u001b[?25hRequirement already satisfied: numpy>=1.11.1 in /usr/local/lib/python3.7/dist-packages (from albumentations==0.4.6) (1.21.5)\n",
            "Requirement already satisfied: scipy in /usr/local/lib/python3.7/dist-packages (from albumentations==0.4.6) (1.4.1)\n",
            "Collecting imgaug>=0.4.0\n",
            "  Downloading imgaug-0.4.0-py2.py3-none-any.whl (948 kB)\n",
            "\u001b[K     |████████████████████████████████| 948 kB 44.7 MB/s \n",
            "\u001b[?25hRequirement already satisfied: PyYAML in /usr/local/lib/python3.7/dist-packages (from albumentations==0.4.6) (3.13)\n",
            "Requirement already satisfied: opencv-python>=4.1.1 in /usr/local/lib/python3.7/dist-packages (from albumentations==0.4.6) (4.1.2.30)\n",
            "Requirement already satisfied: Pillow in /usr/local/lib/python3.7/dist-packages (from imgaug>=0.4.0->albumentations==0.4.6) (7.1.2)\n",
            "Requirement already satisfied: six in /usr/local/lib/python3.7/dist-packages (from imgaug>=0.4.0->albumentations==0.4.6) (1.15.0)\n",
            "Requirement already satisfied: imageio in /usr/local/lib/python3.7/dist-packages (from imgaug>=0.4.0->albumentations==0.4.6) (2.4.1)\n",
            "Requirement already satisfied: matplotlib in /usr/local/lib/python3.7/dist-packages (from imgaug>=0.4.0->albumentations==0.4.6) (3.2.2)\n",
            "Requirement already satisfied: scikit-image>=0.14.2 in /usr/local/lib/python3.7/dist-packages (from imgaug>=0.4.0->albumentations==0.4.6) (0.18.3)\n",
            "Requirement already satisfied: Shapely in /usr/local/lib/python3.7/dist-packages (from imgaug>=0.4.0->albumentations==0.4.6) (1.8.0)\n",
            "Requirement already satisfied: PyWavelets>=1.1.1 in /usr/local/lib/python3.7/dist-packages (from scikit-image>=0.14.2->imgaug>=0.4.0->albumentations==0.4.6) (1.2.0)\n",
            "Requirement already satisfied: networkx>=2.0 in /usr/local/lib/python3.7/dist-packages (from scikit-image>=0.14.2->imgaug>=0.4.0->albumentations==0.4.6) (2.6.3)\n",
            "Requirement already satisfied: tifffile>=2019.7.26 in /usr/local/lib/python3.7/dist-packages (from scikit-image>=0.14.2->imgaug>=0.4.0->albumentations==0.4.6) (2021.11.2)\n",
            "Requirement already satisfied: kiwisolver>=1.0.1 in /usr/local/lib/python3.7/dist-packages (from matplotlib->imgaug>=0.4.0->albumentations==0.4.6) (1.3.2)\n",
            "Requirement already satisfied: pyparsing!=2.0.4,!=2.1.2,!=2.1.6,>=2.0.1 in /usr/local/lib/python3.7/dist-packages (from matplotlib->imgaug>=0.4.0->albumentations==0.4.6) (3.0.7)\n",
            "Requirement already satisfied: python-dateutil>=2.1 in /usr/local/lib/python3.7/dist-packages (from matplotlib->imgaug>=0.4.0->albumentations==0.4.6) (2.8.2)\n",
            "Requirement already satisfied: cycler>=0.10 in /usr/local/lib/python3.7/dist-packages (from matplotlib->imgaug>=0.4.0->albumentations==0.4.6) (0.11.0)\n",
            "Building wheels for collected packages: albumentations\n",
            "  Building wheel for albumentations (setup.py) ... \u001b[?25l\u001b[?25hdone\n",
            "  Created wheel for albumentations: filename=albumentations-0.4.6-py3-none-any.whl size=65174 sha256=3fde3cbde2bda69620929e829392e2b41dfa391a25277eefbd07ca0d97d359d3\n",
            "  Stored in directory: /root/.cache/pip/wheels/cf/34/0f/cb2a5f93561a181a4bcc84847ad6aaceea8b5a3127469616cc\n",
            "Successfully built albumentations\n",
            "Installing collected packages: imgaug, albumentations\n",
            "  Attempting uninstall: imgaug\n",
            "    Found existing installation: imgaug 0.2.9\n",
            "    Uninstalling imgaug-0.2.9:\n",
            "      Successfully uninstalled imgaug-0.2.9\n",
            "  Attempting uninstall: albumentations\n",
            "    Found existing installation: albumentations 0.1.12\n",
            "    Uninstalling albumentations-0.1.12:\n",
            "      Successfully uninstalled albumentations-0.1.12\n",
            "Successfully installed albumentations-0.4.6 imgaug-0.4.0\n"
          ]
        }
      ],
      "source": [
        "import sys\n",
        "sys.path.append(\"../input/timm-pytorch-image-models/pytorch-image-models-master\")\n",
        "\n",
        "if not ON_KAGGLE:\n",
        "    !pip install albumentations==0.4.6\n",
        "import albumentations as A\n",
        "from albumentations.pytorch import ToTensorV2\n",
        "\n",
        "import gc\n",
        "import math\n",
        "import os\n",
        "import pickle\n",
        "import random\n",
        "import re\n",
        "import time\n",
        "import warnings\n",
        "from contextlib import contextmanager\n",
        "\n",
        "import albumentations as A\n",
        "import cv2\n",
        "import matplotlib.pyplot as plt\n",
        "import numpy as np\n",
        "import pandas as pd\n",
        "import scipy as sp\n",
        "import torch\n",
        "import torch.nn as nn\n",
        "import torch.nn.functional as F\n",
        "\n",
        "\n",
        "#from albumentations.pytorch import ToTensorV2\n",
        "from scipy.special import softmax\n",
        "from sklearn.metrics import accuracy_score\n",
        "from sklearn.model_selection import train_test_split\n",
        "from torch.optim import SGD, Adam, AdamW\n",
        "from torch.optim.lr_scheduler import CosineAnnealingLR, CosineAnnealingWarmRestarts, ReduceLROnPlateau\n",
        "from torch.utils.data import DataLoader, Dataset\n",
        "from tqdm.auto import tqdm\n",
        "\n",
        "import timm\n",
        "warnings.filterwarnings('ignore')"
      ]
    },
    {
      "cell_type": "markdown",
      "id": "da530ffc",
      "metadata": {
        "id": "da530ffc",
        "papermill": {
          "duration": 0.03235,
          "end_time": "2022-02-09T03:08:32.586072",
          "exception": false,
          "start_time": "2022-02-09T03:08:32.553722",
          "status": "completed"
        },
        "tags": []
      },
      "source": [
        "# Config\n"
      ]
    },
    {
      "cell_type": "code",
      "execution_count": 4,
      "id": "98c3a6a2",
      "metadata": {
        "execution": {
          "iopub.execute_input": "2022-02-09T03:08:32.657185Z",
          "iopub.status.busy": "2022-02-09T03:08:32.653915Z",
          "iopub.status.idle": "2022-02-09T03:08:32.659375Z",
          "shell.execute_reply": "2022-02-09T03:08:32.658951Z",
          "shell.execute_reply.started": "2021-10-27T03:31:50.651725Z"
        },
        "id": "98c3a6a2",
        "papermill": {
          "duration": 0.040632,
          "end_time": "2022-02-09T03:08:32.659501",
          "exception": false,
          "start_time": "2022-02-09T03:08:32.618869",
          "status": "completed"
        },
        "tags": []
      },
      "outputs": [],
      "source": [
        "class Config:\n",
        "    Version = \"exp3\" # model save時のversion\n",
        "    #MODEL_NAME = \"resnet34\" # モデル名\n",
        "    MODEL_NAME = \"resnet50\" # モデル名\n",
        "    #MODEL_NAME = \"efficientnet_b0\" # モデル名\n",
        "    #MODEL_NAME = \"efficientnet_b7\" # モデル名\n",
        "\n",
        "    if ON_KAGGLE:\n",
        "        # if MODEL_NAME == 'resnet34':\n",
        "        #     model_name = '../input/pt-longformer-base' # https://www.kaggle.com/kishalmandal/pt-longformer-base\n",
        "        # elif MODEL_NAME == 'roberta-base':\n",
        "        #     model_name = '../input/roberta-base' #https://www.kaggle.com/abhishek/roberta-base\n",
        "        # elif modeMODEL_NAMEl_savename == 'roberta-large':\n",
        "        #     model_name = '../input/robertalarge' # https://www.kaggle.com/marshal02/robertalarge\n",
        "        # elif MODEL_NAME == 'longformer-large':\n",
        "        #     model_name = '../input/longformerlarge4096' # https://www.kaggle.com/hengzheng/longformerlarge4096 \n",
        "        #base_dir = '/content/drive/MyDrive/petfinder'\n",
        "        data_dir = '../input/digit-recognizer/' # = DATA_PATH\n",
        "        pre_data_dir = './preprocessed/'\n",
        "        model_dir = '.'\n",
        "        output_dir = '.'   \n",
        "    else:\n",
        "        # customize for my own Google Colab Environment\n",
        "        # if model_savename == 'longformer':\n",
        "        #     model_name = 'allenai/longformer-base-4096'\n",
        "        # elif model_savename == 'roberta-base':\n",
        "        #     model_name = 'roberta-base'\n",
        "        base_dir = '/content/drive/MyDrive/kaggla-za/E002Round3/Week2/DigitRecognizer'\n",
        "        data_dir = os.path.join(base_dir, 'data')\n",
        "        pre_data_dir = os.path.join(base_dir, 'data/preprocessed')\n",
        "        model_dir = os.path.join(base_dir, f'model/{Version}')\n",
        "        output_dir = os.path.join(base_dir, f'output/{Version}')    \n",
        "\n",
        "    is_debug = False\n",
        "    if MODEL_NAME == 'resnet34':\n",
        "        size = 224 # リサイズした後の画像のサイズ\n",
        "        model_lr = 1e-5\n",
        "    elif MODEL_NAME == 'roberta-base':\n",
        "        size = 224 # リサイズした後の画像のサイズ\n",
        "        model_lr = 1e-5\n",
        "    elif MODEL_NAME == 'resnet50':\n",
        "        size = 224 # リサイズした後の画像のサイズ\n",
        "        model_lr = 1e-5\n",
        "    seed = 42 # seed値\n",
        "    fold = 0\n",
        "    num_workers = 0 #並列実行する数\n",
        "    batch_size = 64 #バッチサイズ was 64 >100\n",
        "    epochs =5 #エポック数 10?\n",
        "    #size = 224 # リサイズした後の画像のサイズ\n",
        "    #model_lr = 1e-5 # 学習率\n",
        "    T_max = 10 # 最大イテレーション数 was 10\n",
        "    min_lr = 1e-6 # 学習率の最小値\n",
        "    weight_decay = 1e-6 # 学習減衰値\n",
        "    max_grad_norm = 1000 # 勾配の最大ノルム\n",
        "    print_freq = 1000 # 学習結果を表示する頻度\n",
        "    class_num = 10\n",
        "    N_FOLDS = 5\n",
        "    device = \"cuda\" if torch.cuda.is_available() else \"cpu\" # CPU of GPU\n"
      ]
    },
    {
      "cell_type": "code",
      "source": [
        "if not ON_KAGGLE:\n",
        "    if not os.path.exists(Config.model_dir):\n",
        "        !mkdir $Config.model_dir\n",
        "    if not os.path.exists(Config.output_dir):\n",
        "        !mkdir $Config.output_dir"
      ],
      "metadata": {
        "id": "iE2JBuhB1SlP"
      },
      "id": "iE2JBuhB1SlP",
      "execution_count": 5,
      "outputs": []
    },
    {
      "cell_type": "code",
      "source": [
        "# from google.colab import drive\n",
        "# drive.mount('/content/drive')"
      ],
      "metadata": {
        "id": "xK79ml4ZgSfc"
      },
      "id": "xK79ml4ZgSfc",
      "execution_count": 6,
      "outputs": []
    },
    {
      "cell_type": "markdown",
      "id": "4a078960",
      "metadata": {
        "id": "4a078960",
        "papermill": {
          "duration": 0.032456,
          "end_time": "2022-02-09T03:08:32.724535",
          "exception": false,
          "start_time": "2022-02-09T03:08:32.692079",
          "status": "completed"
        },
        "tags": []
      },
      "source": [
        "# Utils"
      ]
    },
    {
      "cell_type": "code",
      "execution_count": 7,
      "id": "b953b1c9",
      "metadata": {
        "execution": {
          "iopub.execute_input": "2022-02-09T03:08:32.798272Z",
          "iopub.status.busy": "2022-02-09T03:08:32.797578Z",
          "iopub.status.idle": "2022-02-09T03:08:32.803522Z",
          "shell.execute_reply": "2022-02-09T03:08:32.803030Z",
          "shell.execute_reply.started": "2021-10-27T03:31:50.718221Z"
        },
        "id": "b953b1c9",
        "papermill": {
          "duration": 0.046519,
          "end_time": "2022-02-09T03:08:32.803647",
          "exception": false,
          "start_time": "2022-02-09T03:08:32.757128",
          "status": "completed"
        },
        "tags": []
      },
      "outputs": [],
      "source": [
        "def init_logger(log_file='train.log'):\n",
        "    \"\"\"Output Log.\"\"\"\n",
        "    from logging import getLogger, INFO, FileHandler,  Formatter,  StreamHandler\n",
        "    logger = getLogger(__name__)\n",
        "    logger.setLevel(INFO)\n",
        "    handler1 = StreamHandler()\n",
        "    handler1.setFormatter(Formatter(\"%(message)s\"))\n",
        "    handler2 = FileHandler(filename=log_file)\n",
        "    handler2.setFormatter(Formatter(\"%(message)s\"))\n",
        "    logger.addHandler(handler1)\n",
        "    logger.addHandler(handler2)\n",
        "    return logger\n",
        "\n",
        "\n",
        "def seed_torch(seed=Config.seed): # was seed=0\n",
        "    \"\"\"Fixed seed value.\"\"\"\n",
        "    random.seed(seed)\n",
        "    os.environ['PYTHONHASHSEED'] = str(seed)\n",
        "    np.random.seed(seed)\n",
        "    torch.manual_seed(seed)\n",
        "    torch.cuda.manual_seed(seed)\n",
        "    torch.backends.cudnn.deterministic = True\n",
        "    torch.backends.cudnn.benchmark = False # added trueにすると再現性がなくなる\n",
        "\n",
        "\n",
        "LOGGER = init_logger()\n",
        "seed_torch(seed=Config.seed)"
      ]
    },
    {
      "cell_type": "code",
      "execution_count": 8,
      "id": "3465db18",
      "metadata": {
        "execution": {
          "iopub.execute_input": "2022-02-09T03:08:32.876488Z",
          "iopub.status.busy": "2022-02-09T03:08:32.875912Z",
          "iopub.status.idle": "2022-02-09T03:08:32.878537Z",
          "shell.execute_reply": "2022-02-09T03:08:32.878119Z",
          "shell.execute_reply.started": "2021-10-27T03:31:50.736517Z"
        },
        "id": "3465db18",
        "papermill": {
          "duration": 0.042238,
          "end_time": "2022-02-09T03:08:32.878663",
          "exception": false,
          "start_time": "2022-02-09T03:08:32.836425",
          "status": "completed"
        },
        "tags": []
      },
      "outputs": [],
      "source": [
        "def asMinutes(s):\n",
        "    \"\"\"Convert Seconds to Minutes.\"\"\"\n",
        "    m = math.floor(s / 60)\n",
        "    s -= m * 60\n",
        "    return '%dm %ds' % (m, s)\n",
        "\n",
        "\n",
        "def timeSince(since, percent):\n",
        "    \"\"\"Accessing and Converting Time Data.\"\"\"\n",
        "    now = time.time()\n",
        "    s = now - since\n",
        "    es = s / (percent)\n",
        "    rs = es - s\n",
        "    return '%s (remain %s)' % (asMinutes(s), asMinutes(rs))\n",
        "\n",
        "class AverageMeter(object):\n",
        "    \"\"\"Computes and stores the average and current value.\"\"\"\n",
        "    def __init__(self):\n",
        "        self.reset()\n",
        "\n",
        "    def reset(self):\n",
        "        self.val = 0\n",
        "        self.avg = 0\n",
        "        self.sum = 0\n",
        "        self.count = 0\n",
        "\n",
        "    def update(self, val, n=1):\n",
        "        self.val = val\n",
        "        self.sum += val * n\n",
        "        self.count += n\n",
        "        self.avg = self.sum / self.count"
      ]
    },
    {
      "cell_type": "markdown",
      "id": "253b696d",
      "metadata": {
        "id": "253b696d",
        "papermill": {
          "duration": 0.032804,
          "end_time": "2022-02-09T03:08:32.943845",
          "exception": false,
          "start_time": "2022-02-09T03:08:32.911041",
          "status": "completed"
        },
        "tags": []
      },
      "source": [
        "# Dataset"
      ]
    },
    {
      "cell_type": "code",
      "execution_count": 9,
      "id": "4ce6539f",
      "metadata": {
        "execution": {
          "iopub.execute_input": "2022-02-09T03:08:33.017159Z",
          "iopub.status.busy": "2022-02-09T03:08:33.016112Z",
          "iopub.status.idle": "2022-02-09T03:08:33.018285Z",
          "shell.execute_reply": "2022-02-09T03:08:33.018714Z",
          "shell.execute_reply.started": "2021-10-27T03:31:50.750712Z"
        },
        "id": "4ce6539f",
        "papermill": {
          "duration": 0.042364,
          "end_time": "2022-02-09T03:08:33.018893",
          "exception": false,
          "start_time": "2022-02-09T03:08:32.976529",
          "status": "completed"
        },
        "tags": []
      },
      "outputs": [],
      "source": [
        "class TrainDataset(Dataset):\n",
        "    \"\"\"Dataset used for training.\"\"\"\n",
        "    def __init__(self, df, transform=None):\n",
        "        self.df = df\n",
        "        self.labels = df['label'].values\n",
        "        self.transform = transform\n",
        "\n",
        "    def __len__(self):\n",
        "        return len(self.df)\n",
        "\n",
        "    def __getitem__(self, idx):\n",
        "        image = self.df.loc[idx, \"pixel0\": \"pixel783\"].values.astype(np.uint8).reshape(28, 28) # csv to image\n",
        "        image = cv2.cvtColor(image, cv2.COLOR_GRAY2RGB) # GRAY to RGB\n",
        "\n",
        "        if self.transform:\n",
        "            augmented = self.transform(image=image) # augmentation\n",
        "            image = augmented['image']\n",
        "\n",
        "        label = self.labels[idx] # 正解ラベル\n",
        "        return image, label"
      ]
    },
    {
      "cell_type": "code",
      "execution_count": 10,
      "id": "52cd3092",
      "metadata": {
        "execution": {
          "iopub.execute_input": "2022-02-09T03:08:33.091728Z",
          "iopub.status.busy": "2022-02-09T03:08:33.090732Z",
          "iopub.status.idle": "2022-02-09T03:08:33.092923Z",
          "shell.execute_reply": "2022-02-09T03:08:33.093348Z",
          "shell.execute_reply.started": "2021-10-27T03:31:50.768954Z"
        },
        "papermill": {
          "duration": 0.042067,
          "end_time": "2022-02-09T03:08:33.093507",
          "exception": false,
          "start_time": "2022-02-09T03:08:33.051440",
          "status": "completed"
        },
        "tags": [],
        "id": "52cd3092"
      },
      "outputs": [],
      "source": [
        "class TestDataset(Dataset):\n",
        "    \"\"\"Dataset used for inference.\"\"\"\n",
        "    def __init__(self, df, transform=None):\n",
        "        self.df = df\n",
        "        self.transform = transform\n",
        "\n",
        "    def __len__(self):\n",
        "        return len(self.df)\n",
        "\n",
        "    def __getitem__(self, idx):\n",
        "        image = self.df.loc[idx, \"pixel0\": \"pixel783\"].values.astype(np.uint8).reshape(28, 28)\n",
        "        image = cv2.cvtColor(image, cv2.COLOR_GRAY2RGB)\n",
        "\n",
        "        if self.transform:\n",
        "            augmented = self.transform(image=image)\n",
        "            image = augmented['image']\n",
        "\n",
        "        return image"
      ]
    },
    {
      "cell_type": "markdown",
      "source": [
        "# Data Augmentation"
      ],
      "metadata": {
        "id": "6TLlI7vl5Ndy"
      },
      "id": "6TLlI7vl5Ndy"
    },
    {
      "cell_type": "code",
      "execution_count": 11,
      "id": "5cce3f62",
      "metadata": {
        "execution": {
          "iopub.execute_input": "2022-02-09T03:08:33.163242Z",
          "iopub.status.busy": "2022-02-09T03:08:33.162240Z",
          "iopub.status.idle": "2022-02-09T03:08:33.168503Z",
          "shell.execute_reply": "2022-02-09T03:08:33.168984Z",
          "shell.execute_reply.started": "2021-10-27T03:31:50.780115Z"
        },
        "id": "5cce3f62",
        "papermill": {
          "duration": 0.043115,
          "end_time": "2022-02-09T03:08:33.169159",
          "exception": false,
          "start_time": "2022-02-09T03:08:33.126044",
          "status": "completed"
        },
        "tags": []
      },
      "outputs": [],
      "source": [
        "def get_transforms(*, data, size, norms):\n",
        "\n",
        "    if data == 'train':\n",
        "        return A.Compose([\n",
        "            A.Resize(Config.size, Config.size), # リサイズ\n",
        "            A.Normalize(mean=[norms[0], norms[0], norms[0]], std=[norms[1], norms[1], norms[1]], max_pixel_value=255.0, p=1.0), # 正規化\n",
        "            ToTensorV2(), # Tensor型に変換\n",
        "        ])\n",
        "\n",
        "    elif data == 'valid':\n",
        "        return A.Compose([\n",
        "            A.Resize(Config.size, Config.size),\n",
        "            A.Normalize(mean=[norms[0], norms[0], norms[0]], std=[norms[1], norms[1], norms[1]], max_pixel_value=255.0, p=1.0),\n",
        "            ToTensorV2(),\n",
        "        ])"
      ]
    },
    {
      "cell_type": "markdown",
      "id": "6e705ef1",
      "metadata": {
        "id": "6e705ef1",
        "papermill": {
          "duration": 0.032437,
          "end_time": "2022-02-09T03:08:33.234027",
          "exception": false,
          "start_time": "2022-02-09T03:08:33.201590",
          "status": "completed"
        },
        "tags": []
      },
      "source": [
        "# Model"
      ]
    },
    {
      "cell_type": "code",
      "execution_count": 12,
      "id": "14252a82",
      "metadata": {
        "execution": {
          "iopub.execute_input": "2022-02-09T03:08:33.303296Z",
          "iopub.status.busy": "2022-02-09T03:08:33.302391Z",
          "iopub.status.idle": "2022-02-09T03:08:33.307898Z",
          "shell.execute_reply": "2022-02-09T03:08:33.308337Z",
          "shell.execute_reply.started": "2021-10-27T03:31:50.793754Z"
        },
        "id": "14252a82",
        "papermill": {
          "duration": 0.04178,
          "end_time": "2022-02-09T03:08:33.308494",
          "exception": false,
          "start_time": "2022-02-09T03:08:33.266714",
          "status": "completed"
        },
        "tags": []
      },
      "outputs": [],
      "source": [
        "# use timm model no pretrained\n",
        "class BaseModel(nn.Module):\n",
        "    def __init__(\n",
        "        self, model_name=Config.MODEL_NAME, n_class=10, pretrained=False\n",
        "    ):\n",
        "        super().__init__()\n",
        "        self.model = timm.create_model(model_name, pretrained=pretrained) # model load(pretrained=False: 事前学習なし)\n",
        "        n_features = self.model.fc.in_features\n",
        "        self.model.classifier = nn.Linear(n_features, n_class) # 出力層の次元をクラス数に変更\n",
        "\n",
        "    def forward(self, x):\n",
        "        output = self.model(x)\n",
        "        return output"
      ]
    },
    {
      "cell_type": "markdown",
      "id": "a5100bd2",
      "metadata": {
        "id": "a5100bd2",
        "papermill": {
          "duration": 0.032459,
          "end_time": "2022-02-09T03:08:33.373293",
          "exception": false,
          "start_time": "2022-02-09T03:08:33.340834",
          "status": "completed"
        },
        "tags": []
      },
      "source": [
        "# train & valid function"
      ]
    },
    {
      "cell_type": "code",
      "execution_count": 13,
      "id": "fcb2c321",
      "metadata": {
        "execution": {
          "iopub.execute_input": "2022-02-09T03:08:33.442895Z",
          "iopub.status.busy": "2022-02-09T03:08:33.441920Z",
          "iopub.status.idle": "2022-02-09T03:08:33.451686Z",
          "shell.execute_reply": "2022-02-09T03:08:33.452222Z",
          "shell.execute_reply.started": "2021-10-27T03:31:50.812791Z"
        },
        "id": "fcb2c321",
        "papermill": {
          "duration": 0.046225,
          "end_time": "2022-02-09T03:08:33.452382",
          "exception": false,
          "start_time": "2022-02-09T03:08:33.406157",
          "status": "completed"
        },
        "tags": []
      },
      "outputs": [],
      "source": [
        "def train_fn(train_loader, model, criterion, optimizer, epoch, scheduler):\n",
        "    batch_time = AverageMeter()\n",
        "    data_time = AverageMeter()\n",
        "    losses = AverageMeter()\n",
        "\n",
        "    model.train() # 学習モード\n",
        "    start = end = time.time()\n",
        "    global_step = 0\n",
        "\n",
        "    for step, (images, labels) in enumerate(train_loader):\n",
        "        # measure data loading time\n",
        "        data_time.update(time.time() - end)\n",
        "        images = images.to(Config.device) # 画像をcpuからgpuヘ\n",
        "        labels = labels.to(Config.device) # 正解ラベルをcpuからgpuヘ\n",
        "        batch_size = labels.size(0) \n",
        "        y_preds = model(images) # 予測ラベル\n",
        "        loss = criterion(y_preds, labels) # lossの計算\n",
        "\n",
        "        losses.update(loss.item(), batch_size) \n",
        "        loss.backward() # パラメータの勾配を計算\n",
        "        \n",
        "        grad_norm = torch.nn.utils.clip_grad_norm_(model.parameters(), Config.max_grad_norm)\n",
        "        optimizer.step() # モデル更新\n",
        "        optimizer.zero_grad() # 勾配の初期化\n",
        "        global_step += 1\n",
        "        # measure elapsed time\n",
        "        batch_time.update(time.time() - end)\n",
        "        end = time.time()\n",
        "        if step % Config.print_freq == 0 or step == (len(train_loader)-1):\n",
        "            print('Epoch: [{0}][{1}/{2}] '\n",
        "                  'Data {data_time.val:.3f} ({data_time.avg:.3f}) '\n",
        "                  'Elapsed {remain:s} '\n",
        "                  'Loss: {loss.val:.4f}({loss.avg:.4f}) '\n",
        "                  .format(\n",
        "                   epoch+1, step, len(train_loader), batch_time=batch_time,\n",
        "                   data_time=data_time, loss=losses,\n",
        "                   remain=timeSince(start, float(step+1)/len(train_loader)),\n",
        "                   grad_norm=grad_norm,\n",
        "                   ))\n",
        "\n",
        "        del y_preds, images, labels, batch_size\n",
        "    del batch_time, data_time, model\n",
        "    gc.collect()\n",
        "    torch.cuda.empty_cache()\n",
        "    \n",
        "    return losses.avg"
      ]
    },
    {
      "cell_type": "code",
      "execution_count": 14,
      "id": "bb364855",
      "metadata": {
        "execution": {
          "iopub.execute_input": "2022-02-09T03:08:33.521506Z",
          "iopub.status.busy": "2022-02-09T03:08:33.520583Z",
          "iopub.status.idle": "2022-02-09T03:08:33.529630Z",
          "shell.execute_reply": "2022-02-09T03:08:33.530130Z",
          "shell.execute_reply.started": "2021-10-27T03:31:50.831503Z"
        },
        "id": "bb364855",
        "papermill": {
          "duration": 0.045607,
          "end_time": "2022-02-09T03:08:33.530293",
          "exception": false,
          "start_time": "2022-02-09T03:08:33.484686",
          "status": "completed"
        },
        "tags": []
      },
      "outputs": [],
      "source": [
        "def valid_fn(valid_loader, model, criterion):\n",
        "    batch_time = AverageMeter()\n",
        "    data_time = AverageMeter()\n",
        "    losses = AverageMeter()\n",
        "\n",
        "    # switch to evaluation mode\n",
        "    model.eval()\n",
        "    preds = []\n",
        "    start = end = time.time()\n",
        "    for step, (images, labels) in enumerate(valid_loader):\n",
        "        # measure data loading time\n",
        "        data_time.update(time.time() - end)\n",
        "        images = images.to(Config.device)\n",
        "        labels = labels.to(Config.device)\n",
        "        batch_size = labels.size(0)\n",
        "        with torch.no_grad():\n",
        "        #with torch.inference_mode(): Pytorch: ^1.9\n",
        "            y_preds = model(images)\n",
        "            loss = criterion(y_preds, labels)\n",
        "            losses.update(loss.item(), batch_size)\n",
        "            \n",
        "            preds.append(y_preds.softmax(1).to(\"cpu\").numpy().argmax(1))\n",
        "            del loss\n",
        "            batch_time.update(time.time() - end)\n",
        "            end = time.time()\n",
        "            if step % Config.print_freq == 0 or step == (len(valid_loader)-1):\n",
        "                print('EVAL: [{0}/{1}] '\n",
        "                    'Data {data_time.val:.3f} ({data_time.avg:.3f}) '\n",
        "                    'Elapsed {remain:s} '\n",
        "                    'Loss: {loss.val:.4f}({loss.avg:.4f}) '\n",
        "                    .format(\n",
        "                    step, len(valid_loader), batch_time=batch_time,\n",
        "                    data_time=data_time, loss=losses,\n",
        "                    remain=timeSince(start, float(step+1)/len(valid_loader)),\n",
        "                    ))\n",
        "        del y_preds, images, labels, batch_size\n",
        "    del batch_time, data_time, model\n",
        "    gc.collect()\n",
        "    torch.cuda.empty_cache()\n",
        "\n",
        "    preds = np.concatenate(preds)\n",
        "\n",
        "    return losses.avg, preds"
      ]
    },
    {
      "cell_type": "markdown",
      "id": "09c8eb11",
      "metadata": {
        "papermill": {
          "duration": 0.03226,
          "end_time": "2022-02-09T03:08:33.594956",
          "exception": false,
          "start_time": "2022-02-09T03:08:33.562696",
          "status": "completed"
        },
        "tags": [],
        "id": "09c8eb11"
      },
      "source": [
        "# Dataの確認"
      ]
    },
    {
      "cell_type": "code",
      "execution_count": 15,
      "id": "cb3a34b9",
      "metadata": {
        "execution": {
          "iopub.execute_input": "2022-02-09T03:08:33.663389Z",
          "iopub.status.busy": "2022-02-09T03:08:33.662757Z",
          "iopub.status.idle": "2022-02-09T03:08:36.717851Z",
          "shell.execute_reply": "2022-02-09T03:08:36.718272Z",
          "shell.execute_reply.started": "2021-10-27T03:31:50.850767Z"
        },
        "id": "cb3a34b9",
        "papermill": {
          "duration": 3.090806,
          "end_time": "2022-02-09T03:08:36.718449",
          "exception": false,
          "start_time": "2022-02-09T03:08:33.627643",
          "status": "completed"
        },
        "tags": [],
        "colab": {
          "base_uri": "https://localhost:8080/",
          "height": 299
        },
        "outputId": "303ff74d-b5d4-426f-c029-c2bf60d811ea"
      },
      "outputs": [
        {
          "output_type": "execute_result",
          "data": {
            "text/html": [
              "\n",
              "  <div id=\"df-d353f380-918b-4c6d-95c4-0612f7ff1eea\">\n",
              "    <div class=\"colab-df-container\">\n",
              "      <div>\n",
              "<style scoped>\n",
              "    .dataframe tbody tr th:only-of-type {\n",
              "        vertical-align: middle;\n",
              "    }\n",
              "\n",
              "    .dataframe tbody tr th {\n",
              "        vertical-align: top;\n",
              "    }\n",
              "\n",
              "    .dataframe thead th {\n",
              "        text-align: right;\n",
              "    }\n",
              "</style>\n",
              "<table border=\"1\" class=\"dataframe\">\n",
              "  <thead>\n",
              "    <tr style=\"text-align: right;\">\n",
              "      <th></th>\n",
              "      <th>label</th>\n",
              "      <th>pixel0</th>\n",
              "      <th>pixel1</th>\n",
              "      <th>pixel2</th>\n",
              "      <th>pixel3</th>\n",
              "      <th>pixel4</th>\n",
              "      <th>pixel5</th>\n",
              "      <th>pixel6</th>\n",
              "      <th>pixel7</th>\n",
              "      <th>pixel8</th>\n",
              "      <th>pixel9</th>\n",
              "      <th>pixel10</th>\n",
              "      <th>pixel11</th>\n",
              "      <th>pixel12</th>\n",
              "      <th>pixel13</th>\n",
              "      <th>pixel14</th>\n",
              "      <th>pixel15</th>\n",
              "      <th>pixel16</th>\n",
              "      <th>pixel17</th>\n",
              "      <th>pixel18</th>\n",
              "      <th>pixel19</th>\n",
              "      <th>pixel20</th>\n",
              "      <th>pixel21</th>\n",
              "      <th>pixel22</th>\n",
              "      <th>pixel23</th>\n",
              "      <th>pixel24</th>\n",
              "      <th>pixel25</th>\n",
              "      <th>pixel26</th>\n",
              "      <th>pixel27</th>\n",
              "      <th>pixel28</th>\n",
              "      <th>pixel29</th>\n",
              "      <th>pixel30</th>\n",
              "      <th>pixel31</th>\n",
              "      <th>pixel32</th>\n",
              "      <th>pixel33</th>\n",
              "      <th>pixel34</th>\n",
              "      <th>pixel35</th>\n",
              "      <th>pixel36</th>\n",
              "      <th>pixel37</th>\n",
              "      <th>pixel38</th>\n",
              "      <th>...</th>\n",
              "      <th>pixel744</th>\n",
              "      <th>pixel745</th>\n",
              "      <th>pixel746</th>\n",
              "      <th>pixel747</th>\n",
              "      <th>pixel748</th>\n",
              "      <th>pixel749</th>\n",
              "      <th>pixel750</th>\n",
              "      <th>pixel751</th>\n",
              "      <th>pixel752</th>\n",
              "      <th>pixel753</th>\n",
              "      <th>pixel754</th>\n",
              "      <th>pixel755</th>\n",
              "      <th>pixel756</th>\n",
              "      <th>pixel757</th>\n",
              "      <th>pixel758</th>\n",
              "      <th>pixel759</th>\n",
              "      <th>pixel760</th>\n",
              "      <th>pixel761</th>\n",
              "      <th>pixel762</th>\n",
              "      <th>pixel763</th>\n",
              "      <th>pixel764</th>\n",
              "      <th>pixel765</th>\n",
              "      <th>pixel766</th>\n",
              "      <th>pixel767</th>\n",
              "      <th>pixel768</th>\n",
              "      <th>pixel769</th>\n",
              "      <th>pixel770</th>\n",
              "      <th>pixel771</th>\n",
              "      <th>pixel772</th>\n",
              "      <th>pixel773</th>\n",
              "      <th>pixel774</th>\n",
              "      <th>pixel775</th>\n",
              "      <th>pixel776</th>\n",
              "      <th>pixel777</th>\n",
              "      <th>pixel778</th>\n",
              "      <th>pixel779</th>\n",
              "      <th>pixel780</th>\n",
              "      <th>pixel781</th>\n",
              "      <th>pixel782</th>\n",
              "      <th>pixel783</th>\n",
              "    </tr>\n",
              "  </thead>\n",
              "  <tbody>\n",
              "    <tr>\n",
              "      <th>0</th>\n",
              "      <td>1</td>\n",
              "      <td>0</td>\n",
              "      <td>0</td>\n",
              "      <td>0</td>\n",
              "      <td>0</td>\n",
              "      <td>0</td>\n",
              "      <td>0</td>\n",
              "      <td>0</td>\n",
              "      <td>0</td>\n",
              "      <td>0</td>\n",
              "      <td>0</td>\n",
              "      <td>0</td>\n",
              "      <td>0</td>\n",
              "      <td>0</td>\n",
              "      <td>0</td>\n",
              "      <td>0</td>\n",
              "      <td>0</td>\n",
              "      <td>0</td>\n",
              "      <td>0</td>\n",
              "      <td>0</td>\n",
              "      <td>0</td>\n",
              "      <td>0</td>\n",
              "      <td>0</td>\n",
              "      <td>0</td>\n",
              "      <td>0</td>\n",
              "      <td>0</td>\n",
              "      <td>0</td>\n",
              "      <td>0</td>\n",
              "      <td>0</td>\n",
              "      <td>0</td>\n",
              "      <td>0</td>\n",
              "      <td>0</td>\n",
              "      <td>0</td>\n",
              "      <td>0</td>\n",
              "      <td>0</td>\n",
              "      <td>0</td>\n",
              "      <td>0</td>\n",
              "      <td>0</td>\n",
              "      <td>0</td>\n",
              "      <td>0</td>\n",
              "      <td>...</td>\n",
              "      <td>0</td>\n",
              "      <td>0</td>\n",
              "      <td>0</td>\n",
              "      <td>0</td>\n",
              "      <td>0</td>\n",
              "      <td>0</td>\n",
              "      <td>0</td>\n",
              "      <td>0</td>\n",
              "      <td>0</td>\n",
              "      <td>0</td>\n",
              "      <td>0</td>\n",
              "      <td>0</td>\n",
              "      <td>0</td>\n",
              "      <td>0</td>\n",
              "      <td>0</td>\n",
              "      <td>0</td>\n",
              "      <td>0</td>\n",
              "      <td>0</td>\n",
              "      <td>0</td>\n",
              "      <td>0</td>\n",
              "      <td>0</td>\n",
              "      <td>0</td>\n",
              "      <td>0</td>\n",
              "      <td>0</td>\n",
              "      <td>0</td>\n",
              "      <td>0</td>\n",
              "      <td>0</td>\n",
              "      <td>0</td>\n",
              "      <td>0</td>\n",
              "      <td>0</td>\n",
              "      <td>0</td>\n",
              "      <td>0</td>\n",
              "      <td>0</td>\n",
              "      <td>0</td>\n",
              "      <td>0</td>\n",
              "      <td>0</td>\n",
              "      <td>0</td>\n",
              "      <td>0</td>\n",
              "      <td>0</td>\n",
              "      <td>0</td>\n",
              "    </tr>\n",
              "    <tr>\n",
              "      <th>1</th>\n",
              "      <td>0</td>\n",
              "      <td>0</td>\n",
              "      <td>0</td>\n",
              "      <td>0</td>\n",
              "      <td>0</td>\n",
              "      <td>0</td>\n",
              "      <td>0</td>\n",
              "      <td>0</td>\n",
              "      <td>0</td>\n",
              "      <td>0</td>\n",
              "      <td>0</td>\n",
              "      <td>0</td>\n",
              "      <td>0</td>\n",
              "      <td>0</td>\n",
              "      <td>0</td>\n",
              "      <td>0</td>\n",
              "      <td>0</td>\n",
              "      <td>0</td>\n",
              "      <td>0</td>\n",
              "      <td>0</td>\n",
              "      <td>0</td>\n",
              "      <td>0</td>\n",
              "      <td>0</td>\n",
              "      <td>0</td>\n",
              "      <td>0</td>\n",
              "      <td>0</td>\n",
              "      <td>0</td>\n",
              "      <td>0</td>\n",
              "      <td>0</td>\n",
              "      <td>0</td>\n",
              "      <td>0</td>\n",
              "      <td>0</td>\n",
              "      <td>0</td>\n",
              "      <td>0</td>\n",
              "      <td>0</td>\n",
              "      <td>0</td>\n",
              "      <td>0</td>\n",
              "      <td>0</td>\n",
              "      <td>0</td>\n",
              "      <td>0</td>\n",
              "      <td>...</td>\n",
              "      <td>0</td>\n",
              "      <td>0</td>\n",
              "      <td>0</td>\n",
              "      <td>0</td>\n",
              "      <td>0</td>\n",
              "      <td>0</td>\n",
              "      <td>0</td>\n",
              "      <td>0</td>\n",
              "      <td>0</td>\n",
              "      <td>0</td>\n",
              "      <td>0</td>\n",
              "      <td>0</td>\n",
              "      <td>0</td>\n",
              "      <td>0</td>\n",
              "      <td>0</td>\n",
              "      <td>0</td>\n",
              "      <td>0</td>\n",
              "      <td>0</td>\n",
              "      <td>0</td>\n",
              "      <td>0</td>\n",
              "      <td>0</td>\n",
              "      <td>0</td>\n",
              "      <td>0</td>\n",
              "      <td>0</td>\n",
              "      <td>0</td>\n",
              "      <td>0</td>\n",
              "      <td>0</td>\n",
              "      <td>0</td>\n",
              "      <td>0</td>\n",
              "      <td>0</td>\n",
              "      <td>0</td>\n",
              "      <td>0</td>\n",
              "      <td>0</td>\n",
              "      <td>0</td>\n",
              "      <td>0</td>\n",
              "      <td>0</td>\n",
              "      <td>0</td>\n",
              "      <td>0</td>\n",
              "      <td>0</td>\n",
              "      <td>0</td>\n",
              "    </tr>\n",
              "    <tr>\n",
              "      <th>2</th>\n",
              "      <td>1</td>\n",
              "      <td>0</td>\n",
              "      <td>0</td>\n",
              "      <td>0</td>\n",
              "      <td>0</td>\n",
              "      <td>0</td>\n",
              "      <td>0</td>\n",
              "      <td>0</td>\n",
              "      <td>0</td>\n",
              "      <td>0</td>\n",
              "      <td>0</td>\n",
              "      <td>0</td>\n",
              "      <td>0</td>\n",
              "      <td>0</td>\n",
              "      <td>0</td>\n",
              "      <td>0</td>\n",
              "      <td>0</td>\n",
              "      <td>0</td>\n",
              "      <td>0</td>\n",
              "      <td>0</td>\n",
              "      <td>0</td>\n",
              "      <td>0</td>\n",
              "      <td>0</td>\n",
              "      <td>0</td>\n",
              "      <td>0</td>\n",
              "      <td>0</td>\n",
              "      <td>0</td>\n",
              "      <td>0</td>\n",
              "      <td>0</td>\n",
              "      <td>0</td>\n",
              "      <td>0</td>\n",
              "      <td>0</td>\n",
              "      <td>0</td>\n",
              "      <td>0</td>\n",
              "      <td>0</td>\n",
              "      <td>0</td>\n",
              "      <td>0</td>\n",
              "      <td>0</td>\n",
              "      <td>0</td>\n",
              "      <td>0</td>\n",
              "      <td>...</td>\n",
              "      <td>0</td>\n",
              "      <td>0</td>\n",
              "      <td>0</td>\n",
              "      <td>0</td>\n",
              "      <td>0</td>\n",
              "      <td>0</td>\n",
              "      <td>0</td>\n",
              "      <td>0</td>\n",
              "      <td>0</td>\n",
              "      <td>0</td>\n",
              "      <td>0</td>\n",
              "      <td>0</td>\n",
              "      <td>0</td>\n",
              "      <td>0</td>\n",
              "      <td>0</td>\n",
              "      <td>0</td>\n",
              "      <td>0</td>\n",
              "      <td>0</td>\n",
              "      <td>0</td>\n",
              "      <td>0</td>\n",
              "      <td>0</td>\n",
              "      <td>0</td>\n",
              "      <td>0</td>\n",
              "      <td>0</td>\n",
              "      <td>0</td>\n",
              "      <td>0</td>\n",
              "      <td>0</td>\n",
              "      <td>0</td>\n",
              "      <td>0</td>\n",
              "      <td>0</td>\n",
              "      <td>0</td>\n",
              "      <td>0</td>\n",
              "      <td>0</td>\n",
              "      <td>0</td>\n",
              "      <td>0</td>\n",
              "      <td>0</td>\n",
              "      <td>0</td>\n",
              "      <td>0</td>\n",
              "      <td>0</td>\n",
              "      <td>0</td>\n",
              "    </tr>\n",
              "    <tr>\n",
              "      <th>3</th>\n",
              "      <td>4</td>\n",
              "      <td>0</td>\n",
              "      <td>0</td>\n",
              "      <td>0</td>\n",
              "      <td>0</td>\n",
              "      <td>0</td>\n",
              "      <td>0</td>\n",
              "      <td>0</td>\n",
              "      <td>0</td>\n",
              "      <td>0</td>\n",
              "      <td>0</td>\n",
              "      <td>0</td>\n",
              "      <td>0</td>\n",
              "      <td>0</td>\n",
              "      <td>0</td>\n",
              "      <td>0</td>\n",
              "      <td>0</td>\n",
              "      <td>0</td>\n",
              "      <td>0</td>\n",
              "      <td>0</td>\n",
              "      <td>0</td>\n",
              "      <td>0</td>\n",
              "      <td>0</td>\n",
              "      <td>0</td>\n",
              "      <td>0</td>\n",
              "      <td>0</td>\n",
              "      <td>0</td>\n",
              "      <td>0</td>\n",
              "      <td>0</td>\n",
              "      <td>0</td>\n",
              "      <td>0</td>\n",
              "      <td>0</td>\n",
              "      <td>0</td>\n",
              "      <td>0</td>\n",
              "      <td>0</td>\n",
              "      <td>0</td>\n",
              "      <td>0</td>\n",
              "      <td>0</td>\n",
              "      <td>0</td>\n",
              "      <td>0</td>\n",
              "      <td>...</td>\n",
              "      <td>0</td>\n",
              "      <td>0</td>\n",
              "      <td>0</td>\n",
              "      <td>0</td>\n",
              "      <td>0</td>\n",
              "      <td>0</td>\n",
              "      <td>0</td>\n",
              "      <td>0</td>\n",
              "      <td>0</td>\n",
              "      <td>0</td>\n",
              "      <td>0</td>\n",
              "      <td>0</td>\n",
              "      <td>0</td>\n",
              "      <td>0</td>\n",
              "      <td>0</td>\n",
              "      <td>0</td>\n",
              "      <td>0</td>\n",
              "      <td>0</td>\n",
              "      <td>0</td>\n",
              "      <td>0</td>\n",
              "      <td>0</td>\n",
              "      <td>0</td>\n",
              "      <td>0</td>\n",
              "      <td>0</td>\n",
              "      <td>0</td>\n",
              "      <td>0</td>\n",
              "      <td>0</td>\n",
              "      <td>0</td>\n",
              "      <td>0</td>\n",
              "      <td>0</td>\n",
              "      <td>0</td>\n",
              "      <td>0</td>\n",
              "      <td>0</td>\n",
              "      <td>0</td>\n",
              "      <td>0</td>\n",
              "      <td>0</td>\n",
              "      <td>0</td>\n",
              "      <td>0</td>\n",
              "      <td>0</td>\n",
              "      <td>0</td>\n",
              "    </tr>\n",
              "    <tr>\n",
              "      <th>4</th>\n",
              "      <td>0</td>\n",
              "      <td>0</td>\n",
              "      <td>0</td>\n",
              "      <td>0</td>\n",
              "      <td>0</td>\n",
              "      <td>0</td>\n",
              "      <td>0</td>\n",
              "      <td>0</td>\n",
              "      <td>0</td>\n",
              "      <td>0</td>\n",
              "      <td>0</td>\n",
              "      <td>0</td>\n",
              "      <td>0</td>\n",
              "      <td>0</td>\n",
              "      <td>0</td>\n",
              "      <td>0</td>\n",
              "      <td>0</td>\n",
              "      <td>0</td>\n",
              "      <td>0</td>\n",
              "      <td>0</td>\n",
              "      <td>0</td>\n",
              "      <td>0</td>\n",
              "      <td>0</td>\n",
              "      <td>0</td>\n",
              "      <td>0</td>\n",
              "      <td>0</td>\n",
              "      <td>0</td>\n",
              "      <td>0</td>\n",
              "      <td>0</td>\n",
              "      <td>0</td>\n",
              "      <td>0</td>\n",
              "      <td>0</td>\n",
              "      <td>0</td>\n",
              "      <td>0</td>\n",
              "      <td>0</td>\n",
              "      <td>0</td>\n",
              "      <td>0</td>\n",
              "      <td>0</td>\n",
              "      <td>0</td>\n",
              "      <td>0</td>\n",
              "      <td>...</td>\n",
              "      <td>0</td>\n",
              "      <td>0</td>\n",
              "      <td>0</td>\n",
              "      <td>0</td>\n",
              "      <td>0</td>\n",
              "      <td>0</td>\n",
              "      <td>0</td>\n",
              "      <td>0</td>\n",
              "      <td>0</td>\n",
              "      <td>0</td>\n",
              "      <td>0</td>\n",
              "      <td>0</td>\n",
              "      <td>0</td>\n",
              "      <td>0</td>\n",
              "      <td>0</td>\n",
              "      <td>0</td>\n",
              "      <td>0</td>\n",
              "      <td>0</td>\n",
              "      <td>0</td>\n",
              "      <td>0</td>\n",
              "      <td>0</td>\n",
              "      <td>0</td>\n",
              "      <td>0</td>\n",
              "      <td>0</td>\n",
              "      <td>0</td>\n",
              "      <td>0</td>\n",
              "      <td>0</td>\n",
              "      <td>0</td>\n",
              "      <td>0</td>\n",
              "      <td>0</td>\n",
              "      <td>0</td>\n",
              "      <td>0</td>\n",
              "      <td>0</td>\n",
              "      <td>0</td>\n",
              "      <td>0</td>\n",
              "      <td>0</td>\n",
              "      <td>0</td>\n",
              "      <td>0</td>\n",
              "      <td>0</td>\n",
              "      <td>0</td>\n",
              "    </tr>\n",
              "  </tbody>\n",
              "</table>\n",
              "<p>5 rows × 785 columns</p>\n",
              "</div>\n",
              "      <button class=\"colab-df-convert\" onclick=\"convertToInteractive('df-d353f380-918b-4c6d-95c4-0612f7ff1eea')\"\n",
              "              title=\"Convert this dataframe to an interactive table.\"\n",
              "              style=\"display:none;\">\n",
              "        \n",
              "  <svg xmlns=\"http://www.w3.org/2000/svg\" height=\"24px\"viewBox=\"0 0 24 24\"\n",
              "       width=\"24px\">\n",
              "    <path d=\"M0 0h24v24H0V0z\" fill=\"none\"/>\n",
              "    <path d=\"M18.56 5.44l.94 2.06.94-2.06 2.06-.94-2.06-.94-.94-2.06-.94 2.06-2.06.94zm-11 1L8.5 8.5l.94-2.06 2.06-.94-2.06-.94L8.5 2.5l-.94 2.06-2.06.94zm10 10l.94 2.06.94-2.06 2.06-.94-2.06-.94-.94-2.06-.94 2.06-2.06.94z\"/><path d=\"M17.41 7.96l-1.37-1.37c-.4-.4-.92-.59-1.43-.59-.52 0-1.04.2-1.43.59L10.3 9.45l-7.72 7.72c-.78.78-.78 2.05 0 2.83L4 21.41c.39.39.9.59 1.41.59.51 0 1.02-.2 1.41-.59l7.78-7.78 2.81-2.81c.8-.78.8-2.07 0-2.86zM5.41 20L4 18.59l7.72-7.72 1.47 1.35L5.41 20z\"/>\n",
              "  </svg>\n",
              "      </button>\n",
              "      \n",
              "  <style>\n",
              "    .colab-df-container {\n",
              "      display:flex;\n",
              "      flex-wrap:wrap;\n",
              "      gap: 12px;\n",
              "    }\n",
              "\n",
              "    .colab-df-convert {\n",
              "      background-color: #E8F0FE;\n",
              "      border: none;\n",
              "      border-radius: 50%;\n",
              "      cursor: pointer;\n",
              "      display: none;\n",
              "      fill: #1967D2;\n",
              "      height: 32px;\n",
              "      padding: 0 0 0 0;\n",
              "      width: 32px;\n",
              "    }\n",
              "\n",
              "    .colab-df-convert:hover {\n",
              "      background-color: #E2EBFA;\n",
              "      box-shadow: 0px 1px 2px rgba(60, 64, 67, 0.3), 0px 1px 3px 1px rgba(60, 64, 67, 0.15);\n",
              "      fill: #174EA6;\n",
              "    }\n",
              "\n",
              "    [theme=dark] .colab-df-convert {\n",
              "      background-color: #3B4455;\n",
              "      fill: #D2E3FC;\n",
              "    }\n",
              "\n",
              "    [theme=dark] .colab-df-convert:hover {\n",
              "      background-color: #434B5C;\n",
              "      box-shadow: 0px 1px 3px 1px rgba(0, 0, 0, 0.15);\n",
              "      filter: drop-shadow(0px 1px 2px rgba(0, 0, 0, 0.3));\n",
              "      fill: #FFFFFF;\n",
              "    }\n",
              "  </style>\n",
              "\n",
              "      <script>\n",
              "        const buttonEl =\n",
              "          document.querySelector('#df-d353f380-918b-4c6d-95c4-0612f7ff1eea button.colab-df-convert');\n",
              "        buttonEl.style.display =\n",
              "          google.colab.kernel.accessAllowed ? 'block' : 'none';\n",
              "\n",
              "        async function convertToInteractive(key) {\n",
              "          const element = document.querySelector('#df-d353f380-918b-4c6d-95c4-0612f7ff1eea');\n",
              "          const dataTable =\n",
              "            await google.colab.kernel.invokeFunction('convertToInteractive',\n",
              "                                                     [key], {});\n",
              "          if (!dataTable) return;\n",
              "\n",
              "          const docLinkHtml = 'Like what you see? Visit the ' +\n",
              "            '<a target=\"_blank\" href=https://colab.research.google.com/notebooks/data_table.ipynb>data table notebook</a>'\n",
              "            + ' to learn more about interactive tables.';\n",
              "          element.innerHTML = '';\n",
              "          dataTable['output_type'] = 'display_data';\n",
              "          await google.colab.output.renderOutput(dataTable, element);\n",
              "          const docLink = document.createElement('div');\n",
              "          docLink.innerHTML = docLinkHtml;\n",
              "          element.appendChild(docLink);\n",
              "        }\n",
              "      </script>\n",
              "    </div>\n",
              "  </div>\n",
              "  "
            ],
            "text/plain": [
              "   label  pixel0  pixel1  pixel2  ...  pixel780  pixel781  pixel782  pixel783\n",
              "0      1       0       0       0  ...         0         0         0         0\n",
              "1      0       0       0       0  ...         0         0         0         0\n",
              "2      1       0       0       0  ...         0         0         0         0\n",
              "3      4       0       0       0  ...         0         0         0         0\n",
              "4      0       0       0       0  ...         0         0         0         0\n",
              "\n",
              "[5 rows x 785 columns]"
            ]
          },
          "metadata": {},
          "execution_count": 15
        }
      ],
      "source": [
        "#data_dir = \"../input/digit-recognizer\" # ディレクトリパス = data_dir\n",
        "if ON_KAGGLE:\n",
        "    train = pd.read_csv(Config.data_dir + \"/train.csv\") # csvの読み込み\n",
        "else:\n",
        "    train = pd.read_csv(f'{Config.data_dir}/train/train.csv')\n",
        "train.head()"
      ]
    },
    {
      "cell_type": "code",
      "execution_count": 16,
      "id": "f4cc50dd",
      "metadata": {
        "execution": {
          "iopub.execute_input": "2022-02-09T03:08:36.788683Z",
          "iopub.status.busy": "2022-02-09T03:08:36.788083Z",
          "iopub.status.idle": "2022-02-09T03:08:38.514707Z",
          "shell.execute_reply": "2022-02-09T03:08:38.514191Z",
          "shell.execute_reply.started": "2021-10-27T03:31:54.931927Z"
        },
        "papermill": {
          "duration": 1.763409,
          "end_time": "2022-02-09T03:08:38.514880",
          "exception": false,
          "start_time": "2022-02-09T03:08:36.751471",
          "status": "completed"
        },
        "tags": [],
        "colab": {
          "base_uri": "https://localhost:8080/",
          "height": 517
        },
        "id": "f4cc50dd",
        "outputId": "0e0c7a6c-e196-494c-e9d3-f6ef79159bc0"
      },
      "outputs": [
        {
          "output_type": "display_data",
          "data": {
            "text/html": [
              "<html>\n",
              "<head><meta charset=\"utf-8\" /></head>\n",
              "<body>\n",
              "    <div>            <script src=\"https://cdnjs.cloudflare.com/ajax/libs/mathjax/2.7.5/MathJax.js?config=TeX-AMS-MML_SVG\"></script><script type=\"text/javascript\">if (window.MathJax) {MathJax.Hub.Config({SVG: {font: \"STIX-Web\"}});}</script>                <script type=\"text/javascript\">window.PlotlyConfig = {MathJaxConfig: 'local'};</script>\n",
              "        <script src=\"https://cdn.plot.ly/plotly-2.8.3.min.js\"></script>                <div id=\"8e8db9bd-e25e-41a7-8c27-68633b4685ba\" class=\"plotly-graph-div\" style=\"height:500px; width:500px;\"></div>            <script type=\"text/javascript\">                                    window.PLOTLYENV=window.PLOTLYENV || {};                                    if (document.getElementById(\"8e8db9bd-e25e-41a7-8c27-68633b4685ba\")) {                    Plotly.newPlot(                        \"8e8db9bd-e25e-41a7-8c27-68633b4685ba\",                        [{\"domain\":{\"x\":[0.0,1.0],\"y\":[0.0,1.0]},\"hole\":0.4,\"hovertemplate\":\"index=%{label}<br>label=%{value}<extra></extra>\",\"labels\":[1,7,3,9,2,6,0,4,8,5],\"legendgroup\":\"\",\"name\":\"\",\"showlegend\":true,\"values\":[4684,4401,4351,4188,4177,4137,4132,4072,4063,3795],\"type\":\"pie\",\"pull\":0.01,\"textinfo\":\"value+label\"}],                        {\"template\":{\"data\":{\"bar\":[{\"error_x\":{\"color\":\"#2a3f5f\"},\"error_y\":{\"color\":\"#2a3f5f\"},\"marker\":{\"line\":{\"color\":\"#E5ECF6\",\"width\":0.5},\"pattern\":{\"fillmode\":\"overlay\",\"size\":10,\"solidity\":0.2}},\"type\":\"bar\"}],\"barpolar\":[{\"marker\":{\"line\":{\"color\":\"#E5ECF6\",\"width\":0.5},\"pattern\":{\"fillmode\":\"overlay\",\"size\":10,\"solidity\":0.2}},\"type\":\"barpolar\"}],\"carpet\":[{\"aaxis\":{\"endlinecolor\":\"#2a3f5f\",\"gridcolor\":\"white\",\"linecolor\":\"white\",\"minorgridcolor\":\"white\",\"startlinecolor\":\"#2a3f5f\"},\"baxis\":{\"endlinecolor\":\"#2a3f5f\",\"gridcolor\":\"white\",\"linecolor\":\"white\",\"minorgridcolor\":\"white\",\"startlinecolor\":\"#2a3f5f\"},\"type\":\"carpet\"}],\"choropleth\":[{\"colorbar\":{\"outlinewidth\":0,\"ticks\":\"\"},\"type\":\"choropleth\"}],\"contour\":[{\"colorbar\":{\"outlinewidth\":0,\"ticks\":\"\"},\"colorscale\":[[0.0,\"#0d0887\"],[0.1111111111111111,\"#46039f\"],[0.2222222222222222,\"#7201a8\"],[0.3333333333333333,\"#9c179e\"],[0.4444444444444444,\"#bd3786\"],[0.5555555555555556,\"#d8576b\"],[0.6666666666666666,\"#ed7953\"],[0.7777777777777778,\"#fb9f3a\"],[0.8888888888888888,\"#fdca26\"],[1.0,\"#f0f921\"]],\"type\":\"contour\"}],\"contourcarpet\":[{\"colorbar\":{\"outlinewidth\":0,\"ticks\":\"\"},\"type\":\"contourcarpet\"}],\"heatmap\":[{\"colorbar\":{\"outlinewidth\":0,\"ticks\":\"\"},\"colorscale\":[[0.0,\"#0d0887\"],[0.1111111111111111,\"#46039f\"],[0.2222222222222222,\"#7201a8\"],[0.3333333333333333,\"#9c179e\"],[0.4444444444444444,\"#bd3786\"],[0.5555555555555556,\"#d8576b\"],[0.6666666666666666,\"#ed7953\"],[0.7777777777777778,\"#fb9f3a\"],[0.8888888888888888,\"#fdca26\"],[1.0,\"#f0f921\"]],\"type\":\"heatmap\"}],\"heatmapgl\":[{\"colorbar\":{\"outlinewidth\":0,\"ticks\":\"\"},\"colorscale\":[[0.0,\"#0d0887\"],[0.1111111111111111,\"#46039f\"],[0.2222222222222222,\"#7201a8\"],[0.3333333333333333,\"#9c179e\"],[0.4444444444444444,\"#bd3786\"],[0.5555555555555556,\"#d8576b\"],[0.6666666666666666,\"#ed7953\"],[0.7777777777777778,\"#fb9f3a\"],[0.8888888888888888,\"#fdca26\"],[1.0,\"#f0f921\"]],\"type\":\"heatmapgl\"}],\"histogram\":[{\"marker\":{\"pattern\":{\"fillmode\":\"overlay\",\"size\":10,\"solidity\":0.2}},\"type\":\"histogram\"}],\"histogram2d\":[{\"colorbar\":{\"outlinewidth\":0,\"ticks\":\"\"},\"colorscale\":[[0.0,\"#0d0887\"],[0.1111111111111111,\"#46039f\"],[0.2222222222222222,\"#7201a8\"],[0.3333333333333333,\"#9c179e\"],[0.4444444444444444,\"#bd3786\"],[0.5555555555555556,\"#d8576b\"],[0.6666666666666666,\"#ed7953\"],[0.7777777777777778,\"#fb9f3a\"],[0.8888888888888888,\"#fdca26\"],[1.0,\"#f0f921\"]],\"type\":\"histogram2d\"}],\"histogram2dcontour\":[{\"colorbar\":{\"outlinewidth\":0,\"ticks\":\"\"},\"colorscale\":[[0.0,\"#0d0887\"],[0.1111111111111111,\"#46039f\"],[0.2222222222222222,\"#7201a8\"],[0.3333333333333333,\"#9c179e\"],[0.4444444444444444,\"#bd3786\"],[0.5555555555555556,\"#d8576b\"],[0.6666666666666666,\"#ed7953\"],[0.7777777777777778,\"#fb9f3a\"],[0.8888888888888888,\"#fdca26\"],[1.0,\"#f0f921\"]],\"type\":\"histogram2dcontour\"}],\"mesh3d\":[{\"colorbar\":{\"outlinewidth\":0,\"ticks\":\"\"},\"type\":\"mesh3d\"}],\"parcoords\":[{\"line\":{\"colorbar\":{\"outlinewidth\":0,\"ticks\":\"\"}},\"type\":\"parcoords\"}],\"pie\":[{\"automargin\":true,\"type\":\"pie\"}],\"scatter\":[{\"marker\":{\"colorbar\":{\"outlinewidth\":0,\"ticks\":\"\"}},\"type\":\"scatter\"}],\"scatter3d\":[{\"line\":{\"colorbar\":{\"outlinewidth\":0,\"ticks\":\"\"}},\"marker\":{\"colorbar\":{\"outlinewidth\":0,\"ticks\":\"\"}},\"type\":\"scatter3d\"}],\"scattercarpet\":[{\"marker\":{\"colorbar\":{\"outlinewidth\":0,\"ticks\":\"\"}},\"type\":\"scattercarpet\"}],\"scattergeo\":[{\"marker\":{\"colorbar\":{\"outlinewidth\":0,\"ticks\":\"\"}},\"type\":\"scattergeo\"}],\"scattergl\":[{\"marker\":{\"colorbar\":{\"outlinewidth\":0,\"ticks\":\"\"}},\"type\":\"scattergl\"}],\"scattermapbox\":[{\"marker\":{\"colorbar\":{\"outlinewidth\":0,\"ticks\":\"\"}},\"type\":\"scattermapbox\"}],\"scatterpolar\":[{\"marker\":{\"colorbar\":{\"outlinewidth\":0,\"ticks\":\"\"}},\"type\":\"scatterpolar\"}],\"scatterpolargl\":[{\"marker\":{\"colorbar\":{\"outlinewidth\":0,\"ticks\":\"\"}},\"type\":\"scatterpolargl\"}],\"scatterternary\":[{\"marker\":{\"colorbar\":{\"outlinewidth\":0,\"ticks\":\"\"}},\"type\":\"scatterternary\"}],\"surface\":[{\"colorbar\":{\"outlinewidth\":0,\"ticks\":\"\"},\"colorscale\":[[0.0,\"#0d0887\"],[0.1111111111111111,\"#46039f\"],[0.2222222222222222,\"#7201a8\"],[0.3333333333333333,\"#9c179e\"],[0.4444444444444444,\"#bd3786\"],[0.5555555555555556,\"#d8576b\"],[0.6666666666666666,\"#ed7953\"],[0.7777777777777778,\"#fb9f3a\"],[0.8888888888888888,\"#fdca26\"],[1.0,\"#f0f921\"]],\"type\":\"surface\"}],\"table\":[{\"cells\":{\"fill\":{\"color\":\"#EBF0F8\"},\"line\":{\"color\":\"white\"}},\"header\":{\"fill\":{\"color\":\"#C8D4E3\"},\"line\":{\"color\":\"white\"}},\"type\":\"table\"}]},\"layout\":{\"annotationdefaults\":{\"arrowcolor\":\"#2a3f5f\",\"arrowhead\":0,\"arrowwidth\":1},\"autotypenumbers\":\"strict\",\"coloraxis\":{\"colorbar\":{\"outlinewidth\":0,\"ticks\":\"\"}},\"colorscale\":{\"diverging\":[[0,\"#8e0152\"],[0.1,\"#c51b7d\"],[0.2,\"#de77ae\"],[0.3,\"#f1b6da\"],[0.4,\"#fde0ef\"],[0.5,\"#f7f7f7\"],[0.6,\"#e6f5d0\"],[0.7,\"#b8e186\"],[0.8,\"#7fbc41\"],[0.9,\"#4d9221\"],[1,\"#276419\"]],\"sequential\":[[0.0,\"#0d0887\"],[0.1111111111111111,\"#46039f\"],[0.2222222222222222,\"#7201a8\"],[0.3333333333333333,\"#9c179e\"],[0.4444444444444444,\"#bd3786\"],[0.5555555555555556,\"#d8576b\"],[0.6666666666666666,\"#ed7953\"],[0.7777777777777778,\"#fb9f3a\"],[0.8888888888888888,\"#fdca26\"],[1.0,\"#f0f921\"]],\"sequentialminus\":[[0.0,\"#0d0887\"],[0.1111111111111111,\"#46039f\"],[0.2222222222222222,\"#7201a8\"],[0.3333333333333333,\"#9c179e\"],[0.4444444444444444,\"#bd3786\"],[0.5555555555555556,\"#d8576b\"],[0.6666666666666666,\"#ed7953\"],[0.7777777777777778,\"#fb9f3a\"],[0.8888888888888888,\"#fdca26\"],[1.0,\"#f0f921\"]]},\"colorway\":[\"#636efa\",\"#EF553B\",\"#00cc96\",\"#ab63fa\",\"#FFA15A\",\"#19d3f3\",\"#FF6692\",\"#B6E880\",\"#FF97FF\",\"#FECB52\"],\"font\":{\"color\":\"#2a3f5f\"},\"geo\":{\"bgcolor\":\"white\",\"lakecolor\":\"white\",\"landcolor\":\"#E5ECF6\",\"showlakes\":true,\"showland\":true,\"subunitcolor\":\"white\"},\"hoverlabel\":{\"align\":\"left\"},\"hovermode\":\"closest\",\"mapbox\":{\"style\":\"light\"},\"paper_bgcolor\":\"white\",\"plot_bgcolor\":\"#E5ECF6\",\"polar\":{\"angularaxis\":{\"gridcolor\":\"white\",\"linecolor\":\"white\",\"ticks\":\"\"},\"bgcolor\":\"#E5ECF6\",\"radialaxis\":{\"gridcolor\":\"white\",\"linecolor\":\"white\",\"ticks\":\"\"}},\"scene\":{\"xaxis\":{\"backgroundcolor\":\"#E5ECF6\",\"gridcolor\":\"white\",\"gridwidth\":2,\"linecolor\":\"white\",\"showbackground\":true,\"ticks\":\"\",\"zerolinecolor\":\"white\"},\"yaxis\":{\"backgroundcolor\":\"#E5ECF6\",\"gridcolor\":\"white\",\"gridwidth\":2,\"linecolor\":\"white\",\"showbackground\":true,\"ticks\":\"\",\"zerolinecolor\":\"white\"},\"zaxis\":{\"backgroundcolor\":\"#E5ECF6\",\"gridcolor\":\"white\",\"gridwidth\":2,\"linecolor\":\"white\",\"showbackground\":true,\"ticks\":\"\",\"zerolinecolor\":\"white\"}},\"shapedefaults\":{\"line\":{\"color\":\"#2a3f5f\"}},\"ternary\":{\"aaxis\":{\"gridcolor\":\"white\",\"linecolor\":\"white\",\"ticks\":\"\"},\"baxis\":{\"gridcolor\":\"white\",\"linecolor\":\"white\",\"ticks\":\"\"},\"bgcolor\":\"#E5ECF6\",\"caxis\":{\"gridcolor\":\"white\",\"linecolor\":\"white\",\"ticks\":\"\"}},\"title\":{\"x\":0.05},\"xaxis\":{\"automargin\":true,\"gridcolor\":\"white\",\"linecolor\":\"white\",\"ticks\":\"\",\"title\":{\"standoff\":15},\"zerolinecolor\":\"white\",\"zerolinewidth\":2},\"yaxis\":{\"automargin\":true,\"gridcolor\":\"white\",\"linecolor\":\"white\",\"ticks\":\"\",\"title\":{\"standoff\":15},\"zerolinecolor\":\"white\",\"zerolinewidth\":2}}},\"legend\":{\"tracegroupgap\":0},\"margin\":{\"t\":60},\"height\":500,\"width\":500},                        {\"responsive\": true}                    ).then(function(){\n",
              "                            \n",
              "var gd = document.getElementById('8e8db9bd-e25e-41a7-8c27-68633b4685ba');\n",
              "var x = new MutationObserver(function (mutations, observer) {{\n",
              "        var display = window.getComputedStyle(gd).display;\n",
              "        if (!display || display === 'none') {{\n",
              "            console.log([gd, 'removed!']);\n",
              "            Plotly.purge(gd);\n",
              "            observer.disconnect();\n",
              "        }}\n",
              "}});\n",
              "\n",
              "// Listen for the removal of the full notebook cells\n",
              "var notebookContainer = gd.closest('#notebook-container');\n",
              "if (notebookContainer) {{\n",
              "    x.observe(notebookContainer, {childList: true});\n",
              "}}\n",
              "\n",
              "// Listen for the clearing of the current output cell\n",
              "var outputEl = gd.closest('.output');\n",
              "if (outputEl) {{\n",
              "    x.observe(outputEl, {childList: true});\n",
              "}}\n",
              "\n",
              "                        })                };                            </script>        </div>\n",
              "</body>\n",
              "</html>"
            ]
          },
          "metadata": {}
        }
      ],
      "source": [
        "import plotly.express as px\n",
        "\n",
        "target = train.label.value_counts()\n",
        "# class_num = len(target)\n",
        "\n",
        "fig = px.pie(target,\n",
        "             values='label',\n",
        "             names=target.index,\n",
        "             hole=.4, \n",
        "             width=500, height=500)\n",
        "fig.update_traces(textinfo='value+label', pull=0.01)\n",
        "fig.show()"
      ]
    },
    {
      "cell_type": "code",
      "execution_count": 17,
      "id": "7ce95bee",
      "metadata": {
        "execution": {
          "iopub.execute_input": "2022-02-09T03:08:38.589216Z",
          "iopub.status.busy": "2022-02-09T03:08:38.588598Z",
          "iopub.status.idle": "2022-02-09T03:08:38.660638Z",
          "shell.execute_reply": "2022-02-09T03:08:38.661075Z",
          "shell.execute_reply.started": "2021-10-27T03:31:58.574328Z"
        },
        "papermill": {
          "duration": 0.111877,
          "end_time": "2022-02-09T03:08:38.661230",
          "exception": false,
          "start_time": "2022-02-09T03:08:38.549353",
          "status": "completed"
        },
        "tags": [],
        "colab": {
          "base_uri": "https://localhost:8080/",
          "height": 417
        },
        "id": "7ce95bee",
        "outputId": "062e9361-8a0e-46cb-cac0-f84d6c81448f"
      },
      "outputs": [
        {
          "output_type": "display_data",
          "data": {
            "text/html": [
              "<html>\n",
              "<head><meta charset=\"utf-8\" /></head>\n",
              "<body>\n",
              "    <div>            <script src=\"https://cdnjs.cloudflare.com/ajax/libs/mathjax/2.7.5/MathJax.js?config=TeX-AMS-MML_SVG\"></script><script type=\"text/javascript\">if (window.MathJax) {MathJax.Hub.Config({SVG: {font: \"STIX-Web\"}});}</script>                <script type=\"text/javascript\">window.PlotlyConfig = {MathJaxConfig: 'local'};</script>\n",
              "        <script src=\"https://cdn.plot.ly/plotly-2.8.3.min.js\"></script>                <div id=\"60d3bac9-6eee-41d7-b259-b4cffc0bc7b6\" class=\"plotly-graph-div\" style=\"height:400px; width:1000px;\"></div>            <script type=\"text/javascript\">                                    window.PLOTLYENV=window.PLOTLYENV || {};                                    if (document.getElementById(\"60d3bac9-6eee-41d7-b259-b4cffc0bc7b6\")) {                    Plotly.newPlot(                        \"60d3bac9-6eee-41d7-b259-b4cffc0bc7b6\",                        [{\"alignmentgroup\":\"True\",\"hovertemplate\":\"x=%{x}<br>index=%{y}<extra></extra>\",\"legendgroup\":\"\",\"marker\":{\"color\":\"#636efa\",\"pattern\":{\"shape\":\"\"}},\"name\":\"\",\"offsetgroup\":\"\",\"orientation\":\"h\",\"showlegend\":false,\"textposition\":\"auto\",\"x\":[4132,4684,4177,4351,4072,3795,4137,4401,4063,4188],\"xaxis\":\"x\",\"y\":[0,1,2,3,4,5,6,7,8,9],\"yaxis\":\"y\",\"type\":\"bar\"}],                        {\"template\":{\"data\":{\"bar\":[{\"error_x\":{\"color\":\"#2a3f5f\"},\"error_y\":{\"color\":\"#2a3f5f\"},\"marker\":{\"line\":{\"color\":\"#E5ECF6\",\"width\":0.5},\"pattern\":{\"fillmode\":\"overlay\",\"size\":10,\"solidity\":0.2}},\"type\":\"bar\"}],\"barpolar\":[{\"marker\":{\"line\":{\"color\":\"#E5ECF6\",\"width\":0.5},\"pattern\":{\"fillmode\":\"overlay\",\"size\":10,\"solidity\":0.2}},\"type\":\"barpolar\"}],\"carpet\":[{\"aaxis\":{\"endlinecolor\":\"#2a3f5f\",\"gridcolor\":\"white\",\"linecolor\":\"white\",\"minorgridcolor\":\"white\",\"startlinecolor\":\"#2a3f5f\"},\"baxis\":{\"endlinecolor\":\"#2a3f5f\",\"gridcolor\":\"white\",\"linecolor\":\"white\",\"minorgridcolor\":\"white\",\"startlinecolor\":\"#2a3f5f\"},\"type\":\"carpet\"}],\"choropleth\":[{\"colorbar\":{\"outlinewidth\":0,\"ticks\":\"\"},\"type\":\"choropleth\"}],\"contour\":[{\"colorbar\":{\"outlinewidth\":0,\"ticks\":\"\"},\"colorscale\":[[0.0,\"#0d0887\"],[0.1111111111111111,\"#46039f\"],[0.2222222222222222,\"#7201a8\"],[0.3333333333333333,\"#9c179e\"],[0.4444444444444444,\"#bd3786\"],[0.5555555555555556,\"#d8576b\"],[0.6666666666666666,\"#ed7953\"],[0.7777777777777778,\"#fb9f3a\"],[0.8888888888888888,\"#fdca26\"],[1.0,\"#f0f921\"]],\"type\":\"contour\"}],\"contourcarpet\":[{\"colorbar\":{\"outlinewidth\":0,\"ticks\":\"\"},\"type\":\"contourcarpet\"}],\"heatmap\":[{\"colorbar\":{\"outlinewidth\":0,\"ticks\":\"\"},\"colorscale\":[[0.0,\"#0d0887\"],[0.1111111111111111,\"#46039f\"],[0.2222222222222222,\"#7201a8\"],[0.3333333333333333,\"#9c179e\"],[0.4444444444444444,\"#bd3786\"],[0.5555555555555556,\"#d8576b\"],[0.6666666666666666,\"#ed7953\"],[0.7777777777777778,\"#fb9f3a\"],[0.8888888888888888,\"#fdca26\"],[1.0,\"#f0f921\"]],\"type\":\"heatmap\"}],\"heatmapgl\":[{\"colorbar\":{\"outlinewidth\":0,\"ticks\":\"\"},\"colorscale\":[[0.0,\"#0d0887\"],[0.1111111111111111,\"#46039f\"],[0.2222222222222222,\"#7201a8\"],[0.3333333333333333,\"#9c179e\"],[0.4444444444444444,\"#bd3786\"],[0.5555555555555556,\"#d8576b\"],[0.6666666666666666,\"#ed7953\"],[0.7777777777777778,\"#fb9f3a\"],[0.8888888888888888,\"#fdca26\"],[1.0,\"#f0f921\"]],\"type\":\"heatmapgl\"}],\"histogram\":[{\"marker\":{\"pattern\":{\"fillmode\":\"overlay\",\"size\":10,\"solidity\":0.2}},\"type\":\"histogram\"}],\"histogram2d\":[{\"colorbar\":{\"outlinewidth\":0,\"ticks\":\"\"},\"colorscale\":[[0.0,\"#0d0887\"],[0.1111111111111111,\"#46039f\"],[0.2222222222222222,\"#7201a8\"],[0.3333333333333333,\"#9c179e\"],[0.4444444444444444,\"#bd3786\"],[0.5555555555555556,\"#d8576b\"],[0.6666666666666666,\"#ed7953\"],[0.7777777777777778,\"#fb9f3a\"],[0.8888888888888888,\"#fdca26\"],[1.0,\"#f0f921\"]],\"type\":\"histogram2d\"}],\"histogram2dcontour\":[{\"colorbar\":{\"outlinewidth\":0,\"ticks\":\"\"},\"colorscale\":[[0.0,\"#0d0887\"],[0.1111111111111111,\"#46039f\"],[0.2222222222222222,\"#7201a8\"],[0.3333333333333333,\"#9c179e\"],[0.4444444444444444,\"#bd3786\"],[0.5555555555555556,\"#d8576b\"],[0.6666666666666666,\"#ed7953\"],[0.7777777777777778,\"#fb9f3a\"],[0.8888888888888888,\"#fdca26\"],[1.0,\"#f0f921\"]],\"type\":\"histogram2dcontour\"}],\"mesh3d\":[{\"colorbar\":{\"outlinewidth\":0,\"ticks\":\"\"},\"type\":\"mesh3d\"}],\"parcoords\":[{\"line\":{\"colorbar\":{\"outlinewidth\":0,\"ticks\":\"\"}},\"type\":\"parcoords\"}],\"pie\":[{\"automargin\":true,\"type\":\"pie\"}],\"scatter\":[{\"marker\":{\"colorbar\":{\"outlinewidth\":0,\"ticks\":\"\"}},\"type\":\"scatter\"}],\"scatter3d\":[{\"line\":{\"colorbar\":{\"outlinewidth\":0,\"ticks\":\"\"}},\"marker\":{\"colorbar\":{\"outlinewidth\":0,\"ticks\":\"\"}},\"type\":\"scatter3d\"}],\"scattercarpet\":[{\"marker\":{\"colorbar\":{\"outlinewidth\":0,\"ticks\":\"\"}},\"type\":\"scattercarpet\"}],\"scattergeo\":[{\"marker\":{\"colorbar\":{\"outlinewidth\":0,\"ticks\":\"\"}},\"type\":\"scattergeo\"}],\"scattergl\":[{\"marker\":{\"colorbar\":{\"outlinewidth\":0,\"ticks\":\"\"}},\"type\":\"scattergl\"}],\"scattermapbox\":[{\"marker\":{\"colorbar\":{\"outlinewidth\":0,\"ticks\":\"\"}},\"type\":\"scattermapbox\"}],\"scatterpolar\":[{\"marker\":{\"colorbar\":{\"outlinewidth\":0,\"ticks\":\"\"}},\"type\":\"scatterpolar\"}],\"scatterpolargl\":[{\"marker\":{\"colorbar\":{\"outlinewidth\":0,\"ticks\":\"\"}},\"type\":\"scatterpolargl\"}],\"scatterternary\":[{\"marker\":{\"colorbar\":{\"outlinewidth\":0,\"ticks\":\"\"}},\"type\":\"scatterternary\"}],\"surface\":[{\"colorbar\":{\"outlinewidth\":0,\"ticks\":\"\"},\"colorscale\":[[0.0,\"#0d0887\"],[0.1111111111111111,\"#46039f\"],[0.2222222222222222,\"#7201a8\"],[0.3333333333333333,\"#9c179e\"],[0.4444444444444444,\"#bd3786\"],[0.5555555555555556,\"#d8576b\"],[0.6666666666666666,\"#ed7953\"],[0.7777777777777778,\"#fb9f3a\"],[0.8888888888888888,\"#fdca26\"],[1.0,\"#f0f921\"]],\"type\":\"surface\"}],\"table\":[{\"cells\":{\"fill\":{\"color\":\"#EBF0F8\"},\"line\":{\"color\":\"white\"}},\"header\":{\"fill\":{\"color\":\"#C8D4E3\"},\"line\":{\"color\":\"white\"}},\"type\":\"table\"}]},\"layout\":{\"annotationdefaults\":{\"arrowcolor\":\"#2a3f5f\",\"arrowhead\":0,\"arrowwidth\":1},\"autotypenumbers\":\"strict\",\"coloraxis\":{\"colorbar\":{\"outlinewidth\":0,\"ticks\":\"\"}},\"colorscale\":{\"diverging\":[[0,\"#8e0152\"],[0.1,\"#c51b7d\"],[0.2,\"#de77ae\"],[0.3,\"#f1b6da\"],[0.4,\"#fde0ef\"],[0.5,\"#f7f7f7\"],[0.6,\"#e6f5d0\"],[0.7,\"#b8e186\"],[0.8,\"#7fbc41\"],[0.9,\"#4d9221\"],[1,\"#276419\"]],\"sequential\":[[0.0,\"#0d0887\"],[0.1111111111111111,\"#46039f\"],[0.2222222222222222,\"#7201a8\"],[0.3333333333333333,\"#9c179e\"],[0.4444444444444444,\"#bd3786\"],[0.5555555555555556,\"#d8576b\"],[0.6666666666666666,\"#ed7953\"],[0.7777777777777778,\"#fb9f3a\"],[0.8888888888888888,\"#fdca26\"],[1.0,\"#f0f921\"]],\"sequentialminus\":[[0.0,\"#0d0887\"],[0.1111111111111111,\"#46039f\"],[0.2222222222222222,\"#7201a8\"],[0.3333333333333333,\"#9c179e\"],[0.4444444444444444,\"#bd3786\"],[0.5555555555555556,\"#d8576b\"],[0.6666666666666666,\"#ed7953\"],[0.7777777777777778,\"#fb9f3a\"],[0.8888888888888888,\"#fdca26\"],[1.0,\"#f0f921\"]]},\"colorway\":[\"#636efa\",\"#EF553B\",\"#00cc96\",\"#ab63fa\",\"#FFA15A\",\"#19d3f3\",\"#FF6692\",\"#B6E880\",\"#FF97FF\",\"#FECB52\"],\"font\":{\"color\":\"#2a3f5f\"},\"geo\":{\"bgcolor\":\"white\",\"lakecolor\":\"white\",\"landcolor\":\"#E5ECF6\",\"showlakes\":true,\"showland\":true,\"subunitcolor\":\"white\"},\"hoverlabel\":{\"align\":\"left\"},\"hovermode\":\"closest\",\"mapbox\":{\"style\":\"light\"},\"paper_bgcolor\":\"white\",\"plot_bgcolor\":\"#E5ECF6\",\"polar\":{\"angularaxis\":{\"gridcolor\":\"white\",\"linecolor\":\"white\",\"ticks\":\"\"},\"bgcolor\":\"#E5ECF6\",\"radialaxis\":{\"gridcolor\":\"white\",\"linecolor\":\"white\",\"ticks\":\"\"}},\"scene\":{\"xaxis\":{\"backgroundcolor\":\"#E5ECF6\",\"gridcolor\":\"white\",\"gridwidth\":2,\"linecolor\":\"white\",\"showbackground\":true,\"ticks\":\"\",\"zerolinecolor\":\"white\"},\"yaxis\":{\"backgroundcolor\":\"#E5ECF6\",\"gridcolor\":\"white\",\"gridwidth\":2,\"linecolor\":\"white\",\"showbackground\":true,\"ticks\":\"\",\"zerolinecolor\":\"white\"},\"zaxis\":{\"backgroundcolor\":\"#E5ECF6\",\"gridcolor\":\"white\",\"gridwidth\":2,\"linecolor\":\"white\",\"showbackground\":true,\"ticks\":\"\",\"zerolinecolor\":\"white\"}},\"shapedefaults\":{\"line\":{\"color\":\"#2a3f5f\"}},\"ternary\":{\"aaxis\":{\"gridcolor\":\"white\",\"linecolor\":\"white\",\"ticks\":\"\"},\"baxis\":{\"gridcolor\":\"white\",\"linecolor\":\"white\",\"ticks\":\"\"},\"bgcolor\":\"#E5ECF6\",\"caxis\":{\"gridcolor\":\"white\",\"linecolor\":\"white\",\"ticks\":\"\"}},\"title\":{\"x\":0.05},\"xaxis\":{\"automargin\":true,\"gridcolor\":\"white\",\"linecolor\":\"white\",\"ticks\":\"\",\"title\":{\"standoff\":15},\"zerolinecolor\":\"white\",\"zerolinewidth\":2},\"yaxis\":{\"automargin\":true,\"gridcolor\":\"white\",\"linecolor\":\"white\",\"ticks\":\"\",\"title\":{\"standoff\":15},\"zerolinecolor\":\"white\",\"zerolinewidth\":2}}},\"xaxis\":{\"anchor\":\"y\",\"domain\":[0.0,1.0],\"title\":{\"text\":\"x\"}},\"yaxis\":{\"anchor\":\"x\",\"domain\":[0.0,1.0],\"title\":{\"text\":\"index\"}},\"legend\":{\"tracegroupgap\":0},\"margin\":{\"t\":60},\"barmode\":\"relative\",\"height\":400,\"width\":1000},                        {\"responsive\": true}                    ).then(function(){\n",
              "                            \n",
              "var gd = document.getElementById('60d3bac9-6eee-41d7-b259-b4cffc0bc7b6');\n",
              "var x = new MutationObserver(function (mutations, observer) {{\n",
              "        var display = window.getComputedStyle(gd).display;\n",
              "        if (!display || display === 'none') {{\n",
              "            console.log([gd, 'removed!']);\n",
              "            Plotly.purge(gd);\n",
              "            observer.disconnect();\n",
              "        }}\n",
              "}});\n",
              "\n",
              "// Listen for the removal of the full notebook cells\n",
              "var notebookContainer = gd.closest('#notebook-container');\n",
              "if (notebookContainer) {{\n",
              "    x.observe(notebookContainer, {childList: true});\n",
              "}}\n",
              "\n",
              "// Listen for the clearing of the current output cell\n",
              "var outputEl = gd.closest('.output');\n",
              "if (outputEl) {{\n",
              "    x.observe(outputEl, {childList: true});\n",
              "}}\n",
              "\n",
              "                        })                };                            </script>        </div>\n",
              "</body>\n",
              "</html>"
            ]
          },
          "metadata": {}
        }
      ],
      "source": [
        "fig = px.bar(target.sort_index().index, target.sort_index(), width=1000, height=400)\n",
        "fig.show()"
      ]
    },
    {
      "cell_type": "markdown",
      "id": "f71f1023",
      "metadata": {
        "papermill": {
          "duration": 0.034782,
          "end_time": "2022-02-09T03:08:38.731313",
          "exception": false,
          "start_time": "2022-02-09T03:08:38.696531",
          "status": "completed"
        },
        "tags": [],
        "id": "f71f1023"
      },
      "source": [
        "# 前処理"
      ]
    },
    {
      "cell_type": "markdown",
      "id": "ec508d58",
      "metadata": {
        "papermill": {
          "duration": 0.035913,
          "end_time": "2022-02-09T03:08:38.801668",
          "exception": false,
          "start_time": "2022-02-09T03:08:38.765755",
          "status": "completed"
        },
        "tags": [],
        "id": "ec508d58"
      },
      "source": [
        "### ホールドアウト"
      ]
    },
    {
      "cell_type": "code",
      "execution_count": 18,
      "id": "ad9a350a",
      "metadata": {
        "execution": {
          "iopub.execute_input": "2022-02-09T03:08:38.881282Z",
          "iopub.status.busy": "2022-02-09T03:08:38.880601Z",
          "iopub.status.idle": "2022-02-09T03:08:39.138285Z",
          "shell.execute_reply": "2022-02-09T03:08:39.138724Z",
          "shell.execute_reply.started": "2021-10-27T03:31:58.687449Z"
        },
        "papermill": {
          "duration": 0.300803,
          "end_time": "2022-02-09T03:08:39.138944",
          "exception": false,
          "start_time": "2022-02-09T03:08:38.838141",
          "status": "completed"
        },
        "tags": [],
        "id": "ad9a350a"
      },
      "outputs": [],
      "source": [
        "# f0, f1 = train_test_split(train, test_size=0.2) # 学習用と評価用に分ける\n",
        "# train[\"folds\"] = -1\n",
        "# train.loc[f0.index, \"folds\"] = 1\n",
        "# train.loc[f1.index, \"folds\"] = 0"
      ]
    },
    {
      "cell_type": "markdown",
      "source": [
        "## StratifiedKFold\n"
      ],
      "metadata": {
        "id": "0_-plMBMEMUM"
      },
      "id": "0_-plMBMEMUM"
    },
    {
      "cell_type": "code",
      "source": [
        "train['bins'] = pd.cut(train['label'], bins=Config.class_num, labels=False)\n",
        "train['bins'].hist()"
      ],
      "metadata": {
        "colab": {
          "base_uri": "https://localhost:8080/",
          "height": 282
        },
        "id": "kGOSnCwxFum9",
        "outputId": "cc06532f-a437-48b1-e685-ab5b4c76ec66"
      },
      "id": "kGOSnCwxFum9",
      "execution_count": 19,
      "outputs": [
        {
          "output_type": "execute_result",
          "data": {
            "text/plain": [
              "<matplotlib.axes._subplots.AxesSubplot at 0x7f6937b92bd0>"
            ]
          },
          "metadata": {},
          "execution_count": 19
        },
        {
          "output_type": "display_data",
          "data": {
            "image/png": "[encoded data removed]",
            "text/plain": [
              "<Figure size 432x288 with 1 Axes>"
            ]
          },
          "metadata": {
            "needs_background": "light"
          }
        }
      ]
    },
    {
      "cell_type": "code",
      "source": [
        "from sklearn.model_selection import StratifiedKFold\n",
        "\n",
        "train['fold'] = -1\n",
        "\n",
        "strat_kfold = StratifiedKFold(n_splits=Config.N_FOLDS, random_state=Config.seed, shuffle=True)\n",
        "for i, (_, train_index) in enumerate(strat_kfold.split(train.index, train['bins'])):\n",
        "    train.iloc[train_index, -1] = i\n",
        "    \n",
        "train['fold'] = train['fold'].astype('int')\n",
        "\n",
        "train.fold.value_counts().plot.bar()"
      ],
      "metadata": {
        "colab": {
          "base_uri": "https://localhost:8080/",
          "height": 279
        },
        "id": "20hdgN3IELru",
        "outputId": "9ed9ddec-836e-4c53-e05e-80dbb181dc28"
      },
      "id": "20hdgN3IELru",
      "execution_count": 20,
      "outputs": [
        {
          "output_type": "execute_result",
          "data": {
            "text/plain": [
              "<matplotlib.axes._subplots.AxesSubplot at 0x7f6937adb1d0>"
            ]
          },
          "metadata": {},
          "execution_count": 20
        },
        {
          "output_type": "display_data",
          "data": {
            "image/png": "[encoded data removed]",
            "text/plain": [
              "<Figure size 432x288 with 1 Axes>"
            ]
          },
          "metadata": {
            "needs_background": "light"
          }
        }
      ]
    },
    {
      "cell_type": "code",
      "source": [
        "train[train['fold']==0].head()"
      ],
      "metadata": {
        "colab": {
          "base_uri": "https://localhost:8080/",
          "height": 299
        },
        "id": "wYYCJ14GGn36",
        "outputId": "0447a7b1-1da1-4b20-8ae2-0394c9835e38"
      },
      "id": "wYYCJ14GGn36",
      "execution_count": 21,
      "outputs": [
        {
          "output_type": "execute_result",
          "data": {
            "text/html": [
              "\n",
              "  <div id=\"df-25c75cc5-6535-410c-8a47-f39b452f63c0\">\n",
              "    <div class=\"colab-df-container\">\n",
              "      <div>\n",
              "<style scoped>\n",
              "    .dataframe tbody tr th:only-of-type {\n",
              "        vertical-align: middle;\n",
              "    }\n",
              "\n",
              "    .dataframe tbody tr th {\n",
              "        vertical-align: top;\n",
              "    }\n",
              "\n",
              "    .dataframe thead th {\n",
              "        text-align: right;\n",
              "    }\n",
              "</style>\n",
              "<table border=\"1\" class=\"dataframe\">\n",
              "  <thead>\n",
              "    <tr style=\"text-align: right;\">\n",
              "      <th></th>\n",
              "      <th>label</th>\n",
              "      <th>pixel0</th>\n",
              "      <th>pixel1</th>\n",
              "      <th>pixel2</th>\n",
              "      <th>pixel3</th>\n",
              "      <th>pixel4</th>\n",
              "      <th>pixel5</th>\n",
              "      <th>pixel6</th>\n",
              "      <th>pixel7</th>\n",
              "      <th>pixel8</th>\n",
              "      <th>pixel9</th>\n",
              "      <th>pixel10</th>\n",
              "      <th>pixel11</th>\n",
              "      <th>pixel12</th>\n",
              "      <th>pixel13</th>\n",
              "      <th>pixel14</th>\n",
              "      <th>pixel15</th>\n",
              "      <th>pixel16</th>\n",
              "      <th>pixel17</th>\n",
              "      <th>pixel18</th>\n",
              "      <th>pixel19</th>\n",
              "      <th>pixel20</th>\n",
              "      <th>pixel21</th>\n",
              "      <th>pixel22</th>\n",
              "      <th>pixel23</th>\n",
              "      <th>pixel24</th>\n",
              "      <th>pixel25</th>\n",
              "      <th>pixel26</th>\n",
              "      <th>pixel27</th>\n",
              "      <th>pixel28</th>\n",
              "      <th>pixel29</th>\n",
              "      <th>pixel30</th>\n",
              "      <th>pixel31</th>\n",
              "      <th>pixel32</th>\n",
              "      <th>pixel33</th>\n",
              "      <th>pixel34</th>\n",
              "      <th>pixel35</th>\n",
              "      <th>pixel36</th>\n",
              "      <th>pixel37</th>\n",
              "      <th>pixel38</th>\n",
              "      <th>...</th>\n",
              "      <th>pixel746</th>\n",
              "      <th>pixel747</th>\n",
              "      <th>pixel748</th>\n",
              "      <th>pixel749</th>\n",
              "      <th>pixel750</th>\n",
              "      <th>pixel751</th>\n",
              "      <th>pixel752</th>\n",
              "      <th>pixel753</th>\n",
              "      <th>pixel754</th>\n",
              "      <th>pixel755</th>\n",
              "      <th>pixel756</th>\n",
              "      <th>pixel757</th>\n",
              "      <th>pixel758</th>\n",
              "      <th>pixel759</th>\n",
              "      <th>pixel760</th>\n",
              "      <th>pixel761</th>\n",
              "      <th>pixel762</th>\n",
              "      <th>pixel763</th>\n",
              "      <th>pixel764</th>\n",
              "      <th>pixel765</th>\n",
              "      <th>pixel766</th>\n",
              "      <th>pixel767</th>\n",
              "      <th>pixel768</th>\n",
              "      <th>pixel769</th>\n",
              "      <th>pixel770</th>\n",
              "      <th>pixel771</th>\n",
              "      <th>pixel772</th>\n",
              "      <th>pixel773</th>\n",
              "      <th>pixel774</th>\n",
              "      <th>pixel775</th>\n",
              "      <th>pixel776</th>\n",
              "      <th>pixel777</th>\n",
              "      <th>pixel778</th>\n",
              "      <th>pixel779</th>\n",
              "      <th>pixel780</th>\n",
              "      <th>pixel781</th>\n",
              "      <th>pixel782</th>\n",
              "      <th>pixel783</th>\n",
              "      <th>bins</th>\n",
              "      <th>fold</th>\n",
              "    </tr>\n",
              "  </thead>\n",
              "  <tbody>\n",
              "    <tr>\n",
              "      <th>0</th>\n",
              "      <td>1</td>\n",
              "      <td>0</td>\n",
              "      <td>0</td>\n",
              "      <td>0</td>\n",
              "      <td>0</td>\n",
              "      <td>0</td>\n",
              "      <td>0</td>\n",
              "      <td>0</td>\n",
              "      <td>0</td>\n",
              "      <td>0</td>\n",
              "      <td>0</td>\n",
              "      <td>0</td>\n",
              "      <td>0</td>\n",
              "      <td>0</td>\n",
              "      <td>0</td>\n",
              "      <td>0</td>\n",
              "      <td>0</td>\n",
              "      <td>0</td>\n",
              "      <td>0</td>\n",
              "      <td>0</td>\n",
              "      <td>0</td>\n",
              "      <td>0</td>\n",
              "      <td>0</td>\n",
              "      <td>0</td>\n",
              "      <td>0</td>\n",
              "      <td>0</td>\n",
              "      <td>0</td>\n",
              "      <td>0</td>\n",
              "      <td>0</td>\n",
              "      <td>0</td>\n",
              "      <td>0</td>\n",
              "      <td>0</td>\n",
              "      <td>0</td>\n",
              "      <td>0</td>\n",
              "      <td>0</td>\n",
              "      <td>0</td>\n",
              "      <td>0</td>\n",
              "      <td>0</td>\n",
              "      <td>0</td>\n",
              "      <td>0</td>\n",
              "      <td>...</td>\n",
              "      <td>0</td>\n",
              "      <td>0</td>\n",
              "      <td>0</td>\n",
              "      <td>0</td>\n",
              "      <td>0</td>\n",
              "      <td>0</td>\n",
              "      <td>0</td>\n",
              "      <td>0</td>\n",
              "      <td>0</td>\n",
              "      <td>0</td>\n",
              "      <td>0</td>\n",
              "      <td>0</td>\n",
              "      <td>0</td>\n",
              "      <td>0</td>\n",
              "      <td>0</td>\n",
              "      <td>0</td>\n",
              "      <td>0</td>\n",
              "      <td>0</td>\n",
              "      <td>0</td>\n",
              "      <td>0</td>\n",
              "      <td>0</td>\n",
              "      <td>0</td>\n",
              "      <td>0</td>\n",
              "      <td>0</td>\n",
              "      <td>0</td>\n",
              "      <td>0</td>\n",
              "      <td>0</td>\n",
              "      <td>0</td>\n",
              "      <td>0</td>\n",
              "      <td>0</td>\n",
              "      <td>0</td>\n",
              "      <td>0</td>\n",
              "      <td>0</td>\n",
              "      <td>0</td>\n",
              "      <td>0</td>\n",
              "      <td>0</td>\n",
              "      <td>0</td>\n",
              "      <td>0</td>\n",
              "      <td>1</td>\n",
              "      <td>0</td>\n",
              "    </tr>\n",
              "    <tr>\n",
              "      <th>3</th>\n",
              "      <td>4</td>\n",
              "      <td>0</td>\n",
              "      <td>0</td>\n",
              "      <td>0</td>\n",
              "      <td>0</td>\n",
              "      <td>0</td>\n",
              "      <td>0</td>\n",
              "      <td>0</td>\n",
              "      <td>0</td>\n",
              "      <td>0</td>\n",
              "      <td>0</td>\n",
              "      <td>0</td>\n",
              "      <td>0</td>\n",
              "      <td>0</td>\n",
              "      <td>0</td>\n",
              "      <td>0</td>\n",
              "      <td>0</td>\n",
              "      <td>0</td>\n",
              "      <td>0</td>\n",
              "      <td>0</td>\n",
              "      <td>0</td>\n",
              "      <td>0</td>\n",
              "      <td>0</td>\n",
              "      <td>0</td>\n",
              "      <td>0</td>\n",
              "      <td>0</td>\n",
              "      <td>0</td>\n",
              "      <td>0</td>\n",
              "      <td>0</td>\n",
              "      <td>0</td>\n",
              "      <td>0</td>\n",
              "      <td>0</td>\n",
              "      <td>0</td>\n",
              "      <td>0</td>\n",
              "      <td>0</td>\n",
              "      <td>0</td>\n",
              "      <td>0</td>\n",
              "      <td>0</td>\n",
              "      <td>0</td>\n",
              "      <td>0</td>\n",
              "      <td>...</td>\n",
              "      <td>0</td>\n",
              "      <td>0</td>\n",
              "      <td>0</td>\n",
              "      <td>0</td>\n",
              "      <td>0</td>\n",
              "      <td>0</td>\n",
              "      <td>0</td>\n",
              "      <td>0</td>\n",
              "      <td>0</td>\n",
              "      <td>0</td>\n",
              "      <td>0</td>\n",
              "      <td>0</td>\n",
              "      <td>0</td>\n",
              "      <td>0</td>\n",
              "      <td>0</td>\n",
              "      <td>0</td>\n",
              "      <td>0</td>\n",
              "      <td>0</td>\n",
              "      <td>0</td>\n",
              "      <td>0</td>\n",
              "      <td>0</td>\n",
              "      <td>0</td>\n",
              "      <td>0</td>\n",
              "      <td>0</td>\n",
              "      <td>0</td>\n",
              "      <td>0</td>\n",
              "      <td>0</td>\n",
              "      <td>0</td>\n",
              "      <td>0</td>\n",
              "      <td>0</td>\n",
              "      <td>0</td>\n",
              "      <td>0</td>\n",
              "      <td>0</td>\n",
              "      <td>0</td>\n",
              "      <td>0</td>\n",
              "      <td>0</td>\n",
              "      <td>0</td>\n",
              "      <td>0</td>\n",
              "      <td>4</td>\n",
              "      <td>0</td>\n",
              "    </tr>\n",
              "    <tr>\n",
              "      <th>5</th>\n",
              "      <td>0</td>\n",
              "      <td>0</td>\n",
              "      <td>0</td>\n",
              "      <td>0</td>\n",
              "      <td>0</td>\n",
              "      <td>0</td>\n",
              "      <td>0</td>\n",
              "      <td>0</td>\n",
              "      <td>0</td>\n",
              "      <td>0</td>\n",
              "      <td>0</td>\n",
              "      <td>0</td>\n",
              "      <td>0</td>\n",
              "      <td>0</td>\n",
              "      <td>0</td>\n",
              "      <td>0</td>\n",
              "      <td>0</td>\n",
              "      <td>0</td>\n",
              "      <td>0</td>\n",
              "      <td>0</td>\n",
              "      <td>0</td>\n",
              "      <td>0</td>\n",
              "      <td>0</td>\n",
              "      <td>0</td>\n",
              "      <td>0</td>\n",
              "      <td>0</td>\n",
              "      <td>0</td>\n",
              "      <td>0</td>\n",
              "      <td>0</td>\n",
              "      <td>0</td>\n",
              "      <td>0</td>\n",
              "      <td>0</td>\n",
              "      <td>0</td>\n",
              "      <td>0</td>\n",
              "      <td>0</td>\n",
              "      <td>0</td>\n",
              "      <td>0</td>\n",
              "      <td>0</td>\n",
              "      <td>0</td>\n",
              "      <td>0</td>\n",
              "      <td>...</td>\n",
              "      <td>0</td>\n",
              "      <td>0</td>\n",
              "      <td>0</td>\n",
              "      <td>0</td>\n",
              "      <td>0</td>\n",
              "      <td>0</td>\n",
              "      <td>0</td>\n",
              "      <td>0</td>\n",
              "      <td>0</td>\n",
              "      <td>0</td>\n",
              "      <td>0</td>\n",
              "      <td>0</td>\n",
              "      <td>0</td>\n",
              "      <td>0</td>\n",
              "      <td>0</td>\n",
              "      <td>0</td>\n",
              "      <td>0</td>\n",
              "      <td>0</td>\n",
              "      <td>0</td>\n",
              "      <td>0</td>\n",
              "      <td>0</td>\n",
              "      <td>0</td>\n",
              "      <td>0</td>\n",
              "      <td>0</td>\n",
              "      <td>0</td>\n",
              "      <td>0</td>\n",
              "      <td>0</td>\n",
              "      <td>0</td>\n",
              "      <td>0</td>\n",
              "      <td>0</td>\n",
              "      <td>0</td>\n",
              "      <td>0</td>\n",
              "      <td>0</td>\n",
              "      <td>0</td>\n",
              "      <td>0</td>\n",
              "      <td>0</td>\n",
              "      <td>0</td>\n",
              "      <td>0</td>\n",
              "      <td>0</td>\n",
              "      <td>0</td>\n",
              "    </tr>\n",
              "    <tr>\n",
              "      <th>8</th>\n",
              "      <td>5</td>\n",
              "      <td>0</td>\n",
              "      <td>0</td>\n",
              "      <td>0</td>\n",
              "      <td>0</td>\n",
              "      <td>0</td>\n",
              "      <td>0</td>\n",
              "      <td>0</td>\n",
              "      <td>0</td>\n",
              "      <td>0</td>\n",
              "      <td>0</td>\n",
              "      <td>0</td>\n",
              "      <td>0</td>\n",
              "      <td>0</td>\n",
              "      <td>0</td>\n",
              "      <td>0</td>\n",
              "      <td>0</td>\n",
              "      <td>0</td>\n",
              "      <td>0</td>\n",
              "      <td>0</td>\n",
              "      <td>0</td>\n",
              "      <td>0</td>\n",
              "      <td>0</td>\n",
              "      <td>0</td>\n",
              "      <td>0</td>\n",
              "      <td>0</td>\n",
              "      <td>0</td>\n",
              "      <td>0</td>\n",
              "      <td>0</td>\n",
              "      <td>0</td>\n",
              "      <td>0</td>\n",
              "      <td>0</td>\n",
              "      <td>0</td>\n",
              "      <td>0</td>\n",
              "      <td>0</td>\n",
              "      <td>0</td>\n",
              "      <td>0</td>\n",
              "      <td>0</td>\n",
              "      <td>0</td>\n",
              "      <td>0</td>\n",
              "      <td>...</td>\n",
              "      <td>0</td>\n",
              "      <td>0</td>\n",
              "      <td>0</td>\n",
              "      <td>0</td>\n",
              "      <td>0</td>\n",
              "      <td>0</td>\n",
              "      <td>0</td>\n",
              "      <td>0</td>\n",
              "      <td>0</td>\n",
              "      <td>0</td>\n",
              "      <td>0</td>\n",
              "      <td>0</td>\n",
              "      <td>0</td>\n",
              "      <td>0</td>\n",
              "      <td>0</td>\n",
              "      <td>0</td>\n",
              "      <td>0</td>\n",
              "      <td>0</td>\n",
              "      <td>0</td>\n",
              "      <td>0</td>\n",
              "      <td>0</td>\n",
              "      <td>0</td>\n",
              "      <td>0</td>\n",
              "      <td>0</td>\n",
              "      <td>0</td>\n",
              "      <td>0</td>\n",
              "      <td>0</td>\n",
              "      <td>0</td>\n",
              "      <td>0</td>\n",
              "      <td>0</td>\n",
              "      <td>0</td>\n",
              "      <td>0</td>\n",
              "      <td>0</td>\n",
              "      <td>0</td>\n",
              "      <td>0</td>\n",
              "      <td>0</td>\n",
              "      <td>0</td>\n",
              "      <td>0</td>\n",
              "      <td>5</td>\n",
              "      <td>0</td>\n",
              "    </tr>\n",
              "    <tr>\n",
              "      <th>9</th>\n",
              "      <td>3</td>\n",
              "      <td>0</td>\n",
              "      <td>0</td>\n",
              "      <td>0</td>\n",
              "      <td>0</td>\n",
              "      <td>0</td>\n",
              "      <td>0</td>\n",
              "      <td>0</td>\n",
              "      <td>0</td>\n",
              "      <td>0</td>\n",
              "      <td>0</td>\n",
              "      <td>0</td>\n",
              "      <td>0</td>\n",
              "      <td>0</td>\n",
              "      <td>0</td>\n",
              "      <td>0</td>\n",
              "      <td>0</td>\n",
              "      <td>0</td>\n",
              "      <td>0</td>\n",
              "      <td>0</td>\n",
              "      <td>0</td>\n",
              "      <td>0</td>\n",
              "      <td>0</td>\n",
              "      <td>0</td>\n",
              "      <td>0</td>\n",
              "      <td>0</td>\n",
              "      <td>0</td>\n",
              "      <td>0</td>\n",
              "      <td>0</td>\n",
              "      <td>0</td>\n",
              "      <td>0</td>\n",
              "      <td>0</td>\n",
              "      <td>0</td>\n",
              "      <td>0</td>\n",
              "      <td>0</td>\n",
              "      <td>0</td>\n",
              "      <td>0</td>\n",
              "      <td>0</td>\n",
              "      <td>0</td>\n",
              "      <td>0</td>\n",
              "      <td>...</td>\n",
              "      <td>0</td>\n",
              "      <td>0</td>\n",
              "      <td>0</td>\n",
              "      <td>0</td>\n",
              "      <td>0</td>\n",
              "      <td>0</td>\n",
              "      <td>0</td>\n",
              "      <td>0</td>\n",
              "      <td>0</td>\n",
              "      <td>0</td>\n",
              "      <td>0</td>\n",
              "      <td>0</td>\n",
              "      <td>0</td>\n",
              "      <td>0</td>\n",
              "      <td>0</td>\n",
              "      <td>0</td>\n",
              "      <td>0</td>\n",
              "      <td>0</td>\n",
              "      <td>0</td>\n",
              "      <td>0</td>\n",
              "      <td>0</td>\n",
              "      <td>0</td>\n",
              "      <td>0</td>\n",
              "      <td>0</td>\n",
              "      <td>0</td>\n",
              "      <td>0</td>\n",
              "      <td>0</td>\n",
              "      <td>0</td>\n",
              "      <td>0</td>\n",
              "      <td>0</td>\n",
              "      <td>0</td>\n",
              "      <td>0</td>\n",
              "      <td>0</td>\n",
              "      <td>0</td>\n",
              "      <td>0</td>\n",
              "      <td>0</td>\n",
              "      <td>0</td>\n",
              "      <td>0</td>\n",
              "      <td>3</td>\n",
              "      <td>0</td>\n",
              "    </tr>\n",
              "  </tbody>\n",
              "</table>\n",
              "<p>5 rows × 787 columns</p>\n",
              "</div>\n",
              "      <button class=\"colab-df-convert\" onclick=\"convertToInteractive('df-25c75cc5-6535-410c-8a47-f39b452f63c0')\"\n",
              "              title=\"Convert this dataframe to an interactive table.\"\n",
              "              style=\"display:none;\">\n",
              "        \n",
              "  <svg xmlns=\"http://www.w3.org/2000/svg\" height=\"24px\"viewBox=\"0 0 24 24\"\n",
              "       width=\"24px\">\n",
              "    <path d=\"M0 0h24v24H0V0z\" fill=\"none\"/>\n",
              "    <path d=\"M18.56 5.44l.94 2.06.94-2.06 2.06-.94-2.06-.94-.94-2.06-.94 2.06-2.06.94zm-11 1L8.5 8.5l.94-2.06 2.06-.94-2.06-.94L8.5 2.5l-.94 2.06-2.06.94zm10 10l.94 2.06.94-2.06 2.06-.94-2.06-.94-.94-2.06-.94 2.06-2.06.94z\"/><path d=\"M17.41 7.96l-1.37-1.37c-.4-.4-.92-.59-1.43-.59-.52 0-1.04.2-1.43.59L10.3 9.45l-7.72 7.72c-.78.78-.78 2.05 0 2.83L4 21.41c.39.39.9.59 1.41.59.51 0 1.02-.2 1.41-.59l7.78-7.78 2.81-2.81c.8-.78.8-2.07 0-2.86zM5.41 20L4 18.59l7.72-7.72 1.47 1.35L5.41 20z\"/>\n",
              "  </svg>\n",
              "      </button>\n",
              "      \n",
              "  <style>\n",
              "    .colab-df-container {\n",
              "      display:flex;\n",
              "      flex-wrap:wrap;\n",
              "      gap: 12px;\n",
              "    }\n",
              "\n",
              "    .colab-df-convert {\n",
              "      background-color: #E8F0FE;\n",
              "      border: none;\n",
              "      border-radius: 50%;\n",
              "      cursor: pointer;\n",
              "      display: none;\n",
              "      fill: #1967D2;\n",
              "      height: 32px;\n",
              "      padding: 0 0 0 0;\n",
              "      width: 32px;\n",
              "    }\n",
              "\n",
              "    .colab-df-convert:hover {\n",
              "      background-color: #E2EBFA;\n",
              "      box-shadow: 0px 1px 2px rgba(60, 64, 67, 0.3), 0px 1px 3px 1px rgba(60, 64, 67, 0.15);\n",
              "      fill: #174EA6;\n",
              "    }\n",
              "\n",
              "    [theme=dark] .colab-df-convert {\n",
              "      background-color: #3B4455;\n",
              "      fill: #D2E3FC;\n",
              "    }\n",
              "\n",
              "    [theme=dark] .colab-df-convert:hover {\n",
              "      background-color: #434B5C;\n",
              "      box-shadow: 0px 1px 3px 1px rgba(0, 0, 0, 0.15);\n",
              "      filter: drop-shadow(0px 1px 2px rgba(0, 0, 0, 0.3));\n",
              "      fill: #FFFFFF;\n",
              "    }\n",
              "  </style>\n",
              "\n",
              "      <script>\n",
              "        const buttonEl =\n",
              "          document.querySelector('#df-25c75cc5-6535-410c-8a47-f39b452f63c0 button.colab-df-convert');\n",
              "        buttonEl.style.display =\n",
              "          google.colab.kernel.accessAllowed ? 'block' : 'none';\n",
              "\n",
              "        async function convertToInteractive(key) {\n",
              "          const element = document.querySelector('#df-25c75cc5-6535-410c-8a47-f39b452f63c0');\n",
              "          const dataTable =\n",
              "            await google.colab.kernel.invokeFunction('convertToInteractive',\n",
              "                                                     [key], {});\n",
              "          if (!dataTable) return;\n",
              "\n",
              "          const docLinkHtml = 'Like what you see? Visit the ' +\n",
              "            '<a target=\"_blank\" href=https://colab.research.google.com/notebooks/data_table.ipynb>data table notebook</a>'\n",
              "            + ' to learn more about interactive tables.';\n",
              "          element.innerHTML = '';\n",
              "          dataTable['output_type'] = 'display_data';\n",
              "          await google.colab.output.renderOutput(dataTable, element);\n",
              "          const docLink = document.createElement('div');\n",
              "          docLink.innerHTML = docLinkHtml;\n",
              "          element.appendChild(docLink);\n",
              "        }\n",
              "      </script>\n",
              "    </div>\n",
              "  </div>\n",
              "  "
            ],
            "text/plain": [
              "   label  pixel0  pixel1  pixel2  ...  pixel782  pixel783  bins  fold\n",
              "0      1       0       0       0  ...         0         0     1     0\n",
              "3      4       0       0       0  ...         0         0     4     0\n",
              "5      0       0       0       0  ...         0         0     0     0\n",
              "8      5       0       0       0  ...         0         0     5     0\n",
              "9      3       0       0       0  ...         0         0     3     0\n",
              "\n",
              "[5 rows x 787 columns]"
            ]
          },
          "metadata": {},
          "execution_count": 21
        }
      ]
    },
    {
      "cell_type": "code",
      "source": [
        "train[train['fold']==0]['bins'].value_counts()"
      ],
      "metadata": {
        "colab": {
          "base_uri": "https://localhost:8080/"
        },
        "id": "pkFT8B5kG09P",
        "outputId": "d049cd8a-219b-4919-8133-40a2da41a9a0"
      },
      "id": "pkFT8B5kG09P",
      "execution_count": 22,
      "outputs": [
        {
          "output_type": "execute_result",
          "data": {
            "text/plain": [
              "1    937\n",
              "7    880\n",
              "3    870\n",
              "9    838\n",
              "2    835\n",
              "0    827\n",
              "6    827\n",
              "4    814\n",
              "8    813\n",
              "5    759\n",
              "Name: bins, dtype: int64"
            ]
          },
          "metadata": {},
          "execution_count": 22
        }
      ]
    },
    {
      "cell_type": "code",
      "source": [
        "train[train['fold']==1]['bins'].value_counts()"
      ],
      "metadata": {
        "colab": {
          "base_uri": "https://localhost:8080/"
        },
        "id": "5mCJmX2PHYHM",
        "outputId": "e6d7e296-0b3d-407d-f5db-3bd1516681ba"
      },
      "id": "5mCJmX2PHYHM",
      "execution_count": 23,
      "outputs": [
        {
          "output_type": "execute_result",
          "data": {
            "text/plain": [
              "1    937\n",
              "7    880\n",
              "3    870\n",
              "9    837\n",
              "2    836\n",
              "6    827\n",
              "0    826\n",
              "4    815\n",
              "8    813\n",
              "5    759\n",
              "Name: bins, dtype: int64"
            ]
          },
          "metadata": {},
          "execution_count": 23
        }
      ]
    },
    {
      "cell_type": "markdown",
      "id": "7f4958b4",
      "metadata": {
        "papermill": {
          "duration": 0.035092,
          "end_time": "2022-02-09T03:08:39.209166",
          "exception": false,
          "start_time": "2022-02-09T03:08:39.174074",
          "status": "completed"
        },
        "tags": [],
        "id": "7f4958b4"
      },
      "source": [
        "#### 平均と標準偏差を計算"
      ]
    },
    {
      "cell_type": "code",
      "execution_count": 24,
      "id": "95774a6f",
      "metadata": {
        "execution": {
          "iopub.execute_input": "2022-02-09T03:08:39.283134Z",
          "iopub.status.busy": "2022-02-09T03:08:39.282151Z",
          "iopub.status.idle": "2022-02-09T03:08:39.773273Z",
          "shell.execute_reply": "2022-02-09T03:08:39.772414Z",
          "shell.execute_reply.started": "2021-10-27T03:31:58.957196Z"
        },
        "id": "95774a6f",
        "papermill": {
          "duration": 0.529404,
          "end_time": "2022-02-09T03:08:39.773482",
          "exception": false,
          "start_time": "2022-02-09T03:08:39.244078",
          "status": "completed"
        },
        "tags": [],
        "colab": {
          "base_uri": "https://localhost:8080/"
        },
        "outputId": "716b646f-a4d2-48d5-9744-7a446e37ce5f"
      },
      "outputs": [
        {
          "output_type": "stream",
          "name": "stdout",
          "text": [
            "平均と標準偏差:  (0.13097058957511565, 0.30850036897768457)\n"
          ]
        }
      ],
      "source": [
        "images = train.loc[:, \"pixel0\": \"pixel783\"].values.astype(np.uint8).reshape(-1, 28, 28)\n",
        "norms = (np.mean(images[train.fold!=0] / 255), np.std(images[train.fold!=0] / 255)) # 平均と標準偏差を計算\n",
        "print(\"平均と標準偏差: \", norms)"
      ]
    },
    {
      "cell_type": "markdown",
      "id": "10d3df7d",
      "metadata": {
        "papermill": {
          "duration": 0.034856,
          "end_time": "2022-02-09T03:08:39.845312",
          "exception": false,
          "start_time": "2022-02-09T03:08:39.810456",
          "status": "completed"
        },
        "tags": [],
        "id": "10d3df7d"
      },
      "source": [
        "#### 画像サイズの確認と数例を表示"
      ]
    },
    {
      "cell_type": "code",
      "execution_count": 25,
      "id": "28e6eda9",
      "metadata": {
        "execution": {
          "iopub.execute_input": "2022-02-09T03:08:39.952232Z",
          "iopub.status.busy": "2022-02-09T03:08:39.948294Z",
          "iopub.status.idle": "2022-02-09T03:08:42.542945Z",
          "shell.execute_reply": "2022-02-09T03:08:42.543377Z",
          "shell.execute_reply.started": "2021-10-27T03:31:59.580674Z"
        },
        "papermill": {
          "duration": 2.663293,
          "end_time": "2022-02-09T03:08:42.543556",
          "exception": false,
          "start_time": "2022-02-09T03:08:39.880263",
          "status": "completed"
        },
        "tags": [],
        "colab": {
          "base_uri": "https://localhost:8080/",
          "height": 436
        },
        "id": "28e6eda9",
        "outputId": "ad875b88-fe0c-43d1-c6d6-d27d7f8950b9"
      },
      "outputs": [
        {
          "output_type": "stream",
          "name": "stdout",
          "text": [
            "height:  28\n",
            "weight:  28\n"
          ]
        },
        {
          "output_type": "display_data",
          "data": {
            "image/png": "[encoded data removed]",
            "text/plain": [
              "<Figure size 1440x2160 with 10 Axes>"
            ]
          },
          "metadata": {
            "needs_background": "light"
          }
        },
        {
          "output_type": "display_data",
          "data": {
            "image/png": "[encoded data removed]",
            "text/plain": [
              "<Figure size 1440x2160 with 10 Axes>"
            ]
          },
          "metadata": {
            "needs_background": "light"
          }
        },
        {
          "output_type": "display_data",
          "data": {
            "image/png": "[encoded data removed]",
            "text/plain": [
              "<Figure size 1440x2160 with 10 Axes>"
            ]
          },
          "metadata": {
            "needs_background": "light"
          }
        }
      ],
      "source": [
        "print(\"height: \", images.shape[1])\n",
        "print(\"weight: \", images.shape[2])\n",
        "\n",
        "for n in range(3):\n",
        "    fig, axes = plt.subplots(1, 10, figsize=(20, 30))\n",
        "    [axes[i].imshow(images[idx]) for i, idx in enumerate(range(n*10, (n+1)*10))]\n",
        "\n",
        "    plt.show()"
      ]
    },
    {
      "cell_type": "markdown",
      "id": "fc2d4225",
      "metadata": {
        "papermill": {
          "duration": 0.038065,
          "end_time": "2022-02-09T03:08:42.620452",
          "exception": false,
          "start_time": "2022-02-09T03:08:42.582387",
          "status": "completed"
        },
        "tags": [],
        "id": "fc2d4225"
      },
      "source": [
        "# 学習の際必要になる知識"
      ]
    },
    {
      "cell_type": "markdown",
      "id": "1bda63f2",
      "metadata": {
        "papermill": {
          "duration": 0.037578,
          "end_time": "2022-02-09T03:08:42.696005",
          "exception": false,
          "start_time": "2022-02-09T03:08:42.658427",
          "status": "completed"
        },
        "tags": [],
        "id": "1bda63f2"
      },
      "source": [
        "## 評価指標(Accuracy), Confusion matrix\n",
        "#### 詳細については、来週説明"
      ]
    },
    {
      "cell_type": "markdown",
      "id": "2524ce6b",
      "metadata": {
        "papermill": {
          "duration": 0.042654,
          "end_time": "2022-02-09T03:08:53.291523",
          "exception": false,
          "start_time": "2022-02-09T03:08:53.248869",
          "status": "completed"
        },
        "tags": [],
        "id": "2524ce6b"
      },
      "source": [
        "## ハイパラメータの用語簡易説明など"
      ]
    },
    {
      "cell_type": "markdown",
      "id": "d315267d",
      "metadata": {
        "papermill": {
          "duration": 0.04221,
          "end_time": "2022-02-09T03:08:53.376406",
          "exception": false,
          "start_time": "2022-02-09T03:08:53.334196",
          "status": "completed"
        },
        "tags": [],
        "id": "d315267d"
      },
      "source": [
        "> #### * 学習率 : 学習一回当たりの更新量のようなものです。 今回のデフォルトは1e-5です。\n",
        "> #### * スケジューラー : epoch数に応じて、学習率を変化させるものです。 今回のデフォルトはCosineAnnealingLRです。\n",
        "> #### * 損失関数: 正解ラベルと予測ラベルの誤差の大きさを計算する関数。 \n",
        "> #### * 最適化関数: 効率よく損失を減らすための関数。 \n",
        "> #### * timm : 画像のコンペでpytorchを使う場合にほぼ確実に使用するライブラリですので、見ておきましょう。[github](https://github.com/rwightman/pytorch-image-models)"
      ]
    },
    {
      "cell_type": "markdown",
      "id": "fba95a5c",
      "metadata": {
        "execution": {
          "iopub.execute_input": "2021-10-19T13:13:09.526189Z",
          "iopub.status.busy": "2021-10-19T13:13:09.525808Z",
          "iopub.status.idle": "2021-10-19T13:13:09.552075Z",
          "shell.execute_reply": "2021-10-19T13:13:09.551044Z",
          "shell.execute_reply.started": "2021-10-19T13:13:09.526098Z"
        },
        "papermill": {
          "duration": 0.042105,
          "end_time": "2022-02-09T03:08:53.461098",
          "exception": false,
          "start_time": "2022-02-09T03:08:53.418993",
          "status": "completed"
        },
        "tags": [],
        "id": "fba95a5c"
      },
      "source": [
        "# 軽めのモデル作成"
      ]
    },
    {
      "cell_type": "markdown",
      "id": "4b8333dc",
      "metadata": {
        "papermill": {
          "duration": 0.042445,
          "end_time": "2022-02-09T03:08:53.546021",
          "exception": false,
          "start_time": "2022-02-09T03:08:53.503576",
          "status": "completed"
        },
        "tags": [],
        "id": "4b8333dc"
      },
      "source": [
        "### モデルの読み込み"
      ]
    },
    {
      "cell_type": "code",
      "execution_count": 26,
      "id": "9d33065d",
      "metadata": {
        "execution": {
          "iopub.execute_input": "2022-02-09T03:08:53.637563Z",
          "iopub.status.busy": "2022-02-09T03:08:53.633902Z",
          "iopub.status.idle": "2022-02-09T03:08:54.111240Z",
          "shell.execute_reply": "2022-02-09T03:08:54.111720Z",
          "shell.execute_reply.started": "2021-10-27T03:32:03.739156Z"
        },
        "papermill": {
          "duration": 0.523493,
          "end_time": "2022-02-09T03:08:54.111950",
          "exception": false,
          "start_time": "2022-02-09T03:08:53.588457",
          "status": "completed"
        },
        "tags": [],
        "colab": {
          "base_uri": "https://localhost:8080/"
        },
        "id": "9d33065d",
        "outputId": "6084b329-8679-4255-ec4e-440aaaaed3ab"
      },
      "outputs": [
        {
          "output_type": "execute_result",
          "data": {
            "text/plain": [
              "BaseModel(\n",
              "  (model): ResNet(\n",
              "    (conv1): Conv2d(3, 64, kernel_size=(7, 7), stride=(2, 2), padding=(3, 3), bias=False)\n",
              "    (bn1): BatchNorm2d(64, eps=1e-05, momentum=0.1, affine=True, track_running_stats=True)\n",
              "    (act1): ReLU(inplace=True)\n",
              "    (maxpool): MaxPool2d(kernel_size=3, stride=2, padding=1, dilation=1, ceil_mode=False)\n",
              "    (layer1): Sequential(\n",
              "      (0): Bottleneck(\n",
              "        (conv1): Conv2d(64, 64, kernel_size=(1, 1), stride=(1, 1), bias=False)\n",
              "        (bn1): BatchNorm2d(64, eps=1e-05, momentum=0.1, affine=True, track_running_stats=True)\n",
              "        (act1): ReLU(inplace=True)\n",
              "        (conv2): Conv2d(64, 64, kernel_size=(3, 3), stride=(1, 1), padding=(1, 1), bias=False)\n",
              "        (bn2): BatchNorm2d(64, eps=1e-05, momentum=0.1, affine=True, track_running_stats=True)\n",
              "        (act2): ReLU(inplace=True)\n",
              "        (conv3): Conv2d(64, 256, kernel_size=(1, 1), stride=(1, 1), bias=False)\n",
              "        (bn3): BatchNorm2d(256, eps=1e-05, momentum=0.1, affine=True, track_running_stats=True)\n",
              "        (act3): ReLU(inplace=True)\n",
              "        (downsample): Sequential(\n",
              "          (0): Conv2d(64, 256, kernel_size=(1, 1), stride=(1, 1), bias=False)\n",
              "          (1): BatchNorm2d(256, eps=1e-05, momentum=0.1, affine=True, track_running_stats=True)\n",
              "        )\n",
              "      )\n",
              "      (1): Bottleneck(\n",
              "        (conv1): Conv2d(256, 64, kernel_size=(1, 1), stride=(1, 1), bias=False)\n",
              "        (bn1): BatchNorm2d(64, eps=1e-05, momentum=0.1, affine=True, track_running_stats=True)\n",
              "        (act1): ReLU(inplace=True)\n",
              "        (conv2): Conv2d(64, 64, kernel_size=(3, 3), stride=(1, 1), padding=(1, 1), bias=False)\n",
              "        (bn2): BatchNorm2d(64, eps=1e-05, momentum=0.1, affine=True, track_running_stats=True)\n",
              "        (act2): ReLU(inplace=True)\n",
              "        (conv3): Conv2d(64, 256, kernel_size=(1, 1), stride=(1, 1), bias=False)\n",
              "        (bn3): BatchNorm2d(256, eps=1e-05, momentum=0.1, affine=True, track_running_stats=True)\n",
              "        (act3): ReLU(inplace=True)\n",
              "      )\n",
              "      (2): Bottleneck(\n",
              "        (conv1): Conv2d(256, 64, kernel_size=(1, 1), stride=(1, 1), bias=False)\n",
              "        (bn1): BatchNorm2d(64, eps=1e-05, momentum=0.1, affine=True, track_running_stats=True)\n",
              "        (act1): ReLU(inplace=True)\n",
              "        (conv2): Conv2d(64, 64, kernel_size=(3, 3), stride=(1, 1), padding=(1, 1), bias=False)\n",
              "        (bn2): BatchNorm2d(64, eps=1e-05, momentum=0.1, affine=True, track_running_stats=True)\n",
              "        (act2): ReLU(inplace=True)\n",
              "        (conv3): Conv2d(64, 256, kernel_size=(1, 1), stride=(1, 1), bias=False)\n",
              "        (bn3): BatchNorm2d(256, eps=1e-05, momentum=0.1, affine=True, track_running_stats=True)\n",
              "        (act3): ReLU(inplace=True)\n",
              "      )\n",
              "    )\n",
              "    (layer2): Sequential(\n",
              "      (0): Bottleneck(\n",
              "        (conv1): Conv2d(256, 128, kernel_size=(1, 1), stride=(1, 1), bias=False)\n",
              "        (bn1): BatchNorm2d(128, eps=1e-05, momentum=0.1, affine=True, track_running_stats=True)\n",
              "        (act1): ReLU(inplace=True)\n",
              "        (conv2): Conv2d(128, 128, kernel_size=(3, 3), stride=(2, 2), padding=(1, 1), bias=False)\n",
              "        (bn2): BatchNorm2d(128, eps=1e-05, momentum=0.1, affine=True, track_running_stats=True)\n",
              "        (act2): ReLU(inplace=True)\n",
              "        (conv3): Conv2d(128, 512, kernel_size=(1, 1), stride=(1, 1), bias=False)\n",
              "        (bn3): BatchNorm2d(512, eps=1e-05, momentum=0.1, affine=True, track_running_stats=True)\n",
              "        (act3): ReLU(inplace=True)\n",
              "        (downsample): Sequential(\n",
              "          (0): Conv2d(256, 512, kernel_size=(1, 1), stride=(2, 2), bias=False)\n",
              "          (1): BatchNorm2d(512, eps=1e-05, momentum=0.1, affine=True, track_running_stats=True)\n",
              "        )\n",
              "      )\n",
              "      (1): Bottleneck(\n",
              "        (conv1): Conv2d(512, 128, kernel_size=(1, 1), stride=(1, 1), bias=False)\n",
              "        (bn1): BatchNorm2d(128, eps=1e-05, momentum=0.1, affine=True, track_running_stats=True)\n",
              "        (act1): ReLU(inplace=True)\n",
              "        (conv2): Conv2d(128, 128, kernel_size=(3, 3), stride=(1, 1), padding=(1, 1), bias=False)\n",
              "        (bn2): BatchNorm2d(128, eps=1e-05, momentum=0.1, affine=True, track_running_stats=True)\n",
              "        (act2): ReLU(inplace=True)\n",
              "        (conv3): Conv2d(128, 512, kernel_size=(1, 1), stride=(1, 1), bias=False)\n",
              "        (bn3): BatchNorm2d(512, eps=1e-05, momentum=0.1, affine=True, track_running_stats=True)\n",
              "        (act3): ReLU(inplace=True)\n",
              "      )\n",
              "      (2): Bottleneck(\n",
              "        (conv1): Conv2d(512, 128, kernel_size=(1, 1), stride=(1, 1), bias=False)\n",
              "        (bn1): BatchNorm2d(128, eps=1e-05, momentum=0.1, affine=True, track_running_stats=True)\n",
              "        (act1): ReLU(inplace=True)\n",
              "        (conv2): Conv2d(128, 128, kernel_size=(3, 3), stride=(1, 1), padding=(1, 1), bias=False)\n",
              "        (bn2): BatchNorm2d(128, eps=1e-05, momentum=0.1, affine=True, track_running_stats=True)\n",
              "        (act2): ReLU(inplace=True)\n",
              "        (conv3): Conv2d(128, 512, kernel_size=(1, 1), stride=(1, 1), bias=False)\n",
              "        (bn3): BatchNorm2d(512, eps=1e-05, momentum=0.1, affine=True, track_running_stats=True)\n",
              "        (act3): ReLU(inplace=True)\n",
              "      )\n",
              "      (3): Bottleneck(\n",
              "        (conv1): Conv2d(512, 128, kernel_size=(1, 1), stride=(1, 1), bias=False)\n",
              "        (bn1): BatchNorm2d(128, eps=1e-05, momentum=0.1, affine=True, track_running_stats=True)\n",
              "        (act1): ReLU(inplace=True)\n",
              "        (conv2): Conv2d(128, 128, kernel_size=(3, 3), stride=(1, 1), padding=(1, 1), bias=False)\n",
              "        (bn2): BatchNorm2d(128, eps=1e-05, momentum=0.1, affine=True, track_running_stats=True)\n",
              "        (act2): ReLU(inplace=True)\n",
              "        (conv3): Conv2d(128, 512, kernel_size=(1, 1), stride=(1, 1), bias=False)\n",
              "        (bn3): BatchNorm2d(512, eps=1e-05, momentum=0.1, affine=True, track_running_stats=True)\n",
              "        (act3): ReLU(inplace=True)\n",
              "      )\n",
              "    )\n",
              "    (layer3): Sequential(\n",
              "      (0): Bottleneck(\n",
              "        (conv1): Conv2d(512, 256, kernel_size=(1, 1), stride=(1, 1), bias=False)\n",
              "        (bn1): BatchNorm2d(256, eps=1e-05, momentum=0.1, affine=True, track_running_stats=True)\n",
              "        (act1): ReLU(inplace=True)\n",
              "        (conv2): Conv2d(256, 256, kernel_size=(3, 3), stride=(2, 2), padding=(1, 1), bias=False)\n",
              "        (bn2): BatchNorm2d(256, eps=1e-05, momentum=0.1, affine=True, track_running_stats=True)\n",
              "        (act2): ReLU(inplace=True)\n",
              "        (conv3): Conv2d(256, 1024, kernel_size=(1, 1), stride=(1, 1), bias=False)\n",
              "        (bn3): BatchNorm2d(1024, eps=1e-05, momentum=0.1, affine=True, track_running_stats=True)\n",
              "        (act3): ReLU(inplace=True)\n",
              "        (downsample): Sequential(\n",
              "          (0): Conv2d(512, 1024, kernel_size=(1, 1), stride=(2, 2), bias=False)\n",
              "          (1): BatchNorm2d(1024, eps=1e-05, momentum=0.1, affine=True, track_running_stats=True)\n",
              "        )\n",
              "      )\n",
              "      (1): Bottleneck(\n",
              "        (conv1): Conv2d(1024, 256, kernel_size=(1, 1), stride=(1, 1), bias=False)\n",
              "        (bn1): BatchNorm2d(256, eps=1e-05, momentum=0.1, affine=True, track_running_stats=True)\n",
              "        (act1): ReLU(inplace=True)\n",
              "        (conv2): Conv2d(256, 256, kernel_size=(3, 3), stride=(1, 1), padding=(1, 1), bias=False)\n",
              "        (bn2): BatchNorm2d(256, eps=1e-05, momentum=0.1, affine=True, track_running_stats=True)\n",
              "        (act2): ReLU(inplace=True)\n",
              "        (conv3): Conv2d(256, 1024, kernel_size=(1, 1), stride=(1, 1), bias=False)\n",
              "        (bn3): BatchNorm2d(1024, eps=1e-05, momentum=0.1, affine=True, track_running_stats=True)\n",
              "        (act3): ReLU(inplace=True)\n",
              "      )\n",
              "      (2): Bottleneck(\n",
              "        (conv1): Conv2d(1024, 256, kernel_size=(1, 1), stride=(1, 1), bias=False)\n",
              "        (bn1): BatchNorm2d(256, eps=1e-05, momentum=0.1, affine=True, track_running_stats=True)\n",
              "        (act1): ReLU(inplace=True)\n",
              "        (conv2): Conv2d(256, 256, kernel_size=(3, 3), stride=(1, 1), padding=(1, 1), bias=False)\n",
              "        (bn2): BatchNorm2d(256, eps=1e-05, momentum=0.1, affine=True, track_running_stats=True)\n",
              "        (act2): ReLU(inplace=True)\n",
              "        (conv3): Conv2d(256, 1024, kernel_size=(1, 1), stride=(1, 1), bias=False)\n",
              "        (bn3): BatchNorm2d(1024, eps=1e-05, momentum=0.1, affine=True, track_running_stats=True)\n",
              "        (act3): ReLU(inplace=True)\n",
              "      )\n",
              "      (3): Bottleneck(\n",
              "        (conv1): Conv2d(1024, 256, kernel_size=(1, 1), stride=(1, 1), bias=False)\n",
              "        (bn1): BatchNorm2d(256, eps=1e-05, momentum=0.1, affine=True, track_running_stats=True)\n",
              "        (act1): ReLU(inplace=True)\n",
              "        (conv2): Conv2d(256, 256, kernel_size=(3, 3), stride=(1, 1), padding=(1, 1), bias=False)\n",
              "        (bn2): BatchNorm2d(256, eps=1e-05, momentum=0.1, affine=True, track_running_stats=True)\n",
              "        (act2): ReLU(inplace=True)\n",
              "        (conv3): Conv2d(256, 1024, kernel_size=(1, 1), stride=(1, 1), bias=False)\n",
              "        (bn3): BatchNorm2d(1024, eps=1e-05, momentum=0.1, affine=True, track_running_stats=True)\n",
              "        (act3): ReLU(inplace=True)\n",
              "      )\n",
              "      (4): Bottleneck(\n",
              "        (conv1): Conv2d(1024, 256, kernel_size=(1, 1), stride=(1, 1), bias=False)\n",
              "        (bn1): BatchNorm2d(256, eps=1e-05, momentum=0.1, affine=True, track_running_stats=True)\n",
              "        (act1): ReLU(inplace=True)\n",
              "        (conv2): Conv2d(256, 256, kernel_size=(3, 3), stride=(1, 1), padding=(1, 1), bias=False)\n",
              "        (bn2): BatchNorm2d(256, eps=1e-05, momentum=0.1, affine=True, track_running_stats=True)\n",
              "        (act2): ReLU(inplace=True)\n",
              "        (conv3): Conv2d(256, 1024, kernel_size=(1, 1), stride=(1, 1), bias=False)\n",
              "        (bn3): BatchNorm2d(1024, eps=1e-05, momentum=0.1, affine=True, track_running_stats=True)\n",
              "        (act3): ReLU(inplace=True)\n",
              "      )\n",
              "      (5): Bottleneck(\n",
              "        (conv1): Conv2d(1024, 256, kernel_size=(1, 1), stride=(1, 1), bias=False)\n",
              "        (bn1): BatchNorm2d(256, eps=1e-05, momentum=0.1, affine=True, track_running_stats=True)\n",
              "        (act1): ReLU(inplace=True)\n",
              "        (conv2): Conv2d(256, 256, kernel_size=(3, 3), stride=(1, 1), padding=(1, 1), bias=False)\n",
              "        (bn2): BatchNorm2d(256, eps=1e-05, momentum=0.1, affine=True, track_running_stats=True)\n",
              "        (act2): ReLU(inplace=True)\n",
              "        (conv3): Conv2d(256, 1024, kernel_size=(1, 1), stride=(1, 1), bias=False)\n",
              "        (bn3): BatchNorm2d(1024, eps=1e-05, momentum=0.1, affine=True, track_running_stats=True)\n",
              "        (act3): ReLU(inplace=True)\n",
              "      )\n",
              "    )\n",
              "    (layer4): Sequential(\n",
              "      (0): Bottleneck(\n",
              "        (conv1): Conv2d(1024, 512, kernel_size=(1, 1), stride=(1, 1), bias=False)\n",
              "        (bn1): BatchNorm2d(512, eps=1e-05, momentum=0.1, affine=True, track_running_stats=True)\n",
              "        (act1): ReLU(inplace=True)\n",
              "        (conv2): Conv2d(512, 512, kernel_size=(3, 3), stride=(2, 2), padding=(1, 1), bias=False)\n",
              "        (bn2): BatchNorm2d(512, eps=1e-05, momentum=0.1, affine=True, track_running_stats=True)\n",
              "        (act2): ReLU(inplace=True)\n",
              "        (conv3): Conv2d(512, 2048, kernel_size=(1, 1), stride=(1, 1), bias=False)\n",
              "        (bn3): BatchNorm2d(2048, eps=1e-05, momentum=0.1, affine=True, track_running_stats=True)\n",
              "        (act3): ReLU(inplace=True)\n",
              "        (downsample): Sequential(\n",
              "          (0): Conv2d(1024, 2048, kernel_size=(1, 1), stride=(2, 2), bias=False)\n",
              "          (1): BatchNorm2d(2048, eps=1e-05, momentum=0.1, affine=True, track_running_stats=True)\n",
              "        )\n",
              "      )\n",
              "      (1): Bottleneck(\n",
              "        (conv1): Conv2d(2048, 512, kernel_size=(1, 1), stride=(1, 1), bias=False)\n",
              "        (bn1): BatchNorm2d(512, eps=1e-05, momentum=0.1, affine=True, track_running_stats=True)\n",
              "        (act1): ReLU(inplace=True)\n",
              "        (conv2): Conv2d(512, 512, kernel_size=(3, 3), stride=(1, 1), padding=(1, 1), bias=False)\n",
              "        (bn2): BatchNorm2d(512, eps=1e-05, momentum=0.1, affine=True, track_running_stats=True)\n",
              "        (act2): ReLU(inplace=True)\n",
              "        (conv3): Conv2d(512, 2048, kernel_size=(1, 1), stride=(1, 1), bias=False)\n",
              "        (bn3): BatchNorm2d(2048, eps=1e-05, momentum=0.1, affine=True, track_running_stats=True)\n",
              "        (act3): ReLU(inplace=True)\n",
              "      )\n",
              "      (2): Bottleneck(\n",
              "        (conv1): Conv2d(2048, 512, kernel_size=(1, 1), stride=(1, 1), bias=False)\n",
              "        (bn1): BatchNorm2d(512, eps=1e-05, momentum=0.1, affine=True, track_running_stats=True)\n",
              "        (act1): ReLU(inplace=True)\n",
              "        (conv2): Conv2d(512, 512, kernel_size=(3, 3), stride=(1, 1), padding=(1, 1), bias=False)\n",
              "        (bn2): BatchNorm2d(512, eps=1e-05, momentum=0.1, affine=True, track_running_stats=True)\n",
              "        (act2): ReLU(inplace=True)\n",
              "        (conv3): Conv2d(512, 2048, kernel_size=(1, 1), stride=(1, 1), bias=False)\n",
              "        (bn3): BatchNorm2d(2048, eps=1e-05, momentum=0.1, affine=True, track_running_stats=True)\n",
              "        (act3): ReLU(inplace=True)\n",
              "      )\n",
              "    )\n",
              "    (global_pool): SelectAdaptivePool2d (pool_type=avg, flatten=Flatten(start_dim=1, end_dim=-1))\n",
              "    (fc): Linear(in_features=2048, out_features=1000, bias=True)\n",
              "    (classifier): Linear(in_features=2048, out_features=10, bias=True)\n",
              "  )\n",
              ")"
            ]
          },
          "metadata": {},
          "execution_count": 26
        }
      ],
      "source": [
        "model = BaseModel(Config.MODEL_NAME, Config.class_num)\n",
        "model"
      ]
    },
    {
      "cell_type": "markdown",
      "id": "783004f0",
      "metadata": {
        "papermill": {
          "duration": 0.044666,
          "end_time": "2022-02-09T03:08:54.200853",
          "exception": false,
          "start_time": "2022-02-09T03:08:54.156187",
          "status": "completed"
        },
        "tags": [],
        "id": "783004f0"
      },
      "source": [
        "### 最適化関数"
      ]
    },
    {
      "cell_type": "code",
      "execution_count": 27,
      "id": "97d97d90",
      "metadata": {
        "execution": {
          "iopub.execute_input": "2022-02-09T03:08:54.294751Z",
          "iopub.status.busy": "2022-02-09T03:08:54.294185Z",
          "iopub.status.idle": "2022-02-09T03:08:54.296597Z",
          "shell.execute_reply": "2022-02-09T03:08:54.296003Z",
          "shell.execute_reply.started": "2021-10-27T03:32:04.248296Z"
        },
        "papermill": {
          "duration": 0.052214,
          "end_time": "2022-02-09T03:08:54.296739",
          "exception": false,
          "start_time": "2022-02-09T03:08:54.244525",
          "status": "completed"
        },
        "tags": [],
        "id": "97d97d90"
      },
      "outputs": [],
      "source": [
        "# Adam は勾配を移動平均と学習率の調整からなります (MomentumとRMSProp)\n",
        "optimizer = Adam(model.parameters(), lr=Config.model_lr, weight_decay=Config.weight_decay, amsgrad=False)"
      ]
    },
    {
      "cell_type": "markdown",
      "id": "bdc2cc5f",
      "metadata": {
        "papermill": {
          "duration": 0.043822,
          "end_time": "2022-02-09T03:08:54.384072",
          "exception": false,
          "start_time": "2022-02-09T03:08:54.340250",
          "status": "completed"
        },
        "tags": [],
        "id": "bdc2cc5f"
      },
      "source": [
        "### スケジューラ"
      ]
    },
    {
      "cell_type": "code",
      "execution_count": 28,
      "id": "8896635a",
      "metadata": {
        "execution": {
          "iopub.execute_input": "2022-02-09T03:08:54.493925Z",
          "iopub.status.busy": "2022-02-09T03:08:54.493320Z",
          "iopub.status.idle": "2022-02-09T03:08:54.668501Z",
          "shell.execute_reply": "2022-02-09T03:08:54.669075Z",
          "shell.execute_reply.started": "2021-10-27T03:32:04.258004Z"
        },
        "papermill": {
          "duration": 0.241544,
          "end_time": "2022-02-09T03:08:54.669271",
          "exception": false,
          "start_time": "2022-02-09T03:08:54.427727",
          "status": "completed"
        },
        "tags": [],
        "colab": {
          "base_uri": "https://localhost:8080/",
          "height": 320
        },
        "id": "8896635a",
        "outputId": "1a6ade96-24dd-4e90-8767-6966c67a8fc7"
      },
      "outputs": [
        {
          "output_type": "display_data",
          "data": {
            "image/png": "[encoded data removed]",
            "text/plain": [
              "<Figure size 720x360 with 1 Axes>"
            ]
          },
          "metadata": {
            "needs_background": "light"
          }
        }
      ],
      "source": [
        "scheduler = CosineAnnealingLR(optimizer, T_max=Config.T_max, eta_min=0.001)\n",
        "\n",
        "log_s = []\n",
        "for epoch in range(0, 100):\n",
        "    log_s.append(scheduler.get_last_lr()[0])\n",
        "    scheduler.step()\n",
        "\n",
        "plt.figure(figsize=(10, 5))\n",
        "plt.plot(np.arange(100), log_s)\n",
        "plt.show()"
      ]
    },
    {
      "cell_type": "markdown",
      "id": "776c181d",
      "metadata": {
        "papermill": {
          "duration": 0.04574,
          "end_time": "2022-02-09T03:08:54.760033",
          "exception": false,
          "start_time": "2022-02-09T03:08:54.714293",
          "status": "completed"
        },
        "tags": [],
        "id": "776c181d"
      },
      "source": [
        "# 学習"
      ]
    },
    {
      "cell_type": "code",
      "execution_count": 29,
      "id": "eb05601c",
      "metadata": {
        "execution": {
          "iopub.execute_input": "2022-02-09T03:08:54.855807Z",
          "iopub.status.busy": "2022-02-09T03:08:54.855163Z",
          "iopub.status.idle": "2022-02-09T03:08:54.867942Z",
          "shell.execute_reply": "2022-02-09T03:08:54.867447Z",
          "shell.execute_reply.started": "2021-10-27T03:32:04.495189Z"
        },
        "papermill": {
          "duration": 0.062163,
          "end_time": "2022-02-09T03:08:54.868086",
          "exception": false,
          "start_time": "2022-02-09T03:08:54.805923",
          "status": "completed"
        },
        "tags": [],
        "id": "eb05601c"
      },
      "outputs": [],
      "source": [
        "def train_loop(train, fold, class_num=Config.class_num, norms=(0.5, 0.5)):\n",
        "    \n",
        "    print('='*20 +'Fold '+ f'{fold}' + '='*20)\n",
        "    train_index = train[train['fold'] != fold].index # 学習用のindex\n",
        "    valid_index = train[train['fold'] == fold].index # 評価用のindex\n",
        "\n",
        "    train_dataset = TrainDataset(train.loc[train_index].reset_index(drop=True), \n",
        "                                 transform=get_transforms(data='train', size=Config.size, norms=norms)) # 学習用のdatasetを作成\n",
        "    valid_dataset = TrainDataset(train.loc[valid_index].reset_index(drop=True), \n",
        "                                 transform=get_transforms(data='valid', size=Config.size, norms=norms)) # 評価用のdatasetを作成\n",
        "\n",
        "    train_loader = DataLoader(train_dataset, batch_size=Config.batch_size, shuffle=True, \n",
        "                              num_workers=Config.num_workers, pin_memory=True, drop_last=True)# 学習用のdatasetsのbatchを作成\n",
        "    valid_loader = DataLoader(valid_dataset, batch_size=Config.batch_size, shuffle=False, \n",
        "                              num_workers=Config.num_workers, pin_memory=True, drop_last=False) # 評価用のdatasetsのbatchを作成\n",
        "    \n",
        "    \n",
        "    model = BaseModel(Config.MODEL_NAME, class_num).to(Config.device)\n",
        "\n",
        "    optimizer = Adam(model.parameters(), lr=Config.model_lr, weight_decay=Config.weight_decay, amsgrad=False)\n",
        "    scheduler = CosineAnnealingLR(optimizer, T_max=Config.T_max, eta_min=Config.min_lr, last_epoch=-1)\n",
        "\n",
        "    criterion = nn.CrossEntropyLoss() # loss function\n",
        "\n",
        "    best_score = 0.\n",
        "    best_loss = np.inf\n",
        "    \n",
        "    for epoch in range(Config.epochs):\n",
        "        start_time = time.time()\n",
        "        avg_loss = train_fn(train_loader, model, criterion, optimizer, epoch, scheduler) # 学習\n",
        "        avg_val_loss, predict = valid_fn(valid_loader, model, criterion) # 評価用の推論\n",
        "        valid_labels = train.loc[valid_index, \"label\"].values # 予測ラベル\n",
        "        \n",
        "        scheduler.step() \n",
        "        score = accuracy_score(valid_labels, predict) # 適合率を計算\n",
        "        elapsed = time.time() - start_time\n",
        "\n",
        "        LOGGER.info(f'Epoch {epoch+1} - avg_train_loss: {avg_loss:.4f}  avg_val_loss: {avg_val_loss:.4f}  time: {elapsed:.0f}s')\n",
        "        LOGGER.info(f'Epoch {epoch+1} - Accuracy: {score}')\n",
        "\n",
        "        if score > best_score:\n",
        "            best_score = score\n",
        "            LOGGER.info(f'Epoch {epoch+1} - Save Best Score: {best_score:.4f} Model')\n",
        "            model_filename = f'{Config.model_dir}/{Config.MODEL_NAME}_fold{fold}_best_{Config.Version}.pth'\n",
        "            torch.save(model.state_dict(), model_filename) # モデルの保存\n",
        "            #torch.save(model.state_dict(), \"./\" + f'{Config.MODEL_NAME}_fold{fold}_best_{Config.Version}.pth') # モデルの保存\n",
        "            print(f'{model_filename} saved')\n",
        "\n",
        "            valid_folds_predict = predict\n",
        "            \n",
        "        del avg_loss, avg_val_loss, valid_labels, predict, score\n",
        "        gc.collect()\n",
        "        torch.cuda.empty_cache()\n",
        "\n",
        "    return valid_folds_predict"
      ]
    },
    {
      "cell_type": "code",
      "execution_count": null,
      "id": "8132a4e8",
      "metadata": {
        "execution": {
          "iopub.execute_input": "2022-02-09T03:08:54.962683Z",
          "iopub.status.busy": "2022-02-09T03:08:54.962112Z",
          "iopub.status.idle": "2022-02-09T05:14:45.109864Z",
          "shell.execute_reply": "2022-02-09T05:14:45.110686Z",
          "shell.execute_reply.started": "2021-10-27T03:32:04.516365Z"
        },
        "id": "8132a4e8",
        "outputId": "3433a67a-398d-4637-9f2e-0206f3726824",
        "papermill": {
          "duration": 7550.198657,
          "end_time": "2022-02-09T05:14:45.111727",
          "exception": false,
          "start_time": "2022-02-09T03:08:54.913070",
          "status": "completed"
        },
        "tags": [],
        "colab": {
          "base_uri": "https://localhost:8080/"
        }
      },
      "outputs": [
        {
          "output_type": "stream",
          "name": "stdout",
          "text": [
            "====================Fold 0====================\n",
            "Epoch: [1][0/525] Data 0.174 (0.174) Elapsed 0m 1s (remain 9m 27s) Loss: 6.9503(6.9503) \n",
            "Epoch: [1][524/525] Data 0.118 (0.111) Elapsed 6m 49s (remain 0m 0s) Loss: 2.0667(3.5147) \n",
            "EVAL: [0/132] Data 0.120 (0.120) Elapsed 0m 0s (remain 0m 40s) Loss: 2.1218(2.1218) \n"
          ]
        },
        {
          "output_type": "stream",
          "name": "stderr",
          "text": [
            "Epoch 1 - avg_train_loss: 3.5147  avg_val_loss: 2.0751  time: 449s\n",
            "Epoch 1 - Accuracy: 0.36345238095238097\n",
            "Epoch 1 - Save Best Score: 0.3635 Model\n"
          ]
        },
        {
          "output_type": "stream",
          "name": "stdout",
          "text": [
            "EVAL: [131/132] Data 0.027 (0.108) Elapsed 0m 38s (remain 0m 0s) Loss: 2.0786(2.0751) \n",
            "/content/drive/MyDrive/kaggla-za/E002Round3/Week2/DigitRecognizer/model/exp3/resnet50_fold0_best_exp3.pth saved\n",
            "Epoch: [2][0/525] Data 0.109 (0.109) Elapsed 0m 0s (remain 6m 57s) Loss: 2.0718(2.0718) \n",
            "Epoch: [2][524/525] Data 0.098 (0.106) Elapsed 6m 57s (remain 0m 0s) Loss: 1.5028(1.8314) \n",
            "EVAL: [0/132] Data 0.110 (0.110) Elapsed 0m 0s (remain 0m 38s) Loss: 1.7154(1.7154) \n"
          ]
        },
        {
          "output_type": "stream",
          "name": "stderr",
          "text": [
            "Epoch 2 - avg_train_loss: 1.8314  avg_val_loss: 1.6396  time: 456s\n",
            "Epoch 2 - Accuracy: 0.5584523809523809\n",
            "Epoch 2 - Save Best Score: 0.5585 Model\n"
          ]
        },
        {
          "output_type": "stream",
          "name": "stdout",
          "text": [
            "EVAL: [131/132] Data 0.025 (0.101) Elapsed 0m 37s (remain 0m 0s) Loss: 1.6244(1.6396) \n",
            "/content/drive/MyDrive/kaggla-za/E002Round3/Week2/DigitRecognizer/model/exp3/resnet50_fold0_best_exp3.pth saved\n",
            "Epoch: [3][0/525] Data 0.120 (0.120) Elapsed 0m 0s (remain 7m 2s) Loss: 1.6275(1.6275) \n",
            "Epoch: [3][524/525] Data 0.100 (0.110) Elapsed 7m 0s (remain 0m 0s) Loss: 1.1251(1.3877) \n",
            "EVAL: [0/132] Data 0.104 (0.104) Elapsed 0m 0s (remain 0m 38s) Loss: 1.4415(1.4415) \n"
          ]
        },
        {
          "output_type": "stream",
          "name": "stderr",
          "text": [
            "Epoch 3 - avg_train_loss: 1.3877  avg_val_loss: 1.2717  time: 459s\n",
            "Epoch 3 - Accuracy: 0.6017857142857143\n",
            "Epoch 3 - Save Best Score: 0.6018 Model\n"
          ]
        },
        {
          "output_type": "stream",
          "name": "stdout",
          "text": [
            "EVAL: [131/132] Data 0.025 (0.104) Elapsed 0m 38s (remain 0m 0s) Loss: 1.3543(1.2717) \n",
            "/content/drive/MyDrive/kaggla-za/E002Round3/Week2/DigitRecognizer/model/exp3/resnet50_fold0_best_exp3.pth saved\n",
            "Epoch: [4][0/525] Data 0.110 (0.110) Elapsed 0m 0s (remain 7m 4s) Loss: 1.1366(1.1366) \n"
          ]
        }
      ],
      "source": [
        "preds = [train_loop(train, fold=fold, class_num=Config.class_num, norms=norms) for fold in range(Config.N_FOLDS) ]"
      ]
    },
    {
      "cell_type": "markdown",
      "id": "1aa307d7",
      "metadata": {
        "papermill": {
          "duration": 0.047828,
          "end_time": "2022-02-09T05:14:45.206863",
          "exception": false,
          "start_time": "2022-02-09T05:14:45.159035",
          "status": "completed"
        },
        "tags": [],
        "id": "1aa307d7"
      },
      "source": [
        "# 推論"
      ]
    },
    {
      "cell_type": "code",
      "execution_count": null,
      "id": "9cbe6443",
      "metadata": {
        "execution": {
          "iopub.execute_input": "2022-02-09T05:14:45.310550Z",
          "iopub.status.busy": "2022-02-09T05:14:45.304957Z",
          "iopub.status.idle": "2022-02-09T05:14:45.313331Z",
          "shell.execute_reply": "2022-02-09T05:14:45.313815Z",
          "shell.execute_reply.started": "2021-10-27T03:32:54.194828Z"
        },
        "id": "9cbe6443",
        "papermill": {
          "duration": 0.05988,
          "end_time": "2022-02-09T05:14:45.313975",
          "exception": false,
          "start_time": "2022-02-09T05:14:45.254095",
          "status": "completed"
        },
        "tags": []
      },
      "outputs": [],
      "source": [
        "def inference(test, class_num=Config.class_num, n=0, norms=(0.5, 0.5)):\n",
        "    model = BaseModel(Config.MODEL_NAME, class_num, pretrained=False)\n",
        "\n",
        "    model.load_state_dict(torch.load(f'{Config.model_dir}/{Config.MODEL_NAME}_fold{n}_best_{Config.Version}.pth')) # 重みの読み込み\n",
        "    model.to(Config.device)\n",
        "    \n",
        "    test_dataset = TestDataset(test, transform=get_transforms(data='valid', size=Config.size, norms=norms))\n",
        "    test_loader = DataLoader(test_dataset, batch_size=Config.batch_size, shuffle=False, num_workers=Config.num_workers)\n",
        "    \n",
        "    all_predicts = []\n",
        "    model.eval() # 推論モード\n",
        "    with torch.no_grad(): # 勾配の計算をしない\n",
        "        for i, (images) in tqdm(enumerate(test_loader), total=len(test_loader)):\n",
        "            images = images.to(Config.device)\n",
        "            y_preds = model(images)\n",
        "            predicts = y_preds.softmax(1).to(\"cpu\").numpy().argmax(1)\n",
        "            all_predicts.append(predicts)\n",
        "    \n",
        "    predicts = np.concatenate(all_predicts)\n",
        "        \n",
        "    return predicts"
      ]
    },
    {
      "cell_type": "code",
      "execution_count": null,
      "id": "3cfb9c93",
      "metadata": {
        "execution": {
          "iopub.execute_input": "2022-02-09T05:14:45.411045Z",
          "iopub.status.busy": "2022-02-09T05:14:45.410448Z",
          "iopub.status.idle": "2022-02-09T05:14:47.162898Z",
          "shell.execute_reply": "2022-02-09T05:14:47.161764Z",
          "shell.execute_reply.started": "2021-10-27T03:32:54.197728Z"
        },
        "papermill": {
          "duration": 1.802172,
          "end_time": "2022-02-09T05:14:47.163041",
          "exception": false,
          "start_time": "2022-02-09T05:14:45.360869",
          "status": "completed"
        },
        "tags": [],
        "id": "3cfb9c93"
      },
      "outputs": [],
      "source": [
        "#MODEL_PATH = \"./\" # 自身の作成したモデルへのPATH\n",
        "\n",
        "if ON_KAGGLE:\n",
        "    test = pd.read_csv(Config.data_dir + \"/test.csv\")\n",
        "    submit = pd.read_csv(Config.data_dir + \"/sample_submission.csv\")\n",
        "else:\n",
        "    test = pd.read_csv(f'{Config.data_dir}/test/test.csv')\n",
        "    submit = pd.read_csv(f'{Config.data_dir}/sample_submission.csv')"
      ]
    },
    {
      "cell_type": "code",
      "execution_count": null,
      "id": "a1ece651",
      "metadata": {
        "execution": {
          "iopub.execute_input": "2022-02-09T05:14:47.263387Z",
          "iopub.status.busy": "2022-02-09T05:14:47.262793Z",
          "iopub.status.idle": "2022-02-09T05:43:32.334528Z",
          "shell.execute_reply": "2022-02-09T05:43:32.335006Z",
          "shell.execute_reply.started": "2021-10-27T03:32:54.20035Z"
        },
        "papermill": {
          "duration": 1725.123977,
          "end_time": "2022-02-09T05:43:32.335186",
          "exception": false,
          "start_time": "2022-02-09T05:14:47.211209",
          "status": "completed"
        },
        "tags": [],
        "id": "a1ece651"
      },
      "outputs": [],
      "source": [
        "predicts = [inference(test, class_num=Config.class_num, n=fold, norms=norms) for fold in range(Config.N_FOLDS)]\n",
        "predicts_em = np.argmax(np.sum(predicts, axis=0), axis=1)"
      ]
    },
    {
      "cell_type": "code",
      "source": [
        "# predicts_2 = [inference(test, \"resnet50\", n=fold) for fold in range(5)]\n",
        "# predicts_2_em = np.argmax(np.sum(predicts, axis=0), axis=1)\n",
        "\n",
        "# predicts_em = np.mean(predicts, axis=0)\n",
        "# predicts_2_em = np.mean(predicts_2, axis=0)\n",
        "\n",
        "# predicts_final = np.argmax(predicts_em * 0.7 + predicts_2_em * 0.3, axis=1)\n"
      ],
      "metadata": {
        "id": "8xFe7bGbJSao"
      },
      "id": "8xFe7bGbJSao",
      "execution_count": null,
      "outputs": []
    },
    {
      "cell_type": "markdown",
      "id": "28652f1f",
      "metadata": {
        "papermill": {
          "duration": 0.046604,
          "end_time": "2022-02-09T05:43:32.429262",
          "exception": false,
          "start_time": "2022-02-09T05:43:32.382658",
          "status": "completed"
        },
        "tags": [],
        "id": "28652f1f"
      },
      "source": [
        "# 後処理"
      ]
    },
    {
      "cell_type": "code",
      "execution_count": null,
      "id": "9ca0af85",
      "metadata": {
        "execution": {
          "iopub.execute_input": "2022-02-09T05:43:32.528700Z",
          "iopub.status.busy": "2022-02-09T05:43:32.525423Z",
          "iopub.status.idle": "2022-02-09T05:43:32.565654Z",
          "shell.execute_reply": "2022-02-09T05:43:32.565154Z",
          "shell.execute_reply.started": "2021-10-27T03:32:54.2037Z"
        },
        "papermill": {
          "duration": 0.089909,
          "end_time": "2022-02-09T05:43:32.565825",
          "exception": false,
          "start_time": "2022-02-09T05:43:32.475916",
          "status": "completed"
        },
        "tags": [],
        "id": "9ca0af85"
      },
      "outputs": [],
      "source": [
        "submit[\"Label\"] = predicts # 提出用csvに書き込み\n",
        "submit.to_csv('submission.csv', index=False) # csvを書き出す"
      ]
    },
    {
      "cell_type": "code",
      "source": [
        "submit"
      ],
      "metadata": {
        "id": "KX3SIun7grD-"
      },
      "id": "KX3SIun7grD-",
      "execution_count": null,
      "outputs": []
    },
    {
      "cell_type": "code",
      "execution_count": null,
      "id": "847e0a4d",
      "metadata": {
        "execution": {
          "iopub.execute_input": "2022-02-09T05:43:32.670930Z",
          "iopub.status.busy": "2022-02-09T05:43:32.669997Z",
          "iopub.status.idle": "2022-02-09T05:43:32.684899Z",
          "shell.execute_reply": "2022-02-09T05:43:32.685585Z",
          "shell.execute_reply.started": "2021-10-27T03:32:54.206569Z"
        },
        "papermill": {
          "duration": 0.073174,
          "end_time": "2022-02-09T05:43:32.685814",
          "exception": false,
          "start_time": "2022-02-09T05:43:32.612640",
          "status": "completed"
        },
        "tags": [],
        "id": "847e0a4d"
      },
      "outputs": [],
      "source": [
        "submit['Label'].unique()"
      ]
    },
    {
      "cell_type": "code",
      "execution_count": null,
      "id": "b908ceb6",
      "metadata": {
        "papermill": {
          "duration": 0.048245,
          "end_time": "2022-02-09T05:43:32.792793",
          "exception": false,
          "start_time": "2022-02-09T05:43:32.744548",
          "status": "completed"
        },
        "tags": [],
        "id": "b908ceb6"
      },
      "outputs": [],
      "source": [
        "submit.to_csv(f'{Config.output_dir}/{Config.Version}.csv', index=False)"
      ]
    }
  ],
  "metadata": {
    "kernelspec": {
      "display_name": "Python 3",
      "language": "python",
      "name": "python3"
    },
    "language_info": {
      "codemirror_mode": {
        "name": "ipython",
        "version": 3
      },
      "file_extension": ".py",
      "mimetype": "text/x-python",
      "name": "python",
      "nbconvert_exporter": "python",
      "pygments_lexer": "ipython3",
      "version": "3.7.10"
    },
    "papermill": {
      "default_parameters": {},
      "duration": 9318.778398,
      "end_time": "2022-02-09T05:43:34.730696",
      "environment_variables": {},
      "exception": null,
      "input_path": "__notebook__.ipynb",
      "output_path": "__notebook__.ipynb",
      "parameters": {},
      "start_time": "2022-02-09T03:08:15.952298",
      "version": "2.3.3"
    },
    "colab": {
      "name": "week2.ipynb",
      "provenance": [],
      "collapsed_sections": [
        "d315267d"
      ]
    },
    "accelerator": "GPU"
  },
  "nbformat": 4,
  "nbformat_minor": 5
}