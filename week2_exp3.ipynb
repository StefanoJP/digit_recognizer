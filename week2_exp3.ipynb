{
  "cells": [
    {
      "cell_type": "markdown",
      "metadata": {
        "id": "view-in-github",
        "colab_type": "text"
      },
      "source": [
        "<a href=\"https://colab.research.google.com/github/StefanoJP/digit_recognizer/blob/main/week2_exp3.ipynb\" target=\"_parent\"><img src=\"https://colab.research.google.com/assets/colab-badge.svg\" alt=\"Open In Colab\"/></a>"
      ]
    },
    {
      "cell_type": "markdown",
      "id": "f4bd763d",
      "metadata": {
        "id": "f4bd763d",
        "papermill": {
          "duration": 0.032218,
          "end_time": "2022-02-09T03:08:27.838484",
          "exception": false,
          "start_time": "2022-02-09T03:08:27.806266",
          "status": "completed"
        },
        "tags": []
      },
      "source": [
        "# install library"
      ]
    },
    {
      "cell_type": "code",
      "source": [
        "import os\n",
        "\n",
        "if os.environ.get(\"KAGGLE_KERNEL_RUN_TYPE\") is None:\n",
        "    ON_KAGGLE = False\n",
        "else:\n",
        "    ON_KAGGLE = True\n",
        "if not ON_KAGGLE:\n",
        "    import shutil\n",
        "    from requests import get\n",
        "\n",
        "    from google.colab import drive, files\n",
        "    # mount Google Drive\n",
        "    drive.mount(\"/content/drive\")\n",
        "else:\n",
        "    for dirname, _, filenames in os.walk('/kaggle/input'):\n",
        "        for filename in filenames:\n",
        "            print(os.path.join(dirname, filename))"
      ],
      "metadata": {
        "colab": {
          "base_uri": "https://localhost:8080/"
        },
        "id": "_Q3570EacqKW",
        "outputId": "8a811d45-893d-48eb-9eda-971d3cf4059c"
      },
      "id": "_Q3570EacqKW",
      "execution_count": null,
      "outputs": [
        {
          "output_type": "stream",
          "name": "stdout",
          "text": [
            "Mounted at /content/drive\n"
          ]
        }
      ]
    },
    {
      "cell_type": "code",
      "source": [
        "if not ON_KAGGLE: \n",
        "    !pip uninstall -y kaggle\n",
        "    !pip install kaggle\n",
        "    !mkdir /root/.kaggle\n",
        "    !cp /content/drive/MyDrive/kaggla-za/kaggle.json /root/.kaggle\n",
        "    !kaggle datasets download -d  kozodoi/timm-pytorch-image-models\n",
        "    !mkdir -p ../input/timm-pytorch-image-models\n",
        "    !unzip -n -qq timm-pytorch-image-models.zip -d ../input/timm-pytorch-image-models"
      ],
      "metadata": {
        "colab": {
          "base_uri": "https://localhost:8080/"
        },
        "id": "Fw7XE-0QrN8h",
        "outputId": "cc988d1e-a6b4-4256-d299-f92d7507ff48"
      },
      "id": "Fw7XE-0QrN8h",
      "execution_count": null,
      "outputs": [
        {
          "output_type": "stream",
          "name": "stdout",
          "text": [
            "Found existing installation: kaggle 1.5.12\n",
            "Uninstalling kaggle-1.5.12:\n",
            "  Successfully uninstalled kaggle-1.5.12\n",
            "Collecting kaggle\n",
            "  Downloading kaggle-1.5.12.tar.gz (58 kB)\n",
            "\u001b[K     |████████████████████████████████| 58 kB 3.7 MB/s \n",
            "\u001b[?25hRequirement already satisfied: six>=1.10 in /usr/local/lib/python3.7/dist-packages (from kaggle) (1.15.0)\n",
            "Requirement already satisfied: certifi in /usr/local/lib/python3.7/dist-packages (from kaggle) (2021.10.8)\n",
            "Requirement already satisfied: python-dateutil in /usr/local/lib/python3.7/dist-packages (from kaggle) (2.8.2)\n",
            "Requirement already satisfied: requests in /usr/local/lib/python3.7/dist-packages (from kaggle) (2.23.0)\n",
            "Requirement already satisfied: tqdm in /usr/local/lib/python3.7/dist-packages (from kaggle) (4.62.3)\n",
            "Requirement already satisfied: python-slugify in /usr/local/lib/python3.7/dist-packages (from kaggle) (5.0.2)\n",
            "Requirement already satisfied: urllib3 in /usr/local/lib/python3.7/dist-packages (from kaggle) (1.24.3)\n",
            "Requirement already satisfied: text-unidecode>=1.3 in /usr/local/lib/python3.7/dist-packages (from python-slugify->kaggle) (1.3)\n",
            "Requirement already satisfied: chardet<4,>=3.0.2 in /usr/local/lib/python3.7/dist-packages (from requests->kaggle) (3.0.4)\n",
            "Requirement already satisfied: idna<3,>=2.5 in /usr/local/lib/python3.7/dist-packages (from requests->kaggle) (2.10)\n",
            "Building wheels for collected packages: kaggle\n",
            "  Building wheel for kaggle (setup.py) ... \u001b[?25l\u001b[?25hdone\n",
            "  Created wheel for kaggle: filename=kaggle-1.5.12-py3-none-any.whl size=73051 sha256=ea80384abb9c8bdecfdcb6fbaa349a76fe7ef23c61e640af8c941588f17d96d7\n",
            "  Stored in directory: /root/.cache/pip/wheels/62/d6/58/5853130f941e75b2177d281eb7e44b4a98ed46dd155f556dc5\n",
            "Successfully built kaggle\n",
            "Installing collected packages: kaggle\n",
            "Successfully installed kaggle-1.5.12\n",
            "Downloading timm-pytorch-image-models.zip to /content\n",
            " 35% 5.00M/14.3M [00:00<00:00, 29.4MB/s]\n",
            "100% 14.3M/14.3M [00:00<00:00, 56.2MB/s]\n"
          ]
        }
      ]
    },
    {
      "cell_type": "code",
      "execution_count": null,
      "id": "7f4e40f9",
      "metadata": {
        "execution": {
          "iopub.execute_input": "2022-02-09T03:08:27.912344Z",
          "iopub.status.busy": "2022-02-09T03:08:27.911521Z",
          "iopub.status.idle": "2022-02-09T03:08:32.520311Z",
          "shell.execute_reply": "2022-02-09T03:08:32.520731Z",
          "shell.execute_reply.started": "2021-10-27T03:31:42.119425Z"
        },
        "id": "7f4e40f9",
        "outputId": "6ae5d954-1bd0-4c44-b938-3c1d5f0c02f5",
        "papermill": {
          "duration": 4.649891,
          "end_time": "2022-02-09T03:08:32.520947",
          "exception": false,
          "start_time": "2022-02-09T03:08:27.871056",
          "status": "completed"
        },
        "tags": [],
        "colab": {
          "base_uri": "https://localhost:8080/"
        }
      },
      "outputs": [
        {
          "output_type": "stream",
          "name": "stdout",
          "text": [
            "Collecting albumentations==0.4.6\n",
            "  Downloading albumentations-0.4.6.tar.gz (117 kB)\n",
            "\u001b[K     |████████████████████████████████| 117 kB 8.4 MB/s \n",
            "\u001b[?25hRequirement already satisfied: numpy>=1.11.1 in /usr/local/lib/python3.7/dist-packages (from albumentations==0.4.6) (1.21.5)\n",
            "Requirement already satisfied: scipy in /usr/local/lib/python3.7/dist-packages (from albumentations==0.4.6) (1.4.1)\n",
            "Collecting imgaug>=0.4.0\n",
            "  Downloading imgaug-0.4.0-py2.py3-none-any.whl (948 kB)\n",
            "\u001b[K     |████████████████████████████████| 948 kB 17.1 MB/s \n",
            "\u001b[?25hRequirement already satisfied: PyYAML in /usr/local/lib/python3.7/dist-packages (from albumentations==0.4.6) (3.13)\n",
            "Requirement already satisfied: opencv-python>=4.1.1 in /usr/local/lib/python3.7/dist-packages (from albumentations==0.4.6) (4.1.2.30)\n",
            "Requirement already satisfied: Pillow in /usr/local/lib/python3.7/dist-packages (from imgaug>=0.4.0->albumentations==0.4.6) (7.1.2)\n",
            "Requirement already satisfied: matplotlib in /usr/local/lib/python3.7/dist-packages (from imgaug>=0.4.0->albumentations==0.4.6) (3.2.2)\n",
            "Requirement already satisfied: imageio in /usr/local/lib/python3.7/dist-packages (from imgaug>=0.4.0->albumentations==0.4.6) (2.4.1)\n",
            "Requirement already satisfied: scikit-image>=0.14.2 in /usr/local/lib/python3.7/dist-packages (from imgaug>=0.4.0->albumentations==0.4.6) (0.18.3)\n",
            "Requirement already satisfied: Shapely in /usr/local/lib/python3.7/dist-packages (from imgaug>=0.4.0->albumentations==0.4.6) (1.8.0)\n",
            "Requirement already satisfied: six in /usr/local/lib/python3.7/dist-packages (from imgaug>=0.4.0->albumentations==0.4.6) (1.15.0)\n",
            "Requirement already satisfied: tifffile>=2019.7.26 in /usr/local/lib/python3.7/dist-packages (from scikit-image>=0.14.2->imgaug>=0.4.0->albumentations==0.4.6) (2021.11.2)\n",
            "Requirement already satisfied: networkx>=2.0 in /usr/local/lib/python3.7/dist-packages (from scikit-image>=0.14.2->imgaug>=0.4.0->albumentations==0.4.6) (2.6.3)\n",
            "Requirement already satisfied: PyWavelets>=1.1.1 in /usr/local/lib/python3.7/dist-packages (from scikit-image>=0.14.2->imgaug>=0.4.0->albumentations==0.4.6) (1.2.0)\n",
            "Requirement already satisfied: python-dateutil>=2.1 in /usr/local/lib/python3.7/dist-packages (from matplotlib->imgaug>=0.4.0->albumentations==0.4.6) (2.8.2)\n",
            "Requirement already satisfied: pyparsing!=2.0.4,!=2.1.2,!=2.1.6,>=2.0.1 in /usr/local/lib/python3.7/dist-packages (from matplotlib->imgaug>=0.4.0->albumentations==0.4.6) (3.0.7)\n",
            "Requirement already satisfied: cycler>=0.10 in /usr/local/lib/python3.7/dist-packages (from matplotlib->imgaug>=0.4.0->albumentations==0.4.6) (0.11.0)\n",
            "Requirement already satisfied: kiwisolver>=1.0.1 in /usr/local/lib/python3.7/dist-packages (from matplotlib->imgaug>=0.4.0->albumentations==0.4.6) (1.3.2)\n",
            "Building wheels for collected packages: albumentations\n",
            "  Building wheel for albumentations (setup.py) ... \u001b[?25l\u001b[?25hdone\n",
            "  Created wheel for albumentations: filename=albumentations-0.4.6-py3-none-any.whl size=65174 sha256=81896275b63490c9c27a9dc5d7116e8574a3c49cae92553936ac9bbe6022d9f2\n",
            "  Stored in directory: /root/.cache/pip/wheels/cf/34/0f/cb2a5f93561a181a4bcc84847ad6aaceea8b5a3127469616cc\n",
            "Successfully built albumentations\n",
            "Installing collected packages: imgaug, albumentations\n",
            "  Attempting uninstall: imgaug\n",
            "    Found existing installation: imgaug 0.2.9\n",
            "    Uninstalling imgaug-0.2.9:\n",
            "      Successfully uninstalled imgaug-0.2.9\n",
            "  Attempting uninstall: albumentations\n",
            "    Found existing installation: albumentations 0.1.12\n",
            "    Uninstalling albumentations-0.1.12:\n",
            "      Successfully uninstalled albumentations-0.1.12\n",
            "Successfully installed albumentations-0.4.6 imgaug-0.4.0\n"
          ]
        }
      ],
      "source": [
        "import sys\n",
        "sys.path.append(\"../input/timm-pytorch-image-models/pytorch-image-models-master\")\n",
        "\n",
        "if not ON_KAGGLE:\n",
        "    !pip install albumentations==0.4.6\n",
        "import albumentations as A\n",
        "from albumentations.pytorch import ToTensorV2\n",
        "\n",
        "import gc\n",
        "import math\n",
        "import os\n",
        "import pickle\n",
        "import random\n",
        "import re\n",
        "import time\n",
        "import warnings\n",
        "from contextlib import contextmanager\n",
        "\n",
        "import albumentations as A\n",
        "import cv2\n",
        "import matplotlib.pyplot as plt\n",
        "import numpy as np\n",
        "import pandas as pd\n",
        "import scipy as sp\n",
        "import torch\n",
        "import torch.nn as nn\n",
        "import torch.nn.functional as F\n",
        "\n",
        "\n",
        "#from albumentations.pytorch import ToTensorV2\n",
        "from scipy.special import softmax\n",
        "from sklearn.metrics import accuracy_score\n",
        "from sklearn.model_selection import train_test_split\n",
        "from torch.optim import SGD, Adam, AdamW\n",
        "from torch.optim.lr_scheduler import CosineAnnealingLR, CosineAnnealingWarmRestarts, ReduceLROnPlateau\n",
        "from torch.utils.data import DataLoader, Dataset\n",
        "from tqdm.auto import tqdm\n",
        "\n",
        "import timm\n",
        "warnings.filterwarnings('ignore')"
      ]
    },
    {
      "cell_type": "markdown",
      "id": "da530ffc",
      "metadata": {
        "id": "da530ffc",
        "papermill": {
          "duration": 0.03235,
          "end_time": "2022-02-09T03:08:32.586072",
          "exception": false,
          "start_time": "2022-02-09T03:08:32.553722",
          "status": "completed"
        },
        "tags": []
      },
      "source": [
        "# Config\n"
      ]
    },
    {
      "cell_type": "code",
      "execution_count": null,
      "id": "98c3a6a2",
      "metadata": {
        "execution": {
          "iopub.execute_input": "2022-02-09T03:08:32.657185Z",
          "iopub.status.busy": "2022-02-09T03:08:32.653915Z",
          "iopub.status.idle": "2022-02-09T03:08:32.659375Z",
          "shell.execute_reply": "2022-02-09T03:08:32.658951Z",
          "shell.execute_reply.started": "2021-10-27T03:31:50.651725Z"
        },
        "id": "98c3a6a2",
        "papermill": {
          "duration": 0.040632,
          "end_time": "2022-02-09T03:08:32.659501",
          "exception": false,
          "start_time": "2022-02-09T03:08:32.618869",
          "status": "completed"
        },
        "tags": []
      },
      "outputs": [],
      "source": [
        "class Config:\n",
        "    Version = \"exp3\" # model save時のversion\n",
        "    #MODEL_NAME = \"resnet34\" # モデル名\n",
        "    MODEL_NAME = \"resnet50\" # モデル名\n",
        "    #MODEL_NAME = \"efficientnet_b0\" # モデル名\n",
        "    #MODEL_NAME = \"efficientnet_b7\" # モデル名\n",
        "\n",
        "    if ON_KAGGLE:\n",
        "        # if MODEL_NAME == 'resnet34':\n",
        "        #     model_name = '../input/pt-longformer-base' # https://www.kaggle.com/kishalmandal/pt-longformer-base\n",
        "        # elif MODEL_NAME == 'roberta-base':\n",
        "        #     model_name = '../input/roberta-base' #https://www.kaggle.com/abhishek/roberta-base\n",
        "        # elif modeMODEL_NAMEl_savename == 'roberta-large':\n",
        "        #     model_name = '../input/robertalarge' # https://www.kaggle.com/marshal02/robertalarge\n",
        "        # elif MODEL_NAME == 'longformer-large':\n",
        "        #     model_name = '../input/longformerlarge4096' # https://www.kaggle.com/hengzheng/longformerlarge4096 \n",
        "        #base_dir = '/content/drive/MyDrive/petfinder'\n",
        "        data_dir = '../input/digit-recognizer/' # = DATA_PATH\n",
        "        pre_data_dir = './preprocessed/'\n",
        "        model_dir = '.'\n",
        "        output_dir = '.'   \n",
        "    else:\n",
        "        # customize for my own Google Colab Environment\n",
        "        # if model_savename == 'longformer':\n",
        "        #     model_name = 'allenai/longformer-base-4096'\n",
        "        # elif model_savename == 'roberta-base':\n",
        "        #     model_name = 'roberta-base'\n",
        "        base_dir = '/content/drive/MyDrive/kaggla-za/E002Round3/Week2/DigitRecognizer'\n",
        "        data_dir = os.path.join(base_dir, 'data')\n",
        "        pre_data_dir = os.path.join(base_dir, 'data/preprocessed')\n",
        "        model_dir = os.path.join(base_dir, f'model/{Version}')\n",
        "        output_dir = os.path.join(base_dir, f'output/{Version}')    \n",
        "\n",
        "    is_debug = False\n",
        "    if MODEL_NAME == 'resnet34':\n",
        "        size = 224 # リサイズした後の画像のサイズ\n",
        "        model_lr = 1e-5\n",
        "    elif MODEL_NAME == 'roberta-base':\n",
        "        size = 224 # リサイズした後の画像のサイズ\n",
        "        model_lr = 1e-5\n",
        "    elif MODEL_NAME == 'resnet50':\n",
        "        size = 224 # リサイズした後の画像のサイズ\n",
        "        model_lr = 1e-5\n",
        "    seed = 42 # seed値\n",
        "    fold = 0\n",
        "    num_workers = 0 #並列実行する数\n",
        "    batch_size = 64 #バッチサイズ was 64 >100\n",
        "    epochs =40 #エポック数 10?\n",
        "    #size = 224 # リサイズした後の画像のサイズ\n",
        "    #model_lr = 1e-5 # 学習率\n",
        "    T_max = 5 # 最大イテレーション数 was 10\n",
        "    min_lr = 1e-6 # 学習率の最小値\n",
        "    weight_decay = 1e-6 # 学習減衰値\n",
        "    max_grad_norm = 1000 # 勾配の最大ノルム\n",
        "    print_freq = 1000 # 学習結果を表示する頻度\n",
        "    class_num = 10\n",
        "    N_FOLDS = 5\n",
        "    device = \"cuda\" if torch.cuda.is_available() else \"cpu\" # CPU of GPU\n"
      ]
    },
    {
      "cell_type": "code",
      "source": [
        "if not ON_KAGGLE:\n",
        "    if not os.path.exists(Config.model_dir):\n",
        "        !mkdir $Config.model_dir\n",
        "    if not os.path.exists(Config.output_dir):\n",
        "        !mkdir $Config.output_dir"
      ],
      "metadata": {
        "id": "iE2JBuhB1SlP"
      },
      "id": "iE2JBuhB1SlP",
      "execution_count": null,
      "outputs": []
    },
    {
      "cell_type": "code",
      "source": [
        "# from google.colab import drive\n",
        "# drive.mount('/content/drive')"
      ],
      "metadata": {
        "id": "xK79ml4ZgSfc"
      },
      "id": "xK79ml4ZgSfc",
      "execution_count": null,
      "outputs": []
    },
    {
      "cell_type": "markdown",
      "id": "4a078960",
      "metadata": {
        "id": "4a078960",
        "papermill": {
          "duration": 0.032456,
          "end_time": "2022-02-09T03:08:32.724535",
          "exception": false,
          "start_time": "2022-02-09T03:08:32.692079",
          "status": "completed"
        },
        "tags": []
      },
      "source": [
        "# Utils"
      ]
    },
    {
      "cell_type": "code",
      "execution_count": null,
      "id": "b953b1c9",
      "metadata": {
        "execution": {
          "iopub.execute_input": "2022-02-09T03:08:32.798272Z",
          "iopub.status.busy": "2022-02-09T03:08:32.797578Z",
          "iopub.status.idle": "2022-02-09T03:08:32.803522Z",
          "shell.execute_reply": "2022-02-09T03:08:32.803030Z",
          "shell.execute_reply.started": "2021-10-27T03:31:50.718221Z"
        },
        "id": "b953b1c9",
        "papermill": {
          "duration": 0.046519,
          "end_time": "2022-02-09T03:08:32.803647",
          "exception": false,
          "start_time": "2022-02-09T03:08:32.757128",
          "status": "completed"
        },
        "tags": []
      },
      "outputs": [],
      "source": [
        "def init_logger(log_file='train.log'):\n",
        "    \"\"\"Output Log.\"\"\"\n",
        "    from logging import getLogger, INFO, FileHandler,  Formatter,  StreamHandler\n",
        "    logger = getLogger(__name__)\n",
        "    logger.setLevel(INFO)\n",
        "    handler1 = StreamHandler()\n",
        "    handler1.setFormatter(Formatter(\"%(message)s\"))\n",
        "    handler2 = FileHandler(filename=log_file)\n",
        "    handler2.setFormatter(Formatter(\"%(message)s\"))\n",
        "    logger.addHandler(handler1)\n",
        "    logger.addHandler(handler2)\n",
        "    return logger\n",
        "\n",
        "\n",
        "def seed_torch(seed=Config.seed): # was seed=0\n",
        "    \"\"\"Fixed seed value.\"\"\"\n",
        "    random.seed(seed)\n",
        "    os.environ['PYTHONHASHSEED'] = str(seed)\n",
        "    np.random.seed(seed)\n",
        "    torch.manual_seed(seed)\n",
        "    torch.cuda.manual_seed(seed)\n",
        "    torch.backends.cudnn.deterministic = True\n",
        "    torch.backends.cudnn.benchmark = False # added trueにすると再現性がなくなる\n",
        "\n",
        "\n",
        "LOGGER = init_logger()\n",
        "seed_torch(seed=Config.seed)"
      ]
    },
    {
      "cell_type": "code",
      "execution_count": null,
      "id": "3465db18",
      "metadata": {
        "execution": {
          "iopub.execute_input": "2022-02-09T03:08:32.876488Z",
          "iopub.status.busy": "2022-02-09T03:08:32.875912Z",
          "iopub.status.idle": "2022-02-09T03:08:32.878537Z",
          "shell.execute_reply": "2022-02-09T03:08:32.878119Z",
          "shell.execute_reply.started": "2021-10-27T03:31:50.736517Z"
        },
        "id": "3465db18",
        "papermill": {
          "duration": 0.042238,
          "end_time": "2022-02-09T03:08:32.878663",
          "exception": false,
          "start_time": "2022-02-09T03:08:32.836425",
          "status": "completed"
        },
        "tags": []
      },
      "outputs": [],
      "source": [
        "def asMinutes(s):\n",
        "    \"\"\"Convert Seconds to Minutes.\"\"\"\n",
        "    m = math.floor(s / 60)\n",
        "    s -= m * 60\n",
        "    return '%dm %ds' % (m, s)\n",
        "\n",
        "\n",
        "def timeSince(since, percent):\n",
        "    \"\"\"Accessing and Converting Time Data.\"\"\"\n",
        "    now = time.time()\n",
        "    s = now - since\n",
        "    es = s / (percent)\n",
        "    rs = es - s\n",
        "    return '%s (remain %s)' % (asMinutes(s), asMinutes(rs))\n",
        "\n",
        "class AverageMeter(object):\n",
        "    \"\"\"Computes and stores the average and current value.\"\"\"\n",
        "    def __init__(self):\n",
        "        self.reset()\n",
        "\n",
        "    def reset(self):\n",
        "        self.val = 0\n",
        "        self.avg = 0\n",
        "        self.sum = 0\n",
        "        self.count = 0\n",
        "\n",
        "    def update(self, val, n=1):\n",
        "        self.val = val\n",
        "        self.sum += val * n\n",
        "        self.count += n\n",
        "        self.avg = self.sum / self.count"
      ]
    },
    {
      "cell_type": "markdown",
      "id": "253b696d",
      "metadata": {
        "id": "253b696d",
        "papermill": {
          "duration": 0.032804,
          "end_time": "2022-02-09T03:08:32.943845",
          "exception": false,
          "start_time": "2022-02-09T03:08:32.911041",
          "status": "completed"
        },
        "tags": []
      },
      "source": [
        "# Dataset"
      ]
    },
    {
      "cell_type": "code",
      "execution_count": null,
      "id": "4ce6539f",
      "metadata": {
        "execution": {
          "iopub.execute_input": "2022-02-09T03:08:33.017159Z",
          "iopub.status.busy": "2022-02-09T03:08:33.016112Z",
          "iopub.status.idle": "2022-02-09T03:08:33.018285Z",
          "shell.execute_reply": "2022-02-09T03:08:33.018714Z",
          "shell.execute_reply.started": "2021-10-27T03:31:50.750712Z"
        },
        "id": "4ce6539f",
        "papermill": {
          "duration": 0.042364,
          "end_time": "2022-02-09T03:08:33.018893",
          "exception": false,
          "start_time": "2022-02-09T03:08:32.976529",
          "status": "completed"
        },
        "tags": []
      },
      "outputs": [],
      "source": [
        "class TrainDataset(Dataset):\n",
        "    \"\"\"Dataset used for training.\"\"\"\n",
        "    def __init__(self, df, transform=None):\n",
        "        self.df = df\n",
        "        self.labels = df['label'].values\n",
        "        self.transform = transform\n",
        "\n",
        "    def __len__(self):\n",
        "        return len(self.df)\n",
        "\n",
        "    def __getitem__(self, idx):\n",
        "        image = self.df.loc[idx, \"pixel0\": \"pixel783\"].values.astype(np.uint8).reshape(28, 28) # csv to image\n",
        "        image = cv2.cvtColor(image, cv2.COLOR_GRAY2RGB) # GRAY to RGB\n",
        "\n",
        "        if self.transform:\n",
        "            augmented = self.transform(image=image) # augmentation\n",
        "            image = augmented['image']\n",
        "\n",
        "        label = self.labels[idx] # 正解ラベル\n",
        "        return image, label"
      ]
    },
    {
      "cell_type": "code",
      "execution_count": null,
      "id": "52cd3092",
      "metadata": {
        "execution": {
          "iopub.execute_input": "2022-02-09T03:08:33.091728Z",
          "iopub.status.busy": "2022-02-09T03:08:33.090732Z",
          "iopub.status.idle": "2022-02-09T03:08:33.092923Z",
          "shell.execute_reply": "2022-02-09T03:08:33.093348Z",
          "shell.execute_reply.started": "2021-10-27T03:31:50.768954Z"
        },
        "papermill": {
          "duration": 0.042067,
          "end_time": "2022-02-09T03:08:33.093507",
          "exception": false,
          "start_time": "2022-02-09T03:08:33.051440",
          "status": "completed"
        },
        "tags": [],
        "id": "52cd3092"
      },
      "outputs": [],
      "source": [
        "class TestDataset(Dataset):\n",
        "    \"\"\"Dataset used for inference.\"\"\"\n",
        "    def __init__(self, df, transform=None):\n",
        "        self.df = df\n",
        "        self.transform = transform\n",
        "\n",
        "    def __len__(self):\n",
        "        return len(self.df)\n",
        "\n",
        "    def __getitem__(self, idx):\n",
        "        image = self.df.loc[idx, \"pixel0\": \"pixel783\"].values.astype(np.uint8).reshape(28, 28)\n",
        "        image = cv2.cvtColor(image, cv2.COLOR_GRAY2RGB)\n",
        "\n",
        "        if self.transform:\n",
        "            augmented = self.transform(image=image)\n",
        "            image = augmented['image']\n",
        "\n",
        "        return image"
      ]
    },
    {
      "cell_type": "markdown",
      "source": [
        "# Data Augmentation"
      ],
      "metadata": {
        "id": "6TLlI7vl5Ndy"
      },
      "id": "6TLlI7vl5Ndy"
    },
    {
      "cell_type": "code",
      "execution_count": null,
      "id": "5cce3f62",
      "metadata": {
        "execution": {
          "iopub.execute_input": "2022-02-09T03:08:33.163242Z",
          "iopub.status.busy": "2022-02-09T03:08:33.162240Z",
          "iopub.status.idle": "2022-02-09T03:08:33.168503Z",
          "shell.execute_reply": "2022-02-09T03:08:33.168984Z",
          "shell.execute_reply.started": "2021-10-27T03:31:50.780115Z"
        },
        "id": "5cce3f62",
        "papermill": {
          "duration": 0.043115,
          "end_time": "2022-02-09T03:08:33.169159",
          "exception": false,
          "start_time": "2022-02-09T03:08:33.126044",
          "status": "completed"
        },
        "tags": []
      },
      "outputs": [],
      "source": [
        "def get_transforms(*, data, size, norms):\n",
        "\n",
        "    if data == 'train':\n",
        "        return A.Compose([\n",
        "            A.Resize(Config.size, Config.size), # リサイズ\n",
        "            A.Normalize(mean=[norms[0], norms[0], norms[0]], std=[norms[1], norms[1], norms[1]], max_pixel_value=255.0, p=1.0), # 正規化\n",
        "            ToTensorV2(), # Tensor型に変換\n",
        "        ])\n",
        "\n",
        "    elif data == 'valid':\n",
        "        return A.Compose([\n",
        "            A.Resize(Config.size, Config.size),\n",
        "            A.Normalize(mean=[norms[0], norms[0], norms[0]], std=[norms[1], norms[1], norms[1]], max_pixel_value=255.0, p=1.0),\n",
        "            ToTensorV2(),\n",
        "        ])"
      ]
    },
    {
      "cell_type": "markdown",
      "id": "6e705ef1",
      "metadata": {
        "id": "6e705ef1",
        "papermill": {
          "duration": 0.032437,
          "end_time": "2022-02-09T03:08:33.234027",
          "exception": false,
          "start_time": "2022-02-09T03:08:33.201590",
          "status": "completed"
        },
        "tags": []
      },
      "source": [
        "# Model"
      ]
    },
    {
      "cell_type": "code",
      "execution_count": null,
      "id": "14252a82",
      "metadata": {
        "execution": {
          "iopub.execute_input": "2022-02-09T03:08:33.303296Z",
          "iopub.status.busy": "2022-02-09T03:08:33.302391Z",
          "iopub.status.idle": "2022-02-09T03:08:33.307898Z",
          "shell.execute_reply": "2022-02-09T03:08:33.308337Z",
          "shell.execute_reply.started": "2021-10-27T03:31:50.793754Z"
        },
        "id": "14252a82",
        "papermill": {
          "duration": 0.04178,
          "end_time": "2022-02-09T03:08:33.308494",
          "exception": false,
          "start_time": "2022-02-09T03:08:33.266714",
          "status": "completed"
        },
        "tags": []
      },
      "outputs": [],
      "source": [
        "# use timm model no pretrained\n",
        "class BaseModel(nn.Module):\n",
        "    def __init__(\n",
        "        self, model_name=Config.MODEL_NAME, n_class=10, pretrained=False\n",
        "    ):\n",
        "        super().__init__()\n",
        "        self.model = timm.create_model(model_name, pretrained=pretrained) # model load(pretrained=False: 事前学習なし)\n",
        "        n_features = self.model.fc.in_features\n",
        "        self.model.classifier = nn.Linear(n_features, n_class) # 出力層の次元をクラス数に変更\n",
        "\n",
        "    def forward(self, x):\n",
        "        output = self.model(x)\n",
        "        return output"
      ]
    },
    {
      "cell_type": "markdown",
      "id": "a5100bd2",
      "metadata": {
        "id": "a5100bd2",
        "papermill": {
          "duration": 0.032459,
          "end_time": "2022-02-09T03:08:33.373293",
          "exception": false,
          "start_time": "2022-02-09T03:08:33.340834",
          "status": "completed"
        },
        "tags": []
      },
      "source": [
        "# train & valid function"
      ]
    },
    {
      "cell_type": "code",
      "execution_count": null,
      "id": "fcb2c321",
      "metadata": {
        "execution": {
          "iopub.execute_input": "2022-02-09T03:08:33.442895Z",
          "iopub.status.busy": "2022-02-09T03:08:33.441920Z",
          "iopub.status.idle": "2022-02-09T03:08:33.451686Z",
          "shell.execute_reply": "2022-02-09T03:08:33.452222Z",
          "shell.execute_reply.started": "2021-10-27T03:31:50.812791Z"
        },
        "id": "fcb2c321",
        "papermill": {
          "duration": 0.046225,
          "end_time": "2022-02-09T03:08:33.452382",
          "exception": false,
          "start_time": "2022-02-09T03:08:33.406157",
          "status": "completed"
        },
        "tags": []
      },
      "outputs": [],
      "source": [
        "def train_fn(train_loader, model, criterion, optimizer, epoch, scheduler):\n",
        "    batch_time = AverageMeter()\n",
        "    data_time = AverageMeter()\n",
        "    losses = AverageMeter()\n",
        "\n",
        "    model.train() # 学習モード\n",
        "    start = end = time.time()\n",
        "    global_step = 0\n",
        "\n",
        "    for step, (images, labels) in enumerate(train_loader):\n",
        "        # measure data loading time\n",
        "        data_time.update(time.time() - end)\n",
        "        images = images.to(Config.device) # 画像をcpuからgpuヘ\n",
        "        labels = labels.to(Config.device) # 正解ラベルをcpuからgpuヘ\n",
        "        batch_size = labels.size(0) \n",
        "        y_preds = model(images) # 予測ラベル\n",
        "        loss = criterion(y_preds, labels) # lossの計算\n",
        "\n",
        "        losses.update(loss.item(), batch_size) \n",
        "        loss.backward() # パラメータの勾配を計算\n",
        "        \n",
        "        grad_norm = torch.nn.utils.clip_grad_norm_(model.parameters(), Config.max_grad_norm)\n",
        "        optimizer.step() # モデル更新\n",
        "        optimizer.zero_grad() # 勾配の初期化\n",
        "        global_step += 1\n",
        "        # measure elapsed time\n",
        "        batch_time.update(time.time() - end)\n",
        "        end = time.time()\n",
        "        if step % Config.print_freq == 0 or step == (len(train_loader)-1):\n",
        "            print('Epoch: [{0}][{1}/{2}] '\n",
        "                  'Data {data_time.val:.3f} ({data_time.avg:.3f}) '\n",
        "                  'Elapsed {remain:s} '\n",
        "                  'Loss: {loss.val:.4f}({loss.avg:.4f}) '\n",
        "                  .format(\n",
        "                   epoch+1, step, len(train_loader), batch_time=batch_time,\n",
        "                   data_time=data_time, loss=losses,\n",
        "                   remain=timeSince(start, float(step+1)/len(train_loader)),\n",
        "                   grad_norm=grad_norm,\n",
        "                   ))\n",
        "\n",
        "        del y_preds, images, labels, batch_size\n",
        "    del batch_time, data_time, model\n",
        "    gc.collect()\n",
        "    torch.cuda.empty_cache()\n",
        "    \n",
        "    return losses.avg"
      ]
    },
    {
      "cell_type": "code",
      "execution_count": null,
      "id": "bb364855",
      "metadata": {
        "execution": {
          "iopub.execute_input": "2022-02-09T03:08:33.521506Z",
          "iopub.status.busy": "2022-02-09T03:08:33.520583Z",
          "iopub.status.idle": "2022-02-09T03:08:33.529630Z",
          "shell.execute_reply": "2022-02-09T03:08:33.530130Z",
          "shell.execute_reply.started": "2021-10-27T03:31:50.831503Z"
        },
        "id": "bb364855",
        "papermill": {
          "duration": 0.045607,
          "end_time": "2022-02-09T03:08:33.530293",
          "exception": false,
          "start_time": "2022-02-09T03:08:33.484686",
          "status": "completed"
        },
        "tags": []
      },
      "outputs": [],
      "source": [
        "def valid_fn(valid_loader, model, criterion):\n",
        "    batch_time = AverageMeter()\n",
        "    data_time = AverageMeter()\n",
        "    losses = AverageMeter()\n",
        "\n",
        "    # switch to evaluation mode\n",
        "    model.eval()\n",
        "    preds = []\n",
        "    start = end = time.time()\n",
        "    for step, (images, labels) in enumerate(valid_loader):\n",
        "        # measure data loading time\n",
        "        data_time.update(time.time() - end)\n",
        "        images = images.to(Config.device)\n",
        "        labels = labels.to(Config.device)\n",
        "        batch_size = labels.size(0)\n",
        "        with torch.no_grad():\n",
        "        #with torch.inference_mode(): Pytorch: ^1.9\n",
        "            y_preds = model(images)\n",
        "            loss = criterion(y_preds, labels)\n",
        "            losses.update(loss.item(), batch_size)\n",
        "            \n",
        "            preds.append(y_preds.softmax(1).to(\"cpu\").numpy().argmax(1))\n",
        "            del loss\n",
        "            batch_time.update(time.time() - end)\n",
        "            end = time.time()\n",
        "            if step % Config.print_freq == 0 or step == (len(valid_loader)-1):\n",
        "                print('EVAL: [{0}/{1}] '\n",
        "                    'Data {data_time.val:.3f} ({data_time.avg:.3f}) '\n",
        "                    'Elapsed {remain:s} '\n",
        "                    'Loss: {loss.val:.4f}({loss.avg:.4f}) '\n",
        "                    .format(\n",
        "                    step, len(valid_loader), batch_time=batch_time,\n",
        "                    data_time=data_time, loss=losses,\n",
        "                    remain=timeSince(start, float(step+1)/len(valid_loader)),\n",
        "                    ))\n",
        "        del y_preds, images, labels, batch_size\n",
        "    del batch_time, data_time, model\n",
        "    gc.collect()\n",
        "    torch.cuda.empty_cache()\n",
        "\n",
        "    preds = np.concatenate(preds)\n",
        "\n",
        "    return losses.avg, preds"
      ]
    },
    {
      "cell_type": "markdown",
      "id": "09c8eb11",
      "metadata": {
        "papermill": {
          "duration": 0.03226,
          "end_time": "2022-02-09T03:08:33.594956",
          "exception": false,
          "start_time": "2022-02-09T03:08:33.562696",
          "status": "completed"
        },
        "tags": [],
        "id": "09c8eb11"
      },
      "source": [
        "# Dataの確認"
      ]
    },
    {
      "cell_type": "code",
      "execution_count": null,
      "id": "cb3a34b9",
      "metadata": {
        "execution": {
          "iopub.execute_input": "2022-02-09T03:08:33.663389Z",
          "iopub.status.busy": "2022-02-09T03:08:33.662757Z",
          "iopub.status.idle": "2022-02-09T03:08:36.717851Z",
          "shell.execute_reply": "2022-02-09T03:08:36.718272Z",
          "shell.execute_reply.started": "2021-10-27T03:31:50.850767Z"
        },
        "id": "cb3a34b9",
        "papermill": {
          "duration": 3.090806,
          "end_time": "2022-02-09T03:08:36.718449",
          "exception": false,
          "start_time": "2022-02-09T03:08:33.627643",
          "status": "completed"
        },
        "tags": [],
        "colab": {
          "base_uri": "https://localhost:8080/",
          "height": 299
        },
        "outputId": "df198826-6eeb-4a8f-8a69-089295cb0cdc"
      },
      "outputs": [
        {
          "output_type": "execute_result",
          "data": {
            "text/html": [
              "\n",
              "  <div id=\"df-47e081f1-5e03-4b9d-bff7-810ba5337431\">\n",
              "    <div class=\"colab-df-container\">\n",
              "      <div>\n",
              "<style scoped>\n",
              "    .dataframe tbody tr th:only-of-type {\n",
              "        vertical-align: middle;\n",
              "    }\n",
              "\n",
              "    .dataframe tbody tr th {\n",
              "        vertical-align: top;\n",
              "    }\n",
              "\n",
              "    .dataframe thead th {\n",
              "        text-align: right;\n",
              "    }\n",
              "</style>\n",
              "<table border=\"1\" class=\"dataframe\">\n",
              "  <thead>\n",
              "    <tr style=\"text-align: right;\">\n",
              "      <th></th>\n",
              "      <th>label</th>\n",
              "      <th>pixel0</th>\n",
              "      <th>pixel1</th>\n",
              "      <th>pixel2</th>\n",
              "      <th>pixel3</th>\n",
              "      <th>pixel4</th>\n",
              "      <th>pixel5</th>\n",
              "      <th>pixel6</th>\n",
              "      <th>pixel7</th>\n",
              "      <th>pixel8</th>\n",
              "      <th>pixel9</th>\n",
              "      <th>pixel10</th>\n",
              "      <th>pixel11</th>\n",
              "      <th>pixel12</th>\n",
              "      <th>pixel13</th>\n",
              "      <th>pixel14</th>\n",
              "      <th>pixel15</th>\n",
              "      <th>pixel16</th>\n",
              "      <th>pixel17</th>\n",
              "      <th>pixel18</th>\n",
              "      <th>pixel19</th>\n",
              "      <th>pixel20</th>\n",
              "      <th>pixel21</th>\n",
              "      <th>pixel22</th>\n",
              "      <th>pixel23</th>\n",
              "      <th>pixel24</th>\n",
              "      <th>pixel25</th>\n",
              "      <th>pixel26</th>\n",
              "      <th>pixel27</th>\n",
              "      <th>pixel28</th>\n",
              "      <th>pixel29</th>\n",
              "      <th>pixel30</th>\n",
              "      <th>pixel31</th>\n",
              "      <th>pixel32</th>\n",
              "      <th>pixel33</th>\n",
              "      <th>pixel34</th>\n",
              "      <th>pixel35</th>\n",
              "      <th>pixel36</th>\n",
              "      <th>pixel37</th>\n",
              "      <th>pixel38</th>\n",
              "      <th>...</th>\n",
              "      <th>pixel744</th>\n",
              "      <th>pixel745</th>\n",
              "      <th>pixel746</th>\n",
              "      <th>pixel747</th>\n",
              "      <th>pixel748</th>\n",
              "      <th>pixel749</th>\n",
              "      <th>pixel750</th>\n",
              "      <th>pixel751</th>\n",
              "      <th>pixel752</th>\n",
              "      <th>pixel753</th>\n",
              "      <th>pixel754</th>\n",
              "      <th>pixel755</th>\n",
              "      <th>pixel756</th>\n",
              "      <th>pixel757</th>\n",
              "      <th>pixel758</th>\n",
              "      <th>pixel759</th>\n",
              "      <th>pixel760</th>\n",
              "      <th>pixel761</th>\n",
              "      <th>pixel762</th>\n",
              "      <th>pixel763</th>\n",
              "      <th>pixel764</th>\n",
              "      <th>pixel765</th>\n",
              "      <th>pixel766</th>\n",
              "      <th>pixel767</th>\n",
              "      <th>pixel768</th>\n",
              "      <th>pixel769</th>\n",
              "      <th>pixel770</th>\n",
              "      <th>pixel771</th>\n",
              "      <th>pixel772</th>\n",
              "      <th>pixel773</th>\n",
              "      <th>pixel774</th>\n",
              "      <th>pixel775</th>\n",
              "      <th>pixel776</th>\n",
              "      <th>pixel777</th>\n",
              "      <th>pixel778</th>\n",
              "      <th>pixel779</th>\n",
              "      <th>pixel780</th>\n",
              "      <th>pixel781</th>\n",
              "      <th>pixel782</th>\n",
              "      <th>pixel783</th>\n",
              "    </tr>\n",
              "  </thead>\n",
              "  <tbody>\n",
              "    <tr>\n",
              "      <th>0</th>\n",
              "      <td>1</td>\n",
              "      <td>0</td>\n",
              "      <td>0</td>\n",
              "      <td>0</td>\n",
              "      <td>0</td>\n",
              "      <td>0</td>\n",
              "      <td>0</td>\n",
              "      <td>0</td>\n",
              "      <td>0</td>\n",
              "      <td>0</td>\n",
              "      <td>0</td>\n",
              "      <td>0</td>\n",
              "      <td>0</td>\n",
              "      <td>0</td>\n",
              "      <td>0</td>\n",
              "      <td>0</td>\n",
              "      <td>0</td>\n",
              "      <td>0</td>\n",
              "      <td>0</td>\n",
              "      <td>0</td>\n",
              "      <td>0</td>\n",
              "      <td>0</td>\n",
              "      <td>0</td>\n",
              "      <td>0</td>\n",
              "      <td>0</td>\n",
              "      <td>0</td>\n",
              "      <td>0</td>\n",
              "      <td>0</td>\n",
              "      <td>0</td>\n",
              "      <td>0</td>\n",
              "      <td>0</td>\n",
              "      <td>0</td>\n",
              "      <td>0</td>\n",
              "      <td>0</td>\n",
              "      <td>0</td>\n",
              "      <td>0</td>\n",
              "      <td>0</td>\n",
              "      <td>0</td>\n",
              "      <td>0</td>\n",
              "      <td>0</td>\n",
              "      <td>...</td>\n",
              "      <td>0</td>\n",
              "      <td>0</td>\n",
              "      <td>0</td>\n",
              "      <td>0</td>\n",
              "      <td>0</td>\n",
              "      <td>0</td>\n",
              "      <td>0</td>\n",
              "      <td>0</td>\n",
              "      <td>0</td>\n",
              "      <td>0</td>\n",
              "      <td>0</td>\n",
              "      <td>0</td>\n",
              "      <td>0</td>\n",
              "      <td>0</td>\n",
              "      <td>0</td>\n",
              "      <td>0</td>\n",
              "      <td>0</td>\n",
              "      <td>0</td>\n",
              "      <td>0</td>\n",
              "      <td>0</td>\n",
              "      <td>0</td>\n",
              "      <td>0</td>\n",
              "      <td>0</td>\n",
              "      <td>0</td>\n",
              "      <td>0</td>\n",
              "      <td>0</td>\n",
              "      <td>0</td>\n",
              "      <td>0</td>\n",
              "      <td>0</td>\n",
              "      <td>0</td>\n",
              "      <td>0</td>\n",
              "      <td>0</td>\n",
              "      <td>0</td>\n",
              "      <td>0</td>\n",
              "      <td>0</td>\n",
              "      <td>0</td>\n",
              "      <td>0</td>\n",
              "      <td>0</td>\n",
              "      <td>0</td>\n",
              "      <td>0</td>\n",
              "    </tr>\n",
              "    <tr>\n",
              "      <th>1</th>\n",
              "      <td>0</td>\n",
              "      <td>0</td>\n",
              "      <td>0</td>\n",
              "      <td>0</td>\n",
              "      <td>0</td>\n",
              "      <td>0</td>\n",
              "      <td>0</td>\n",
              "      <td>0</td>\n",
              "      <td>0</td>\n",
              "      <td>0</td>\n",
              "      <td>0</td>\n",
              "      <td>0</td>\n",
              "      <td>0</td>\n",
              "      <td>0</td>\n",
              "      <td>0</td>\n",
              "      <td>0</td>\n",
              "      <td>0</td>\n",
              "      <td>0</td>\n",
              "      <td>0</td>\n",
              "      <td>0</td>\n",
              "      <td>0</td>\n",
              "      <td>0</td>\n",
              "      <td>0</td>\n",
              "      <td>0</td>\n",
              "      <td>0</td>\n",
              "      <td>0</td>\n",
              "      <td>0</td>\n",
              "      <td>0</td>\n",
              "      <td>0</td>\n",
              "      <td>0</td>\n",
              "      <td>0</td>\n",
              "      <td>0</td>\n",
              "      <td>0</td>\n",
              "      <td>0</td>\n",
              "      <td>0</td>\n",
              "      <td>0</td>\n",
              "      <td>0</td>\n",
              "      <td>0</td>\n",
              "      <td>0</td>\n",
              "      <td>0</td>\n",
              "      <td>...</td>\n",
              "      <td>0</td>\n",
              "      <td>0</td>\n",
              "      <td>0</td>\n",
              "      <td>0</td>\n",
              "      <td>0</td>\n",
              "      <td>0</td>\n",
              "      <td>0</td>\n",
              "      <td>0</td>\n",
              "      <td>0</td>\n",
              "      <td>0</td>\n",
              "      <td>0</td>\n",
              "      <td>0</td>\n",
              "      <td>0</td>\n",
              "      <td>0</td>\n",
              "      <td>0</td>\n",
              "      <td>0</td>\n",
              "      <td>0</td>\n",
              "      <td>0</td>\n",
              "      <td>0</td>\n",
              "      <td>0</td>\n",
              "      <td>0</td>\n",
              "      <td>0</td>\n",
              "      <td>0</td>\n",
              "      <td>0</td>\n",
              "      <td>0</td>\n",
              "      <td>0</td>\n",
              "      <td>0</td>\n",
              "      <td>0</td>\n",
              "      <td>0</td>\n",
              "      <td>0</td>\n",
              "      <td>0</td>\n",
              "      <td>0</td>\n",
              "      <td>0</td>\n",
              "      <td>0</td>\n",
              "      <td>0</td>\n",
              "      <td>0</td>\n",
              "      <td>0</td>\n",
              "      <td>0</td>\n",
              "      <td>0</td>\n",
              "      <td>0</td>\n",
              "    </tr>\n",
              "    <tr>\n",
              "      <th>2</th>\n",
              "      <td>1</td>\n",
              "      <td>0</td>\n",
              "      <td>0</td>\n",
              "      <td>0</td>\n",
              "      <td>0</td>\n",
              "      <td>0</td>\n",
              "      <td>0</td>\n",
              "      <td>0</td>\n",
              "      <td>0</td>\n",
              "      <td>0</td>\n",
              "      <td>0</td>\n",
              "      <td>0</td>\n",
              "      <td>0</td>\n",
              "      <td>0</td>\n",
              "      <td>0</td>\n",
              "      <td>0</td>\n",
              "      <td>0</td>\n",
              "      <td>0</td>\n",
              "      <td>0</td>\n",
              "      <td>0</td>\n",
              "      <td>0</td>\n",
              "      <td>0</td>\n",
              "      <td>0</td>\n",
              "      <td>0</td>\n",
              "      <td>0</td>\n",
              "      <td>0</td>\n",
              "      <td>0</td>\n",
              "      <td>0</td>\n",
              "      <td>0</td>\n",
              "      <td>0</td>\n",
              "      <td>0</td>\n",
              "      <td>0</td>\n",
              "      <td>0</td>\n",
              "      <td>0</td>\n",
              "      <td>0</td>\n",
              "      <td>0</td>\n",
              "      <td>0</td>\n",
              "      <td>0</td>\n",
              "      <td>0</td>\n",
              "      <td>0</td>\n",
              "      <td>...</td>\n",
              "      <td>0</td>\n",
              "      <td>0</td>\n",
              "      <td>0</td>\n",
              "      <td>0</td>\n",
              "      <td>0</td>\n",
              "      <td>0</td>\n",
              "      <td>0</td>\n",
              "      <td>0</td>\n",
              "      <td>0</td>\n",
              "      <td>0</td>\n",
              "      <td>0</td>\n",
              "      <td>0</td>\n",
              "      <td>0</td>\n",
              "      <td>0</td>\n",
              "      <td>0</td>\n",
              "      <td>0</td>\n",
              "      <td>0</td>\n",
              "      <td>0</td>\n",
              "      <td>0</td>\n",
              "      <td>0</td>\n",
              "      <td>0</td>\n",
              "      <td>0</td>\n",
              "      <td>0</td>\n",
              "      <td>0</td>\n",
              "      <td>0</td>\n",
              "      <td>0</td>\n",
              "      <td>0</td>\n",
              "      <td>0</td>\n",
              "      <td>0</td>\n",
              "      <td>0</td>\n",
              "      <td>0</td>\n",
              "      <td>0</td>\n",
              "      <td>0</td>\n",
              "      <td>0</td>\n",
              "      <td>0</td>\n",
              "      <td>0</td>\n",
              "      <td>0</td>\n",
              "      <td>0</td>\n",
              "      <td>0</td>\n",
              "      <td>0</td>\n",
              "    </tr>\n",
              "    <tr>\n",
              "      <th>3</th>\n",
              "      <td>4</td>\n",
              "      <td>0</td>\n",
              "      <td>0</td>\n",
              "      <td>0</td>\n",
              "      <td>0</td>\n",
              "      <td>0</td>\n",
              "      <td>0</td>\n",
              "      <td>0</td>\n",
              "      <td>0</td>\n",
              "      <td>0</td>\n",
              "      <td>0</td>\n",
              "      <td>0</td>\n",
              "      <td>0</td>\n",
              "      <td>0</td>\n",
              "      <td>0</td>\n",
              "      <td>0</td>\n",
              "      <td>0</td>\n",
              "      <td>0</td>\n",
              "      <td>0</td>\n",
              "      <td>0</td>\n",
              "      <td>0</td>\n",
              "      <td>0</td>\n",
              "      <td>0</td>\n",
              "      <td>0</td>\n",
              "      <td>0</td>\n",
              "      <td>0</td>\n",
              "      <td>0</td>\n",
              "      <td>0</td>\n",
              "      <td>0</td>\n",
              "      <td>0</td>\n",
              "      <td>0</td>\n",
              "      <td>0</td>\n",
              "      <td>0</td>\n",
              "      <td>0</td>\n",
              "      <td>0</td>\n",
              "      <td>0</td>\n",
              "      <td>0</td>\n",
              "      <td>0</td>\n",
              "      <td>0</td>\n",
              "      <td>0</td>\n",
              "      <td>...</td>\n",
              "      <td>0</td>\n",
              "      <td>0</td>\n",
              "      <td>0</td>\n",
              "      <td>0</td>\n",
              "      <td>0</td>\n",
              "      <td>0</td>\n",
              "      <td>0</td>\n",
              "      <td>0</td>\n",
              "      <td>0</td>\n",
              "      <td>0</td>\n",
              "      <td>0</td>\n",
              "      <td>0</td>\n",
              "      <td>0</td>\n",
              "      <td>0</td>\n",
              "      <td>0</td>\n",
              "      <td>0</td>\n",
              "      <td>0</td>\n",
              "      <td>0</td>\n",
              "      <td>0</td>\n",
              "      <td>0</td>\n",
              "      <td>0</td>\n",
              "      <td>0</td>\n",
              "      <td>0</td>\n",
              "      <td>0</td>\n",
              "      <td>0</td>\n",
              "      <td>0</td>\n",
              "      <td>0</td>\n",
              "      <td>0</td>\n",
              "      <td>0</td>\n",
              "      <td>0</td>\n",
              "      <td>0</td>\n",
              "      <td>0</td>\n",
              "      <td>0</td>\n",
              "      <td>0</td>\n",
              "      <td>0</td>\n",
              "      <td>0</td>\n",
              "      <td>0</td>\n",
              "      <td>0</td>\n",
              "      <td>0</td>\n",
              "      <td>0</td>\n",
              "    </tr>\n",
              "    <tr>\n",
              "      <th>4</th>\n",
              "      <td>0</td>\n",
              "      <td>0</td>\n",
              "      <td>0</td>\n",
              "      <td>0</td>\n",
              "      <td>0</td>\n",
              "      <td>0</td>\n",
              "      <td>0</td>\n",
              "      <td>0</td>\n",
              "      <td>0</td>\n",
              "      <td>0</td>\n",
              "      <td>0</td>\n",
              "      <td>0</td>\n",
              "      <td>0</td>\n",
              "      <td>0</td>\n",
              "      <td>0</td>\n",
              "      <td>0</td>\n",
              "      <td>0</td>\n",
              "      <td>0</td>\n",
              "      <td>0</td>\n",
              "      <td>0</td>\n",
              "      <td>0</td>\n",
              "      <td>0</td>\n",
              "      <td>0</td>\n",
              "      <td>0</td>\n",
              "      <td>0</td>\n",
              "      <td>0</td>\n",
              "      <td>0</td>\n",
              "      <td>0</td>\n",
              "      <td>0</td>\n",
              "      <td>0</td>\n",
              "      <td>0</td>\n",
              "      <td>0</td>\n",
              "      <td>0</td>\n",
              "      <td>0</td>\n",
              "      <td>0</td>\n",
              "      <td>0</td>\n",
              "      <td>0</td>\n",
              "      <td>0</td>\n",
              "      <td>0</td>\n",
              "      <td>0</td>\n",
              "      <td>...</td>\n",
              "      <td>0</td>\n",
              "      <td>0</td>\n",
              "      <td>0</td>\n",
              "      <td>0</td>\n",
              "      <td>0</td>\n",
              "      <td>0</td>\n",
              "      <td>0</td>\n",
              "      <td>0</td>\n",
              "      <td>0</td>\n",
              "      <td>0</td>\n",
              "      <td>0</td>\n",
              "      <td>0</td>\n",
              "      <td>0</td>\n",
              "      <td>0</td>\n",
              "      <td>0</td>\n",
              "      <td>0</td>\n",
              "      <td>0</td>\n",
              "      <td>0</td>\n",
              "      <td>0</td>\n",
              "      <td>0</td>\n",
              "      <td>0</td>\n",
              "      <td>0</td>\n",
              "      <td>0</td>\n",
              "      <td>0</td>\n",
              "      <td>0</td>\n",
              "      <td>0</td>\n",
              "      <td>0</td>\n",
              "      <td>0</td>\n",
              "      <td>0</td>\n",
              "      <td>0</td>\n",
              "      <td>0</td>\n",
              "      <td>0</td>\n",
              "      <td>0</td>\n",
              "      <td>0</td>\n",
              "      <td>0</td>\n",
              "      <td>0</td>\n",
              "      <td>0</td>\n",
              "      <td>0</td>\n",
              "      <td>0</td>\n",
              "      <td>0</td>\n",
              "    </tr>\n",
              "  </tbody>\n",
              "</table>\n",
              "<p>5 rows × 785 columns</p>\n",
              "</div>\n",
              "      <button class=\"colab-df-convert\" onclick=\"convertToInteractive('df-47e081f1-5e03-4b9d-bff7-810ba5337431')\"\n",
              "              title=\"Convert this dataframe to an interactive table.\"\n",
              "              style=\"display:none;\">\n",
              "        \n",
              "  <svg xmlns=\"http://www.w3.org/2000/svg\" height=\"24px\"viewBox=\"0 0 24 24\"\n",
              "       width=\"24px\">\n",
              "    <path d=\"M0 0h24v24H0V0z\" fill=\"none\"/>\n",
              "    <path d=\"M18.56 5.44l.94 2.06.94-2.06 2.06-.94-2.06-.94-.94-2.06-.94 2.06-2.06.94zm-11 1L8.5 8.5l.94-2.06 2.06-.94-2.06-.94L8.5 2.5l-.94 2.06-2.06.94zm10 10l.94 2.06.94-2.06 2.06-.94-2.06-.94-.94-2.06-.94 2.06-2.06.94z\"/><path d=\"M17.41 7.96l-1.37-1.37c-.4-.4-.92-.59-1.43-.59-.52 0-1.04.2-1.43.59L10.3 9.45l-7.72 7.72c-.78.78-.78 2.05 0 2.83L4 21.41c.39.39.9.59 1.41.59.51 0 1.02-.2 1.41-.59l7.78-7.78 2.81-2.81c.8-.78.8-2.07 0-2.86zM5.41 20L4 18.59l7.72-7.72 1.47 1.35L5.41 20z\"/>\n",
              "  </svg>\n",
              "      </button>\n",
              "      \n",
              "  <style>\n",
              "    .colab-df-container {\n",
              "      display:flex;\n",
              "      flex-wrap:wrap;\n",
              "      gap: 12px;\n",
              "    }\n",
              "\n",
              "    .colab-df-convert {\n",
              "      background-color: #E8F0FE;\n",
              "      border: none;\n",
              "      border-radius: 50%;\n",
              "      cursor: pointer;\n",
              "      display: none;\n",
              "      fill: #1967D2;\n",
              "      height: 32px;\n",
              "      padding: 0 0 0 0;\n",
              "      width: 32px;\n",
              "    }\n",
              "\n",
              "    .colab-df-convert:hover {\n",
              "      background-color: #E2EBFA;\n",
              "      box-shadow: 0px 1px 2px rgba(60, 64, 67, 0.3), 0px 1px 3px 1px rgba(60, 64, 67, 0.15);\n",
              "      fill: #174EA6;\n",
              "    }\n",
              "\n",
              "    [theme=dark] .colab-df-convert {\n",
              "      background-color: #3B4455;\n",
              "      fill: #D2E3FC;\n",
              "    }\n",
              "\n",
              "    [theme=dark] .colab-df-convert:hover {\n",
              "      background-color: #434B5C;\n",
              "      box-shadow: 0px 1px 3px 1px rgba(0, 0, 0, 0.15);\n",
              "      filter: drop-shadow(0px 1px 2px rgba(0, 0, 0, 0.3));\n",
              "      fill: #FFFFFF;\n",
              "    }\n",
              "  </style>\n",
              "\n",
              "      <script>\n",
              "        const buttonEl =\n",
              "          document.querySelector('#df-47e081f1-5e03-4b9d-bff7-810ba5337431 button.colab-df-convert');\n",
              "        buttonEl.style.display =\n",
              "          google.colab.kernel.accessAllowed ? 'block' : 'none';\n",
              "\n",
              "        async function convertToInteractive(key) {\n",
              "          const element = document.querySelector('#df-47e081f1-5e03-4b9d-bff7-810ba5337431');\n",
              "          const dataTable =\n",
              "            await google.colab.kernel.invokeFunction('convertToInteractive',\n",
              "                                                     [key], {});\n",
              "          if (!dataTable) return;\n",
              "\n",
              "          const docLinkHtml = 'Like what you see? Visit the ' +\n",
              "            '<a target=\"_blank\" href=https://colab.research.google.com/notebooks/data_table.ipynb>data table notebook</a>'\n",
              "            + ' to learn more about interactive tables.';\n",
              "          element.innerHTML = '';\n",
              "          dataTable['output_type'] = 'display_data';\n",
              "          await google.colab.output.renderOutput(dataTable, element);\n",
              "          const docLink = document.createElement('div');\n",
              "          docLink.innerHTML = docLinkHtml;\n",
              "          element.appendChild(docLink);\n",
              "        }\n",
              "      </script>\n",
              "    </div>\n",
              "  </div>\n",
              "  "
            ],
            "text/plain": [
              "   label  pixel0  pixel1  pixel2  ...  pixel780  pixel781  pixel782  pixel783\n",
              "0      1       0       0       0  ...         0         0         0         0\n",
              "1      0       0       0       0  ...         0         0         0         0\n",
              "2      1       0       0       0  ...         0         0         0         0\n",
              "3      4       0       0       0  ...         0         0         0         0\n",
              "4      0       0       0       0  ...         0         0         0         0\n",
              "\n",
              "[5 rows x 785 columns]"
            ]
          },
          "metadata": {},
          "execution_count": 15
        }
      ],
      "source": [
        "#data_dir = \"../input/digit-recognizer\" # ディレクトリパス = data_dir\n",
        "if ON_KAGGLE:\n",
        "    train = pd.read_csv(Config.data_dir + \"/train.csv\") # csvの読み込み\n",
        "else:\n",
        "    train = pd.read_csv(f'{Config.data_dir}/train/train.csv')\n",
        "train.head()"
      ]
    },
    {
      "cell_type": "code",
      "execution_count": null,
      "id": "f4cc50dd",
      "metadata": {
        "execution": {
          "iopub.execute_input": "2022-02-09T03:08:36.788683Z",
          "iopub.status.busy": "2022-02-09T03:08:36.788083Z",
          "iopub.status.idle": "2022-02-09T03:08:38.514707Z",
          "shell.execute_reply": "2022-02-09T03:08:38.514191Z",
          "shell.execute_reply.started": "2021-10-27T03:31:54.931927Z"
        },
        "papermill": {
          "duration": 1.763409,
          "end_time": "2022-02-09T03:08:38.514880",
          "exception": false,
          "start_time": "2022-02-09T03:08:36.751471",
          "status": "completed"
        },
        "tags": [],
        "colab": {
          "base_uri": "https://localhost:8080/",
          "height": 517
        },
        "id": "f4cc50dd",
        "outputId": "4b024b7a-0dc1-4638-ecbf-fde48ac7c5df"
      },
      "outputs": [
        {
          "output_type": "display_data",
          "data": {
            "text/html": [
              "<html>\n",
              "<head><meta charset=\"utf-8\" /></head>\n",
              "<body>\n",
              "    <div>            <script src=\"https://cdnjs.cloudflare.com/ajax/libs/mathjax/2.7.5/MathJax.js?config=TeX-AMS-MML_SVG\"></script><script type=\"text/javascript\">if (window.MathJax) {MathJax.Hub.Config({SVG: {font: \"STIX-Web\"}});}</script>                <script type=\"text/javascript\">window.PlotlyConfig = {MathJaxConfig: 'local'};</script>\n",
              "        <script src=\"https://cdn.plot.ly/plotly-2.8.3.min.js\"></script>                <div id=\"eef6e0ad-df39-4a6c-a26b-54bda819afd1\" class=\"plotly-graph-div\" style=\"height:500px; width:500px;\"></div>            <script type=\"text/javascript\">                                    window.PLOTLYENV=window.PLOTLYENV || {};                                    if (document.getElementById(\"eef6e0ad-df39-4a6c-a26b-54bda819afd1\")) {                    Plotly.newPlot(                        \"eef6e0ad-df39-4a6c-a26b-54bda819afd1\",                        [{\"domain\":{\"x\":[0.0,1.0],\"y\":[0.0,1.0]},\"hole\":0.4,\"hovertemplate\":\"index=%{label}<br>label=%{value}<extra></extra>\",\"labels\":[1,7,3,9,2,6,0,4,8,5],\"legendgroup\":\"\",\"name\":\"\",\"showlegend\":true,\"values\":[4684,4401,4351,4188,4177,4137,4132,4072,4063,3795],\"type\":\"pie\",\"pull\":0.01,\"textinfo\":\"value+label\"}],                        {\"template\":{\"data\":{\"bar\":[{\"error_x\":{\"color\":\"#2a3f5f\"},\"error_y\":{\"color\":\"#2a3f5f\"},\"marker\":{\"line\":{\"color\":\"#E5ECF6\",\"width\":0.5},\"pattern\":{\"fillmode\":\"overlay\",\"size\":10,\"solidity\":0.2}},\"type\":\"bar\"}],\"barpolar\":[{\"marker\":{\"line\":{\"color\":\"#E5ECF6\",\"width\":0.5},\"pattern\":{\"fillmode\":\"overlay\",\"size\":10,\"solidity\":0.2}},\"type\":\"barpolar\"}],\"carpet\":[{\"aaxis\":{\"endlinecolor\":\"#2a3f5f\",\"gridcolor\":\"white\",\"linecolor\":\"white\",\"minorgridcolor\":\"white\",\"startlinecolor\":\"#2a3f5f\"},\"baxis\":{\"endlinecolor\":\"#2a3f5f\",\"gridcolor\":\"white\",\"linecolor\":\"white\",\"minorgridcolor\":\"white\",\"startlinecolor\":\"#2a3f5f\"},\"type\":\"carpet\"}],\"choropleth\":[{\"colorbar\":{\"outlinewidth\":0,\"ticks\":\"\"},\"type\":\"choropleth\"}],\"contour\":[{\"colorbar\":{\"outlinewidth\":0,\"ticks\":\"\"},\"colorscale\":[[0.0,\"#0d0887\"],[0.1111111111111111,\"#46039f\"],[0.2222222222222222,\"#7201a8\"],[0.3333333333333333,\"#9c179e\"],[0.4444444444444444,\"#bd3786\"],[0.5555555555555556,\"#d8576b\"],[0.6666666666666666,\"#ed7953\"],[0.7777777777777778,\"#fb9f3a\"],[0.8888888888888888,\"#fdca26\"],[1.0,\"#f0f921\"]],\"type\":\"contour\"}],\"contourcarpet\":[{\"colorbar\":{\"outlinewidth\":0,\"ticks\":\"\"},\"type\":\"contourcarpet\"}],\"heatmap\":[{\"colorbar\":{\"outlinewidth\":0,\"ticks\":\"\"},\"colorscale\":[[0.0,\"#0d0887\"],[0.1111111111111111,\"#46039f\"],[0.2222222222222222,\"#7201a8\"],[0.3333333333333333,\"#9c179e\"],[0.4444444444444444,\"#bd3786\"],[0.5555555555555556,\"#d8576b\"],[0.6666666666666666,\"#ed7953\"],[0.7777777777777778,\"#fb9f3a\"],[0.8888888888888888,\"#fdca26\"],[1.0,\"#f0f921\"]],\"type\":\"heatmap\"}],\"heatmapgl\":[{\"colorbar\":{\"outlinewidth\":0,\"ticks\":\"\"},\"colorscale\":[[0.0,\"#0d0887\"],[0.1111111111111111,\"#46039f\"],[0.2222222222222222,\"#7201a8\"],[0.3333333333333333,\"#9c179e\"],[0.4444444444444444,\"#bd3786\"],[0.5555555555555556,\"#d8576b\"],[0.6666666666666666,\"#ed7953\"],[0.7777777777777778,\"#fb9f3a\"],[0.8888888888888888,\"#fdca26\"],[1.0,\"#f0f921\"]],\"type\":\"heatmapgl\"}],\"histogram\":[{\"marker\":{\"pattern\":{\"fillmode\":\"overlay\",\"size\":10,\"solidity\":0.2}},\"type\":\"histogram\"}],\"histogram2d\":[{\"colorbar\":{\"outlinewidth\":0,\"ticks\":\"\"},\"colorscale\":[[0.0,\"#0d0887\"],[0.1111111111111111,\"#46039f\"],[0.2222222222222222,\"#7201a8\"],[0.3333333333333333,\"#9c179e\"],[0.4444444444444444,\"#bd3786\"],[0.5555555555555556,\"#d8576b\"],[0.6666666666666666,\"#ed7953\"],[0.7777777777777778,\"#fb9f3a\"],[0.8888888888888888,\"#fdca26\"],[1.0,\"#f0f921\"]],\"type\":\"histogram2d\"}],\"histogram2dcontour\":[{\"colorbar\":{\"outlinewidth\":0,\"ticks\":\"\"},\"colorscale\":[[0.0,\"#0d0887\"],[0.1111111111111111,\"#46039f\"],[0.2222222222222222,\"#7201a8\"],[0.3333333333333333,\"#9c179e\"],[0.4444444444444444,\"#bd3786\"],[0.5555555555555556,\"#d8576b\"],[0.6666666666666666,\"#ed7953\"],[0.7777777777777778,\"#fb9f3a\"],[0.8888888888888888,\"#fdca26\"],[1.0,\"#f0f921\"]],\"type\":\"histogram2dcontour\"}],\"mesh3d\":[{\"colorbar\":{\"outlinewidth\":0,\"ticks\":\"\"},\"type\":\"mesh3d\"}],\"parcoords\":[{\"line\":{\"colorbar\":{\"outlinewidth\":0,\"ticks\":\"\"}},\"type\":\"parcoords\"}],\"pie\":[{\"automargin\":true,\"type\":\"pie\"}],\"scatter\":[{\"marker\":{\"colorbar\":{\"outlinewidth\":0,\"ticks\":\"\"}},\"type\":\"scatter\"}],\"scatter3d\":[{\"line\":{\"colorbar\":{\"outlinewidth\":0,\"ticks\":\"\"}},\"marker\":{\"colorbar\":{\"outlinewidth\":0,\"ticks\":\"\"}},\"type\":\"scatter3d\"}],\"scattercarpet\":[{\"marker\":{\"colorbar\":{\"outlinewidth\":0,\"ticks\":\"\"}},\"type\":\"scattercarpet\"}],\"scattergeo\":[{\"marker\":{\"colorbar\":{\"outlinewidth\":0,\"ticks\":\"\"}},\"type\":\"scattergeo\"}],\"scattergl\":[{\"marker\":{\"colorbar\":{\"outlinewidth\":0,\"ticks\":\"\"}},\"type\":\"scattergl\"}],\"scattermapbox\":[{\"marker\":{\"colorbar\":{\"outlinewidth\":0,\"ticks\":\"\"}},\"type\":\"scattermapbox\"}],\"scatterpolar\":[{\"marker\":{\"colorbar\":{\"outlinewidth\":0,\"ticks\":\"\"}},\"type\":\"scatterpolar\"}],\"scatterpolargl\":[{\"marker\":{\"colorbar\":{\"outlinewidth\":0,\"ticks\":\"\"}},\"type\":\"scatterpolargl\"}],\"scatterternary\":[{\"marker\":{\"colorbar\":{\"outlinewidth\":0,\"ticks\":\"\"}},\"type\":\"scatterternary\"}],\"surface\":[{\"colorbar\":{\"outlinewidth\":0,\"ticks\":\"\"},\"colorscale\":[[0.0,\"#0d0887\"],[0.1111111111111111,\"#46039f\"],[0.2222222222222222,\"#7201a8\"],[0.3333333333333333,\"#9c179e\"],[0.4444444444444444,\"#bd3786\"],[0.5555555555555556,\"#d8576b\"],[0.6666666666666666,\"#ed7953\"],[0.7777777777777778,\"#fb9f3a\"],[0.8888888888888888,\"#fdca26\"],[1.0,\"#f0f921\"]],\"type\":\"surface\"}],\"table\":[{\"cells\":{\"fill\":{\"color\":\"#EBF0F8\"},\"line\":{\"color\":\"white\"}},\"header\":{\"fill\":{\"color\":\"#C8D4E3\"},\"line\":{\"color\":\"white\"}},\"type\":\"table\"}]},\"layout\":{\"annotationdefaults\":{\"arrowcolor\":\"#2a3f5f\",\"arrowhead\":0,\"arrowwidth\":1},\"autotypenumbers\":\"strict\",\"coloraxis\":{\"colorbar\":{\"outlinewidth\":0,\"ticks\":\"\"}},\"colorscale\":{\"diverging\":[[0,\"#8e0152\"],[0.1,\"#c51b7d\"],[0.2,\"#de77ae\"],[0.3,\"#f1b6da\"],[0.4,\"#fde0ef\"],[0.5,\"#f7f7f7\"],[0.6,\"#e6f5d0\"],[0.7,\"#b8e186\"],[0.8,\"#7fbc41\"],[0.9,\"#4d9221\"],[1,\"#276419\"]],\"sequential\":[[0.0,\"#0d0887\"],[0.1111111111111111,\"#46039f\"],[0.2222222222222222,\"#7201a8\"],[0.3333333333333333,\"#9c179e\"],[0.4444444444444444,\"#bd3786\"],[0.5555555555555556,\"#d8576b\"],[0.6666666666666666,\"#ed7953\"],[0.7777777777777778,\"#fb9f3a\"],[0.8888888888888888,\"#fdca26\"],[1.0,\"#f0f921\"]],\"sequentialminus\":[[0.0,\"#0d0887\"],[0.1111111111111111,\"#46039f\"],[0.2222222222222222,\"#7201a8\"],[0.3333333333333333,\"#9c179e\"],[0.4444444444444444,\"#bd3786\"],[0.5555555555555556,\"#d8576b\"],[0.6666666666666666,\"#ed7953\"],[0.7777777777777778,\"#fb9f3a\"],[0.8888888888888888,\"#fdca26\"],[1.0,\"#f0f921\"]]},\"colorway\":[\"#636efa\",\"#EF553B\",\"#00cc96\",\"#ab63fa\",\"#FFA15A\",\"#19d3f3\",\"#FF6692\",\"#B6E880\",\"#FF97FF\",\"#FECB52\"],\"font\":{\"color\":\"#2a3f5f\"},\"geo\":{\"bgcolor\":\"white\",\"lakecolor\":\"white\",\"landcolor\":\"#E5ECF6\",\"showlakes\":true,\"showland\":true,\"subunitcolor\":\"white\"},\"hoverlabel\":{\"align\":\"left\"},\"hovermode\":\"closest\",\"mapbox\":{\"style\":\"light\"},\"paper_bgcolor\":\"white\",\"plot_bgcolor\":\"#E5ECF6\",\"polar\":{\"angularaxis\":{\"gridcolor\":\"white\",\"linecolor\":\"white\",\"ticks\":\"\"},\"bgcolor\":\"#E5ECF6\",\"radialaxis\":{\"gridcolor\":\"white\",\"linecolor\":\"white\",\"ticks\":\"\"}},\"scene\":{\"xaxis\":{\"backgroundcolor\":\"#E5ECF6\",\"gridcolor\":\"white\",\"gridwidth\":2,\"linecolor\":\"white\",\"showbackground\":true,\"ticks\":\"\",\"zerolinecolor\":\"white\"},\"yaxis\":{\"backgroundcolor\":\"#E5ECF6\",\"gridcolor\":\"white\",\"gridwidth\":2,\"linecolor\":\"white\",\"showbackground\":true,\"ticks\":\"\",\"zerolinecolor\":\"white\"},\"zaxis\":{\"backgroundcolor\":\"#E5ECF6\",\"gridcolor\":\"white\",\"gridwidth\":2,\"linecolor\":\"white\",\"showbackground\":true,\"ticks\":\"\",\"zerolinecolor\":\"white\"}},\"shapedefaults\":{\"line\":{\"color\":\"#2a3f5f\"}},\"ternary\":{\"aaxis\":{\"gridcolor\":\"white\",\"linecolor\":\"white\",\"ticks\":\"\"},\"baxis\":{\"gridcolor\":\"white\",\"linecolor\":\"white\",\"ticks\":\"\"},\"bgcolor\":\"#E5ECF6\",\"caxis\":{\"gridcolor\":\"white\",\"linecolor\":\"white\",\"ticks\":\"\"}},\"title\":{\"x\":0.05},\"xaxis\":{\"automargin\":true,\"gridcolor\":\"white\",\"linecolor\":\"white\",\"ticks\":\"\",\"title\":{\"standoff\":15},\"zerolinecolor\":\"white\",\"zerolinewidth\":2},\"yaxis\":{\"automargin\":true,\"gridcolor\":\"white\",\"linecolor\":\"white\",\"ticks\":\"\",\"title\":{\"standoff\":15},\"zerolinecolor\":\"white\",\"zerolinewidth\":2}}},\"legend\":{\"tracegroupgap\":0},\"margin\":{\"t\":60},\"height\":500,\"width\":500},                        {\"responsive\": true}                    ).then(function(){\n",
              "                            \n",
              "var gd = document.getElementById('eef6e0ad-df39-4a6c-a26b-54bda819afd1');\n",
              "var x = new MutationObserver(function (mutations, observer) {{\n",
              "        var display = window.getComputedStyle(gd).display;\n",
              "        if (!display || display === 'none') {{\n",
              "            console.log([gd, 'removed!']);\n",
              "            Plotly.purge(gd);\n",
              "            observer.disconnect();\n",
              "        }}\n",
              "}});\n",
              "\n",
              "// Listen for the removal of the full notebook cells\n",
              "var notebookContainer = gd.closest('#notebook-container');\n",
              "if (notebookContainer) {{\n",
              "    x.observe(notebookContainer, {childList: true});\n",
              "}}\n",
              "\n",
              "// Listen for the clearing of the current output cell\n",
              "var outputEl = gd.closest('.output');\n",
              "if (outputEl) {{\n",
              "    x.observe(outputEl, {childList: true});\n",
              "}}\n",
              "\n",
              "                        })                };                            </script>        </div>\n",
              "</body>\n",
              "</html>"
            ]
          },
          "metadata": {}
        }
      ],
      "source": [
        "import plotly.express as px\n",
        "\n",
        "target = train.label.value_counts()\n",
        "# class_num = len(target)\n",
        "\n",
        "fig = px.pie(target,\n",
        "             values='label',\n",
        "             names=target.index,\n",
        "             hole=.4, \n",
        "             width=500, height=500)\n",
        "fig.update_traces(textinfo='value+label', pull=0.01)\n",
        "fig.show()"
      ]
    },
    {
      "cell_type": "code",
      "execution_count": null,
      "id": "7ce95bee",
      "metadata": {
        "execution": {
          "iopub.execute_input": "2022-02-09T03:08:38.589216Z",
          "iopub.status.busy": "2022-02-09T03:08:38.588598Z",
          "iopub.status.idle": "2022-02-09T03:08:38.660638Z",
          "shell.execute_reply": "2022-02-09T03:08:38.661075Z",
          "shell.execute_reply.started": "2021-10-27T03:31:58.574328Z"
        },
        "papermill": {
          "duration": 0.111877,
          "end_time": "2022-02-09T03:08:38.661230",
          "exception": false,
          "start_time": "2022-02-09T03:08:38.549353",
          "status": "completed"
        },
        "tags": [],
        "colab": {
          "base_uri": "https://localhost:8080/",
          "height": 417
        },
        "id": "7ce95bee",
        "outputId": "4834d067-1ac7-46c1-f93d-2e79e1fba9dd"
      },
      "outputs": [
        {
          "output_type": "display_data",
          "data": {
            "text/html": [
              "<html>\n",
              "<head><meta charset=\"utf-8\" /></head>\n",
              "<body>\n",
              "    <div>            <script src=\"https://cdnjs.cloudflare.com/ajax/libs/mathjax/2.7.5/MathJax.js?config=TeX-AMS-MML_SVG\"></script><script type=\"text/javascript\">if (window.MathJax) {MathJax.Hub.Config({SVG: {font: \"STIX-Web\"}});}</script>                <script type=\"text/javascript\">window.PlotlyConfig = {MathJaxConfig: 'local'};</script>\n",
              "        <script src=\"https://cdn.plot.ly/plotly-2.8.3.min.js\"></script>                <div id=\"a074812c-7179-4dcd-8e33-f4aec86b3ed5\" class=\"plotly-graph-div\" style=\"height:400px; width:1000px;\"></div>            <script type=\"text/javascript\">                                    window.PLOTLYENV=window.PLOTLYENV || {};                                    if (document.getElementById(\"a074812c-7179-4dcd-8e33-f4aec86b3ed5\")) {                    Plotly.newPlot(                        \"a074812c-7179-4dcd-8e33-f4aec86b3ed5\",                        [{\"alignmentgroup\":\"True\",\"hovertemplate\":\"x=%{x}<br>index=%{y}<extra></extra>\",\"legendgroup\":\"\",\"marker\":{\"color\":\"#636efa\",\"pattern\":{\"shape\":\"\"}},\"name\":\"\",\"offsetgroup\":\"\",\"orientation\":\"h\",\"showlegend\":false,\"textposition\":\"auto\",\"x\":[4132,4684,4177,4351,4072,3795,4137,4401,4063,4188],\"xaxis\":\"x\",\"y\":[0,1,2,3,4,5,6,7,8,9],\"yaxis\":\"y\",\"type\":\"bar\"}],                        {\"template\":{\"data\":{\"bar\":[{\"error_x\":{\"color\":\"#2a3f5f\"},\"error_y\":{\"color\":\"#2a3f5f\"},\"marker\":{\"line\":{\"color\":\"#E5ECF6\",\"width\":0.5},\"pattern\":{\"fillmode\":\"overlay\",\"size\":10,\"solidity\":0.2}},\"type\":\"bar\"}],\"barpolar\":[{\"marker\":{\"line\":{\"color\":\"#E5ECF6\",\"width\":0.5},\"pattern\":{\"fillmode\":\"overlay\",\"size\":10,\"solidity\":0.2}},\"type\":\"barpolar\"}],\"carpet\":[{\"aaxis\":{\"endlinecolor\":\"#2a3f5f\",\"gridcolor\":\"white\",\"linecolor\":\"white\",\"minorgridcolor\":\"white\",\"startlinecolor\":\"#2a3f5f\"},\"baxis\":{\"endlinecolor\":\"#2a3f5f\",\"gridcolor\":\"white\",\"linecolor\":\"white\",\"minorgridcolor\":\"white\",\"startlinecolor\":\"#2a3f5f\"},\"type\":\"carpet\"}],\"choropleth\":[{\"colorbar\":{\"outlinewidth\":0,\"ticks\":\"\"},\"type\":\"choropleth\"}],\"contour\":[{\"colorbar\":{\"outlinewidth\":0,\"ticks\":\"\"},\"colorscale\":[[0.0,\"#0d0887\"],[0.1111111111111111,\"#46039f\"],[0.2222222222222222,\"#7201a8\"],[0.3333333333333333,\"#9c179e\"],[0.4444444444444444,\"#bd3786\"],[0.5555555555555556,\"#d8576b\"],[0.6666666666666666,\"#ed7953\"],[0.7777777777777778,\"#fb9f3a\"],[0.8888888888888888,\"#fdca26\"],[1.0,\"#f0f921\"]],\"type\":\"contour\"}],\"contourcarpet\":[{\"colorbar\":{\"outlinewidth\":0,\"ticks\":\"\"},\"type\":\"contourcarpet\"}],\"heatmap\":[{\"colorbar\":{\"outlinewidth\":0,\"ticks\":\"\"},\"colorscale\":[[0.0,\"#0d0887\"],[0.1111111111111111,\"#46039f\"],[0.2222222222222222,\"#7201a8\"],[0.3333333333333333,\"#9c179e\"],[0.4444444444444444,\"#bd3786\"],[0.5555555555555556,\"#d8576b\"],[0.6666666666666666,\"#ed7953\"],[0.7777777777777778,\"#fb9f3a\"],[0.8888888888888888,\"#fdca26\"],[1.0,\"#f0f921\"]],\"type\":\"heatmap\"}],\"heatmapgl\":[{\"colorbar\":{\"outlinewidth\":0,\"ticks\":\"\"},\"colorscale\":[[0.0,\"#0d0887\"],[0.1111111111111111,\"#46039f\"],[0.2222222222222222,\"#7201a8\"],[0.3333333333333333,\"#9c179e\"],[0.4444444444444444,\"#bd3786\"],[0.5555555555555556,\"#d8576b\"],[0.6666666666666666,\"#ed7953\"],[0.7777777777777778,\"#fb9f3a\"],[0.8888888888888888,\"#fdca26\"],[1.0,\"#f0f921\"]],\"type\":\"heatmapgl\"}],\"histogram\":[{\"marker\":{\"pattern\":{\"fillmode\":\"overlay\",\"size\":10,\"solidity\":0.2}},\"type\":\"histogram\"}],\"histogram2d\":[{\"colorbar\":{\"outlinewidth\":0,\"ticks\":\"\"},\"colorscale\":[[0.0,\"#0d0887\"],[0.1111111111111111,\"#46039f\"],[0.2222222222222222,\"#7201a8\"],[0.3333333333333333,\"#9c179e\"],[0.4444444444444444,\"#bd3786\"],[0.5555555555555556,\"#d8576b\"],[0.6666666666666666,\"#ed7953\"],[0.7777777777777778,\"#fb9f3a\"],[0.8888888888888888,\"#fdca26\"],[1.0,\"#f0f921\"]],\"type\":\"histogram2d\"}],\"histogram2dcontour\":[{\"colorbar\":{\"outlinewidth\":0,\"ticks\":\"\"},\"colorscale\":[[0.0,\"#0d0887\"],[0.1111111111111111,\"#46039f\"],[0.2222222222222222,\"#7201a8\"],[0.3333333333333333,\"#9c179e\"],[0.4444444444444444,\"#bd3786\"],[0.5555555555555556,\"#d8576b\"],[0.6666666666666666,\"#ed7953\"],[0.7777777777777778,\"#fb9f3a\"],[0.8888888888888888,\"#fdca26\"],[1.0,\"#f0f921\"]],\"type\":\"histogram2dcontour\"}],\"mesh3d\":[{\"colorbar\":{\"outlinewidth\":0,\"ticks\":\"\"},\"type\":\"mesh3d\"}],\"parcoords\":[{\"line\":{\"colorbar\":{\"outlinewidth\":0,\"ticks\":\"\"}},\"type\":\"parcoords\"}],\"pie\":[{\"automargin\":true,\"type\":\"pie\"}],\"scatter\":[{\"marker\":{\"colorbar\":{\"outlinewidth\":0,\"ticks\":\"\"}},\"type\":\"scatter\"}],\"scatter3d\":[{\"line\":{\"colorbar\":{\"outlinewidth\":0,\"ticks\":\"\"}},\"marker\":{\"colorbar\":{\"outlinewidth\":0,\"ticks\":\"\"}},\"type\":\"scatter3d\"}],\"scattercarpet\":[{\"marker\":{\"colorbar\":{\"outlinewidth\":0,\"ticks\":\"\"}},\"type\":\"scattercarpet\"}],\"scattergeo\":[{\"marker\":{\"colorbar\":{\"outlinewidth\":0,\"ticks\":\"\"}},\"type\":\"scattergeo\"}],\"scattergl\":[{\"marker\":{\"colorbar\":{\"outlinewidth\":0,\"ticks\":\"\"}},\"type\":\"scattergl\"}],\"scattermapbox\":[{\"marker\":{\"colorbar\":{\"outlinewidth\":0,\"ticks\":\"\"}},\"type\":\"scattermapbox\"}],\"scatterpolar\":[{\"marker\":{\"colorbar\":{\"outlinewidth\":0,\"ticks\":\"\"}},\"type\":\"scatterpolar\"}],\"scatterpolargl\":[{\"marker\":{\"colorbar\":{\"outlinewidth\":0,\"ticks\":\"\"}},\"type\":\"scatterpolargl\"}],\"scatterternary\":[{\"marker\":{\"colorbar\":{\"outlinewidth\":0,\"ticks\":\"\"}},\"type\":\"scatterternary\"}],\"surface\":[{\"colorbar\":{\"outlinewidth\":0,\"ticks\":\"\"},\"colorscale\":[[0.0,\"#0d0887\"],[0.1111111111111111,\"#46039f\"],[0.2222222222222222,\"#7201a8\"],[0.3333333333333333,\"#9c179e\"],[0.4444444444444444,\"#bd3786\"],[0.5555555555555556,\"#d8576b\"],[0.6666666666666666,\"#ed7953\"],[0.7777777777777778,\"#fb9f3a\"],[0.8888888888888888,\"#fdca26\"],[1.0,\"#f0f921\"]],\"type\":\"surface\"}],\"table\":[{\"cells\":{\"fill\":{\"color\":\"#EBF0F8\"},\"line\":{\"color\":\"white\"}},\"header\":{\"fill\":{\"color\":\"#C8D4E3\"},\"line\":{\"color\":\"white\"}},\"type\":\"table\"}]},\"layout\":{\"annotationdefaults\":{\"arrowcolor\":\"#2a3f5f\",\"arrowhead\":0,\"arrowwidth\":1},\"autotypenumbers\":\"strict\",\"coloraxis\":{\"colorbar\":{\"outlinewidth\":0,\"ticks\":\"\"}},\"colorscale\":{\"diverging\":[[0,\"#8e0152\"],[0.1,\"#c51b7d\"],[0.2,\"#de77ae\"],[0.3,\"#f1b6da\"],[0.4,\"#fde0ef\"],[0.5,\"#f7f7f7\"],[0.6,\"#e6f5d0\"],[0.7,\"#b8e186\"],[0.8,\"#7fbc41\"],[0.9,\"#4d9221\"],[1,\"#276419\"]],\"sequential\":[[0.0,\"#0d0887\"],[0.1111111111111111,\"#46039f\"],[0.2222222222222222,\"#7201a8\"],[0.3333333333333333,\"#9c179e\"],[0.4444444444444444,\"#bd3786\"],[0.5555555555555556,\"#d8576b\"],[0.6666666666666666,\"#ed7953\"],[0.7777777777777778,\"#fb9f3a\"],[0.8888888888888888,\"#fdca26\"],[1.0,\"#f0f921\"]],\"sequentialminus\":[[0.0,\"#0d0887\"],[0.1111111111111111,\"#46039f\"],[0.2222222222222222,\"#7201a8\"],[0.3333333333333333,\"#9c179e\"],[0.4444444444444444,\"#bd3786\"],[0.5555555555555556,\"#d8576b\"],[0.6666666666666666,\"#ed7953\"],[0.7777777777777778,\"#fb9f3a\"],[0.8888888888888888,\"#fdca26\"],[1.0,\"#f0f921\"]]},\"colorway\":[\"#636efa\",\"#EF553B\",\"#00cc96\",\"#ab63fa\",\"#FFA15A\",\"#19d3f3\",\"#FF6692\",\"#B6E880\",\"#FF97FF\",\"#FECB52\"],\"font\":{\"color\":\"#2a3f5f\"},\"geo\":{\"bgcolor\":\"white\",\"lakecolor\":\"white\",\"landcolor\":\"#E5ECF6\",\"showlakes\":true,\"showland\":true,\"subunitcolor\":\"white\"},\"hoverlabel\":{\"align\":\"left\"},\"hovermode\":\"closest\",\"mapbox\":{\"style\":\"light\"},\"paper_bgcolor\":\"white\",\"plot_bgcolor\":\"#E5ECF6\",\"polar\":{\"angularaxis\":{\"gridcolor\":\"white\",\"linecolor\":\"white\",\"ticks\":\"\"},\"bgcolor\":\"#E5ECF6\",\"radialaxis\":{\"gridcolor\":\"white\",\"linecolor\":\"white\",\"ticks\":\"\"}},\"scene\":{\"xaxis\":{\"backgroundcolor\":\"#E5ECF6\",\"gridcolor\":\"white\",\"gridwidth\":2,\"linecolor\":\"white\",\"showbackground\":true,\"ticks\":\"\",\"zerolinecolor\":\"white\"},\"yaxis\":{\"backgroundcolor\":\"#E5ECF6\",\"gridcolor\":\"white\",\"gridwidth\":2,\"linecolor\":\"white\",\"showbackground\":true,\"ticks\":\"\",\"zerolinecolor\":\"white\"},\"zaxis\":{\"backgroundcolor\":\"#E5ECF6\",\"gridcolor\":\"white\",\"gridwidth\":2,\"linecolor\":\"white\",\"showbackground\":true,\"ticks\":\"\",\"zerolinecolor\":\"white\"}},\"shapedefaults\":{\"line\":{\"color\":\"#2a3f5f\"}},\"ternary\":{\"aaxis\":{\"gridcolor\":\"white\",\"linecolor\":\"white\",\"ticks\":\"\"},\"baxis\":{\"gridcolor\":\"white\",\"linecolor\":\"white\",\"ticks\":\"\"},\"bgcolor\":\"#E5ECF6\",\"caxis\":{\"gridcolor\":\"white\",\"linecolor\":\"white\",\"ticks\":\"\"}},\"title\":{\"x\":0.05},\"xaxis\":{\"automargin\":true,\"gridcolor\":\"white\",\"linecolor\":\"white\",\"ticks\":\"\",\"title\":{\"standoff\":15},\"zerolinecolor\":\"white\",\"zerolinewidth\":2},\"yaxis\":{\"automargin\":true,\"gridcolor\":\"white\",\"linecolor\":\"white\",\"ticks\":\"\",\"title\":{\"standoff\":15},\"zerolinecolor\":\"white\",\"zerolinewidth\":2}}},\"xaxis\":{\"anchor\":\"y\",\"domain\":[0.0,1.0],\"title\":{\"text\":\"x\"}},\"yaxis\":{\"anchor\":\"x\",\"domain\":[0.0,1.0],\"title\":{\"text\":\"index\"}},\"legend\":{\"tracegroupgap\":0},\"margin\":{\"t\":60},\"barmode\":\"relative\",\"height\":400,\"width\":1000},                        {\"responsive\": true}                    ).then(function(){\n",
              "                            \n",
              "var gd = document.getElementById('a074812c-7179-4dcd-8e33-f4aec86b3ed5');\n",
              "var x = new MutationObserver(function (mutations, observer) {{\n",
              "        var display = window.getComputedStyle(gd).display;\n",
              "        if (!display || display === 'none') {{\n",
              "            console.log([gd, 'removed!']);\n",
              "            Plotly.purge(gd);\n",
              "            observer.disconnect();\n",
              "        }}\n",
              "}});\n",
              "\n",
              "// Listen for the removal of the full notebook cells\n",
              "var notebookContainer = gd.closest('#notebook-container');\n",
              "if (notebookContainer) {{\n",
              "    x.observe(notebookContainer, {childList: true});\n",
              "}}\n",
              "\n",
              "// Listen for the clearing of the current output cell\n",
              "var outputEl = gd.closest('.output');\n",
              "if (outputEl) {{\n",
              "    x.observe(outputEl, {childList: true});\n",
              "}}\n",
              "\n",
              "                        })                };                            </script>        </div>\n",
              "</body>\n",
              "</html>"
            ]
          },
          "metadata": {}
        }
      ],
      "source": [
        "fig = px.bar(target.sort_index().index, target.sort_index(), width=1000, height=400)\n",
        "fig.show()"
      ]
    },
    {
      "cell_type": "markdown",
      "id": "f71f1023",
      "metadata": {
        "papermill": {
          "duration": 0.034782,
          "end_time": "2022-02-09T03:08:38.731313",
          "exception": false,
          "start_time": "2022-02-09T03:08:38.696531",
          "status": "completed"
        },
        "tags": [],
        "id": "f71f1023"
      },
      "source": [
        "# 前処理"
      ]
    },
    {
      "cell_type": "markdown",
      "id": "ec508d58",
      "metadata": {
        "papermill": {
          "duration": 0.035913,
          "end_time": "2022-02-09T03:08:38.801668",
          "exception": false,
          "start_time": "2022-02-09T03:08:38.765755",
          "status": "completed"
        },
        "tags": [],
        "id": "ec508d58"
      },
      "source": [
        "### ホールドアウト"
      ]
    },
    {
      "cell_type": "code",
      "execution_count": null,
      "id": "ad9a350a",
      "metadata": {
        "execution": {
          "iopub.execute_input": "2022-02-09T03:08:38.881282Z",
          "iopub.status.busy": "2022-02-09T03:08:38.880601Z",
          "iopub.status.idle": "2022-02-09T03:08:39.138285Z",
          "shell.execute_reply": "2022-02-09T03:08:39.138724Z",
          "shell.execute_reply.started": "2021-10-27T03:31:58.687449Z"
        },
        "papermill": {
          "duration": 0.300803,
          "end_time": "2022-02-09T03:08:39.138944",
          "exception": false,
          "start_time": "2022-02-09T03:08:38.838141",
          "status": "completed"
        },
        "tags": [],
        "id": "ad9a350a"
      },
      "outputs": [],
      "source": [
        "# f0, f1 = train_test_split(train, test_size=0.2) # 学習用と評価用に分ける\n",
        "# train[\"folds\"] = -1\n",
        "# train.loc[f0.index, \"folds\"] = 1\n",
        "# train.loc[f1.index, \"folds\"] = 0"
      ]
    },
    {
      "cell_type": "markdown",
      "source": [
        "## StratifiedKFold\n"
      ],
      "metadata": {
        "id": "0_-plMBMEMUM"
      },
      "id": "0_-plMBMEMUM"
    },
    {
      "cell_type": "code",
      "source": [
        "train['bins'] = pd.cut(train['label'], bins=Config.class_num, labels=False)\n",
        "train['bins'].hist()"
      ],
      "metadata": {
        "colab": {
          "base_uri": "https://localhost:8080/",
          "height": 282
        },
        "id": "kGOSnCwxFum9",
        "outputId": "bacc959a-d669-4272-8b22-a099cda5de85"
      },
      "id": "kGOSnCwxFum9",
      "execution_count": null,
      "outputs": [
        {
          "output_type": "execute_result",
          "data": {
            "text/plain": [
              "<matplotlib.axes._subplots.AxesSubplot at 0x7f4312695950>"
            ]
          },
          "metadata": {},
          "execution_count": 19
        },
        {
          "output_type": "display_data",
          "data": {
            "image/png": "[encoded data removed]",
            "text/plain": [
              "<Figure size 432x288 with 1 Axes>"
            ]
          },
          "metadata": {
            "needs_background": "light"
          }
        }
      ]
    },
    {
      "cell_type": "code",
      "source": [
        "from sklearn.model_selection import StratifiedKFold\n",
        "\n",
        "train['fold'] = -1\n",
        "\n",
        "strat_kfold = StratifiedKFold(n_splits=Config.N_FOLDS, random_state=Config.seed, shuffle=True)\n",
        "for i, (_, train_index) in enumerate(strat_kfold.split(train.index, train['bins'])):\n",
        "    train.iloc[train_index, -1] = i\n",
        "    \n",
        "train['fold'] = train['fold'].astype('int')\n",
        "\n",
        "train.fold.value_counts().plot.bar()"
      ],
      "metadata": {
        "colab": {
          "base_uri": "https://localhost:8080/",
          "height": 279
        },
        "id": "20hdgN3IELru",
        "outputId": "8cd20299-c304-45a5-8b6e-be968e3dedb2"
      },
      "id": "20hdgN3IELru",
      "execution_count": null,
      "outputs": [
        {
          "output_type": "execute_result",
          "data": {
            "text/plain": [
              "<matplotlib.axes._subplots.AxesSubplot at 0x7f43125d9190>"
            ]
          },
          "metadata": {},
          "execution_count": 20
        },
        {
          "output_type": "display_data",
          "data": {
            "image/png": "[encoded data removed]",
            "text/plain": [
              "<Figure size 432x288 with 1 Axes>"
            ]
          },
          "metadata": {
            "needs_background": "light"
          }
        }
      ]
    },
    {
      "cell_type": "code",
      "source": [
        "train[train['fold']==0].head()"
      ],
      "metadata": {
        "colab": {
          "base_uri": "https://localhost:8080/",
          "height": 299
        },
        "id": "wYYCJ14GGn36",
        "outputId": "2b996b22-cced-48ed-b21a-c9d07d600326"
      },
      "id": "wYYCJ14GGn36",
      "execution_count": null,
      "outputs": [
        {
          "output_type": "execute_result",
          "data": {
            "text/html": [
              "\n",
              "  <div id=\"df-ca438def-1007-4dd6-8922-b93e19ed2ed4\">\n",
              "    <div class=\"colab-df-container\">\n",
              "      <div>\n",
              "<style scoped>\n",
              "    .dataframe tbody tr th:only-of-type {\n",
              "        vertical-align: middle;\n",
              "    }\n",
              "\n",
              "    .dataframe tbody tr th {\n",
              "        vertical-align: top;\n",
              "    }\n",
              "\n",
              "    .dataframe thead th {\n",
              "        text-align: right;\n",
              "    }\n",
              "</style>\n",
              "<table border=\"1\" class=\"dataframe\">\n",
              "  <thead>\n",
              "    <tr style=\"text-align: right;\">\n",
              "      <th></th>\n",
              "      <th>label</th>\n",
              "      <th>pixel0</th>\n",
              "      <th>pixel1</th>\n",
              "      <th>pixel2</th>\n",
              "      <th>pixel3</th>\n",
              "      <th>pixel4</th>\n",
              "      <th>pixel5</th>\n",
              "      <th>pixel6</th>\n",
              "      <th>pixel7</th>\n",
              "      <th>pixel8</th>\n",
              "      <th>pixel9</th>\n",
              "      <th>pixel10</th>\n",
              "      <th>pixel11</th>\n",
              "      <th>pixel12</th>\n",
              "      <th>pixel13</th>\n",
              "      <th>pixel14</th>\n",
              "      <th>pixel15</th>\n",
              "      <th>pixel16</th>\n",
              "      <th>pixel17</th>\n",
              "      <th>pixel18</th>\n",
              "      <th>pixel19</th>\n",
              "      <th>pixel20</th>\n",
              "      <th>pixel21</th>\n",
              "      <th>pixel22</th>\n",
              "      <th>pixel23</th>\n",
              "      <th>pixel24</th>\n",
              "      <th>pixel25</th>\n",
              "      <th>pixel26</th>\n",
              "      <th>pixel27</th>\n",
              "      <th>pixel28</th>\n",
              "      <th>pixel29</th>\n",
              "      <th>pixel30</th>\n",
              "      <th>pixel31</th>\n",
              "      <th>pixel32</th>\n",
              "      <th>pixel33</th>\n",
              "      <th>pixel34</th>\n",
              "      <th>pixel35</th>\n",
              "      <th>pixel36</th>\n",
              "      <th>pixel37</th>\n",
              "      <th>pixel38</th>\n",
              "      <th>...</th>\n",
              "      <th>pixel746</th>\n",
              "      <th>pixel747</th>\n",
              "      <th>pixel748</th>\n",
              "      <th>pixel749</th>\n",
              "      <th>pixel750</th>\n",
              "      <th>pixel751</th>\n",
              "      <th>pixel752</th>\n",
              "      <th>pixel753</th>\n",
              "      <th>pixel754</th>\n",
              "      <th>pixel755</th>\n",
              "      <th>pixel756</th>\n",
              "      <th>pixel757</th>\n",
              "      <th>pixel758</th>\n",
              "      <th>pixel759</th>\n",
              "      <th>pixel760</th>\n",
              "      <th>pixel761</th>\n",
              "      <th>pixel762</th>\n",
              "      <th>pixel763</th>\n",
              "      <th>pixel764</th>\n",
              "      <th>pixel765</th>\n",
              "      <th>pixel766</th>\n",
              "      <th>pixel767</th>\n",
              "      <th>pixel768</th>\n",
              "      <th>pixel769</th>\n",
              "      <th>pixel770</th>\n",
              "      <th>pixel771</th>\n",
              "      <th>pixel772</th>\n",
              "      <th>pixel773</th>\n",
              "      <th>pixel774</th>\n",
              "      <th>pixel775</th>\n",
              "      <th>pixel776</th>\n",
              "      <th>pixel777</th>\n",
              "      <th>pixel778</th>\n",
              "      <th>pixel779</th>\n",
              "      <th>pixel780</th>\n",
              "      <th>pixel781</th>\n",
              "      <th>pixel782</th>\n",
              "      <th>pixel783</th>\n",
              "      <th>bins</th>\n",
              "      <th>fold</th>\n",
              "    </tr>\n",
              "  </thead>\n",
              "  <tbody>\n",
              "    <tr>\n",
              "      <th>0</th>\n",
              "      <td>1</td>\n",
              "      <td>0</td>\n",
              "      <td>0</td>\n",
              "      <td>0</td>\n",
              "      <td>0</td>\n",
              "      <td>0</td>\n",
              "      <td>0</td>\n",
              "      <td>0</td>\n",
              "      <td>0</td>\n",
              "      <td>0</td>\n",
              "      <td>0</td>\n",
              "      <td>0</td>\n",
              "      <td>0</td>\n",
              "      <td>0</td>\n",
              "      <td>0</td>\n",
              "      <td>0</td>\n",
              "      <td>0</td>\n",
              "      <td>0</td>\n",
              "      <td>0</td>\n",
              "      <td>0</td>\n",
              "      <td>0</td>\n",
              "      <td>0</td>\n",
              "      <td>0</td>\n",
              "      <td>0</td>\n",
              "      <td>0</td>\n",
              "      <td>0</td>\n",
              "      <td>0</td>\n",
              "      <td>0</td>\n",
              "      <td>0</td>\n",
              "      <td>0</td>\n",
              "      <td>0</td>\n",
              "      <td>0</td>\n",
              "      <td>0</td>\n",
              "      <td>0</td>\n",
              "      <td>0</td>\n",
              "      <td>0</td>\n",
              "      <td>0</td>\n",
              "      <td>0</td>\n",
              "      <td>0</td>\n",
              "      <td>0</td>\n",
              "      <td>...</td>\n",
              "      <td>0</td>\n",
              "      <td>0</td>\n",
              "      <td>0</td>\n",
              "      <td>0</td>\n",
              "      <td>0</td>\n",
              "      <td>0</td>\n",
              "      <td>0</td>\n",
              "      <td>0</td>\n",
              "      <td>0</td>\n",
              "      <td>0</td>\n",
              "      <td>0</td>\n",
              "      <td>0</td>\n",
              "      <td>0</td>\n",
              "      <td>0</td>\n",
              "      <td>0</td>\n",
              "      <td>0</td>\n",
              "      <td>0</td>\n",
              "      <td>0</td>\n",
              "      <td>0</td>\n",
              "      <td>0</td>\n",
              "      <td>0</td>\n",
              "      <td>0</td>\n",
              "      <td>0</td>\n",
              "      <td>0</td>\n",
              "      <td>0</td>\n",
              "      <td>0</td>\n",
              "      <td>0</td>\n",
              "      <td>0</td>\n",
              "      <td>0</td>\n",
              "      <td>0</td>\n",
              "      <td>0</td>\n",
              "      <td>0</td>\n",
              "      <td>0</td>\n",
              "      <td>0</td>\n",
              "      <td>0</td>\n",
              "      <td>0</td>\n",
              "      <td>0</td>\n",
              "      <td>0</td>\n",
              "      <td>1</td>\n",
              "      <td>0</td>\n",
              "    </tr>\n",
              "    <tr>\n",
              "      <th>3</th>\n",
              "      <td>4</td>\n",
              "      <td>0</td>\n",
              "      <td>0</td>\n",
              "      <td>0</td>\n",
              "      <td>0</td>\n",
              "      <td>0</td>\n",
              "      <td>0</td>\n",
              "      <td>0</td>\n",
              "      <td>0</td>\n",
              "      <td>0</td>\n",
              "      <td>0</td>\n",
              "      <td>0</td>\n",
              "      <td>0</td>\n",
              "      <td>0</td>\n",
              "      <td>0</td>\n",
              "      <td>0</td>\n",
              "      <td>0</td>\n",
              "      <td>0</td>\n",
              "      <td>0</td>\n",
              "      <td>0</td>\n",
              "      <td>0</td>\n",
              "      <td>0</td>\n",
              "      <td>0</td>\n",
              "      <td>0</td>\n",
              "      <td>0</td>\n",
              "      <td>0</td>\n",
              "      <td>0</td>\n",
              "      <td>0</td>\n",
              "      <td>0</td>\n",
              "      <td>0</td>\n",
              "      <td>0</td>\n",
              "      <td>0</td>\n",
              "      <td>0</td>\n",
              "      <td>0</td>\n",
              "      <td>0</td>\n",
              "      <td>0</td>\n",
              "      <td>0</td>\n",
              "      <td>0</td>\n",
              "      <td>0</td>\n",
              "      <td>0</td>\n",
              "      <td>...</td>\n",
              "      <td>0</td>\n",
              "      <td>0</td>\n",
              "      <td>0</td>\n",
              "      <td>0</td>\n",
              "      <td>0</td>\n",
              "      <td>0</td>\n",
              "      <td>0</td>\n",
              "      <td>0</td>\n",
              "      <td>0</td>\n",
              "      <td>0</td>\n",
              "      <td>0</td>\n",
              "      <td>0</td>\n",
              "      <td>0</td>\n",
              "      <td>0</td>\n",
              "      <td>0</td>\n",
              "      <td>0</td>\n",
              "      <td>0</td>\n",
              "      <td>0</td>\n",
              "      <td>0</td>\n",
              "      <td>0</td>\n",
              "      <td>0</td>\n",
              "      <td>0</td>\n",
              "      <td>0</td>\n",
              "      <td>0</td>\n",
              "      <td>0</td>\n",
              "      <td>0</td>\n",
              "      <td>0</td>\n",
              "      <td>0</td>\n",
              "      <td>0</td>\n",
              "      <td>0</td>\n",
              "      <td>0</td>\n",
              "      <td>0</td>\n",
              "      <td>0</td>\n",
              "      <td>0</td>\n",
              "      <td>0</td>\n",
              "      <td>0</td>\n",
              "      <td>0</td>\n",
              "      <td>0</td>\n",
              "      <td>4</td>\n",
              "      <td>0</td>\n",
              "    </tr>\n",
              "    <tr>\n",
              "      <th>5</th>\n",
              "      <td>0</td>\n",
              "      <td>0</td>\n",
              "      <td>0</td>\n",
              "      <td>0</td>\n",
              "      <td>0</td>\n",
              "      <td>0</td>\n",
              "      <td>0</td>\n",
              "      <td>0</td>\n",
              "      <td>0</td>\n",
              "      <td>0</td>\n",
              "      <td>0</td>\n",
              "      <td>0</td>\n",
              "      <td>0</td>\n",
              "      <td>0</td>\n",
              "      <td>0</td>\n",
              "      <td>0</td>\n",
              "      <td>0</td>\n",
              "      <td>0</td>\n",
              "      <td>0</td>\n",
              "      <td>0</td>\n",
              "      <td>0</td>\n",
              "      <td>0</td>\n",
              "      <td>0</td>\n",
              "      <td>0</td>\n",
              "      <td>0</td>\n",
              "      <td>0</td>\n",
              "      <td>0</td>\n",
              "      <td>0</td>\n",
              "      <td>0</td>\n",
              "      <td>0</td>\n",
              "      <td>0</td>\n",
              "      <td>0</td>\n",
              "      <td>0</td>\n",
              "      <td>0</td>\n",
              "      <td>0</td>\n",
              "      <td>0</td>\n",
              "      <td>0</td>\n",
              "      <td>0</td>\n",
              "      <td>0</td>\n",
              "      <td>0</td>\n",
              "      <td>...</td>\n",
              "      <td>0</td>\n",
              "      <td>0</td>\n",
              "      <td>0</td>\n",
              "      <td>0</td>\n",
              "      <td>0</td>\n",
              "      <td>0</td>\n",
              "      <td>0</td>\n",
              "      <td>0</td>\n",
              "      <td>0</td>\n",
              "      <td>0</td>\n",
              "      <td>0</td>\n",
              "      <td>0</td>\n",
              "      <td>0</td>\n",
              "      <td>0</td>\n",
              "      <td>0</td>\n",
              "      <td>0</td>\n",
              "      <td>0</td>\n",
              "      <td>0</td>\n",
              "      <td>0</td>\n",
              "      <td>0</td>\n",
              "      <td>0</td>\n",
              "      <td>0</td>\n",
              "      <td>0</td>\n",
              "      <td>0</td>\n",
              "      <td>0</td>\n",
              "      <td>0</td>\n",
              "      <td>0</td>\n",
              "      <td>0</td>\n",
              "      <td>0</td>\n",
              "      <td>0</td>\n",
              "      <td>0</td>\n",
              "      <td>0</td>\n",
              "      <td>0</td>\n",
              "      <td>0</td>\n",
              "      <td>0</td>\n",
              "      <td>0</td>\n",
              "      <td>0</td>\n",
              "      <td>0</td>\n",
              "      <td>0</td>\n",
              "      <td>0</td>\n",
              "    </tr>\n",
              "    <tr>\n",
              "      <th>8</th>\n",
              "      <td>5</td>\n",
              "      <td>0</td>\n",
              "      <td>0</td>\n",
              "      <td>0</td>\n",
              "      <td>0</td>\n",
              "      <td>0</td>\n",
              "      <td>0</td>\n",
              "      <td>0</td>\n",
              "      <td>0</td>\n",
              "      <td>0</td>\n",
              "      <td>0</td>\n",
              "      <td>0</td>\n",
              "      <td>0</td>\n",
              "      <td>0</td>\n",
              "      <td>0</td>\n",
              "      <td>0</td>\n",
              "      <td>0</td>\n",
              "      <td>0</td>\n",
              "      <td>0</td>\n",
              "      <td>0</td>\n",
              "      <td>0</td>\n",
              "      <td>0</td>\n",
              "      <td>0</td>\n",
              "      <td>0</td>\n",
              "      <td>0</td>\n",
              "      <td>0</td>\n",
              "      <td>0</td>\n",
              "      <td>0</td>\n",
              "      <td>0</td>\n",
              "      <td>0</td>\n",
              "      <td>0</td>\n",
              "      <td>0</td>\n",
              "      <td>0</td>\n",
              "      <td>0</td>\n",
              "      <td>0</td>\n",
              "      <td>0</td>\n",
              "      <td>0</td>\n",
              "      <td>0</td>\n",
              "      <td>0</td>\n",
              "      <td>0</td>\n",
              "      <td>...</td>\n",
              "      <td>0</td>\n",
              "      <td>0</td>\n",
              "      <td>0</td>\n",
              "      <td>0</td>\n",
              "      <td>0</td>\n",
              "      <td>0</td>\n",
              "      <td>0</td>\n",
              "      <td>0</td>\n",
              "      <td>0</td>\n",
              "      <td>0</td>\n",
              "      <td>0</td>\n",
              "      <td>0</td>\n",
              "      <td>0</td>\n",
              "      <td>0</td>\n",
              "      <td>0</td>\n",
              "      <td>0</td>\n",
              "      <td>0</td>\n",
              "      <td>0</td>\n",
              "      <td>0</td>\n",
              "      <td>0</td>\n",
              "      <td>0</td>\n",
              "      <td>0</td>\n",
              "      <td>0</td>\n",
              "      <td>0</td>\n",
              "      <td>0</td>\n",
              "      <td>0</td>\n",
              "      <td>0</td>\n",
              "      <td>0</td>\n",
              "      <td>0</td>\n",
              "      <td>0</td>\n",
              "      <td>0</td>\n",
              "      <td>0</td>\n",
              "      <td>0</td>\n",
              "      <td>0</td>\n",
              "      <td>0</td>\n",
              "      <td>0</td>\n",
              "      <td>0</td>\n",
              "      <td>0</td>\n",
              "      <td>5</td>\n",
              "      <td>0</td>\n",
              "    </tr>\n",
              "    <tr>\n",
              "      <th>9</th>\n",
              "      <td>3</td>\n",
              "      <td>0</td>\n",
              "      <td>0</td>\n",
              "      <td>0</td>\n",
              "      <td>0</td>\n",
              "      <td>0</td>\n",
              "      <td>0</td>\n",
              "      <td>0</td>\n",
              "      <td>0</td>\n",
              "      <td>0</td>\n",
              "      <td>0</td>\n",
              "      <td>0</td>\n",
              "      <td>0</td>\n",
              "      <td>0</td>\n",
              "      <td>0</td>\n",
              "      <td>0</td>\n",
              "      <td>0</td>\n",
              "      <td>0</td>\n",
              "      <td>0</td>\n",
              "      <td>0</td>\n",
              "      <td>0</td>\n",
              "      <td>0</td>\n",
              "      <td>0</td>\n",
              "      <td>0</td>\n",
              "      <td>0</td>\n",
              "      <td>0</td>\n",
              "      <td>0</td>\n",
              "      <td>0</td>\n",
              "      <td>0</td>\n",
              "      <td>0</td>\n",
              "      <td>0</td>\n",
              "      <td>0</td>\n",
              "      <td>0</td>\n",
              "      <td>0</td>\n",
              "      <td>0</td>\n",
              "      <td>0</td>\n",
              "      <td>0</td>\n",
              "      <td>0</td>\n",
              "      <td>0</td>\n",
              "      <td>0</td>\n",
              "      <td>...</td>\n",
              "      <td>0</td>\n",
              "      <td>0</td>\n",
              "      <td>0</td>\n",
              "      <td>0</td>\n",
              "      <td>0</td>\n",
              "      <td>0</td>\n",
              "      <td>0</td>\n",
              "      <td>0</td>\n",
              "      <td>0</td>\n",
              "      <td>0</td>\n",
              "      <td>0</td>\n",
              "      <td>0</td>\n",
              "      <td>0</td>\n",
              "      <td>0</td>\n",
              "      <td>0</td>\n",
              "      <td>0</td>\n",
              "      <td>0</td>\n",
              "      <td>0</td>\n",
              "      <td>0</td>\n",
              "      <td>0</td>\n",
              "      <td>0</td>\n",
              "      <td>0</td>\n",
              "      <td>0</td>\n",
              "      <td>0</td>\n",
              "      <td>0</td>\n",
              "      <td>0</td>\n",
              "      <td>0</td>\n",
              "      <td>0</td>\n",
              "      <td>0</td>\n",
              "      <td>0</td>\n",
              "      <td>0</td>\n",
              "      <td>0</td>\n",
              "      <td>0</td>\n",
              "      <td>0</td>\n",
              "      <td>0</td>\n",
              "      <td>0</td>\n",
              "      <td>0</td>\n",
              "      <td>0</td>\n",
              "      <td>3</td>\n",
              "      <td>0</td>\n",
              "    </tr>\n",
              "  </tbody>\n",
              "</table>\n",
              "<p>5 rows × 787 columns</p>\n",
              "</div>\n",
              "      <button class=\"colab-df-convert\" onclick=\"convertToInteractive('df-ca438def-1007-4dd6-8922-b93e19ed2ed4')\"\n",
              "              title=\"Convert this dataframe to an interactive table.\"\n",
              "              style=\"display:none;\">\n",
              "        \n",
              "  <svg xmlns=\"http://www.w3.org/2000/svg\" height=\"24px\"viewBox=\"0 0 24 24\"\n",
              "       width=\"24px\">\n",
              "    <path d=\"M0 0h24v24H0V0z\" fill=\"none\"/>\n",
              "    <path d=\"M18.56 5.44l.94 2.06.94-2.06 2.06-.94-2.06-.94-.94-2.06-.94 2.06-2.06.94zm-11 1L8.5 8.5l.94-2.06 2.06-.94-2.06-.94L8.5 2.5l-.94 2.06-2.06.94zm10 10l.94 2.06.94-2.06 2.06-.94-2.06-.94-.94-2.06-.94 2.06-2.06.94z\"/><path d=\"M17.41 7.96l-1.37-1.37c-.4-.4-.92-.59-1.43-.59-.52 0-1.04.2-1.43.59L10.3 9.45l-7.72 7.72c-.78.78-.78 2.05 0 2.83L4 21.41c.39.39.9.59 1.41.59.51 0 1.02-.2 1.41-.59l7.78-7.78 2.81-2.81c.8-.78.8-2.07 0-2.86zM5.41 20L4 18.59l7.72-7.72 1.47 1.35L5.41 20z\"/>\n",
              "  </svg>\n",
              "      </button>\n",
              "      \n",
              "  <style>\n",
              "    .colab-df-container {\n",
              "      display:flex;\n",
              "      flex-wrap:wrap;\n",
              "      gap: 12px;\n",
              "    }\n",
              "\n",
              "    .colab-df-convert {\n",
              "      background-color: #E8F0FE;\n",
              "      border: none;\n",
              "      border-radius: 50%;\n",
              "      cursor: pointer;\n",
              "      display: none;\n",
              "      fill: #1967D2;\n",
              "      height: 32px;\n",
              "      padding: 0 0 0 0;\n",
              "      width: 32px;\n",
              "    }\n",
              "\n",
              "    .colab-df-convert:hover {\n",
              "      background-color: #E2EBFA;\n",
              "      box-shadow: 0px 1px 2px rgba(60, 64, 67, 0.3), 0px 1px 3px 1px rgba(60, 64, 67, 0.15);\n",
              "      fill: #174EA6;\n",
              "    }\n",
              "\n",
              "    [theme=dark] .colab-df-convert {\n",
              "      background-color: #3B4455;\n",
              "      fill: #D2E3FC;\n",
              "    }\n",
              "\n",
              "    [theme=dark] .colab-df-convert:hover {\n",
              "      background-color: #434B5C;\n",
              "      box-shadow: 0px 1px 3px 1px rgba(0, 0, 0, 0.15);\n",
              "      filter: drop-shadow(0px 1px 2px rgba(0, 0, 0, 0.3));\n",
              "      fill: #FFFFFF;\n",
              "    }\n",
              "  </style>\n",
              "\n",
              "      <script>\n",
              "        const buttonEl =\n",
              "          document.querySelector('#df-ca438def-1007-4dd6-8922-b93e19ed2ed4 button.colab-df-convert');\n",
              "        buttonEl.style.display =\n",
              "          google.colab.kernel.accessAllowed ? 'block' : 'none';\n",
              "\n",
              "        async function convertToInteractive(key) {\n",
              "          const element = document.querySelector('#df-ca438def-1007-4dd6-8922-b93e19ed2ed4');\n",
              "          const dataTable =\n",
              "            await google.colab.kernel.invokeFunction('convertToInteractive',\n",
              "                                                     [key], {});\n",
              "          if (!dataTable) return;\n",
              "\n",
              "          const docLinkHtml = 'Like what you see? Visit the ' +\n",
              "            '<a target=\"_blank\" href=https://colab.research.google.com/notebooks/data_table.ipynb>data table notebook</a>'\n",
              "            + ' to learn more about interactive tables.';\n",
              "          element.innerHTML = '';\n",
              "          dataTable['output_type'] = 'display_data';\n",
              "          await google.colab.output.renderOutput(dataTable, element);\n",
              "          const docLink = document.createElement('div');\n",
              "          docLink.innerHTML = docLinkHtml;\n",
              "          element.appendChild(docLink);\n",
              "        }\n",
              "      </script>\n",
              "    </div>\n",
              "  </div>\n",
              "  "
            ],
            "text/plain": [
              "   label  pixel0  pixel1  pixel2  ...  pixel782  pixel783  bins  fold\n",
              "0      1       0       0       0  ...         0         0     1     0\n",
              "3      4       0       0       0  ...         0         0     4     0\n",
              "5      0       0       0       0  ...         0         0     0     0\n",
              "8      5       0       0       0  ...         0         0     5     0\n",
              "9      3       0       0       0  ...         0         0     3     0\n",
              "\n",
              "[5 rows x 787 columns]"
            ]
          },
          "metadata": {},
          "execution_count": 21
        }
      ]
    },
    {
      "cell_type": "code",
      "source": [
        "train[train['fold']==0]['bins'].value_counts()"
      ],
      "metadata": {
        "colab": {
          "base_uri": "https://localhost:8080/"
        },
        "id": "pkFT8B5kG09P",
        "outputId": "aac56aa0-6579-4424-c03d-7e1aa0c845ee"
      },
      "id": "pkFT8B5kG09P",
      "execution_count": null,
      "outputs": [
        {
          "output_type": "execute_result",
          "data": {
            "text/plain": [
              "1    937\n",
              "7    880\n",
              "3    870\n",
              "9    838\n",
              "2    835\n",
              "0    827\n",
              "6    827\n",
              "4    814\n",
              "8    813\n",
              "5    759\n",
              "Name: bins, dtype: int64"
            ]
          },
          "metadata": {},
          "execution_count": 22
        }
      ]
    },
    {
      "cell_type": "code",
      "source": [
        "train[train['fold']==1]['bins'].value_counts()"
      ],
      "metadata": {
        "colab": {
          "base_uri": "https://localhost:8080/"
        },
        "id": "5mCJmX2PHYHM",
        "outputId": "b051b7c1-ce3c-47c5-de95-02c050cb0a90"
      },
      "id": "5mCJmX2PHYHM",
      "execution_count": null,
      "outputs": [
        {
          "output_type": "execute_result",
          "data": {
            "text/plain": [
              "1    937\n",
              "7    880\n",
              "3    870\n",
              "9    837\n",
              "2    836\n",
              "6    827\n",
              "0    826\n",
              "4    815\n",
              "8    813\n",
              "5    759\n",
              "Name: bins, dtype: int64"
            ]
          },
          "metadata": {},
          "execution_count": 23
        }
      ]
    },
    {
      "cell_type": "markdown",
      "id": "7f4958b4",
      "metadata": {
        "papermill": {
          "duration": 0.035092,
          "end_time": "2022-02-09T03:08:39.209166",
          "exception": false,
          "start_time": "2022-02-09T03:08:39.174074",
          "status": "completed"
        },
        "tags": [],
        "id": "7f4958b4"
      },
      "source": [
        "#### 平均と標準偏差を計算"
      ]
    },
    {
      "cell_type": "code",
      "execution_count": null,
      "id": "95774a6f",
      "metadata": {
        "execution": {
          "iopub.execute_input": "2022-02-09T03:08:39.283134Z",
          "iopub.status.busy": "2022-02-09T03:08:39.282151Z",
          "iopub.status.idle": "2022-02-09T03:08:39.773273Z",
          "shell.execute_reply": "2022-02-09T03:08:39.772414Z",
          "shell.execute_reply.started": "2021-10-27T03:31:58.957196Z"
        },
        "id": "95774a6f",
        "papermill": {
          "duration": 0.529404,
          "end_time": "2022-02-09T03:08:39.773482",
          "exception": false,
          "start_time": "2022-02-09T03:08:39.244078",
          "status": "completed"
        },
        "tags": [],
        "colab": {
          "base_uri": "https://localhost:8080/"
        },
        "outputId": "5706a59b-545d-4dec-e9cf-a61433e4bdd7"
      },
      "outputs": [
        {
          "output_type": "stream",
          "name": "stdout",
          "text": [
            "平均と標準偏差:  (0.13097058957511565, 0.30850036897768457)\n"
          ]
        }
      ],
      "source": [
        "images = train.loc[:, \"pixel0\": \"pixel783\"].values.astype(np.uint8).reshape(-1, 28, 28)\n",
        "norms = (np.mean(images[train.fold!=0] / 255), np.std(images[train.fold!=0] / 255)) # 平均と標準偏差を計算\n",
        "print(\"平均と標準偏差: \", norms)"
      ]
    },
    {
      "cell_type": "markdown",
      "id": "10d3df7d",
      "metadata": {
        "papermill": {
          "duration": 0.034856,
          "end_time": "2022-02-09T03:08:39.845312",
          "exception": false,
          "start_time": "2022-02-09T03:08:39.810456",
          "status": "completed"
        },
        "tags": [],
        "id": "10d3df7d"
      },
      "source": [
        "#### 画像サイズの確認と数例を表示"
      ]
    },
    {
      "cell_type": "code",
      "execution_count": null,
      "id": "28e6eda9",
      "metadata": {
        "execution": {
          "iopub.execute_input": "2022-02-09T03:08:39.952232Z",
          "iopub.status.busy": "2022-02-09T03:08:39.948294Z",
          "iopub.status.idle": "2022-02-09T03:08:42.542945Z",
          "shell.execute_reply": "2022-02-09T03:08:42.543377Z",
          "shell.execute_reply.started": "2021-10-27T03:31:59.580674Z"
        },
        "papermill": {
          "duration": 2.663293,
          "end_time": "2022-02-09T03:08:42.543556",
          "exception": false,
          "start_time": "2022-02-09T03:08:39.880263",
          "status": "completed"
        },
        "tags": [],
        "colab": {
          "base_uri": "https://localhost:8080/",
          "height": 436
        },
        "id": "28e6eda9",
        "outputId": "fe6054d3-2cf9-447b-fa78-47a25ca0d813"
      },
      "outputs": [
        {
          "output_type": "stream",
          "name": "stdout",
          "text": [
            "height:  28\n",
            "weight:  28\n"
          ]
        },
        {
          "output_type": "display_data",
          "data": {
            "image/png": "[encoded data removed]",
            "text/plain": [
              "<Figure size 1440x2160 with 10 Axes>"
            ]
          },
          "metadata": {
            "needs_background": "light"
          }
        },
        {
          "output_type": "display_data",
          "data": {
            "image/png": "[encoded data removed]",
            "text/plain": [
              "<Figure size 1440x2160 with 10 Axes>"
            ]
          },
          "metadata": {
            "needs_background": "light"
          }
        },
        {
          "output_type": "display_data",
          "data": {
            "image/png": "[encoded data removed]",
            "text/plain": [
              "<Figure size 1440x2160 with 10 Axes>"
            ]
          },
          "metadata": {
            "needs_background": "light"
          }
        }
      ],
      "source": [
        "print(\"height: \", images.shape[1])\n",
        "print(\"weight: \", images.shape[2])\n",
        "\n",
        "for n in range(3):\n",
        "    fig, axes = plt.subplots(1, 10, figsize=(20, 30))\n",
        "    [axes[i].imshow(images[idx]) for i, idx in enumerate(range(n*10, (n+1)*10))]\n",
        "\n",
        "    plt.show()"
      ]
    },
    {
      "cell_type": "markdown",
      "id": "fc2d4225",
      "metadata": {
        "papermill": {
          "duration": 0.038065,
          "end_time": "2022-02-09T03:08:42.620452",
          "exception": false,
          "start_time": "2022-02-09T03:08:42.582387",
          "status": "completed"
        },
        "tags": [],
        "id": "fc2d4225"
      },
      "source": [
        "# 学習の際必要になる知識"
      ]
    },
    {
      "cell_type": "markdown",
      "id": "1bda63f2",
      "metadata": {
        "papermill": {
          "duration": 0.037578,
          "end_time": "2022-02-09T03:08:42.696005",
          "exception": false,
          "start_time": "2022-02-09T03:08:42.658427",
          "status": "completed"
        },
        "tags": [],
        "id": "1bda63f2"
      },
      "source": [
        "## 評価指標(Accuracy), Confusion matrix\n",
        "#### 詳細については、来週説明"
      ]
    },
    {
      "cell_type": "markdown",
      "id": "2524ce6b",
      "metadata": {
        "papermill": {
          "duration": 0.042654,
          "end_time": "2022-02-09T03:08:53.291523",
          "exception": false,
          "start_time": "2022-02-09T03:08:53.248869",
          "status": "completed"
        },
        "tags": [],
        "id": "2524ce6b"
      },
      "source": [
        "## ハイパラメータの用語簡易説明など"
      ]
    },
    {
      "cell_type": "markdown",
      "id": "d315267d",
      "metadata": {
        "papermill": {
          "duration": 0.04221,
          "end_time": "2022-02-09T03:08:53.376406",
          "exception": false,
          "start_time": "2022-02-09T03:08:53.334196",
          "status": "completed"
        },
        "tags": [],
        "id": "d315267d"
      },
      "source": [
        "> #### * 学習率 : 学習一回当たりの更新量のようなものです。 今回のデフォルトは1e-5です。\n",
        "> #### * スケジューラー : epoch数に応じて、学習率を変化させるものです。 今回のデフォルトはCosineAnnealingLRです。\n",
        "> #### * 損失関数: 正解ラベルと予測ラベルの誤差の大きさを計算する関数。 \n",
        "> #### * 最適化関数: 効率よく損失を減らすための関数。 \n",
        "> #### * timm : 画像のコンペでpytorchを使う場合にほぼ確実に使用するライブラリですので、見ておきましょう。[github](https://github.com/rwightman/pytorch-image-models)"
      ]
    },
    {
      "cell_type": "markdown",
      "id": "fba95a5c",
      "metadata": {
        "execution": {
          "iopub.execute_input": "2021-10-19T13:13:09.526189Z",
          "iopub.status.busy": "2021-10-19T13:13:09.525808Z",
          "iopub.status.idle": "2021-10-19T13:13:09.552075Z",
          "shell.execute_reply": "2021-10-19T13:13:09.551044Z",
          "shell.execute_reply.started": "2021-10-19T13:13:09.526098Z"
        },
        "papermill": {
          "duration": 0.042105,
          "end_time": "2022-02-09T03:08:53.461098",
          "exception": false,
          "start_time": "2022-02-09T03:08:53.418993",
          "status": "completed"
        },
        "tags": [],
        "id": "fba95a5c"
      },
      "source": [
        "# 軽めのモデル作成"
      ]
    },
    {
      "cell_type": "markdown",
      "id": "4b8333dc",
      "metadata": {
        "papermill": {
          "duration": 0.042445,
          "end_time": "2022-02-09T03:08:53.546021",
          "exception": false,
          "start_time": "2022-02-09T03:08:53.503576",
          "status": "completed"
        },
        "tags": [],
        "id": "4b8333dc"
      },
      "source": [
        "### モデルの読み込み"
      ]
    },
    {
      "cell_type": "code",
      "execution_count": null,
      "id": "9d33065d",
      "metadata": {
        "execution": {
          "iopub.execute_input": "2022-02-09T03:08:53.637563Z",
          "iopub.status.busy": "2022-02-09T03:08:53.633902Z",
          "iopub.status.idle": "2022-02-09T03:08:54.111240Z",
          "shell.execute_reply": "2022-02-09T03:08:54.111720Z",
          "shell.execute_reply.started": "2021-10-27T03:32:03.739156Z"
        },
        "papermill": {
          "duration": 0.523493,
          "end_time": "2022-02-09T03:08:54.111950",
          "exception": false,
          "start_time": "2022-02-09T03:08:53.588457",
          "status": "completed"
        },
        "tags": [],
        "colab": {
          "base_uri": "https://localhost:8080/"
        },
        "id": "9d33065d",
        "outputId": "fa9d0e1a-259e-4625-93ab-9208b5b0d34a"
      },
      "outputs": [
        {
          "output_type": "execute_result",
          "data": {
            "text/plain": [
              "BaseModel(\n",
              "  (model): ResNet(\n",
              "    (conv1): Conv2d(3, 64, kernel_size=(7, 7), stride=(2, 2), padding=(3, 3), bias=False)\n",
              "    (bn1): BatchNorm2d(64, eps=1e-05, momentum=0.1, affine=True, track_running_stats=True)\n",
              "    (act1): ReLU(inplace=True)\n",
              "    (maxpool): MaxPool2d(kernel_size=3, stride=2, padding=1, dilation=1, ceil_mode=False)\n",
              "    (layer1): Sequential(\n",
              "      (0): Bottleneck(\n",
              "        (conv1): Conv2d(64, 64, kernel_size=(1, 1), stride=(1, 1), bias=False)\n",
              "        (bn1): BatchNorm2d(64, eps=1e-05, momentum=0.1, affine=True, track_running_stats=True)\n",
              "        (act1): ReLU(inplace=True)\n",
              "        (conv2): Conv2d(64, 64, kernel_size=(3, 3), stride=(1, 1), padding=(1, 1), bias=False)\n",
              "        (bn2): BatchNorm2d(64, eps=1e-05, momentum=0.1, affine=True, track_running_stats=True)\n",
              "        (act2): ReLU(inplace=True)\n",
              "        (conv3): Conv2d(64, 256, kernel_size=(1, 1), stride=(1, 1), bias=False)\n",
              "        (bn3): BatchNorm2d(256, eps=1e-05, momentum=0.1, affine=True, track_running_stats=True)\n",
              "        (act3): ReLU(inplace=True)\n",
              "        (downsample): Sequential(\n",
              "          (0): Conv2d(64, 256, kernel_size=(1, 1), stride=(1, 1), bias=False)\n",
              "          (1): BatchNorm2d(256, eps=1e-05, momentum=0.1, affine=True, track_running_stats=True)\n",
              "        )\n",
              "      )\n",
              "      (1): Bottleneck(\n",
              "        (conv1): Conv2d(256, 64, kernel_size=(1, 1), stride=(1, 1), bias=False)\n",
              "        (bn1): BatchNorm2d(64, eps=1e-05, momentum=0.1, affine=True, track_running_stats=True)\n",
              "        (act1): ReLU(inplace=True)\n",
              "        (conv2): Conv2d(64, 64, kernel_size=(3, 3), stride=(1, 1), padding=(1, 1), bias=False)\n",
              "        (bn2): BatchNorm2d(64, eps=1e-05, momentum=0.1, affine=True, track_running_stats=True)\n",
              "        (act2): ReLU(inplace=True)\n",
              "        (conv3): Conv2d(64, 256, kernel_size=(1, 1), stride=(1, 1), bias=False)\n",
              "        (bn3): BatchNorm2d(256, eps=1e-05, momentum=0.1, affine=True, track_running_stats=True)\n",
              "        (act3): ReLU(inplace=True)\n",
              "      )\n",
              "      (2): Bottleneck(\n",
              "        (conv1): Conv2d(256, 64, kernel_size=(1, 1), stride=(1, 1), bias=False)\n",
              "        (bn1): BatchNorm2d(64, eps=1e-05, momentum=0.1, affine=True, track_running_stats=True)\n",
              "        (act1): ReLU(inplace=True)\n",
              "        (conv2): Conv2d(64, 64, kernel_size=(3, 3), stride=(1, 1), padding=(1, 1), bias=False)\n",
              "        (bn2): BatchNorm2d(64, eps=1e-05, momentum=0.1, affine=True, track_running_stats=True)\n",
              "        (act2): ReLU(inplace=True)\n",
              "        (conv3): Conv2d(64, 256, kernel_size=(1, 1), stride=(1, 1), bias=False)\n",
              "        (bn3): BatchNorm2d(256, eps=1e-05, momentum=0.1, affine=True, track_running_stats=True)\n",
              "        (act3): ReLU(inplace=True)\n",
              "      )\n",
              "    )\n",
              "    (layer2): Sequential(\n",
              "      (0): Bottleneck(\n",
              "        (conv1): Conv2d(256, 128, kernel_size=(1, 1), stride=(1, 1), bias=False)\n",
              "        (bn1): BatchNorm2d(128, eps=1e-05, momentum=0.1, affine=True, track_running_stats=True)\n",
              "        (act1): ReLU(inplace=True)\n",
              "        (conv2): Conv2d(128, 128, kernel_size=(3, 3), stride=(2, 2), padding=(1, 1), bias=False)\n",
              "        (bn2): BatchNorm2d(128, eps=1e-05, momentum=0.1, affine=True, track_running_stats=True)\n",
              "        (act2): ReLU(inplace=True)\n",
              "        (conv3): Conv2d(128, 512, kernel_size=(1, 1), stride=(1, 1), bias=False)\n",
              "        (bn3): BatchNorm2d(512, eps=1e-05, momentum=0.1, affine=True, track_running_stats=True)\n",
              "        (act3): ReLU(inplace=True)\n",
              "        (downsample): Sequential(\n",
              "          (0): Conv2d(256, 512, kernel_size=(1, 1), stride=(2, 2), bias=False)\n",
              "          (1): BatchNorm2d(512, eps=1e-05, momentum=0.1, affine=True, track_running_stats=True)\n",
              "        )\n",
              "      )\n",
              "      (1): Bottleneck(\n",
              "        (conv1): Conv2d(512, 128, kernel_size=(1, 1), stride=(1, 1), bias=False)\n",
              "        (bn1): BatchNorm2d(128, eps=1e-05, momentum=0.1, affine=True, track_running_stats=True)\n",
              "        (act1): ReLU(inplace=True)\n",
              "        (conv2): Conv2d(128, 128, kernel_size=(3, 3), stride=(1, 1), padding=(1, 1), bias=False)\n",
              "        (bn2): BatchNorm2d(128, eps=1e-05, momentum=0.1, affine=True, track_running_stats=True)\n",
              "        (act2): ReLU(inplace=True)\n",
              "        (conv3): Conv2d(128, 512, kernel_size=(1, 1), stride=(1, 1), bias=False)\n",
              "        (bn3): BatchNorm2d(512, eps=1e-05, momentum=0.1, affine=True, track_running_stats=True)\n",
              "        (act3): ReLU(inplace=True)\n",
              "      )\n",
              "      (2): Bottleneck(\n",
              "        (conv1): Conv2d(512, 128, kernel_size=(1, 1), stride=(1, 1), bias=False)\n",
              "        (bn1): BatchNorm2d(128, eps=1e-05, momentum=0.1, affine=True, track_running_stats=True)\n",
              "        (act1): ReLU(inplace=True)\n",
              "        (conv2): Conv2d(128, 128, kernel_size=(3, 3), stride=(1, 1), padding=(1, 1), bias=False)\n",
              "        (bn2): BatchNorm2d(128, eps=1e-05, momentum=0.1, affine=True, track_running_stats=True)\n",
              "        (act2): ReLU(inplace=True)\n",
              "        (conv3): Conv2d(128, 512, kernel_size=(1, 1), stride=(1, 1), bias=False)\n",
              "        (bn3): BatchNorm2d(512, eps=1e-05, momentum=0.1, affine=True, track_running_stats=True)\n",
              "        (act3): ReLU(inplace=True)\n",
              "      )\n",
              "      (3): Bottleneck(\n",
              "        (conv1): Conv2d(512, 128, kernel_size=(1, 1), stride=(1, 1), bias=False)\n",
              "        (bn1): BatchNorm2d(128, eps=1e-05, momentum=0.1, affine=True, track_running_stats=True)\n",
              "        (act1): ReLU(inplace=True)\n",
              "        (conv2): Conv2d(128, 128, kernel_size=(3, 3), stride=(1, 1), padding=(1, 1), bias=False)\n",
              "        (bn2): BatchNorm2d(128, eps=1e-05, momentum=0.1, affine=True, track_running_stats=True)\n",
              "        (act2): ReLU(inplace=True)\n",
              "        (conv3): Conv2d(128, 512, kernel_size=(1, 1), stride=(1, 1), bias=False)\n",
              "        (bn3): BatchNorm2d(512, eps=1e-05, momentum=0.1, affine=True, track_running_stats=True)\n",
              "        (act3): ReLU(inplace=True)\n",
              "      )\n",
              "    )\n",
              "    (layer3): Sequential(\n",
              "      (0): Bottleneck(\n",
              "        (conv1): Conv2d(512, 256, kernel_size=(1, 1), stride=(1, 1), bias=False)\n",
              "        (bn1): BatchNorm2d(256, eps=1e-05, momentum=0.1, affine=True, track_running_stats=True)\n",
              "        (act1): ReLU(inplace=True)\n",
              "        (conv2): Conv2d(256, 256, kernel_size=(3, 3), stride=(2, 2), padding=(1, 1), bias=False)\n",
              "        (bn2): BatchNorm2d(256, eps=1e-05, momentum=0.1, affine=True, track_running_stats=True)\n",
              "        (act2): ReLU(inplace=True)\n",
              "        (conv3): Conv2d(256, 1024, kernel_size=(1, 1), stride=(1, 1), bias=False)\n",
              "        (bn3): BatchNorm2d(1024, eps=1e-05, momentum=0.1, affine=True, track_running_stats=True)\n",
              "        (act3): ReLU(inplace=True)\n",
              "        (downsample): Sequential(\n",
              "          (0): Conv2d(512, 1024, kernel_size=(1, 1), stride=(2, 2), bias=False)\n",
              "          (1): BatchNorm2d(1024, eps=1e-05, momentum=0.1, affine=True, track_running_stats=True)\n",
              "        )\n",
              "      )\n",
              "      (1): Bottleneck(\n",
              "        (conv1): Conv2d(1024, 256, kernel_size=(1, 1), stride=(1, 1), bias=False)\n",
              "        (bn1): BatchNorm2d(256, eps=1e-05, momentum=0.1, affine=True, track_running_stats=True)\n",
              "        (act1): ReLU(inplace=True)\n",
              "        (conv2): Conv2d(256, 256, kernel_size=(3, 3), stride=(1, 1), padding=(1, 1), bias=False)\n",
              "        (bn2): BatchNorm2d(256, eps=1e-05, momentum=0.1, affine=True, track_running_stats=True)\n",
              "        (act2): ReLU(inplace=True)\n",
              "        (conv3): Conv2d(256, 1024, kernel_size=(1, 1), stride=(1, 1), bias=False)\n",
              "        (bn3): BatchNorm2d(1024, eps=1e-05, momentum=0.1, affine=True, track_running_stats=True)\n",
              "        (act3): ReLU(inplace=True)\n",
              "      )\n",
              "      (2): Bottleneck(\n",
              "        (conv1): Conv2d(1024, 256, kernel_size=(1, 1), stride=(1, 1), bias=False)\n",
              "        (bn1): BatchNorm2d(256, eps=1e-05, momentum=0.1, affine=True, track_running_stats=True)\n",
              "        (act1): ReLU(inplace=True)\n",
              "        (conv2): Conv2d(256, 256, kernel_size=(3, 3), stride=(1, 1), padding=(1, 1), bias=False)\n",
              "        (bn2): BatchNorm2d(256, eps=1e-05, momentum=0.1, affine=True, track_running_stats=True)\n",
              "        (act2): ReLU(inplace=True)\n",
              "        (conv3): Conv2d(256, 1024, kernel_size=(1, 1), stride=(1, 1), bias=False)\n",
              "        (bn3): BatchNorm2d(1024, eps=1e-05, momentum=0.1, affine=True, track_running_stats=True)\n",
              "        (act3): ReLU(inplace=True)\n",
              "      )\n",
              "      (3): Bottleneck(\n",
              "        (conv1): Conv2d(1024, 256, kernel_size=(1, 1), stride=(1, 1), bias=False)\n",
              "        (bn1): BatchNorm2d(256, eps=1e-05, momentum=0.1, affine=True, track_running_stats=True)\n",
              "        (act1): ReLU(inplace=True)\n",
              "        (conv2): Conv2d(256, 256, kernel_size=(3, 3), stride=(1, 1), padding=(1, 1), bias=False)\n",
              "        (bn2): BatchNorm2d(256, eps=1e-05, momentum=0.1, affine=True, track_running_stats=True)\n",
              "        (act2): ReLU(inplace=True)\n",
              "        (conv3): Conv2d(256, 1024, kernel_size=(1, 1), stride=(1, 1), bias=False)\n",
              "        (bn3): BatchNorm2d(1024, eps=1e-05, momentum=0.1, affine=True, track_running_stats=True)\n",
              "        (act3): ReLU(inplace=True)\n",
              "      )\n",
              "      (4): Bottleneck(\n",
              "        (conv1): Conv2d(1024, 256, kernel_size=(1, 1), stride=(1, 1), bias=False)\n",
              "        (bn1): BatchNorm2d(256, eps=1e-05, momentum=0.1, affine=True, track_running_stats=True)\n",
              "        (act1): ReLU(inplace=True)\n",
              "        (conv2): Conv2d(256, 256, kernel_size=(3, 3), stride=(1, 1), padding=(1, 1), bias=False)\n",
              "        (bn2): BatchNorm2d(256, eps=1e-05, momentum=0.1, affine=True, track_running_stats=True)\n",
              "        (act2): ReLU(inplace=True)\n",
              "        (conv3): Conv2d(256, 1024, kernel_size=(1, 1), stride=(1, 1), bias=False)\n",
              "        (bn3): BatchNorm2d(1024, eps=1e-05, momentum=0.1, affine=True, track_running_stats=True)\n",
              "        (act3): ReLU(inplace=True)\n",
              "      )\n",
              "      (5): Bottleneck(\n",
              "        (conv1): Conv2d(1024, 256, kernel_size=(1, 1), stride=(1, 1), bias=False)\n",
              "        (bn1): BatchNorm2d(256, eps=1e-05, momentum=0.1, affine=True, track_running_stats=True)\n",
              "        (act1): ReLU(inplace=True)\n",
              "        (conv2): Conv2d(256, 256, kernel_size=(3, 3), stride=(1, 1), padding=(1, 1), bias=False)\n",
              "        (bn2): BatchNorm2d(256, eps=1e-05, momentum=0.1, affine=True, track_running_stats=True)\n",
              "        (act2): ReLU(inplace=True)\n",
              "        (conv3): Conv2d(256, 1024, kernel_size=(1, 1), stride=(1, 1), bias=False)\n",
              "        (bn3): BatchNorm2d(1024, eps=1e-05, momentum=0.1, affine=True, track_running_stats=True)\n",
              "        (act3): ReLU(inplace=True)\n",
              "      )\n",
              "    )\n",
              "    (layer4): Sequential(\n",
              "      (0): Bottleneck(\n",
              "        (conv1): Conv2d(1024, 512, kernel_size=(1, 1), stride=(1, 1), bias=False)\n",
              "        (bn1): BatchNorm2d(512, eps=1e-05, momentum=0.1, affine=True, track_running_stats=True)\n",
              "        (act1): ReLU(inplace=True)\n",
              "        (conv2): Conv2d(512, 512, kernel_size=(3, 3), stride=(2, 2), padding=(1, 1), bias=False)\n",
              "        (bn2): BatchNorm2d(512, eps=1e-05, momentum=0.1, affine=True, track_running_stats=True)\n",
              "        (act2): ReLU(inplace=True)\n",
              "        (conv3): Conv2d(512, 2048, kernel_size=(1, 1), stride=(1, 1), bias=False)\n",
              "        (bn3): BatchNorm2d(2048, eps=1e-05, momentum=0.1, affine=True, track_running_stats=True)\n",
              "        (act3): ReLU(inplace=True)\n",
              "        (downsample): Sequential(\n",
              "          (0): Conv2d(1024, 2048, kernel_size=(1, 1), stride=(2, 2), bias=False)\n",
              "          (1): BatchNorm2d(2048, eps=1e-05, momentum=0.1, affine=True, track_running_stats=True)\n",
              "        )\n",
              "      )\n",
              "      (1): Bottleneck(\n",
              "        (conv1): Conv2d(2048, 512, kernel_size=(1, 1), stride=(1, 1), bias=False)\n",
              "        (bn1): BatchNorm2d(512, eps=1e-05, momentum=0.1, affine=True, track_running_stats=True)\n",
              "        (act1): ReLU(inplace=True)\n",
              "        (conv2): Conv2d(512, 512, kernel_size=(3, 3), stride=(1, 1), padding=(1, 1), bias=False)\n",
              "        (bn2): BatchNorm2d(512, eps=1e-05, momentum=0.1, affine=True, track_running_stats=True)\n",
              "        (act2): ReLU(inplace=True)\n",
              "        (conv3): Conv2d(512, 2048, kernel_size=(1, 1), stride=(1, 1), bias=False)\n",
              "        (bn3): BatchNorm2d(2048, eps=1e-05, momentum=0.1, affine=True, track_running_stats=True)\n",
              "        (act3): ReLU(inplace=True)\n",
              "      )\n",
              "      (2): Bottleneck(\n",
              "        (conv1): Conv2d(2048, 512, kernel_size=(1, 1), stride=(1, 1), bias=False)\n",
              "        (bn1): BatchNorm2d(512, eps=1e-05, momentum=0.1, affine=True, track_running_stats=True)\n",
              "        (act1): ReLU(inplace=True)\n",
              "        (conv2): Conv2d(512, 512, kernel_size=(3, 3), stride=(1, 1), padding=(1, 1), bias=False)\n",
              "        (bn2): BatchNorm2d(512, eps=1e-05, momentum=0.1, affine=True, track_running_stats=True)\n",
              "        (act2): ReLU(inplace=True)\n",
              "        (conv3): Conv2d(512, 2048, kernel_size=(1, 1), stride=(1, 1), bias=False)\n",
              "        (bn3): BatchNorm2d(2048, eps=1e-05, momentum=0.1, affine=True, track_running_stats=True)\n",
              "        (act3): ReLU(inplace=True)\n",
              "      )\n",
              "    )\n",
              "    (global_pool): SelectAdaptivePool2d (pool_type=avg, flatten=Flatten(start_dim=1, end_dim=-1))\n",
              "    (fc): Linear(in_features=2048, out_features=1000, bias=True)\n",
              "    (classifier): Linear(in_features=2048, out_features=10, bias=True)\n",
              "  )\n",
              ")"
            ]
          },
          "metadata": {},
          "execution_count": 26
        }
      ],
      "source": [
        "model = BaseModel(Config.MODEL_NAME, Config.class_num)\n",
        "model"
      ]
    },
    {
      "cell_type": "markdown",
      "id": "783004f0",
      "metadata": {
        "papermill": {
          "duration": 0.044666,
          "end_time": "2022-02-09T03:08:54.200853",
          "exception": false,
          "start_time": "2022-02-09T03:08:54.156187",
          "status": "completed"
        },
        "tags": [],
        "id": "783004f0"
      },
      "source": [
        "### 最適化関数"
      ]
    },
    {
      "cell_type": "code",
      "execution_count": null,
      "id": "97d97d90",
      "metadata": {
        "execution": {
          "iopub.execute_input": "2022-02-09T03:08:54.294751Z",
          "iopub.status.busy": "2022-02-09T03:08:54.294185Z",
          "iopub.status.idle": "2022-02-09T03:08:54.296597Z",
          "shell.execute_reply": "2022-02-09T03:08:54.296003Z",
          "shell.execute_reply.started": "2021-10-27T03:32:04.248296Z"
        },
        "papermill": {
          "duration": 0.052214,
          "end_time": "2022-02-09T03:08:54.296739",
          "exception": false,
          "start_time": "2022-02-09T03:08:54.244525",
          "status": "completed"
        },
        "tags": [],
        "id": "97d97d90"
      },
      "outputs": [],
      "source": [
        "# Adam は勾配を移動平均と学習率の調整からなります (MomentumとRMSProp)\n",
        "optimizer = Adam(model.parameters(), lr=Config.model_lr, weight_decay=Config.weight_decay, amsgrad=False)"
      ]
    },
    {
      "cell_type": "markdown",
      "id": "bdc2cc5f",
      "metadata": {
        "papermill": {
          "duration": 0.043822,
          "end_time": "2022-02-09T03:08:54.384072",
          "exception": false,
          "start_time": "2022-02-09T03:08:54.340250",
          "status": "completed"
        },
        "tags": [],
        "id": "bdc2cc5f"
      },
      "source": [
        "### スケジューラ"
      ]
    },
    {
      "cell_type": "code",
      "execution_count": null,
      "id": "8896635a",
      "metadata": {
        "execution": {
          "iopub.execute_input": "2022-02-09T03:08:54.493925Z",
          "iopub.status.busy": "2022-02-09T03:08:54.493320Z",
          "iopub.status.idle": "2022-02-09T03:08:54.668501Z",
          "shell.execute_reply": "2022-02-09T03:08:54.669075Z",
          "shell.execute_reply.started": "2021-10-27T03:32:04.258004Z"
        },
        "papermill": {
          "duration": 0.241544,
          "end_time": "2022-02-09T03:08:54.669271",
          "exception": false,
          "start_time": "2022-02-09T03:08:54.427727",
          "status": "completed"
        },
        "tags": [],
        "colab": {
          "base_uri": "https://localhost:8080/",
          "height": 320
        },
        "id": "8896635a",
        "outputId": "167824d4-17a4-4d2a-c964-54f8b0498a6a"
      },
      "outputs": [
        {
          "output_type": "display_data",
          "data": {
            "image/png": "[encoded data removed]",
            "text/plain": [
              "<Figure size 720x360 with 1 Axes>"
            ]
          },
          "metadata": {
            "needs_background": "light"
          }
        }
      ],
      "source": [
        "scheduler = CosineAnnealingLR(optimizer, T_max=Config.T_max, eta_min=0.001)\n",
        "\n",
        "log_s = []\n",
        "for epoch in range(0, 100):\n",
        "    log_s.append(scheduler.get_last_lr()[0])\n",
        "    scheduler.step()\n",
        "\n",
        "plt.figure(figsize=(10, 5))\n",
        "plt.plot(np.arange(100), log_s)\n",
        "plt.show()"
      ]
    },
    {
      "cell_type": "markdown",
      "id": "776c181d",
      "metadata": {
        "papermill": {
          "duration": 0.04574,
          "end_time": "2022-02-09T03:08:54.760033",
          "exception": false,
          "start_time": "2022-02-09T03:08:54.714293",
          "status": "completed"
        },
        "tags": [],
        "id": "776c181d"
      },
      "source": [
        "# 学習"
      ]
    },
    {
      "cell_type": "code",
      "execution_count": null,
      "id": "eb05601c",
      "metadata": {
        "execution": {
          "iopub.execute_input": "2022-02-09T03:08:54.855807Z",
          "iopub.status.busy": "2022-02-09T03:08:54.855163Z",
          "iopub.status.idle": "2022-02-09T03:08:54.867942Z",
          "shell.execute_reply": "2022-02-09T03:08:54.867447Z",
          "shell.execute_reply.started": "2021-10-27T03:32:04.495189Z"
        },
        "papermill": {
          "duration": 0.062163,
          "end_time": "2022-02-09T03:08:54.868086",
          "exception": false,
          "start_time": "2022-02-09T03:08:54.805923",
          "status": "completed"
        },
        "tags": [],
        "id": "eb05601c"
      },
      "outputs": [],
      "source": [
        "def train_loop(train, fold, class_num=Config.class_num, norms=(0.5, 0.5)):\n",
        "    \n",
        "    print('='*20 +'Fold '+ f'{fold}' + '='*20)\n",
        "    train_index = train[train['fold'] != fold].index # 学習用のindex\n",
        "    valid_index = train[train['fold'] == fold].index # 評価用のindex\n",
        "\n",
        "    train_dataset = TrainDataset(train.loc[train_index].reset_index(drop=True), \n",
        "                                 transform=get_transforms(data='train', size=Config.size, norms=norms)) # 学習用のdatasetを作成\n",
        "    valid_dataset = TrainDataset(train.loc[valid_index].reset_index(drop=True), \n",
        "                                 transform=get_transforms(data='valid', size=Config.size, norms=norms)) # 評価用のdatasetを作成\n",
        "\n",
        "    train_loader = DataLoader(train_dataset, batch_size=Config.batch_size, shuffle=True, \n",
        "                              num_workers=Config.num_workers, pin_memory=True, drop_last=True)# 学習用のdatasetsのbatchを作成\n",
        "    valid_loader = DataLoader(valid_dataset, batch_size=Config.batch_size, shuffle=False, \n",
        "                              num_workers=Config.num_workers, pin_memory=True, drop_last=False) # 評価用のdatasetsのbatchを作成\n",
        "    \n",
        "    \n",
        "    model = BaseModel(Config.MODEL_NAME, class_num).to(Config.device)\n",
        "\n",
        "    optimizer = Adam(model.parameters(), lr=Config.model_lr, weight_decay=Config.weight_decay, amsgrad=False)\n",
        "    scheduler = CosineAnnealingLR(optimizer, T_max=Config.T_max, eta_min=Config.min_lr, last_epoch=-1)\n",
        "\n",
        "    criterion = nn.CrossEntropyLoss() # loss function\n",
        "\n",
        "    best_score = 0.\n",
        "    best_loss = np.inf\n",
        "    \n",
        "    for epoch in range(Config.epochs):\n",
        "        start_time = time.time()\n",
        "        avg_loss = train_fn(train_loader, model, criterion, optimizer, epoch, scheduler) # 学習\n",
        "        avg_val_loss, predict = valid_fn(valid_loader, model, criterion) # 評価用の推論\n",
        "        valid_labels = train.loc[valid_index, \"label\"].values # 予測ラベル\n",
        "        \n",
        "        scheduler.step() \n",
        "        score = accuracy_score(valid_labels, predict) # 適合率を計算\n",
        "        elapsed = time.time() - start_time\n",
        "\n",
        "        LOGGER.info(f'Epoch {epoch+1} - avg_train_loss: {avg_loss:.4f}  avg_val_loss: {avg_val_loss:.4f}  time: {elapsed:.0f}s')\n",
        "        LOGGER.info(f'Epoch {epoch+1} - Accuracy: {score}')\n",
        "\n",
        "        if score > best_score:\n",
        "            best_score = score\n",
        "            LOGGER.info(f'Epoch {epoch+1} - Save Best Score: {best_score:.4f} Model')\n",
        "            model_filename = f'{Config.model_dir}/{Config.MODEL_NAME}_fold{fold}_best_{Config.Version}.pth'\n",
        "            torch.save(model.state_dict(), model_filename) # モデルの保存\n",
        "            #torch.save(model.state_dict(), \"./\" + f'{Config.MODEL_NAME}_fold{fold}_best_{Config.Version}.pth') # モデルの保存\n",
        "            print(f'{model_filename} saved')\n",
        "\n",
        "            valid_folds_predict = predict\n",
        "            \n",
        "        del avg_loss, avg_val_loss, valid_labels, predict, score\n",
        "        gc.collect()\n",
        "        torch.cuda.empty_cache()\n",
        "\n",
        "    return valid_folds_predict"
      ]
    },
    {
      "cell_type": "code",
      "execution_count": null,
      "id": "8132a4e8",
      "metadata": {
        "execution": {
          "iopub.execute_input": "2022-02-09T03:08:54.962683Z",
          "iopub.status.busy": "2022-02-09T03:08:54.962112Z",
          "iopub.status.idle": "2022-02-09T05:14:45.109864Z",
          "shell.execute_reply": "2022-02-09T05:14:45.110686Z",
          "shell.execute_reply.started": "2021-10-27T03:32:04.516365Z"
        },
        "id": "8132a4e8",
        "outputId": "388462db-cb3e-4ea6-89d6-5fb15b977c89",
        "papermill": {
          "duration": 7550.198657,
          "end_time": "2022-02-09T05:14:45.111727",
          "exception": false,
          "start_time": "2022-02-09T03:08:54.913070",
          "status": "completed"
        },
        "tags": [],
        "colab": {
          "base_uri": "https://localhost:8080/"
        }
      },
      "outputs": [
        {
          "output_type": "stream",
          "name": "stdout",
          "text": [
            "====================Fold 0====================\n",
            "Epoch: [1][0/525] Data 0.232 (0.232) Elapsed 0m 0s (remain 7m 42s) Loss: 6.9503(6.9503) \n",
            "Epoch: [1][524/525] Data 0.128 (0.135) Elapsed 4m 23s (remain 0m 0s) Loss: 2.0668(3.5146) \n",
            "EVAL: [0/132] Data 0.134 (0.134) Elapsed 0m 0s (remain 0m 31s) Loss: 2.1216(2.1216) \n"
          ]
        },
        {
          "output_type": "stream",
          "name": "stderr",
          "text": [
            "Epoch 1 - avg_train_loss: 3.5146  avg_val_loss: 2.0747  time: 296s\n",
            "Epoch 1 - Accuracy: 0.3644047619047619\n",
            "Epoch 1 - Save Best Score: 0.3644 Model\n"
          ]
        },
        {
          "output_type": "stream",
          "name": "stdout",
          "text": [
            "EVAL: [131/132] Data 0.032 (0.133) Elapsed 0m 31s (remain 0m 0s) Loss: 2.0785(2.0747) \n",
            "/content/drive/MyDrive/kaggla-za/E002Round3/Week2/DigitRecognizer/model/exp3/resnet50_fold0_best_exp3.pth saved\n",
            "Epoch: [2][0/525] Data 0.153 (0.153) Elapsed 0m 0s (remain 4m 32s) Loss: 2.0720(2.0720) \n",
            "Epoch: [2][524/525] Data 0.139 (0.133) Elapsed 4m 22s (remain 0m 0s) Loss: 1.5332(1.8458) \n",
            "EVAL: [0/132] Data 0.137 (0.137) Elapsed 0m 0s (remain 0m 32s) Loss: 1.7369(1.7369) \n"
          ]
        },
        {
          "output_type": "stream",
          "name": "stderr",
          "text": [
            "Epoch 2 - avg_train_loss: 1.8458  avg_val_loss: 1.6594  time: 294s\n",
            "Epoch 2 - Accuracy: 0.5454761904761904\n",
            "Epoch 2 - Save Best Score: 0.5455 Model\n"
          ]
        },
        {
          "output_type": "stream",
          "name": "stdout",
          "text": [
            "EVAL: [131/132] Data 0.032 (0.132) Elapsed 0m 31s (remain 0m 0s) Loss: 1.6437(1.6594) \n",
            "/content/drive/MyDrive/kaggla-za/E002Round3/Week2/DigitRecognizer/model/exp3/resnet50_fold0_best_exp3.pth saved\n",
            "Epoch: [3][0/525] Data 0.136 (0.136) Elapsed 0m 0s (remain 4m 24s) Loss: 1.6528(1.6528) \n",
            "Epoch: [3][524/525] Data 0.130 (0.133) Elapsed 4m 22s (remain 0m 0s) Loss: 1.3053(1.4849) \n",
            "EVAL: [0/132] Data 0.148 (0.148) Elapsed 0m 0s (remain 0m 33s) Loss: 1.4175(1.4175) \n"
          ]
        },
        {
          "output_type": "stream",
          "name": "stderr",
          "text": [
            "Epoch 3 - avg_train_loss: 1.4849  avg_val_loss: 1.3075  time: 294s\n",
            "Epoch 3 - Accuracy: 0.6965476190476191\n",
            "Epoch 3 - Save Best Score: 0.6965 Model\n"
          ]
        },
        {
          "output_type": "stream",
          "name": "stdout",
          "text": [
            "EVAL: [131/132] Data 0.032 (0.131) Elapsed 0m 31s (remain 0m 0s) Loss: 1.3131(1.3075) \n",
            "/content/drive/MyDrive/kaggla-za/E002Round3/Week2/DigitRecognizer/model/exp3/resnet50_fold0_best_exp3.pth saved\n",
            "Epoch: [4][0/525] Data 0.137 (0.137) Elapsed 0m 0s (remain 4m 24s) Loss: 1.3415(1.3415) \n",
            "Epoch: [4][524/525] Data 0.127 (0.133) Elapsed 4m 22s (remain 0m 0s) Loss: 1.0316(1.1920) \n",
            "EVAL: [0/132] Data 0.138 (0.138) Elapsed 0m 0s (remain 0m 32s) Loss: 1.2300(1.2300) \n"
          ]
        },
        {
          "output_type": "stream",
          "name": "stderr",
          "text": [
            "Epoch 4 - avg_train_loss: 1.1920  avg_val_loss: 1.1261  time: 294s\n",
            "Epoch 4 - Accuracy: 0.7432142857142857\n",
            "Epoch 4 - Save Best Score: 0.7432 Model\n"
          ]
        },
        {
          "output_type": "stream",
          "name": "stdout",
          "text": [
            "EVAL: [131/132] Data 0.033 (0.131) Elapsed 0m 31s (remain 0m 0s) Loss: 1.1214(1.1261) \n",
            "/content/drive/MyDrive/kaggla-za/E002Round3/Week2/DigitRecognizer/model/exp3/resnet50_fold0_best_exp3.pth saved\n",
            "Epoch: [5][0/525] Data 0.140 (0.140) Elapsed 0m 0s (remain 4m 25s) Loss: 1.0889(1.0889) \n",
            "Epoch: [5][524/525] Data 0.134 (0.132) Elapsed 4m 21s (remain 0m 0s) Loss: 0.8589(1.0036) \n",
            "EVAL: [0/132] Data 0.139 (0.139) Elapsed 0m 0s (remain 0m 32s) Loss: 1.0892(1.0892) \n"
          ]
        },
        {
          "output_type": "stream",
          "name": "stderr",
          "text": [
            "Epoch 5 - avg_train_loss: 1.0036  avg_val_loss: 0.9771  time: 293s\n",
            "Epoch 5 - Accuracy: 0.8052380952380952\n",
            "Epoch 5 - Save Best Score: 0.8052 Model\n"
          ]
        },
        {
          "output_type": "stream",
          "name": "stdout",
          "text": [
            "EVAL: [131/132] Data 0.033 (0.131) Elapsed 0m 31s (remain 0m 0s) Loss: 0.9876(0.9771) \n",
            "/content/drive/MyDrive/kaggla-za/E002Round3/Week2/DigitRecognizer/model/exp3/resnet50_fold0_best_exp3.pth saved\n",
            "Epoch: [6][0/525] Data 0.138 (0.138) Elapsed 0m 0s (remain 4m 24s) Loss: 0.9163(0.9163) \n",
            "Epoch: [6][524/525] Data 0.127 (0.132) Elapsed 4m 21s (remain 0m 0s) Loss: 0.9195(0.9144) \n",
            "EVAL: [0/132] Data 0.138 (0.138) Elapsed 0m 0s (remain 0m 32s) Loss: 1.0235(1.0235) \n"
          ]
        },
        {
          "output_type": "stream",
          "name": "stderr",
          "text": [
            "Epoch 6 - avg_train_loss: 0.9144  avg_val_loss: 0.8828  time: 293s\n",
            "Epoch 6 - Accuracy: 0.8292857142857143\n",
            "Epoch 6 - Save Best Score: 0.8293 Model\n"
          ]
        },
        {
          "output_type": "stream",
          "name": "stdout",
          "text": [
            "EVAL: [131/132] Data 0.033 (0.129) Elapsed 0m 30s (remain 0m 0s) Loss: 0.9202(0.8828) \n",
            "/content/drive/MyDrive/kaggla-za/E002Round3/Week2/DigitRecognizer/model/exp3/resnet50_fold0_best_exp3.pth saved\n",
            "Epoch: [7][0/525] Data 0.135 (0.135) Elapsed 0m 0s (remain 4m 24s) Loss: 0.8247(0.8247) \n",
            "Epoch: [7][524/525] Data 0.132 (0.132) Elapsed 4m 21s (remain 0m 0s) Loss: 0.8657(0.8390) \n",
            "EVAL: [0/132] Data 0.140 (0.140) Elapsed 0m 0s (remain 0m 32s) Loss: 0.9150(0.9150) \n"
          ]
        },
        {
          "output_type": "stream",
          "name": "stderr",
          "text": [
            "Epoch 7 - avg_train_loss: 0.8390  avg_val_loss: 0.7992  time: 293s\n",
            "Epoch 7 - Accuracy: 0.8436904761904762\n",
            "Epoch 7 - Save Best Score: 0.8437 Model\n"
          ]
        },
        {
          "output_type": "stream",
          "name": "stdout",
          "text": [
            "EVAL: [131/132] Data 0.033 (0.131) Elapsed 0m 31s (remain 0m 0s) Loss: 0.8435(0.7992) \n",
            "/content/drive/MyDrive/kaggla-za/E002Round3/Week2/DigitRecognizer/model/exp3/resnet50_fold0_best_exp3.pth saved\n",
            "Epoch: [8][0/525] Data 0.153 (0.153) Elapsed 0m 0s (remain 4m 33s) Loss: 0.6824(0.6824) \n",
            "Epoch: [8][524/525] Data 0.131 (0.132) Elapsed 4m 22s (remain 0m 0s) Loss: 0.6751(0.7017) \n",
            "EVAL: [0/132] Data 0.147 (0.147) Elapsed 0m 0s (remain 0m 33s) Loss: 0.7680(0.7680) \n"
          ]
        },
        {
          "output_type": "stream",
          "name": "stderr",
          "text": [
            "Epoch 8 - avg_train_loss: 0.7017  avg_val_loss: 0.6143  time: 294s\n",
            "Epoch 8 - Accuracy: 0.8852380952380953\n",
            "Epoch 8 - Save Best Score: 0.8852 Model\n"
          ]
        },
        {
          "output_type": "stream",
          "name": "stdout",
          "text": [
            "EVAL: [131/132] Data 0.033 (0.130) Elapsed 0m 31s (remain 0m 0s) Loss: 0.6934(0.6143) \n",
            "/content/drive/MyDrive/kaggla-za/E002Round3/Week2/DigitRecognizer/model/exp3/resnet50_fold0_best_exp3.pth saved\n",
            "Epoch: [9][0/525] Data 0.149 (0.149) Elapsed 0m 0s (remain 4m 30s) Loss: 0.5835(0.5835) \n",
            "Epoch: [9][524/525] Data 0.125 (0.132) Elapsed 4m 21s (remain 0m 0s) Loss: 0.4695(0.5046) \n",
            "EVAL: [0/132] Data 0.139 (0.139) Elapsed 0m 0s (remain 0m 32s) Loss: 0.5900(0.5900) \n"
          ]
        },
        {
          "output_type": "stream",
          "name": "stderr",
          "text": [
            "Epoch 9 - avg_train_loss: 0.5046  avg_val_loss: 0.4501  time: 293s\n",
            "Epoch 9 - Accuracy: 0.9182142857142858\n",
            "Epoch 9 - Save Best Score: 0.9182 Model\n"
          ]
        },
        {
          "output_type": "stream",
          "name": "stdout",
          "text": [
            "EVAL: [131/132] Data 0.033 (0.129) Elapsed 0m 30s (remain 0m 0s) Loss: 0.4688(0.4501) \n",
            "/content/drive/MyDrive/kaggla-za/E002Round3/Week2/DigitRecognizer/model/exp3/resnet50_fold0_best_exp3.pth saved\n",
            "Epoch: [10][0/525] Data 0.138 (0.138) Elapsed 0m 0s (remain 4m 25s) Loss: 0.4261(0.4261) \n",
            "Epoch: [10][524/525] Data 0.131 (0.133) Elapsed 4m 22s (remain 0m 0s) Loss: 0.4344(0.3339) \n",
            "EVAL: [0/132] Data 0.124 (0.124) Elapsed 0m 0s (remain 0m 30s) Loss: 0.6200(0.6200) \n"
          ]
        },
        {
          "output_type": "stream",
          "name": "stderr",
          "text": [
            "Epoch 10 - avg_train_loss: 0.3339  avg_val_loss: 0.4689  time: 294s\n",
            "Epoch 10 - Accuracy: 0.871547619047619\n"
          ]
        },
        {
          "output_type": "stream",
          "name": "stdout",
          "text": [
            "EVAL: [131/132] Data 0.033 (0.129) Elapsed 0m 30s (remain 0m 0s) Loss: 0.6375(0.4689) \n",
            "Epoch: [11][0/525] Data 0.136 (0.136) Elapsed 0m 0s (remain 4m 24s) Loss: 0.2435(0.2435) \n",
            "Epoch: [11][524/525] Data 0.134 (0.132) Elapsed 4m 21s (remain 0m 0s) Loss: 0.2035(0.2287) \n",
            "EVAL: [0/132] Data 0.131 (0.131) Elapsed 0m 0s (remain 0m 31s) Loss: 0.4187(0.4187) \n"
          ]
        },
        {
          "output_type": "stream",
          "name": "stderr",
          "text": [
            "Epoch 11 - avg_train_loss: 0.2287  avg_val_loss: 0.3257  time: 293s\n",
            "Epoch 11 - Accuracy: 0.9263095238095238\n",
            "Epoch 11 - Save Best Score: 0.9263 Model\n"
          ]
        },
        {
          "output_type": "stream",
          "name": "stdout",
          "text": [
            "EVAL: [131/132] Data 0.032 (0.130) Elapsed 0m 31s (remain 0m 0s) Loss: 0.2756(0.3257) \n",
            "/content/drive/MyDrive/kaggla-za/E002Round3/Week2/DigitRecognizer/model/exp3/resnet50_fold0_best_exp3.pth saved\n",
            "Epoch: [12][0/525] Data 0.147 (0.147) Elapsed 0m 0s (remain 4m 29s) Loss: 0.1617(0.1617) \n",
            "Epoch: [12][524/525] Data 0.132 (0.132) Elapsed 4m 21s (remain 0m 0s) Loss: 0.1650(0.1700) \n",
            "EVAL: [0/132] Data 0.139 (0.139) Elapsed 0m 0s (remain 0m 32s) Loss: 0.8675(0.8675) \n"
          ]
        },
        {
          "output_type": "stream",
          "name": "stderr",
          "text": [
            "Epoch 12 - avg_train_loss: 0.1700  avg_val_loss: 0.6279  time: 293s\n",
            "Epoch 12 - Accuracy: 0.78\n"
          ]
        },
        {
          "output_type": "stream",
          "name": "stdout",
          "text": [
            "EVAL: [131/132] Data 0.033 (0.130) Elapsed 0m 31s (remain 0m 0s) Loss: 0.7166(0.6279) \n",
            "Epoch: [13][0/525] Data 0.149 (0.149) Elapsed 0m 0s (remain 4m 32s) Loss: 0.1085(0.1085) \n",
            "Epoch: [13][524/525] Data 0.131 (0.132) Elapsed 4m 21s (remain 0m 0s) Loss: 0.1278(0.1354) \n",
            "EVAL: [0/132] Data 0.133 (0.133) Elapsed 0m 0s (remain 0m 32s) Loss: 0.8784(0.8784) \n"
          ]
        },
        {
          "output_type": "stream",
          "name": "stderr",
          "text": [
            "Epoch 13 - avg_train_loss: 0.1354  avg_val_loss: 0.6541  time: 293s\n",
            "Epoch 13 - Accuracy: 0.7838095238095238\n"
          ]
        },
        {
          "output_type": "stream",
          "name": "stdout",
          "text": [
            "EVAL: [131/132] Data 0.031 (0.130) Elapsed 0m 31s (remain 0m 0s) Loss: 0.6173(0.6541) \n",
            "Epoch: [14][0/525] Data 0.137 (0.137) Elapsed 0m 0s (remain 4m 24s) Loss: 0.1933(0.1933) \n",
            "Epoch: [14][524/525] Data 0.126 (0.132) Elapsed 4m 21s (remain 0m 0s) Loss: 0.0684(0.1159) \n",
            "EVAL: [0/132] Data 0.140 (0.140) Elapsed 0m 0s (remain 0m 32s) Loss: 0.2123(0.2123) \n"
          ]
        },
        {
          "output_type": "stream",
          "name": "stderr",
          "text": [
            "Epoch 14 - avg_train_loss: 0.1159  avg_val_loss: 0.1358  time: 293s\n",
            "Epoch 14 - Accuracy: 0.9688095238095238\n",
            "Epoch 14 - Save Best Score: 0.9688 Model\n"
          ]
        },
        {
          "output_type": "stream",
          "name": "stdout",
          "text": [
            "EVAL: [131/132] Data 0.032 (0.130) Elapsed 0m 31s (remain 0m 0s) Loss: 0.1347(0.1358) \n",
            "/content/drive/MyDrive/kaggla-za/E002Round3/Week2/DigitRecognizer/model/exp3/resnet50_fold0_best_exp3.pth saved\n",
            "Epoch: [15][0/525] Data 0.136 (0.136) Elapsed 0m 0s (remain 4m 24s) Loss: 0.1474(0.1474) \n",
            "Epoch: [15][524/525] Data 0.132 (0.132) Elapsed 4m 22s (remain 0m 0s) Loss: 0.0871(0.1033) \n",
            "EVAL: [0/132] Data 0.129 (0.129) Elapsed 0m 0s (remain 0m 30s) Loss: 0.1894(0.1894) \n"
          ]
        },
        {
          "output_type": "stream",
          "name": "stderr",
          "text": [
            "Epoch 15 - avg_train_loss: 0.1033  avg_val_loss: 0.1151  time: 294s\n",
            "Epoch 15 - Accuracy: 0.9719047619047619\n",
            "Epoch 15 - Save Best Score: 0.9719 Model\n"
          ]
        },
        {
          "output_type": "stream",
          "name": "stdout",
          "text": [
            "EVAL: [131/132] Data 0.032 (0.130) Elapsed 0m 31s (remain 0m 0s) Loss: 0.1097(0.1151) \n",
            "/content/drive/MyDrive/kaggla-za/E002Round3/Week2/DigitRecognizer/model/exp3/resnet50_fold0_best_exp3.pth saved\n",
            "Epoch: [16][0/525] Data 0.134 (0.134) Elapsed 0m 0s (remain 4m 22s) Loss: 0.1283(0.1283) \n",
            "Epoch: [16][524/525] Data 0.127 (0.132) Elapsed 4m 21s (remain 0m 0s) Loss: 0.1027(0.0980) \n",
            "EVAL: [0/132] Data 0.130 (0.130) Elapsed 0m 0s (remain 0m 31s) Loss: 0.2362(0.2362) \n"
          ]
        },
        {
          "output_type": "stream",
          "name": "stderr",
          "text": [
            "Epoch 16 - avg_train_loss: 0.0980  avg_val_loss: 0.1514  time: 293s\n",
            "Epoch 16 - Accuracy: 0.9628571428571429\n"
          ]
        },
        {
          "output_type": "stream",
          "name": "stdout",
          "text": [
            "EVAL: [131/132] Data 0.031 (0.130) Elapsed 0m 31s (remain 0m 0s) Loss: 0.1612(0.1514) \n",
            "Epoch: [17][0/525] Data 0.130 (0.130) Elapsed 0m 0s (remain 4m 21s) Loss: 0.1154(0.1154) \n",
            "Epoch: [17][524/525] Data 0.137 (0.132) Elapsed 4m 21s (remain 0m 0s) Loss: 0.0821(0.0961) \n",
            "EVAL: [0/132] Data 0.137 (0.137) Elapsed 0m 0s (remain 0m 32s) Loss: 0.1875(0.1875) \n"
          ]
        },
        {
          "output_type": "stream",
          "name": "stderr",
          "text": [
            "Epoch 17 - avg_train_loss: 0.0961  avg_val_loss: 0.1224  time: 293s\n",
            "Epoch 17 - Accuracy: 0.9675\n"
          ]
        },
        {
          "output_type": "stream",
          "name": "stdout",
          "text": [
            "EVAL: [131/132] Data 0.032 (0.130) Elapsed 0m 31s (remain 0m 0s) Loss: 0.0563(0.1224) \n",
            "Epoch: [18][0/525] Data 0.140 (0.140) Elapsed 0m 0s (remain 4m 26s) Loss: 0.0963(0.0963) \n",
            "Epoch: [18][524/525] Data 0.134 (0.132) Elapsed 4m 21s (remain 0m 0s) Loss: 0.0873(0.0921) \n",
            "EVAL: [0/132] Data 0.138 (0.138) Elapsed 0m 0s (remain 0m 32s) Loss: 0.1499(0.1499) \n"
          ]
        },
        {
          "output_type": "stream",
          "name": "stderr",
          "text": [
            "Epoch 18 - avg_train_loss: 0.0921  avg_val_loss: 0.1064  time: 293s\n",
            "Epoch 18 - Accuracy: 0.9708333333333333\n"
          ]
        },
        {
          "output_type": "stream",
          "name": "stdout",
          "text": [
            "EVAL: [131/132] Data 0.032 (0.130) Elapsed 0m 31s (remain 0m 0s) Loss: 0.0709(0.1064) \n",
            "Epoch: [19][0/525] Data 0.146 (0.146) Elapsed 0m 0s (remain 4m 29s) Loss: 0.1159(0.1159) \n",
            "Epoch: [19][524/525] Data 0.134 (0.132) Elapsed 4m 21s (remain 0m 0s) Loss: 0.0705(0.0890) \n",
            "EVAL: [0/132] Data 0.139 (0.139) Elapsed 0m 0s (remain 0m 32s) Loss: 0.1570(0.1570) \n"
          ]
        },
        {
          "output_type": "stream",
          "name": "stderr",
          "text": [
            "Epoch 19 - avg_train_loss: 0.0890  avg_val_loss: 0.1070  time: 294s\n",
            "Epoch 19 - Accuracy: 0.9723809523809523\n",
            "Epoch 19 - Save Best Score: 0.9724 Model\n"
          ]
        },
        {
          "output_type": "stream",
          "name": "stdout",
          "text": [
            "EVAL: [131/132] Data 0.034 (0.130) Elapsed 0m 31s (remain 0m 0s) Loss: 0.0526(0.1070) \n",
            "/content/drive/MyDrive/kaggla-za/E002Round3/Week2/DigitRecognizer/model/exp3/resnet50_fold0_best_exp3.pth saved\n",
            "Epoch: [20][0/525] Data 0.140 (0.140) Elapsed 0m 0s (remain 4m 30s) Loss: 0.1006(0.1006) \n",
            "Epoch: [20][524/525] Data 0.132 (0.133) Elapsed 4m 22s (remain 0m 0s) Loss: 0.0974(0.0791) \n",
            "EVAL: [0/132] Data 0.139 (0.139) Elapsed 0m 0s (remain 0m 33s) Loss: 0.3493(0.3493) \n"
          ]
        },
        {
          "output_type": "stream",
          "name": "stderr",
          "text": [
            "Epoch 20 - avg_train_loss: 0.0791  avg_val_loss: 0.2801  time: 294s\n",
            "Epoch 20 - Accuracy: 0.9139285714285714\n"
          ]
        },
        {
          "output_type": "stream",
          "name": "stdout",
          "text": [
            "EVAL: [131/132] Data 0.030 (0.130) Elapsed 0m 31s (remain 0m 0s) Loss: 0.1414(0.2801) \n",
            "Epoch: [21][0/525] Data 0.137 (0.137) Elapsed 0m 0s (remain 4m 24s) Loss: 0.0553(0.0553) \n",
            "Epoch: [21][524/525] Data 0.127 (0.133) Elapsed 4m 22s (remain 0m 0s) Loss: 0.0393(0.0668) \n",
            "EVAL: [0/132] Data 0.137 (0.137) Elapsed 0m 0s (remain 0m 31s) Loss: 0.2337(0.2337) \n"
          ]
        },
        {
          "output_type": "stream",
          "name": "stderr",
          "text": [
            "Epoch 21 - avg_train_loss: 0.0668  avg_val_loss: 0.1605  time: 294s\n",
            "Epoch 21 - Accuracy: 0.9519047619047619\n"
          ]
        },
        {
          "output_type": "stream",
          "name": "stdout",
          "text": [
            "EVAL: [131/132] Data 0.030 (0.131) Elapsed 0m 31s (remain 0m 0s) Loss: 0.1255(0.1605) \n",
            "Epoch: [22][0/525] Data 0.130 (0.130) Elapsed 0m 0s (remain 4m 21s) Loss: 0.0537(0.0537) \n",
            "Epoch: [22][524/525] Data 0.125 (0.133) Elapsed 4m 22s (remain 0m 0s) Loss: 0.0489(0.0572) \n",
            "EVAL: [0/132] Data 0.141 (0.141) Elapsed 0m 0s (remain 0m 32s) Loss: 0.1312(0.1312) \n"
          ]
        },
        {
          "output_type": "stream",
          "name": "stderr",
          "text": [
            "Epoch 22 - avg_train_loss: 0.0572  avg_val_loss: 0.0753  time: 294s\n",
            "Epoch 22 - Accuracy: 0.9795238095238096\n",
            "Epoch 22 - Save Best Score: 0.9795 Model\n"
          ]
        },
        {
          "output_type": "stream",
          "name": "stdout",
          "text": [
            "EVAL: [131/132] Data 0.031 (0.130) Elapsed 0m 31s (remain 0m 0s) Loss: 0.0248(0.0753) \n",
            "/content/drive/MyDrive/kaggla-za/E002Round3/Week2/DigitRecognizer/model/exp3/resnet50_fold0_best_exp3.pth saved\n",
            "Epoch: [23][0/525] Data 0.145 (0.145) Elapsed 0m 0s (remain 4m 28s) Loss: 0.0823(0.0823) \n",
            "Epoch: [23][524/525] Data 0.133 (0.134) Elapsed 4m 23s (remain 0m 0s) Loss: 0.0328(0.0475) \n",
            "EVAL: [0/132] Data 0.136 (0.136) Elapsed 0m 0s (remain 0m 31s) Loss: 0.2177(0.2177) \n"
          ]
        },
        {
          "output_type": "stream",
          "name": "stderr",
          "text": [
            "Epoch 23 - avg_train_loss: 0.0475  avg_val_loss: 0.1103  time: 295s\n",
            "Epoch 23 - Accuracy: 0.9667857142857142\n"
          ]
        },
        {
          "output_type": "stream",
          "name": "stdout",
          "text": [
            "EVAL: [131/132] Data 0.030 (0.131) Elapsed 0m 31s (remain 0m 0s) Loss: 0.0232(0.1103) \n",
            "Epoch: [24][0/525] Data 0.137 (0.137) Elapsed 0m 0s (remain 4m 24s) Loss: 0.0741(0.0741) \n",
            "Epoch: [24][524/525] Data 0.133 (0.133) Elapsed 4m 22s (remain 0m 0s) Loss: 0.0348(0.0388) \n",
            "EVAL: [0/132] Data 0.137 (0.137) Elapsed 0m 0s (remain 0m 32s) Loss: 0.0896(0.0896) \n"
          ]
        },
        {
          "output_type": "stream",
          "name": "stderr",
          "text": [
            "Epoch 24 - avg_train_loss: 0.0388  avg_val_loss: 0.0689  time: 294s\n",
            "Epoch 24 - Accuracy: 0.9803571428571428\n",
            "Epoch 24 - Save Best Score: 0.9804 Model\n"
          ]
        },
        {
          "output_type": "stream",
          "name": "stdout",
          "text": [
            "EVAL: [131/132] Data 0.033 (0.132) Elapsed 0m 31s (remain 0m 0s) Loss: 0.0183(0.0689) \n",
            "/content/drive/MyDrive/kaggla-za/E002Round3/Week2/DigitRecognizer/model/exp3/resnet50_fold0_best_exp3.pth saved\n",
            "Epoch: [25][0/525] Data 0.135 (0.135) Elapsed 0m 0s (remain 4m 23s) Loss: 0.0758(0.0758) \n",
            "Epoch: [25][524/525] Data 0.136 (0.134) Elapsed 4m 22s (remain 0m 0s) Loss: 0.0501(0.0336) \n",
            "EVAL: [0/132] Data 0.137 (0.137) Elapsed 0m 0s (remain 0m 32s) Loss: 0.1040(0.1040) \n"
          ]
        },
        {
          "output_type": "stream",
          "name": "stderr",
          "text": [
            "Epoch 25 - avg_train_loss: 0.0336  avg_val_loss: 0.0622  time: 295s\n",
            "Epoch 25 - Accuracy: 0.9827380952380952\n",
            "Epoch 25 - Save Best Score: 0.9827 Model\n"
          ]
        },
        {
          "output_type": "stream",
          "name": "stdout",
          "text": [
            "EVAL: [131/132] Data 0.035 (0.132) Elapsed 0m 31s (remain 0m 0s) Loss: 0.0134(0.0622) \n",
            "/content/drive/MyDrive/kaggla-za/E002Round3/Week2/DigitRecognizer/model/exp3/resnet50_fold0_best_exp3.pth saved\n",
            "Epoch: [26][0/525] Data 0.135 (0.135) Elapsed 0m 0s (remain 4m 26s) Loss: 0.0111(0.0111) \n",
            "Epoch: [26][524/525] Data 0.133 (0.133) Elapsed 4m 22s (remain 0m 0s) Loss: 0.0309(0.0325) \n",
            "EVAL: [0/132] Data 0.138 (0.138) Elapsed 0m 0s (remain 0m 32s) Loss: 0.1046(0.1046) \n"
          ]
        },
        {
          "output_type": "stream",
          "name": "stderr",
          "text": [
            "Epoch 26 - avg_train_loss: 0.0325  avg_val_loss: 0.0598  time: 294s\n",
            "Epoch 26 - Accuracy: 0.9825\n"
          ]
        },
        {
          "output_type": "stream",
          "name": "stdout",
          "text": [
            "EVAL: [131/132] Data 0.032 (0.133) Elapsed 0m 31s (remain 0m 0s) Loss: 0.0117(0.0598) \n",
            "Epoch: [27][0/525] Data 0.136 (0.136) Elapsed 0m 0s (remain 4m 26s) Loss: 0.0313(0.0313) \n",
            "Epoch: [27][524/525] Data 0.138 (0.133) Elapsed 4m 22s (remain 0m 0s) Loss: 0.0514(0.0313) \n",
            "EVAL: [0/132] Data 0.147 (0.147) Elapsed 0m 0s (remain 0m 33s) Loss: 0.1108(0.1108) \n"
          ]
        },
        {
          "output_type": "stream",
          "name": "stderr",
          "text": [
            "Epoch 27 - avg_train_loss: 0.0313  avg_val_loss: 0.0607  time: 294s\n",
            "Epoch 27 - Accuracy: 0.9822619047619048\n"
          ]
        },
        {
          "output_type": "stream",
          "name": "stdout",
          "text": [
            "EVAL: [131/132] Data 0.031 (0.131) Elapsed 0m 31s (remain 0m 0s) Loss: 0.0168(0.0607) \n",
            "Epoch: [28][0/525] Data 0.134 (0.134) Elapsed 0m 0s (remain 4m 23s) Loss: 0.0203(0.0203) \n",
            "Epoch: [28][524/525] Data 0.130 (0.132) Elapsed 4m 22s (remain 0m 0s) Loss: 0.0938(0.0326) \n",
            "EVAL: [0/132] Data 0.143 (0.143) Elapsed 0m 0s (remain 0m 32s) Loss: 0.1342(0.1342) \n"
          ]
        },
        {
          "output_type": "stream",
          "name": "stderr",
          "text": [
            "Epoch 28 - avg_train_loss: 0.0326  avg_val_loss: 0.0867  time: 294s\n",
            "Epoch 28 - Accuracy: 0.9742857142857143\n"
          ]
        },
        {
          "output_type": "stream",
          "name": "stdout",
          "text": [
            "EVAL: [131/132] Data 0.032 (0.130) Elapsed 0m 31s (remain 0m 0s) Loss: 0.0284(0.0867) \n",
            "Epoch: [29][0/525] Data 0.132 (0.132) Elapsed 0m 0s (remain 4m 21s) Loss: 0.0245(0.0245) \n",
            "Epoch: [29][524/525] Data 0.130 (0.133) Elapsed 4m 22s (remain 0m 0s) Loss: 0.0237(0.0343) \n",
            "EVAL: [0/132] Data 0.151 (0.151) Elapsed 0m 0s (remain 0m 33s) Loss: 0.2106(0.2106) \n"
          ]
        },
        {
          "output_type": "stream",
          "name": "stderr",
          "text": [
            "Epoch 29 - avg_train_loss: 0.0343  avg_val_loss: 0.1200  time: 294s\n",
            "Epoch 29 - Accuracy: 0.9630952380952381\n"
          ]
        },
        {
          "output_type": "stream",
          "name": "stdout",
          "text": [
            "EVAL: [131/132] Data 0.033 (0.131) Elapsed 0m 31s (remain 0m 0s) Loss: 0.0806(0.1200) \n",
            "Epoch: [30][0/525] Data 0.137 (0.137) Elapsed 0m 0s (remain 4m 24s) Loss: 0.0975(0.0975) \n",
            "Epoch: [30][524/525] Data 0.132 (0.132) Elapsed 4m 22s (remain 0m 0s) Loss: 0.0420(0.0336) \n",
            "EVAL: [0/132] Data 0.153 (0.153) Elapsed 0m 0s (remain 0m 35s) Loss: 0.8014(0.8014) \n"
          ]
        },
        {
          "output_type": "stream",
          "name": "stderr",
          "text": [
            "Epoch 30 - avg_train_loss: 0.0336  avg_val_loss: 0.5265  time: 294s\n",
            "Epoch 30 - Accuracy: 0.8284523809523809\n"
          ]
        },
        {
          "output_type": "stream",
          "name": "stdout",
          "text": [
            "EVAL: [131/132] Data 0.037 (0.130) Elapsed 0m 31s (remain 0m 0s) Loss: 0.4421(0.5265) \n",
            "Epoch: [31][0/525] Data 0.135 (0.135) Elapsed 0m 0s (remain 4m 24s) Loss: 0.0338(0.0338) \n",
            "Epoch: [31][524/525] Data 0.129 (0.133) Elapsed 4m 22s (remain 0m 0s) Loss: 0.0326(0.0291) \n",
            "EVAL: [0/132] Data 0.135 (0.135) Elapsed 0m 0s (remain 0m 31s) Loss: 0.2635(0.2635) \n"
          ]
        },
        {
          "output_type": "stream",
          "name": "stderr",
          "text": [
            "Epoch 31 - avg_train_loss: 0.0291  avg_val_loss: 0.2311  time: 294s\n",
            "Epoch 31 - Accuracy: 0.9041666666666667\n"
          ]
        },
        {
          "output_type": "stream",
          "name": "stdout",
          "text": [
            "EVAL: [131/132] Data 0.030 (0.131) Elapsed 0m 31s (remain 0m 0s) Loss: 0.1184(0.2311) \n",
            "Epoch: [32][0/525] Data 0.140 (0.140) Elapsed 0m 0s (remain 4m 26s) Loss: 0.0147(0.0147) \n",
            "Epoch: [32][524/525] Data 0.129 (0.133) Elapsed 4m 22s (remain 0m 0s) Loss: 0.0095(0.0243) \n",
            "EVAL: [0/132] Data 0.140 (0.140) Elapsed 0m 0s (remain 0m 32s) Loss: 0.1005(0.1005) \n"
          ]
        },
        {
          "output_type": "stream",
          "name": "stderr",
          "text": [
            "Epoch 32 - avg_train_loss: 0.0243  avg_val_loss: 0.0789  time: 294s\n",
            "Epoch 32 - Accuracy: 0.9771428571428571\n"
          ]
        },
        {
          "output_type": "stream",
          "name": "stdout",
          "text": [
            "EVAL: [131/132] Data 0.031 (0.130) Elapsed 0m 31s (remain 0m 0s) Loss: 0.0132(0.0789) \n",
            "Epoch: [33][0/525] Data 0.138 (0.138) Elapsed 0m 0s (remain 4m 26s) Loss: 0.0116(0.0116) \n",
            "Epoch: [33][524/525] Data 0.130 (0.132) Elapsed 4m 22s (remain 0m 0s) Loss: 0.0199(0.0184) \n",
            "EVAL: [0/132] Data 0.144 (0.144) Elapsed 0m 0s (remain 0m 32s) Loss: 0.1160(0.1160) \n"
          ]
        },
        {
          "output_type": "stream",
          "name": "stderr",
          "text": [
            "Epoch 33 - avg_train_loss: 0.0184  avg_val_loss: 0.0598  time: 294s\n",
            "Epoch 33 - Accuracy: 0.9821428571428571\n"
          ]
        },
        {
          "output_type": "stream",
          "name": "stdout",
          "text": [
            "EVAL: [131/132] Data 0.034 (0.130) Elapsed 0m 31s (remain 0m 0s) Loss: 0.0034(0.0598) \n",
            "Epoch: [34][0/525] Data 0.134 (0.134) Elapsed 0m 0s (remain 4m 22s) Loss: 0.0282(0.0282) \n",
            "Epoch: [34][524/525] Data 0.134 (0.133) Elapsed 4m 22s (remain 0m 0s) Loss: 0.0166(0.0134) \n",
            "EVAL: [0/132] Data 0.140 (0.140) Elapsed 0m 0s (remain 0m 32s) Loss: 0.1418(0.1418) \n"
          ]
        },
        {
          "output_type": "stream",
          "name": "stderr",
          "text": [
            "Epoch 34 - avg_train_loss: 0.0134  avg_val_loss: 0.0561  time: 294s\n",
            "Epoch 34 - Accuracy: 0.9833333333333333\n",
            "Epoch 34 - Save Best Score: 0.9833 Model\n"
          ]
        },
        {
          "output_type": "stream",
          "name": "stdout",
          "text": [
            "EVAL: [131/132] Data 0.032 (0.130) Elapsed 0m 31s (remain 0m 0s) Loss: 0.0028(0.0561) \n",
            "/content/drive/MyDrive/kaggla-za/E002Round3/Week2/DigitRecognizer/model/exp3/resnet50_fold0_best_exp3.pth saved\n",
            "Epoch: [35][0/525] Data 0.132 (0.132) Elapsed 0m 0s (remain 4m 21s) Loss: 0.0072(0.0072) \n",
            "Epoch: [35][524/525] Data 0.129 (0.133) Elapsed 4m 22s (remain 0m 0s) Loss: 0.0085(0.0113) \n",
            "EVAL: [0/132] Data 0.133 (0.133) Elapsed 0m 0s (remain 0m 31s) Loss: 0.0856(0.0856) \n"
          ]
        },
        {
          "output_type": "stream",
          "name": "stderr",
          "text": [
            "Epoch 35 - avg_train_loss: 0.0113  avg_val_loss: 0.0468  time: 294s\n",
            "Epoch 35 - Accuracy: 0.9860714285714286\n",
            "Epoch 35 - Save Best Score: 0.9861 Model\n"
          ]
        },
        {
          "output_type": "stream",
          "name": "stdout",
          "text": [
            "EVAL: [131/132] Data 0.032 (0.130) Elapsed 0m 31s (remain 0m 0s) Loss: 0.0021(0.0468) \n",
            "/content/drive/MyDrive/kaggla-za/E002Round3/Week2/DigitRecognizer/model/exp3/resnet50_fold0_best_exp3.pth saved\n",
            "Epoch: [36][0/525] Data 0.144 (0.144) Elapsed 0m 0s (remain 4m 28s) Loss: 0.0056(0.0056) \n",
            "Epoch: [36][524/525] Data 0.135 (0.133) Elapsed 4m 22s (remain 0m 0s) Loss: 0.0105(0.0098) \n",
            "EVAL: [0/132] Data 0.140 (0.140) Elapsed 0m 0s (remain 0m 32s) Loss: 0.0812(0.0812) \n"
          ]
        },
        {
          "output_type": "stream",
          "name": "stderr",
          "text": [
            "Epoch 36 - avg_train_loss: 0.0098  avg_val_loss: 0.0459  time: 294s\n",
            "Epoch 36 - Accuracy: 0.9863095238095239\n",
            "Epoch 36 - Save Best Score: 0.9863 Model\n"
          ]
        },
        {
          "output_type": "stream",
          "name": "stdout",
          "text": [
            "EVAL: [131/132] Data 0.031 (0.131) Elapsed 0m 31s (remain 0m 0s) Loss: 0.0023(0.0459) \n",
            "/content/drive/MyDrive/kaggla-za/E002Round3/Week2/DigitRecognizer/model/exp3/resnet50_fold0_best_exp3.pth saved\n",
            "Epoch: [37][0/525] Data 0.144 (0.144) Elapsed 0m 0s (remain 4m 28s) Loss: 0.0041(0.0041) \n",
            "Epoch: [37][524/525] Data 0.126 (0.133) Elapsed 4m 22s (remain 0m 0s) Loss: 0.0117(0.0102) \n",
            "EVAL: [0/132] Data 0.135 (0.135) Elapsed 0m 0s (remain 0m 31s) Loss: 0.0779(0.0779) \n"
          ]
        },
        {
          "output_type": "stream",
          "name": "stderr",
          "text": [
            "Epoch 37 - avg_train_loss: 0.0102  avg_val_loss: 0.0455  time: 294s\n",
            "Epoch 37 - Accuracy: 0.9860714285714286\n"
          ]
        },
        {
          "output_type": "stream",
          "name": "stdout",
          "text": [
            "EVAL: [131/132] Data 0.030 (0.130) Elapsed 0m 31s (remain 0m 0s) Loss: 0.0026(0.0455) \n",
            "Epoch: [38][0/525] Data 0.138 (0.138) Elapsed 0m 0s (remain 4m 25s) Loss: 0.0122(0.0122) \n",
            "Epoch: [38][524/525] Data 0.130 (0.132) Elapsed 4m 22s (remain 0m 0s) Loss: 0.0177(0.0120) \n",
            "EVAL: [0/132] Data 0.144 (0.144) Elapsed 0m 0s (remain 0m 32s) Loss: 0.3675(0.3675) \n"
          ]
        },
        {
          "output_type": "stream",
          "name": "stderr",
          "text": [
            "Epoch 38 - avg_train_loss: 0.0120  avg_val_loss: 0.1392  time: 294s\n",
            "Epoch 38 - Accuracy: 0.9572619047619048\n"
          ]
        },
        {
          "output_type": "stream",
          "name": "stdout",
          "text": [
            "EVAL: [131/132] Data 0.030 (0.131) Elapsed 0m 31s (remain 0m 0s) Loss: 0.0313(0.1392) \n",
            "Epoch: [39][0/525] Data 0.131 (0.131) Elapsed 0m 0s (remain 4m 21s) Loss: 0.0107(0.0107) \n",
            "Epoch: [39][524/525] Data 0.135 (0.133) Elapsed 4m 22s (remain 0m 0s) Loss: 0.0045(0.0137) \n",
            "EVAL: [0/132] Data 0.139 (0.139) Elapsed 0m 0s (remain 0m 32s) Loss: 0.9745(0.9745) \n"
          ]
        },
        {
          "output_type": "stream",
          "name": "stderr",
          "text": [
            "Epoch 39 - avg_train_loss: 0.0137  avg_val_loss: 0.8275  time: 294s\n",
            "Epoch 39 - Accuracy: 0.7579761904761905\n"
          ]
        },
        {
          "output_type": "stream",
          "name": "stdout",
          "text": [
            "EVAL: [131/132] Data 0.035 (0.130) Elapsed 0m 31s (remain 0m 0s) Loss: 0.1974(0.8275) \n",
            "Epoch: [40][0/525] Data 0.138 (0.138) Elapsed 0m 0s (remain 4m 26s) Loss: 0.0133(0.0133) \n",
            "Epoch: [40][524/525] Data 0.138 (0.133) Elapsed 4m 22s (remain 0m 0s) Loss: 0.0069(0.0156) \n",
            "EVAL: [0/132] Data 0.137 (0.137) Elapsed 0m 0s (remain 0m 31s) Loss: 0.1490(0.1490) \n"
          ]
        },
        {
          "output_type": "stream",
          "name": "stderr",
          "text": [
            "Epoch 40 - avg_train_loss: 0.0156  avg_val_loss: 0.1386  time: 294s\n",
            "Epoch 40 - Accuracy: 0.9596428571428571\n"
          ]
        },
        {
          "output_type": "stream",
          "name": "stdout",
          "text": [
            "EVAL: [131/132] Data 0.033 (0.130) Elapsed 0m 31s (remain 0m 0s) Loss: 0.0721(0.1386) \n",
            "====================Fold 1====================\n",
            "Epoch: [1][0/525] Data 0.138 (0.138) Elapsed 0m 0s (remain 4m 27s) Loss: 6.8476(6.8476) \n",
            "Epoch: [1][524/525] Data 0.142 (0.138) Elapsed 4m 25s (remain 0m 0s) Loss: 2.1042(3.4688) \n",
            "EVAL: [0/132] Data 0.142 (0.142) Elapsed 0m 0s (remain 0m 32s) Loss: 2.0433(2.0433) \n"
          ]
        },
        {
          "output_type": "stream",
          "name": "stderr",
          "text": [
            "Epoch 1 - avg_train_loss: 3.4688  avg_val_loss: 2.0712  time: 298s\n",
            "Epoch 1 - Accuracy: 0.3719047619047619\n",
            "Epoch 1 - Save Best Score: 0.3719 Model\n"
          ]
        },
        {
          "output_type": "stream",
          "name": "stdout",
          "text": [
            "EVAL: [131/132] Data 0.034 (0.136) Elapsed 0m 31s (remain 0m 0s) Loss: 2.1640(2.0712) \n",
            "/content/drive/MyDrive/kaggla-za/E002Round3/Week2/DigitRecognizer/model/exp3/resnet50_fold1_best_exp3.pth saved\n",
            "Epoch: [2][0/525] Data 0.149 (0.149) Elapsed 0m 0s (remain 4m 31s) Loss: 2.0810(2.0810) \n",
            "Epoch: [2][524/525] Data 0.133 (0.137) Elapsed 4m 24s (remain 0m 0s) Loss: 1.6062(1.8455) \n",
            "EVAL: [0/132] Data 0.135 (0.135) Elapsed 0m 0s (remain 0m 31s) Loss: 1.6306(1.6306) \n"
          ]
        },
        {
          "output_type": "stream",
          "name": "stderr",
          "text": [
            "Epoch 2 - avg_train_loss: 1.8455  avg_val_loss: 1.6559  time: 297s\n",
            "Epoch 2 - Accuracy: 0.5935714285714285\n",
            "Epoch 2 - Save Best Score: 0.5936 Model\n"
          ]
        },
        {
          "output_type": "stream",
          "name": "stdout",
          "text": [
            "EVAL: [131/132] Data 0.034 (0.135) Elapsed 0m 31s (remain 0m 0s) Loss: 1.7347(1.6559) \n",
            "/content/drive/MyDrive/kaggla-za/E002Round3/Week2/DigitRecognizer/model/exp3/resnet50_fold1_best_exp3.pth saved\n",
            "Epoch: [3][0/525] Data 0.140 (0.140) Elapsed 0m 0s (remain 4m 27s) Loss: 1.6220(1.6220) \n",
            "Epoch: [3][524/525] Data 0.139 (0.137) Elapsed 4m 24s (remain 0m 0s) Loss: 1.2619(1.4745) \n",
            "EVAL: [0/132] Data 0.135 (0.135) Elapsed 0m 0s (remain 0m 31s) Loss: 1.2846(1.2846) \n"
          ]
        },
        {
          "output_type": "stream",
          "name": "stderr",
          "text": [
            "Epoch 3 - avg_train_loss: 1.4745  avg_val_loss: 1.3059  time: 297s\n",
            "Epoch 3 - Accuracy: 0.6658333333333334\n",
            "Epoch 3 - Save Best Score: 0.6658 Model\n"
          ]
        },
        {
          "output_type": "stream",
          "name": "stdout",
          "text": [
            "EVAL: [131/132] Data 0.033 (0.134) Elapsed 0m 31s (remain 0m 0s) Loss: 1.3146(1.3059) \n",
            "/content/drive/MyDrive/kaggla-za/E002Round3/Week2/DigitRecognizer/model/exp3/resnet50_fold1_best_exp3.pth saved\n",
            "Epoch: [4][0/525] Data 0.173 (0.173) Elapsed 0m 0s (remain 4m 44s) Loss: 1.2341(1.2341) \n",
            "Epoch: [4][524/525] Data 0.145 (0.136) Elapsed 4m 24s (remain 0m 0s) Loss: 0.9618(1.1772) \n",
            "EVAL: [0/132] Data 0.140 (0.140) Elapsed 0m 0s (remain 0m 32s) Loss: 1.0293(1.0293) \n"
          ]
        },
        {
          "output_type": "stream",
          "name": "stderr",
          "text": [
            "Epoch 4 - avg_train_loss: 1.1772  avg_val_loss: 1.0400  time: 296s\n",
            "Epoch 4 - Accuracy: 0.7833333333333333\n",
            "Epoch 4 - Save Best Score: 0.7833 Model\n"
          ]
        },
        {
          "output_type": "stream",
          "name": "stdout",
          "text": [
            "EVAL: [131/132] Data 0.033 (0.134) Elapsed 0m 31s (remain 0m 0s) Loss: 0.9932(1.0400) \n",
            "/content/drive/MyDrive/kaggla-za/E002Round3/Week2/DigitRecognizer/model/exp3/resnet50_fold1_best_exp3.pth saved\n",
            "Epoch: [5][0/525] Data 0.141 (0.141) Elapsed 0m 0s (remain 4m 26s) Loss: 0.9135(0.9135) \n",
            "Epoch: [5][524/525] Data 0.140 (0.136) Elapsed 4m 24s (remain 0m 0s) Loss: 0.9921(0.9926) \n",
            "EVAL: [0/132] Data 0.147 (0.147) Elapsed 0m 0s (remain 0m 33s) Loss: 0.9485(0.9485) \n"
          ]
        },
        {
          "output_type": "stream",
          "name": "stderr",
          "text": [
            "Epoch 5 - avg_train_loss: 0.9926  avg_val_loss: 0.9532  time: 297s\n",
            "Epoch 5 - Accuracy: 0.8128571428571428\n",
            "Epoch 5 - Save Best Score: 0.8129 Model\n"
          ]
        },
        {
          "output_type": "stream",
          "name": "stdout",
          "text": [
            "EVAL: [131/132] Data 0.033 (0.135) Elapsed 0m 31s (remain 0m 0s) Loss: 0.8688(0.9532) \n",
            "/content/drive/MyDrive/kaggla-za/E002Round3/Week2/DigitRecognizer/model/exp3/resnet50_fold1_best_exp3.pth saved\n",
            "Epoch: [6][0/525] Data 0.147 (0.147) Elapsed 0m 0s (remain 4m 30s) Loss: 0.8198(0.8198) \n",
            "Epoch: [6][524/525] Data 0.134 (0.136) Elapsed 4m 24s (remain 0m 0s) Loss: 0.9350(0.9091) \n",
            "EVAL: [0/132] Data 0.141 (0.141) Elapsed 0m 0s (remain 0m 32s) Loss: 0.9047(0.9047) \n"
          ]
        },
        {
          "output_type": "stream",
          "name": "stderr",
          "text": [
            "Epoch 6 - avg_train_loss: 0.9091  avg_val_loss: 0.9042  time: 297s\n",
            "Epoch 6 - Accuracy: 0.8178571428571428\n",
            "Epoch 6 - Save Best Score: 0.8179 Model\n"
          ]
        },
        {
          "output_type": "stream",
          "name": "stdout",
          "text": [
            "EVAL: [131/132] Data 0.034 (0.134) Elapsed 0m 31s (remain 0m 0s) Loss: 0.7960(0.9042) \n",
            "/content/drive/MyDrive/kaggla-za/E002Round3/Week2/DigitRecognizer/model/exp3/resnet50_fold1_best_exp3.pth saved\n",
            "Epoch: [7][0/525] Data 0.153 (0.153) Elapsed 0m 0s (remain 4m 33s) Loss: 0.8102(0.8102) \n",
            "Epoch: [7][524/525] Data 0.137 (0.136) Elapsed 4m 24s (remain 0m 0s) Loss: 0.8081(0.8383) \n",
            "EVAL: [0/132] Data 0.136 (0.136) Elapsed 0m 0s (remain 0m 31s) Loss: 0.8086(0.8086) \n"
          ]
        },
        {
          "output_type": "stream",
          "name": "stderr",
          "text": [
            "Epoch 7 - avg_train_loss: 0.8383  avg_val_loss: 0.8021  time: 297s\n",
            "Epoch 7 - Accuracy: 0.8347619047619048\n",
            "Epoch 7 - Save Best Score: 0.8348 Model\n"
          ]
        },
        {
          "output_type": "stream",
          "name": "stdout",
          "text": [
            "EVAL: [131/132] Data 0.034 (0.134) Elapsed 0m 31s (remain 0m 0s) Loss: 0.6940(0.8021) \n",
            "/content/drive/MyDrive/kaggla-za/E002Round3/Week2/DigitRecognizer/model/exp3/resnet50_fold1_best_exp3.pth saved\n",
            "Epoch: [8][0/525] Data 0.142 (0.142) Elapsed 0m 0s (remain 4m 28s) Loss: 0.6455(0.6455) \n",
            "Epoch: [8][524/525] Data 0.135 (0.136) Elapsed 4m 24s (remain 0m 0s) Loss: 0.5971(0.7062) \n",
            "EVAL: [0/132] Data 0.141 (0.141) Elapsed 0m 0s (remain 0m 32s) Loss: 0.6535(0.6535) \n"
          ]
        },
        {
          "output_type": "stream",
          "name": "stderr",
          "text": [
            "Epoch 8 - avg_train_loss: 0.7062  avg_val_loss: 0.6334  time: 296s\n",
            "Epoch 8 - Accuracy: 0.8629761904761905\n",
            "Epoch 8 - Save Best Score: 0.8630 Model\n"
          ]
        },
        {
          "output_type": "stream",
          "name": "stdout",
          "text": [
            "EVAL: [131/132] Data 0.033 (0.134) Elapsed 0m 31s (remain 0m 0s) Loss: 0.5236(0.6334) \n",
            "/content/drive/MyDrive/kaggla-za/E002Round3/Week2/DigitRecognizer/model/exp3/resnet50_fold1_best_exp3.pth saved\n",
            "Epoch: [9][0/525] Data 0.138 (0.138) Elapsed 0m 0s (remain 4m 26s) Loss: 0.6271(0.6271) \n",
            "Epoch: [9][524/525] Data 0.131 (0.135) Elapsed 4m 23s (remain 0m 0s) Loss: 0.5103(0.5227) \n",
            "EVAL: [0/132] Data 0.142 (0.142) Elapsed 0m 0s (remain 0m 32s) Loss: 0.4655(0.4655) \n"
          ]
        },
        {
          "output_type": "stream",
          "name": "stderr",
          "text": [
            "Epoch 9 - avg_train_loss: 0.5227  avg_val_loss: 0.4336  time: 296s\n",
            "Epoch 9 - Accuracy: 0.915\n",
            "Epoch 9 - Save Best Score: 0.9150 Model\n"
          ]
        },
        {
          "output_type": "stream",
          "name": "stdout",
          "text": [
            "EVAL: [131/132] Data 0.034 (0.134) Elapsed 0m 31s (remain 0m 0s) Loss: 0.3084(0.4336) \n",
            "/content/drive/MyDrive/kaggla-za/E002Round3/Week2/DigitRecognizer/model/exp3/resnet50_fold1_best_exp3.pth saved\n",
            "Epoch: [10][0/525] Data 0.148 (0.148) Elapsed 0m 0s (remain 4m 31s) Loss: 0.4238(0.4238) \n",
            "Epoch: [10][524/525] Data 0.134 (0.136) Elapsed 4m 24s (remain 0m 0s) Loss: 0.2093(0.3497) \n",
            "EVAL: [0/132] Data 0.144 (0.144) Elapsed 0m 0s (remain 0m 32s) Loss: 0.5437(0.5437) \n"
          ]
        },
        {
          "output_type": "stream",
          "name": "stderr",
          "text": [
            "Epoch 10 - avg_train_loss: 0.3497  avg_val_loss: 0.5525  time: 296s\n",
            "Epoch 10 - Accuracy: 0.8244047619047619\n"
          ]
        },
        {
          "output_type": "stream",
          "name": "stdout",
          "text": [
            "EVAL: [131/132] Data 0.032 (0.134) Elapsed 0m 31s (remain 0m 0s) Loss: 0.4867(0.5525) \n",
            "Epoch: [11][0/525] Data 0.139 (0.139) Elapsed 0m 0s (remain 4m 27s) Loss: 0.4519(0.4519) \n",
            "Epoch: [11][524/525] Data 0.133 (0.136) Elapsed 4m 24s (remain 0m 0s) Loss: 0.1238(0.2401) \n",
            "EVAL: [0/132] Data 0.142 (0.142) Elapsed 0m 0s (remain 0m 32s) Loss: 1.5886(1.5886) \n"
          ]
        },
        {
          "output_type": "stream",
          "name": "stderr",
          "text": [
            "Epoch 11 - avg_train_loss: 0.2401  avg_val_loss: 1.4622  time: 296s\n",
            "Epoch 11 - Accuracy: 0.5761904761904761\n"
          ]
        },
        {
          "output_type": "stream",
          "name": "stdout",
          "text": [
            "EVAL: [131/132] Data 0.034 (0.134) Elapsed 0m 31s (remain 0m 0s) Loss: 0.7307(1.4622) \n",
            "Epoch: [12][0/525] Data 0.136 (0.136) Elapsed 0m 0s (remain 4m 24s) Loss: 0.1784(0.1784) \n",
            "Epoch: [12][524/525] Data 0.144 (0.136) Elapsed 4m 24s (remain 0m 0s) Loss: 0.2613(0.1799) \n",
            "EVAL: [0/132] Data 0.138 (0.138) Elapsed 0m 0s (remain 0m 32s) Loss: 1.1582(1.1582) \n"
          ]
        },
        {
          "output_type": "stream",
          "name": "stderr",
          "text": [
            "Epoch 12 - avg_train_loss: 0.1799  avg_val_loss: 1.0289  time: 296s\n",
            "Epoch 12 - Accuracy: 0.7175\n"
          ]
        },
        {
          "output_type": "stream",
          "name": "stdout",
          "text": [
            "EVAL: [131/132] Data 0.034 (0.135) Elapsed 0m 31s (remain 0m 0s) Loss: 0.5066(1.0289) \n",
            "Epoch: [13][0/525] Data 0.149 (0.149) Elapsed 0m 0s (remain 4m 32s) Loss: 0.1975(0.1975) \n",
            "Epoch: [13][524/525] Data 0.138 (0.137) Elapsed 4m 24s (remain 0m 0s) Loss: 0.0765(0.1428) \n",
            "EVAL: [0/132] Data 0.135 (0.135) Elapsed 0m 0s (remain 0m 31s) Loss: 0.2879(0.2879) \n"
          ]
        },
        {
          "output_type": "stream",
          "name": "stderr",
          "text": [
            "Epoch 13 - avg_train_loss: 0.1428  avg_val_loss: 0.2631  time: 297s\n",
            "Epoch 13 - Accuracy: 0.9267857142857143\n",
            "Epoch 13 - Save Best Score: 0.9268 Model\n"
          ]
        },
        {
          "output_type": "stream",
          "name": "stdout",
          "text": [
            "EVAL: [131/132] Data 0.033 (0.134) Elapsed 0m 31s (remain 0m 0s) Loss: 0.0745(0.2631) \n",
            "/content/drive/MyDrive/kaggla-za/E002Round3/Week2/DigitRecognizer/model/exp3/resnet50_fold1_best_exp3.pth saved\n",
            "Epoch: [14][0/525] Data 0.149 (0.149) Elapsed 0m 0s (remain 4m 31s) Loss: 0.1154(0.1154) \n",
            "Epoch: [14][524/525] Data 0.140 (0.138) Elapsed 4m 25s (remain 0m 0s) Loss: 0.1751(0.1212) \n",
            "EVAL: [0/132] Data 0.147 (0.147) Elapsed 0m 0s (remain 0m 33s) Loss: 0.2707(0.2707) \n"
          ]
        },
        {
          "output_type": "stream",
          "name": "stderr",
          "text": [
            "Epoch 14 - avg_train_loss: 0.1212  avg_val_loss: 0.2212  time: 298s\n",
            "Epoch 14 - Accuracy: 0.93\n",
            "Epoch 14 - Save Best Score: 0.9300 Model\n"
          ]
        },
        {
          "output_type": "stream",
          "name": "stdout",
          "text": [
            "EVAL: [131/132] Data 0.033 (0.137) Elapsed 0m 32s (remain 0m 0s) Loss: 0.1020(0.2212) \n",
            "/content/drive/MyDrive/kaggla-za/E002Round3/Week2/DigitRecognizer/model/exp3/resnet50_fold1_best_exp3.pth saved\n",
            "Epoch: [15][0/525] Data 0.149 (0.149) Elapsed 0m 0s (remain 4m 31s) Loss: 0.0770(0.0770) \n",
            "Epoch: [15][524/525] Data 0.137 (0.138) Elapsed 4m 25s (remain 0m 0s) Loss: 0.1709(0.1105) \n",
            "EVAL: [0/132] Data 0.141 (0.141) Elapsed 0m 0s (remain 0m 32s) Loss: 0.1485(0.1485) \n"
          ]
        },
        {
          "output_type": "stream",
          "name": "stderr",
          "text": [
            "Epoch 15 - avg_train_loss: 0.1105  avg_val_loss: 0.1222  time: 298s\n",
            "Epoch 15 - Accuracy: 0.9676190476190476\n",
            "Epoch 15 - Save Best Score: 0.9676 Model\n"
          ]
        },
        {
          "output_type": "stream",
          "name": "stdout",
          "text": [
            "EVAL: [131/132] Data 0.034 (0.136) Elapsed 0m 31s (remain 0m 0s) Loss: 0.0317(0.1222) \n",
            "/content/drive/MyDrive/kaggla-za/E002Round3/Week2/DigitRecognizer/model/exp3/resnet50_fold1_best_exp3.pth saved\n",
            "Epoch: [16][0/525] Data 0.145 (0.145) Elapsed 0m 0s (remain 4m 29s) Loss: 0.1226(0.1226) \n",
            "Epoch: [16][524/525] Data 0.136 (0.137) Elapsed 4m 25s (remain 0m 0s) Loss: 0.0948(0.1050) \n",
            "EVAL: [0/132] Data 0.152 (0.152) Elapsed 0m 0s (remain 0m 33s) Loss: 0.1245(0.1245) \n"
          ]
        },
        {
          "output_type": "stream",
          "name": "stderr",
          "text": [
            "Epoch 16 - avg_train_loss: 0.1050  avg_val_loss: 0.1170  time: 297s\n",
            "Epoch 16 - Accuracy: 0.9710714285714286\n",
            "Epoch 16 - Save Best Score: 0.9711 Model\n"
          ]
        },
        {
          "output_type": "stream",
          "name": "stdout",
          "text": [
            "EVAL: [131/132] Data 0.033 (0.135) Elapsed 0m 31s (remain 0m 0s) Loss: 0.0402(0.1170) \n",
            "/content/drive/MyDrive/kaggla-za/E002Round3/Week2/DigitRecognizer/model/exp3/resnet50_fold1_best_exp3.pth saved\n",
            "Epoch: [17][0/525] Data 0.144 (0.144) Elapsed 0m 0s (remain 4m 30s) Loss: 0.0868(0.0868) \n",
            "Epoch: [17][524/525] Data 0.142 (0.137) Elapsed 4m 25s (remain 0m 0s) Loss: 0.0739(0.1017) \n",
            "EVAL: [0/132] Data 0.142 (0.142) Elapsed 0m 0s (remain 0m 32s) Loss: 0.1770(0.1770) \n"
          ]
        },
        {
          "output_type": "stream",
          "name": "stderr",
          "text": [
            "Epoch 17 - avg_train_loss: 0.1017  avg_val_loss: 0.1450  time: 297s\n",
            "Epoch 17 - Accuracy: 0.964047619047619\n"
          ]
        },
        {
          "output_type": "stream",
          "name": "stdout",
          "text": [
            "EVAL: [131/132] Data 0.033 (0.136) Elapsed 0m 31s (remain 0m 0s) Loss: 0.0391(0.1450) \n",
            "Epoch: [18][0/525] Data 0.142 (0.142) Elapsed 0m 0s (remain 4m 27s) Loss: 0.1088(0.1088) \n",
            "Epoch: [18][524/525] Data 0.132 (0.137) Elapsed 4m 25s (remain 0m 0s) Loss: 0.2828(0.0980) \n",
            "EVAL: [0/132] Data 0.143 (0.143) Elapsed 0m 0s (remain 0m 32s) Loss: 0.1421(0.1421) \n"
          ]
        },
        {
          "output_type": "stream",
          "name": "stderr",
          "text": [
            "Epoch 18 - avg_train_loss: 0.0980  avg_val_loss: 0.1490  time: 297s\n",
            "Epoch 18 - Accuracy: 0.9602380952380952\n"
          ]
        },
        {
          "output_type": "stream",
          "name": "stdout",
          "text": [
            "EVAL: [131/132] Data 0.035 (0.135) Elapsed 0m 31s (remain 0m 0s) Loss: 0.1280(0.1490) \n",
            "Epoch: [19][0/525] Data 0.144 (0.144) Elapsed 0m 0s (remain 4m 29s) Loss: 0.1009(0.1009) \n",
            "Epoch: [19][524/525] Data 0.337 (0.136) Elapsed 4m 24s (remain 0m 0s) Loss: 0.2068(0.0912) \n",
            "EVAL: [0/132] Data 0.137 (0.137) Elapsed 0m 0s (remain 0m 32s) Loss: 0.2456(0.2456) \n"
          ]
        },
        {
          "output_type": "stream",
          "name": "stderr",
          "text": [
            "Epoch 19 - avg_train_loss: 0.0912  avg_val_loss: 0.2363  time: 297s\n",
            "Epoch 19 - Accuracy: 0.9298809523809524\n"
          ]
        },
        {
          "output_type": "stream",
          "name": "stdout",
          "text": [
            "EVAL: [131/132] Data 0.034 (0.135) Elapsed 0m 31s (remain 0m 0s) Loss: 0.0975(0.2363) \n",
            "Epoch: [20][0/525] Data 0.158 (0.158) Elapsed 0m 0s (remain 4m 36s) Loss: 0.0508(0.0508) \n",
            "Epoch: [20][524/525] Data 0.135 (0.133) Elapsed 4m 22s (remain 0m 0s) Loss: 0.0236(0.0810) \n",
            "EVAL: [0/132] Data 0.137 (0.137) Elapsed 0m 0s (remain 0m 31s) Loss: 0.9450(0.9450) \n"
          ]
        },
        {
          "output_type": "stream",
          "name": "stderr",
          "text": [
            "Epoch 20 - avg_train_loss: 0.0810  avg_val_loss: 0.7960  time: 294s\n",
            "Epoch 20 - Accuracy: 0.7321428571428571\n"
          ]
        },
        {
          "output_type": "stream",
          "name": "stdout",
          "text": [
            "EVAL: [131/132] Data 0.033 (0.131) Elapsed 0m 31s (remain 0m 0s) Loss: 0.1976(0.7960) \n",
            "Epoch: [21][0/525] Data 0.142 (0.142) Elapsed 0m 0s (remain 4m 27s) Loss: 0.0511(0.0511) \n",
            "Epoch: [21][524/525] Data 0.131 (0.133) Elapsed 4m 22s (remain 0m 0s) Loss: 0.1468(0.0704) \n",
            "EVAL: [0/132] Data 0.133 (0.133) Elapsed 0m 0s (remain 0m 31s) Loss: 0.1368(0.1368) \n"
          ]
        },
        {
          "output_type": "stream",
          "name": "stderr",
          "text": [
            "Epoch 21 - avg_train_loss: 0.0704  avg_val_loss: 0.1341  time: 294s\n",
            "Epoch 21 - Accuracy: 0.9627380952380953\n"
          ]
        },
        {
          "output_type": "stream",
          "name": "stdout",
          "text": [
            "EVAL: [131/132] Data 0.030 (0.131) Elapsed 0m 31s (remain 0m 0s) Loss: 0.0687(0.1341) \n",
            "Epoch: [22][0/525] Data 0.143 (0.143) Elapsed 0m 0s (remain 4m 28s) Loss: 0.0308(0.0308) \n",
            "Epoch: [22][524/525] Data 0.138 (0.136) Elapsed 4m 24s (remain 0m 0s) Loss: 0.0425(0.0602) \n",
            "EVAL: [0/132] Data 0.140 (0.140) Elapsed 0m 0s (remain 0m 32s) Loss: 0.1216(0.1216) \n"
          ]
        },
        {
          "output_type": "stream",
          "name": "stderr",
          "text": [
            "Epoch 22 - avg_train_loss: 0.0602  avg_val_loss: 0.1437  time: 297s\n",
            "Epoch 22 - Accuracy: 0.9585714285714285\n"
          ]
        },
        {
          "output_type": "stream",
          "name": "stdout",
          "text": [
            "EVAL: [131/132] Data 0.033 (0.135) Elapsed 0m 31s (remain 0m 0s) Loss: 0.0464(0.1437) \n",
            "Epoch: [23][0/525] Data 0.143 (0.143) Elapsed 0m 0s (remain 4m 27s) Loss: 0.0212(0.0212) \n",
            "Epoch: [23][524/525] Data 0.136 (0.136) Elapsed 4m 24s (remain 0m 0s) Loss: 0.0762(0.0488) \n",
            "EVAL: [0/132] Data 0.139 (0.139) Elapsed 0m 0s (remain 0m 32s) Loss: 0.1333(0.1333) \n"
          ]
        },
        {
          "output_type": "stream",
          "name": "stderr",
          "text": [
            "Epoch 23 - avg_train_loss: 0.0488  avg_val_loss: 0.1840  time: 297s\n",
            "Epoch 23 - Accuracy: 0.944047619047619\n"
          ]
        },
        {
          "output_type": "stream",
          "name": "stdout",
          "text": [
            "EVAL: [131/132] Data 0.037 (0.135) Elapsed 0m 31s (remain 0m 0s) Loss: 0.1655(0.1840) \n",
            "Epoch: [24][0/525] Data 0.141 (0.141) Elapsed 0m 0s (remain 4m 27s) Loss: 0.0328(0.0328) \n",
            "Epoch: [24][524/525] Data 0.138 (0.136) Elapsed 4m 24s (remain 0m 0s) Loss: 0.0171(0.0414) \n",
            "EVAL: [0/132] Data 0.137 (0.137) Elapsed 0m 0s (remain 0m 32s) Loss: 0.1170(0.1170) \n"
          ]
        },
        {
          "output_type": "stream",
          "name": "stderr",
          "text": [
            "Epoch 24 - avg_train_loss: 0.0414  avg_val_loss: 0.0993  time: 297s\n",
            "Epoch 24 - Accuracy: 0.9709523809523809\n"
          ]
        },
        {
          "output_type": "stream",
          "name": "stdout",
          "text": [
            "EVAL: [131/132] Data 0.034 (0.135) Elapsed 0m 31s (remain 0m 0s) Loss: 0.0094(0.0993) \n",
            "Epoch: [25][0/525] Data 0.151 (0.151) Elapsed 0m 0s (remain 4m 32s) Loss: 0.0642(0.0642) \n",
            "Epoch: [25][524/525] Data 0.135 (0.136) Elapsed 4m 24s (remain 0m 0s) Loss: 0.0382(0.0358) \n",
            "EVAL: [0/132] Data 0.141 (0.141) Elapsed 0m 0s (remain 0m 32s) Loss: 0.0868(0.0868) \n"
          ]
        },
        {
          "output_type": "stream",
          "name": "stderr",
          "text": [
            "Epoch 25 - avg_train_loss: 0.0358  avg_val_loss: 0.0674  time: 297s\n",
            "Epoch 25 - Accuracy: 0.9792857142857143\n",
            "Epoch 25 - Save Best Score: 0.9793 Model\n"
          ]
        },
        {
          "output_type": "stream",
          "name": "stdout",
          "text": [
            "EVAL: [131/132] Data 0.034 (0.135) Elapsed 0m 31s (remain 0m 0s) Loss: 0.0098(0.0674) \n",
            "/content/drive/MyDrive/kaggla-za/E002Round3/Week2/DigitRecognizer/model/exp3/resnet50_fold1_best_exp3.pth saved\n",
            "Epoch: [26][0/525] Data 0.148 (0.148) Elapsed 0m 0s (remain 4m 31s) Loss: 0.0109(0.0109) \n",
            "Epoch: [26][524/525] Data 0.136 (0.136) Elapsed 4m 24s (remain 0m 0s) Loss: 0.0252(0.0335) \n",
            "EVAL: [0/132] Data 0.144 (0.144) Elapsed 0m 0s (remain 0m 32s) Loss: 0.0831(0.0831) \n"
          ]
        },
        {
          "output_type": "stream",
          "name": "stderr",
          "text": [
            "Epoch 26 - avg_train_loss: 0.0335  avg_val_loss: 0.0683  time: 297s\n",
            "Epoch 26 - Accuracy: 0.9795238095238096\n",
            "Epoch 26 - Save Best Score: 0.9795 Model\n"
          ]
        },
        {
          "output_type": "stream",
          "name": "stdout",
          "text": [
            "EVAL: [131/132] Data 0.034 (0.135) Elapsed 0m 31s (remain 0m 0s) Loss: 0.0076(0.0683) \n",
            "/content/drive/MyDrive/kaggla-za/E002Round3/Week2/DigitRecognizer/model/exp3/resnet50_fold1_best_exp3.pth saved\n",
            "Epoch: [27][0/525] Data 0.145 (0.145) Elapsed 0m 0s (remain 4m 30s) Loss: 0.0445(0.0445) \n",
            "Epoch: [27][524/525] Data 0.137 (0.137) Elapsed 4m 24s (remain 0m 0s) Loss: 0.0308(0.0326) \n",
            "EVAL: [0/132] Data 0.141 (0.141) Elapsed 0m 0s (remain 0m 32s) Loss: 0.0791(0.0791) \n"
          ]
        },
        {
          "output_type": "stream",
          "name": "stderr",
          "text": [
            "Epoch 27 - avg_train_loss: 0.0326  avg_val_loss: 0.0773  time: 297s\n",
            "Epoch 27 - Accuracy: 0.9778571428571429\n"
          ]
        },
        {
          "output_type": "stream",
          "name": "stdout",
          "text": [
            "EVAL: [131/132] Data 0.033 (0.135) Elapsed 0m 31s (remain 0m 0s) Loss: 0.0274(0.0773) \n",
            "Epoch: [28][0/525] Data 0.137 (0.137) Elapsed 0m 0s (remain 4m 25s) Loss: 0.0151(0.0151) \n",
            "Epoch: [28][524/525] Data 0.133 (0.136) Elapsed 4m 24s (remain 0m 0s) Loss: 0.0516(0.0337) \n",
            "EVAL: [0/132] Data 0.140 (0.140) Elapsed 0m 0s (remain 0m 32s) Loss: 0.0926(0.0926) \n"
          ]
        },
        {
          "output_type": "stream",
          "name": "stderr",
          "text": [
            "Epoch 28 - avg_train_loss: 0.0337  avg_val_loss: 0.1180  time: 297s\n",
            "Epoch 28 - Accuracy: 0.9632142857142857\n"
          ]
        },
        {
          "output_type": "stream",
          "name": "stdout",
          "text": [
            "EVAL: [131/132] Data 0.038 (0.135) Elapsed 0m 31s (remain 0m 0s) Loss: 0.0610(0.1180) \n",
            "Epoch: [29][0/525] Data 0.146 (0.146) Elapsed 0m 0s (remain 4m 30s) Loss: 0.0093(0.0093) \n",
            "Epoch: [29][524/525] Data 0.137 (0.137) Elapsed 4m 24s (remain 0m 0s) Loss: 0.0158(0.0346) \n",
            "EVAL: [0/132] Data 0.143 (0.143) Elapsed 0m 0s (remain 0m 32s) Loss: 0.1247(0.1247) \n"
          ]
        },
        {
          "output_type": "stream",
          "name": "stderr",
          "text": [
            "Epoch 29 - avg_train_loss: 0.0346  avg_val_loss: 0.1146  time: 297s\n",
            "Epoch 29 - Accuracy: 0.9646428571428571\n"
          ]
        },
        {
          "output_type": "stream",
          "name": "stdout",
          "text": [
            "EVAL: [131/132] Data 0.034 (0.135) Elapsed 0m 31s (remain 0m 0s) Loss: 0.0086(0.1146) \n",
            "Epoch: [30][0/525] Data 0.147 (0.147) Elapsed 0m 0s (remain 4m 30s) Loss: 0.0217(0.0217) \n",
            "Epoch: [30][524/525] Data 0.134 (0.136) Elapsed 4m 24s (remain 0m 0s) Loss: 0.0178(0.0345) \n",
            "EVAL: [0/132] Data 0.133 (0.133) Elapsed 0m 0s (remain 0m 31s) Loss: 0.1291(0.1291) \n"
          ]
        },
        {
          "output_type": "stream",
          "name": "stderr",
          "text": [
            "Epoch 30 - avg_train_loss: 0.0345  avg_val_loss: 0.1849  time: 296s\n",
            "Epoch 30 - Accuracy: 0.9430952380952381\n"
          ]
        },
        {
          "output_type": "stream",
          "name": "stdout",
          "text": [
            "EVAL: [131/132] Data 0.035 (0.134) Elapsed 0m 31s (remain 0m 0s) Loss: 0.0832(0.1849) \n",
            "Epoch: [31][0/525] Data 0.151 (0.151) Elapsed 0m 0s (remain 4m 34s) Loss: 0.0357(0.0357) \n",
            "Epoch: [31][524/525] Data 0.130 (0.136) Elapsed 4m 24s (remain 0m 0s) Loss: 0.0135(0.0297) \n",
            "EVAL: [0/132] Data 0.140 (0.140) Elapsed 0m 0s (remain 0m 32s) Loss: 0.1189(0.1189) \n"
          ]
        },
        {
          "output_type": "stream",
          "name": "stderr",
          "text": [
            "Epoch 31 - avg_train_loss: 0.0297  avg_val_loss: 0.1159  time: 296s\n",
            "Epoch 31 - Accuracy: 0.9660714285714286\n"
          ]
        },
        {
          "output_type": "stream",
          "name": "stdout",
          "text": [
            "EVAL: [131/132] Data 0.034 (0.134) Elapsed 0m 31s (remain 0m 0s) Loss: 0.0051(0.1159) \n",
            "Epoch: [32][0/525] Data 0.142 (0.142) Elapsed 0m 0s (remain 4m 27s) Loss: 0.0253(0.0253) \n",
            "Epoch: [32][524/525] Data 0.136 (0.135) Elapsed 4m 23s (remain 0m 0s) Loss: 0.0356(0.0246) \n",
            "EVAL: [0/132] Data 0.140 (0.140) Elapsed 0m 0s (remain 0m 32s) Loss: 0.1454(0.1454) \n"
          ]
        },
        {
          "output_type": "stream",
          "name": "stderr",
          "text": [
            "Epoch 32 - avg_train_loss: 0.0246  avg_val_loss: 0.1604  time: 296s\n",
            "Epoch 32 - Accuracy: 0.9498809523809524\n"
          ]
        },
        {
          "output_type": "stream",
          "name": "stdout",
          "text": [
            "EVAL: [131/132] Data 0.032 (0.131) Elapsed 0m 31s (remain 0m 0s) Loss: 0.0582(0.1604) \n",
            "Epoch: [33][0/525] Data 0.136 (0.136) Elapsed 0m 0s (remain 4m 24s) Loss: 0.0462(0.0462) \n",
            "Epoch: [33][524/525] Data 0.126 (0.133) Elapsed 4m 22s (remain 0m 0s) Loss: 0.0222(0.0184) \n",
            "EVAL: [0/132] Data 0.137 (0.137) Elapsed 0m 0s (remain 0m 32s) Loss: 0.1147(0.1147) \n"
          ]
        },
        {
          "output_type": "stream",
          "name": "stderr",
          "text": [
            "Epoch 33 - avg_train_loss: 0.0184  avg_val_loss: 0.1810  time: 294s\n",
            "Epoch 33 - Accuracy: 0.9441666666666667\n"
          ]
        },
        {
          "output_type": "stream",
          "name": "stdout",
          "text": [
            "EVAL: [131/132] Data 0.031 (0.131) Elapsed 0m 31s (remain 0m 0s) Loss: 0.1938(0.1810) \n",
            "Epoch: [34][0/525] Data 0.142 (0.142) Elapsed 0m 0s (remain 4m 27s) Loss: 0.0087(0.0087) \n",
            "Epoch: [34][524/525] Data 0.134 (0.133) Elapsed 4m 22s (remain 0m 0s) Loss: 0.0047(0.0137) \n",
            "EVAL: [0/132] Data 0.130 (0.130) Elapsed 0m 0s (remain 0m 31s) Loss: 0.1203(0.1203) \n"
          ]
        },
        {
          "output_type": "stream",
          "name": "stderr",
          "text": [
            "Epoch 34 - avg_train_loss: 0.0137  avg_val_loss: 0.1170  time: 294s\n",
            "Epoch 34 - Accuracy: 0.9660714285714286\n"
          ]
        },
        {
          "output_type": "stream",
          "name": "stdout",
          "text": [
            "EVAL: [131/132] Data 0.033 (0.131) Elapsed 0m 31s (remain 0m 0s) Loss: 0.0071(0.1170) \n",
            "Epoch: [35][0/525] Data 0.134 (0.134) Elapsed 0m 0s (remain 4m 23s) Loss: 0.0088(0.0088) \n",
            "Epoch: [35][524/525] Data 0.129 (0.133) Elapsed 4m 22s (remain 0m 0s) Loss: 0.0081(0.0114) \n",
            "EVAL: [0/132] Data 0.136 (0.136) Elapsed 0m 0s (remain 0m 31s) Loss: 0.0487(0.0487) \n"
          ]
        },
        {
          "output_type": "stream",
          "name": "stderr",
          "text": [
            "Epoch 35 - avg_train_loss: 0.0114  avg_val_loss: 0.0537  time: 294s\n",
            "Epoch 35 - Accuracy: 0.983452380952381\n",
            "Epoch 35 - Save Best Score: 0.9835 Model\n"
          ]
        },
        {
          "output_type": "stream",
          "name": "stdout",
          "text": [
            "EVAL: [131/132] Data 0.031 (0.131) Elapsed 0m 31s (remain 0m 0s) Loss: 0.0022(0.0537) \n",
            "/content/drive/MyDrive/kaggla-za/E002Round3/Week2/DigitRecognizer/model/exp3/resnet50_fold1_best_exp3.pth saved\n",
            "Epoch: [36][0/525] Data 0.151 (0.151) Elapsed 0m 0s (remain 4m 32s) Loss: 0.0184(0.0184) \n",
            "Epoch: [36][524/525] Data 0.138 (0.133) Elapsed 4m 22s (remain 0m 0s) Loss: 0.0038(0.0102) \n",
            "EVAL: [0/132] Data 0.134 (0.134) Elapsed 0m 0s (remain 0m 31s) Loss: 0.0535(0.0535) \n"
          ]
        },
        {
          "output_type": "stream",
          "name": "stderr",
          "text": [
            "Epoch 36 - avg_train_loss: 0.0102  avg_val_loss: 0.0522  time: 294s\n",
            "Epoch 36 - Accuracy: 0.9832142857142857\n"
          ]
        },
        {
          "output_type": "stream",
          "name": "stdout",
          "text": [
            "EVAL: [131/132] Data 0.032 (0.131) Elapsed 0m 31s (remain 0m 0s) Loss: 0.0032(0.0522) \n",
            "Epoch: [37][0/525] Data 0.140 (0.140) Elapsed 0m 0s (remain 4m 26s) Loss: 0.0188(0.0188) \n",
            "Epoch: [37][524/525] Data 0.129 (0.133) Elapsed 4m 22s (remain 0m 0s) Loss: 0.0082(0.0098) \n",
            "EVAL: [0/132] Data 0.138 (0.138) Elapsed 0m 0s (remain 0m 32s) Loss: 0.0597(0.0597) \n"
          ]
        },
        {
          "output_type": "stream",
          "name": "stderr",
          "text": [
            "Epoch 37 - avg_train_loss: 0.0098  avg_val_loss: 0.0557  time: 294s\n",
            "Epoch 37 - Accuracy: 0.9836904761904762\n",
            "Epoch 37 - Save Best Score: 0.9837 Model\n"
          ]
        },
        {
          "output_type": "stream",
          "name": "stdout",
          "text": [
            "EVAL: [131/132] Data 0.033 (0.130) Elapsed 0m 31s (remain 0m 0s) Loss: 0.0019(0.0557) \n",
            "/content/drive/MyDrive/kaggla-za/E002Round3/Week2/DigitRecognizer/model/exp3/resnet50_fold1_best_exp3.pth saved\n",
            "Epoch: [38][0/525] Data 0.142 (0.142) Elapsed 0m 0s (remain 4m 27s) Loss: 0.0090(0.0090) \n",
            "Epoch: [38][524/525] Data 0.129 (0.134) Elapsed 4m 22s (remain 0m 0s) Loss: 0.0062(0.0118) \n",
            "EVAL: [0/132] Data 0.143 (0.143) Elapsed 0m 0s (remain 0m 32s) Loss: 0.0518(0.0518) \n"
          ]
        },
        {
          "output_type": "stream",
          "name": "stderr",
          "text": [
            "Epoch 38 - avg_train_loss: 0.0118  avg_val_loss: 0.0909  time: 295s\n",
            "Epoch 38 - Accuracy: 0.9728571428571429\n"
          ]
        },
        {
          "output_type": "stream",
          "name": "stdout",
          "text": [
            "EVAL: [131/132] Data 0.032 (0.133) Elapsed 0m 31s (remain 0m 0s) Loss: 0.0052(0.0909) \n",
            "Epoch: [39][0/525] Data 0.162 (0.162) Elapsed 0m 0s (remain 4m 38s) Loss: 0.0050(0.0050) \n",
            "Epoch: [39][524/525] Data 0.139 (0.136) Elapsed 4m 24s (remain 0m 0s) Loss: 0.0116(0.0146) \n",
            "EVAL: [0/132] Data 0.138 (0.138) Elapsed 0m 0s (remain 0m 32s) Loss: 0.4544(0.4544) \n"
          ]
        },
        {
          "output_type": "stream",
          "name": "stderr",
          "text": [
            "Epoch 39 - avg_train_loss: 0.0146  avg_val_loss: 0.6428  time: 297s\n",
            "Epoch 39 - Accuracy: 0.8220238095238095\n"
          ]
        },
        {
          "output_type": "stream",
          "name": "stdout",
          "text": [
            "EVAL: [131/132] Data 0.032 (0.134) Elapsed 0m 31s (remain 0m 0s) Loss: 1.0976(0.6428) \n",
            "Epoch: [40][0/525] Data 0.141 (0.141) Elapsed 0m 0s (remain 4m 26s) Loss: 0.0053(0.0053) \n",
            "Epoch: [40][524/525] Data 0.133 (0.136) Elapsed 4m 24s (remain 0m 0s) Loss: 0.0832(0.0143) \n",
            "EVAL: [0/132] Data 0.139 (0.139) Elapsed 0m 0s (remain 0m 32s) Loss: 1.5460(1.5460) \n"
          ]
        },
        {
          "output_type": "stream",
          "name": "stderr",
          "text": [
            "Epoch 40 - avg_train_loss: 0.0143  avg_val_loss: 1.7067  time: 296s\n",
            "Epoch 40 - Accuracy: 0.6213095238095238\n"
          ]
        },
        {
          "output_type": "stream",
          "name": "stdout",
          "text": [
            "EVAL: [131/132] Data 0.033 (0.134) Elapsed 0m 31s (remain 0m 0s) Loss: 2.4751(1.7067) \n",
            "====================Fold 2====================\n",
            "Epoch: [1][0/525] Data 0.141 (0.141) Elapsed 0m 0s (remain 4m 28s) Loss: 6.8424(6.8424) \n",
            "Epoch: [1][524/525] Data 0.143 (0.135) Elapsed 4m 23s (remain 0m 0s) Loss: 2.0886(3.4373) \n",
            "EVAL: [0/132] Data 0.154 (0.154) Elapsed 0m 0s (remain 0m 34s) Loss: 2.0262(2.0262) \n"
          ]
        },
        {
          "output_type": "stream",
          "name": "stderr",
          "text": [
            "Epoch 1 - avg_train_loss: 3.4373  avg_val_loss: 2.0742  time: 296s\n",
            "Epoch 1 - Accuracy: 0.373452380952381\n",
            "Epoch 1 - Save Best Score: 0.3735 Model\n"
          ]
        },
        {
          "output_type": "stream",
          "name": "stdout",
          "text": [
            "EVAL: [131/132] Data 0.034 (0.134) Elapsed 0m 31s (remain 0m 0s) Loss: 2.1298(2.0742) \n",
            "/content/drive/MyDrive/kaggla-za/E002Round3/Week2/DigitRecognizer/model/exp3/resnet50_fold2_best_exp3.pth saved\n",
            "Epoch: [2][0/525] Data 0.153 (0.153) Elapsed 0m 0s (remain 4m 38s) Loss: 2.0466(2.0466) \n",
            "Epoch: [2][524/525] Data 0.133 (0.135) Elapsed 4m 23s (remain 0m 0s) Loss: 1.6586(1.8547) \n",
            "EVAL: [0/132] Data 0.142 (0.142) Elapsed 0m 0s (remain 0m 32s) Loss: 1.6060(1.6060) \n"
          ]
        },
        {
          "output_type": "stream",
          "name": "stderr",
          "text": [
            "Epoch 2 - avg_train_loss: 1.8547  avg_val_loss: 1.6397  time: 296s\n",
            "Epoch 2 - Accuracy: 0.5652380952380952\n",
            "Epoch 2 - Save Best Score: 0.5652 Model\n"
          ]
        },
        {
          "output_type": "stream",
          "name": "stdout",
          "text": [
            "EVAL: [131/132] Data 0.035 (0.134) Elapsed 0m 31s (remain 0m 0s) Loss: 1.7422(1.6397) \n",
            "/content/drive/MyDrive/kaggla-za/E002Round3/Week2/DigitRecognizer/model/exp3/resnet50_fold2_best_exp3.pth saved\n",
            "Epoch: [3][0/525] Data 0.137 (0.137) Elapsed 0m 0s (remain 4m 28s) Loss: 1.6125(1.6125) \n",
            "Epoch: [3][524/525] Data 0.144 (0.135) Elapsed 4m 23s (remain 0m 0s) Loss: 1.3365(1.4893) \n",
            "EVAL: [0/132] Data 0.134 (0.134) Elapsed 0m 0s (remain 0m 31s) Loss: 1.2721(1.2721) \n"
          ]
        },
        {
          "output_type": "stream",
          "name": "stderr",
          "text": [
            "Epoch 3 - avg_train_loss: 1.4893  avg_val_loss: 1.3168  time: 296s\n",
            "Epoch 3 - Accuracy: 0.6692857142857143\n",
            "Epoch 3 - Save Best Score: 0.6693 Model\n"
          ]
        },
        {
          "output_type": "stream",
          "name": "stdout",
          "text": [
            "EVAL: [131/132] Data 0.032 (0.133) Elapsed 0m 31s (remain 0m 0s) Loss: 1.4461(1.3168) \n",
            "/content/drive/MyDrive/kaggla-za/E002Round3/Week2/DigitRecognizer/model/exp3/resnet50_fold2_best_exp3.pth saved\n",
            "Epoch: [4][0/525] Data 0.140 (0.140) Elapsed 0m 0s (remain 4m 26s) Loss: 1.2026(1.2026) \n",
            "Epoch: [4][524/525] Data 0.131 (0.135) Elapsed 4m 23s (remain 0m 0s) Loss: 0.9724(1.2046) \n",
            "EVAL: [0/132] Data 0.138 (0.138) Elapsed 0m 0s (remain 0m 32s) Loss: 1.0135(1.0135) \n"
          ]
        },
        {
          "output_type": "stream",
          "name": "stderr",
          "text": [
            "Epoch 4 - avg_train_loss: 1.2046  avg_val_loss: 1.0619  time: 295s\n",
            "Epoch 4 - Accuracy: 0.7772619047619047\n",
            "Epoch 4 - Save Best Score: 0.7773 Model\n"
          ]
        },
        {
          "output_type": "stream",
          "name": "stdout",
          "text": [
            "EVAL: [131/132] Data 0.034 (0.133) Elapsed 0m 31s (remain 0m 0s) Loss: 1.2012(1.0619) \n",
            "/content/drive/MyDrive/kaggla-za/E002Round3/Week2/DigitRecognizer/model/exp3/resnet50_fold2_best_exp3.pth saved\n",
            "Epoch: [5][0/525] Data 0.138 (0.138) Elapsed 0m 0s (remain 4m 25s) Loss: 1.0859(1.0859) \n",
            "Epoch: [5][524/525] Data 0.131 (0.135) Elapsed 4m 23s (remain 0m 0s) Loss: 0.8992(1.0243) \n",
            "EVAL: [0/132] Data 0.144 (0.144) Elapsed 0m 0s (remain 0m 33s) Loss: 0.8717(0.8717) \n"
          ]
        },
        {
          "output_type": "stream",
          "name": "stderr",
          "text": [
            "Epoch 5 - avg_train_loss: 1.0243  avg_val_loss: 0.9537  time: 296s\n",
            "Epoch 5 - Accuracy: 0.8034523809523809\n",
            "Epoch 5 - Save Best Score: 0.8035 Model\n"
          ]
        },
        {
          "output_type": "stream",
          "name": "stdout",
          "text": [
            "EVAL: [131/132] Data 0.033 (0.133) Elapsed 0m 31s (remain 0m 0s) Loss: 1.0778(0.9537) \n",
            "/content/drive/MyDrive/kaggla-za/E002Round3/Week2/DigitRecognizer/model/exp3/resnet50_fold2_best_exp3.pth saved\n",
            "Epoch: [6][0/525] Data 0.151 (0.151) Elapsed 0m 0s (remain 4m 32s) Loss: 0.8857(0.8857) \n",
            "Epoch: [6][524/525] Data 0.133 (0.135) Elapsed 4m 23s (remain 0m 0s) Loss: 0.8579(0.9393) \n",
            "EVAL: [0/132] Data 0.140 (0.140) Elapsed 0m 0s (remain 0m 32s) Loss: 0.8256(0.8256) \n"
          ]
        },
        {
          "output_type": "stream",
          "name": "stderr",
          "text": [
            "Epoch 6 - avg_train_loss: 0.9393  avg_val_loss: 0.8939  time: 295s\n",
            "Epoch 6 - Accuracy: 0.8285714285714286\n",
            "Epoch 6 - Save Best Score: 0.8286 Model\n"
          ]
        },
        {
          "output_type": "stream",
          "name": "stdout",
          "text": [
            "EVAL: [131/132] Data 0.032 (0.133) Elapsed 0m 31s (remain 0m 0s) Loss: 1.0283(0.8939) \n",
            "/content/drive/MyDrive/kaggla-za/E002Round3/Week2/DigitRecognizer/model/exp3/resnet50_fold2_best_exp3.pth saved\n",
            "Epoch: [7][0/525] Data 0.146 (0.146) Elapsed 0m 0s (remain 4m 29s) Loss: 0.9025(0.9025) \n",
            "Epoch: [7][524/525] Data 0.145 (0.134) Elapsed 4m 23s (remain 0m 0s) Loss: 0.8399(0.8634) \n",
            "EVAL: [0/132] Data 0.137 (0.137) Elapsed 0m 0s (remain 0m 31s) Loss: 0.7314(0.7314) \n"
          ]
        },
        {
          "output_type": "stream",
          "name": "stderr",
          "text": [
            "Epoch 7 - avg_train_loss: 0.8634  avg_val_loss: 0.8054  time: 295s\n",
            "Epoch 7 - Accuracy: 0.8447619047619047\n",
            "Epoch 7 - Save Best Score: 0.8448 Model\n"
          ]
        },
        {
          "output_type": "stream",
          "name": "stdout",
          "text": [
            "EVAL: [131/132] Data 0.032 (0.133) Elapsed 0m 31s (remain 0m 0s) Loss: 0.9344(0.8054) \n",
            "/content/drive/MyDrive/kaggla-za/E002Round3/Week2/DigitRecognizer/model/exp3/resnet50_fold2_best_exp3.pth saved\n",
            "Epoch: [8][0/525] Data 0.140 (0.140) Elapsed 0m 0s (remain 4m 26s) Loss: 0.8678(0.8678) \n",
            "Epoch: [8][524/525] Data 0.134 (0.134) Elapsed 4m 23s (remain 0m 0s) Loss: 0.6081(0.7244) \n",
            "EVAL: [0/132] Data 0.138 (0.138) Elapsed 0m 0s (remain 0m 32s) Loss: 0.5669(0.5669) \n"
          ]
        },
        {
          "output_type": "stream",
          "name": "stderr",
          "text": [
            "Epoch 8 - avg_train_loss: 0.7244  avg_val_loss: 0.6405  time: 295s\n",
            "Epoch 8 - Accuracy: 0.881547619047619\n",
            "Epoch 8 - Save Best Score: 0.8815 Model\n"
          ]
        },
        {
          "output_type": "stream",
          "name": "stdout",
          "text": [
            "EVAL: [131/132] Data 0.036 (0.132) Elapsed 0m 31s (remain 0m 0s) Loss: 0.7797(0.6405) \n",
            "/content/drive/MyDrive/kaggla-za/E002Round3/Week2/DigitRecognizer/model/exp3/resnet50_fold2_best_exp3.pth saved\n",
            "Epoch: [9][0/525] Data 0.162 (0.162) Elapsed 0m 0s (remain 4m 38s) Loss: 0.5493(0.5493) \n",
            "Epoch: [9][524/525] Data 0.132 (0.135) Elapsed 4m 23s (remain 0m 0s) Loss: 0.4501(0.5232) \n",
            "EVAL: [0/132] Data 0.143 (0.143) Elapsed 0m 0s (remain 0m 32s) Loss: 0.3323(0.3323) \n"
          ]
        },
        {
          "output_type": "stream",
          "name": "stderr",
          "text": [
            "Epoch 9 - avg_train_loss: 0.5232  avg_val_loss: 0.4340  time: 295s\n",
            "Epoch 9 - Accuracy: 0.9185714285714286\n",
            "Epoch 9 - Save Best Score: 0.9186 Model\n"
          ]
        },
        {
          "output_type": "stream",
          "name": "stdout",
          "text": [
            "EVAL: [131/132] Data 0.032 (0.132) Elapsed 0m 31s (remain 0m 0s) Loss: 0.4849(0.4340) \n",
            "/content/drive/MyDrive/kaggla-za/E002Round3/Week2/DigitRecognizer/model/exp3/resnet50_fold2_best_exp3.pth saved\n",
            "Epoch: [10][0/525] Data 0.159 (0.159) Elapsed 0m 0s (remain 4m 36s) Loss: 0.3958(0.3958) \n",
            "Epoch: [10][524/525] Data 0.143 (0.135) Elapsed 4m 23s (remain 0m 0s) Loss: 0.2572(0.3430) \n",
            "EVAL: [0/132] Data 0.137 (0.137) Elapsed 0m 0s (remain 0m 32s) Loss: 0.2534(0.2534) \n"
          ]
        },
        {
          "output_type": "stream",
          "name": "stderr",
          "text": [
            "Epoch 10 - avg_train_loss: 0.3430  avg_val_loss: 0.3165  time: 295s\n",
            "Epoch 10 - Accuracy: 0.9284523809523809\n",
            "Epoch 10 - Save Best Score: 0.9285 Model\n"
          ]
        },
        {
          "output_type": "stream",
          "name": "stdout",
          "text": [
            "EVAL: [131/132] Data 0.035 (0.133) Elapsed 0m 31s (remain 0m 0s) Loss: 0.6016(0.3165) \n",
            "/content/drive/MyDrive/kaggla-za/E002Round3/Week2/DigitRecognizer/model/exp3/resnet50_fold2_best_exp3.pth saved\n",
            "Epoch: [11][0/525] Data 0.140 (0.140) Elapsed 0m 0s (remain 4m 26s) Loss: 0.3512(0.3512) \n",
            "Epoch: [11][524/525] Data 0.134 (0.135) Elapsed 4m 23s (remain 0m 0s) Loss: 0.2175(0.2340) \n",
            "EVAL: [0/132] Data 0.139 (0.139) Elapsed 0m 0s (remain 0m 32s) Loss: 0.2497(0.2497) \n"
          ]
        },
        {
          "output_type": "stream",
          "name": "stderr",
          "text": [
            "Epoch 11 - avg_train_loss: 0.2340  avg_val_loss: 0.2582  time: 295s\n",
            "Epoch 11 - Accuracy: 0.9395238095238095\n",
            "Epoch 11 - Save Best Score: 0.9395 Model\n"
          ]
        },
        {
          "output_type": "stream",
          "name": "stdout",
          "text": [
            "EVAL: [131/132] Data 0.036 (0.133) Elapsed 0m 31s (remain 0m 0s) Loss: 0.2815(0.2582) \n",
            "/content/drive/MyDrive/kaggla-za/E002Round3/Week2/DigitRecognizer/model/exp3/resnet50_fold2_best_exp3.pth saved\n",
            "Epoch: [12][0/525] Data 0.142 (0.142) Elapsed 0m 0s (remain 4m 28s) Loss: 0.2405(0.2405) \n",
            "Epoch: [12][524/525] Data 0.136 (0.134) Elapsed 4m 22s (remain 0m 0s) Loss: 0.1212(0.1761) \n",
            "EVAL: [0/132] Data 0.140 (0.140) Elapsed 0m 0s (remain 0m 32s) Loss: 0.1285(0.1285) \n"
          ]
        },
        {
          "output_type": "stream",
          "name": "stderr",
          "text": [
            "Epoch 12 - avg_train_loss: 0.1761  avg_val_loss: 0.1780  time: 295s\n",
            "Epoch 12 - Accuracy: 0.9585714285714285\n",
            "Epoch 12 - Save Best Score: 0.9586 Model\n"
          ]
        },
        {
          "output_type": "stream",
          "name": "stdout",
          "text": [
            "EVAL: [131/132] Data 0.032 (0.132) Elapsed 0m 31s (remain 0m 0s) Loss: 0.2913(0.1780) \n",
            "/content/drive/MyDrive/kaggla-za/E002Round3/Week2/DigitRecognizer/model/exp3/resnet50_fold2_best_exp3.pth saved\n",
            "Epoch: [13][0/525] Data 0.153 (0.153) Elapsed 0m 0s (remain 4m 33s) Loss: 0.1455(0.1455) \n",
            "Epoch: [13][524/525] Data 0.129 (0.134) Elapsed 4m 23s (remain 0m 0s) Loss: 0.0791(0.1410) \n",
            "EVAL: [0/132] Data 0.133 (0.133) Elapsed 0m 0s (remain 0m 31s) Loss: 0.1436(0.1436) \n"
          ]
        },
        {
          "output_type": "stream",
          "name": "stderr",
          "text": [
            "Epoch 13 - avg_train_loss: 0.1410  avg_val_loss: 0.1972  time: 295s\n",
            "Epoch 13 - Accuracy: 0.9498809523809524\n"
          ]
        },
        {
          "output_type": "stream",
          "name": "stdout",
          "text": [
            "EVAL: [131/132] Data 0.032 (0.132) Elapsed 0m 31s (remain 0m 0s) Loss: 0.1824(0.1972) \n",
            "Epoch: [14][0/525] Data 0.138 (0.138) Elapsed 0m 0s (remain 4m 25s) Loss: 0.0404(0.0404) \n",
            "Epoch: [14][524/525] Data 0.144 (0.133) Elapsed 4m 22s (remain 0m 0s) Loss: 0.1796(0.1188) \n",
            "EVAL: [0/132] Data 0.134 (0.134) Elapsed 0m 0s (remain 0m 31s) Loss: 0.1141(0.1141) \n"
          ]
        },
        {
          "output_type": "stream",
          "name": "stderr",
          "text": [
            "Epoch 14 - avg_train_loss: 0.1188  avg_val_loss: 0.1318  time: 294s\n",
            "Epoch 14 - Accuracy: 0.9679761904761904\n",
            "Epoch 14 - Save Best Score: 0.9680 Model\n"
          ]
        },
        {
          "output_type": "stream",
          "name": "stdout",
          "text": [
            "EVAL: [131/132] Data 0.031 (0.131) Elapsed 0m 31s (remain 0m 0s) Loss: 0.2450(0.1318) \n",
            "/content/drive/MyDrive/kaggla-za/E002Round3/Week2/DigitRecognizer/model/exp3/resnet50_fold2_best_exp3.pth saved\n",
            "Epoch: [15][0/525] Data 0.149 (0.149) Elapsed 0m 0s (remain 4m 34s) Loss: 0.0811(0.0811) \n",
            "Epoch: [15][524/525] Data 0.129 (0.133) Elapsed 4m 22s (remain 0m 0s) Loss: 0.1123(0.1069) \n",
            "EVAL: [0/132] Data 0.132 (0.132) Elapsed 0m 0s (remain 0m 31s) Loss: 0.0938(0.0938) \n"
          ]
        },
        {
          "output_type": "stream",
          "name": "stderr",
          "text": [
            "Epoch 15 - avg_train_loss: 0.1069  avg_val_loss: 0.1247  time: 294s\n",
            "Epoch 15 - Accuracy: 0.9691666666666666\n",
            "Epoch 15 - Save Best Score: 0.9692 Model\n"
          ]
        },
        {
          "output_type": "stream",
          "name": "stdout",
          "text": [
            "EVAL: [131/132] Data 0.031 (0.132) Elapsed 0m 31s (remain 0m 0s) Loss: 0.2076(0.1247) \n",
            "/content/drive/MyDrive/kaggla-za/E002Round3/Week2/DigitRecognizer/model/exp3/resnet50_fold2_best_exp3.pth saved\n",
            "Epoch: [16][0/525] Data 0.136 (0.136) Elapsed 0m 0s (remain 4m 24s) Loss: 0.0947(0.0947) \n",
            "Epoch: [16][524/525] Data 0.127 (0.134) Elapsed 4m 23s (remain 0m 0s) Loss: 0.1150(0.1012) \n",
            "EVAL: [0/132] Data 0.133 (0.133) Elapsed 0m 0s (remain 0m 31s) Loss: 0.0885(0.0885) \n"
          ]
        },
        {
          "output_type": "stream",
          "name": "stderr",
          "text": [
            "Epoch 16 - avg_train_loss: 0.1012  avg_val_loss: 0.1080  time: 295s\n",
            "Epoch 16 - Accuracy: 0.9729761904761904\n",
            "Epoch 16 - Save Best Score: 0.9730 Model\n"
          ]
        },
        {
          "output_type": "stream",
          "name": "stdout",
          "text": [
            "EVAL: [131/132] Data 0.031 (0.133) Elapsed 0m 31s (remain 0m 0s) Loss: 0.1531(0.1080) \n",
            "/content/drive/MyDrive/kaggla-za/E002Round3/Week2/DigitRecognizer/model/exp3/resnet50_fold2_best_exp3.pth saved\n",
            "Epoch: [17][0/525] Data 0.136 (0.136) Elapsed 0m 0s (remain 4m 24s) Loss: 0.0956(0.0956) \n",
            "Epoch: [17][524/525] Data 0.129 (0.134) Elapsed 4m 23s (remain 0m 0s) Loss: 0.1965(0.0997) \n",
            "EVAL: [0/132] Data 0.133 (0.133) Elapsed 0m 0s (remain 0m 31s) Loss: 0.0815(0.0815) \n"
          ]
        },
        {
          "output_type": "stream",
          "name": "stderr",
          "text": [
            "Epoch 17 - avg_train_loss: 0.0997  avg_val_loss: 0.1051  time: 295s\n",
            "Epoch 17 - Accuracy: 0.9736904761904762\n",
            "Epoch 17 - Save Best Score: 0.9737 Model\n"
          ]
        },
        {
          "output_type": "stream",
          "name": "stdout",
          "text": [
            "EVAL: [131/132] Data 0.033 (0.133) Elapsed 0m 31s (remain 0m 0s) Loss: 0.2113(0.1051) \n",
            "/content/drive/MyDrive/kaggla-za/E002Round3/Week2/DigitRecognizer/model/exp3/resnet50_fold2_best_exp3.pth saved\n",
            "Epoch: [18][0/525] Data 0.140 (0.140) Elapsed 0m 0s (remain 4m 26s) Loss: 0.0820(0.0820) \n",
            "Epoch: [18][524/525] Data 0.131 (0.134) Elapsed 4m 23s (remain 0m 0s) Loss: 0.1051(0.0946) \n",
            "EVAL: [0/132] Data 0.141 (0.141) Elapsed 0m 0s (remain 0m 32s) Loss: 0.1488(0.1488) \n"
          ]
        },
        {
          "output_type": "stream",
          "name": "stderr",
          "text": [
            "Epoch 18 - avg_train_loss: 0.0946  avg_val_loss: 0.1529  time: 295s\n",
            "Epoch 18 - Accuracy: 0.9594047619047619\n"
          ]
        },
        {
          "output_type": "stream",
          "name": "stdout",
          "text": [
            "EVAL: [131/132] Data 0.033 (0.132) Elapsed 0m 31s (remain 0m 0s) Loss: 0.4524(0.1529) \n",
            "Epoch: [19][0/525] Data 0.140 (0.140) Elapsed 0m 0s (remain 4m 26s) Loss: 0.1216(0.1216) \n",
            "Epoch: [19][524/525] Data 0.130 (0.134) Elapsed 4m 23s (remain 0m 0s) Loss: 0.0719(0.0889) \n",
            "EVAL: [0/132] Data 0.141 (0.141) Elapsed 0m 0s (remain 0m 32s) Loss: 0.4299(0.4299) \n"
          ]
        },
        {
          "output_type": "stream",
          "name": "stderr",
          "text": [
            "Epoch 19 - avg_train_loss: 0.0889  avg_val_loss: 0.3341  time: 295s\n",
            "Epoch 19 - Accuracy: 0.8841666666666667\n"
          ]
        },
        {
          "output_type": "stream",
          "name": "stdout",
          "text": [
            "EVAL: [131/132] Data 0.031 (0.132) Elapsed 0m 31s (remain 0m 0s) Loss: 0.4614(0.3341) \n",
            "Epoch: [20][0/525] Data 0.140 (0.140) Elapsed 0m 0s (remain 4m 26s) Loss: 0.0662(0.0662) \n",
            "Epoch: [20][524/525] Data 0.132 (0.134) Elapsed 4m 22s (remain 0m 0s) Loss: 0.1434(0.0811) \n",
            "EVAL: [0/132] Data 0.142 (0.142) Elapsed 0m 0s (remain 0m 32s) Loss: 0.0933(0.0933) \n"
          ]
        },
        {
          "output_type": "stream",
          "name": "stderr",
          "text": [
            "Epoch 20 - avg_train_loss: 0.0811  avg_val_loss: 0.1284  time: 295s\n",
            "Epoch 20 - Accuracy: 0.9654761904761905\n"
          ]
        },
        {
          "output_type": "stream",
          "name": "stdout",
          "text": [
            "EVAL: [131/132] Data 0.041 (0.132) Elapsed 0m 31s (remain 0m 0s) Loss: 0.3736(0.1284) \n",
            "Epoch: [21][0/525] Data 0.143 (0.143) Elapsed 0m 0s (remain 4m 28s) Loss: 0.0703(0.0703) \n",
            "Epoch: [21][524/525] Data 0.130 (0.134) Elapsed 4m 22s (remain 0m 0s) Loss: 0.0867(0.0688) \n",
            "EVAL: [0/132] Data 0.139 (0.139) Elapsed 0m 0s (remain 0m 32s) Loss: 0.0796(0.0796) \n"
          ]
        },
        {
          "output_type": "stream",
          "name": "stderr",
          "text": [
            "Epoch 21 - avg_train_loss: 0.0688  avg_val_loss: 0.1064  time: 295s\n",
            "Epoch 21 - Accuracy: 0.9713095238095238\n"
          ]
        },
        {
          "output_type": "stream",
          "name": "stdout",
          "text": [
            "EVAL: [131/132] Data 0.032 (0.131) Elapsed 0m 31s (remain 0m 0s) Loss: 0.3648(0.1064) \n",
            "Epoch: [22][0/525] Data 0.141 (0.141) Elapsed 0m 0s (remain 4m 26s) Loss: 0.0546(0.0546) \n",
            "Epoch: [22][524/525] Data 0.129 (0.134) Elapsed 4m 22s (remain 0m 0s) Loss: 0.0261(0.0581) \n",
            "EVAL: [0/132] Data 0.144 (0.144) Elapsed 0m 0s (remain 0m 33s) Loss: 0.0439(0.0439) \n"
          ]
        },
        {
          "output_type": "stream",
          "name": "stderr",
          "text": [
            "Epoch 22 - avg_train_loss: 0.0581  avg_val_loss: 0.0706  time: 295s\n",
            "Epoch 22 - Accuracy: 0.9796428571428571\n",
            "Epoch 22 - Save Best Score: 0.9796 Model\n"
          ]
        },
        {
          "output_type": "stream",
          "name": "stdout",
          "text": [
            "EVAL: [131/132] Data 0.033 (0.132) Elapsed 0m 31s (remain 0m 0s) Loss: 0.2146(0.0706) \n",
            "/content/drive/MyDrive/kaggla-za/E002Round3/Week2/DigitRecognizer/model/exp3/resnet50_fold2_best_exp3.pth saved\n",
            "Epoch: [23][0/525] Data 0.138 (0.138) Elapsed 0m 0s (remain 4m 25s) Loss: 0.0493(0.0493) \n",
            "Epoch: [23][524/525] Data 0.129 (0.134) Elapsed 4m 23s (remain 0m 0s) Loss: 0.0833(0.0485) \n",
            "EVAL: [0/132] Data 0.139 (0.139) Elapsed 0m 0s (remain 0m 32s) Loss: 0.0550(0.0550) \n"
          ]
        },
        {
          "output_type": "stream",
          "name": "stderr",
          "text": [
            "Epoch 23 - avg_train_loss: 0.0485  avg_val_loss: 0.0705  time: 295s\n",
            "Epoch 23 - Accuracy: 0.9795238095238096\n"
          ]
        },
        {
          "output_type": "stream",
          "name": "stdout",
          "text": [
            "EVAL: [131/132] Data 0.033 (0.132) Elapsed 0m 31s (remain 0m 0s) Loss: 0.2498(0.0705) \n",
            "Epoch: [24][0/525] Data 0.138 (0.138) Elapsed 0m 0s (remain 4m 25s) Loss: 0.0324(0.0324) \n",
            "Epoch: [24][524/525] Data 0.144 (0.134) Elapsed 4m 23s (remain 0m 0s) Loss: 0.0364(0.0397) \n",
            "EVAL: [0/132] Data 0.140 (0.140) Elapsed 0m 0s (remain 0m 32s) Loss: 0.0385(0.0385) \n"
          ]
        },
        {
          "output_type": "stream",
          "name": "stderr",
          "text": [
            "Epoch 24 - avg_train_loss: 0.0397  avg_val_loss: 0.0678  time: 295s\n",
            "Epoch 24 - Accuracy: 0.9810714285714286\n",
            "Epoch 24 - Save Best Score: 0.9811 Model\n"
          ]
        },
        {
          "output_type": "stream",
          "name": "stdout",
          "text": [
            "EVAL: [131/132] Data 0.032 (0.132) Elapsed 0m 31s (remain 0m 0s) Loss: 0.1065(0.0678) \n",
            "/content/drive/MyDrive/kaggla-za/E002Round3/Week2/DigitRecognizer/model/exp3/resnet50_fold2_best_exp3.pth saved\n",
            "Epoch: [25][0/525] Data 0.145 (0.145) Elapsed 0m 0s (remain 4m 28s) Loss: 0.0312(0.0312) \n",
            "Epoch: [25][524/525] Data 0.136 (0.134) Elapsed 4m 23s (remain 0m 0s) Loss: 0.0242(0.0345) \n",
            "EVAL: [0/132] Data 0.155 (0.155) Elapsed 0m 0s (remain 0m 34s) Loss: 0.0274(0.0274) \n"
          ]
        },
        {
          "output_type": "stream",
          "name": "stderr",
          "text": [
            "Epoch 25 - avg_train_loss: 0.0345  avg_val_loss: 0.0585  time: 295s\n",
            "Epoch 25 - Accuracy: 0.9826190476190476\n",
            "Epoch 25 - Save Best Score: 0.9826 Model\n"
          ]
        },
        {
          "output_type": "stream",
          "name": "stdout",
          "text": [
            "EVAL: [131/132] Data 0.037 (0.132) Elapsed 0m 31s (remain 0m 0s) Loss: 0.1172(0.0585) \n",
            "/content/drive/MyDrive/kaggla-za/E002Round3/Week2/DigitRecognizer/model/exp3/resnet50_fold2_best_exp3.pth saved\n",
            "Epoch: [26][0/525] Data 0.140 (0.140) Elapsed 0m 0s (remain 4m 26s) Loss: 0.0238(0.0238) \n",
            "Epoch: [26][524/525] Data 0.132 (0.134) Elapsed 4m 23s (remain 0m 0s) Loss: 0.0320(0.0323) \n",
            "EVAL: [0/132] Data 0.144 (0.144) Elapsed 0m 0s (remain 0m 33s) Loss: 0.0291(0.0291) \n"
          ]
        },
        {
          "output_type": "stream",
          "name": "stderr",
          "text": [
            "Epoch 26 - avg_train_loss: 0.0323  avg_val_loss: 0.0587  time: 295s\n",
            "Epoch 26 - Accuracy: 0.9832142857142857\n",
            "Epoch 26 - Save Best Score: 0.9832 Model\n"
          ]
        },
        {
          "output_type": "stream",
          "name": "stdout",
          "text": [
            "EVAL: [131/132] Data 0.033 (0.133) Elapsed 0m 31s (remain 0m 0s) Loss: 0.1537(0.0587) \n",
            "/content/drive/MyDrive/kaggla-za/E002Round3/Week2/DigitRecognizer/model/exp3/resnet50_fold2_best_exp3.pth saved\n",
            "Epoch: [27][0/525] Data 0.141 (0.141) Elapsed 0m 0s (remain 4m 26s) Loss: 0.0131(0.0131) \n",
            "Epoch: [27][524/525] Data 0.142 (0.133) Elapsed 4m 22s (remain 0m 0s) Loss: 0.0208(0.0323) \n",
            "EVAL: [0/132] Data 0.139 (0.139) Elapsed 0m 0s (remain 0m 32s) Loss: 0.0456(0.0456) \n"
          ]
        },
        {
          "output_type": "stream",
          "name": "stderr",
          "text": [
            "Epoch 27 - avg_train_loss: 0.0323  avg_val_loss: 0.0643  time: 295s\n",
            "Epoch 27 - Accuracy: 0.9820238095238095\n"
          ]
        },
        {
          "output_type": "stream",
          "name": "stdout",
          "text": [
            "EVAL: [131/132] Data 0.033 (0.133) Elapsed 0m 31s (remain 0m 0s) Loss: 0.2837(0.0643) \n",
            "Epoch: [28][0/525] Data 0.147 (0.147) Elapsed 0m 0s (remain 4m 29s) Loss: 0.0393(0.0393) \n",
            "Epoch: [28][524/525] Data 0.129 (0.134) Elapsed 4m 22s (remain 0m 0s) Loss: 0.0538(0.0330) \n",
            "EVAL: [0/132] Data 0.138 (0.138) Elapsed 0m 0s (remain 0m 32s) Loss: 0.0604(0.0604) \n"
          ]
        },
        {
          "output_type": "stream",
          "name": "stderr",
          "text": [
            "Epoch 28 - avg_train_loss: 0.0330  avg_val_loss: 0.0928  time: 295s\n",
            "Epoch 28 - Accuracy: 0.9735714285714285\n"
          ]
        },
        {
          "output_type": "stream",
          "name": "stdout",
          "text": [
            "EVAL: [131/132] Data 0.032 (0.132) Elapsed 0m 31s (remain 0m 0s) Loss: 0.2956(0.0928) \n",
            "Epoch: [29][0/525] Data 0.141 (0.141) Elapsed 0m 0s (remain 4m 27s) Loss: 0.0283(0.0283) \n",
            "Epoch: [29][524/525] Data 0.133 (0.133) Elapsed 4m 22s (remain 0m 0s) Loss: 0.0260(0.0338) \n",
            "EVAL: [0/132] Data 0.134 (0.134) Elapsed 0m 0s (remain 0m 31s) Loss: 0.0287(0.0287) \n"
          ]
        },
        {
          "output_type": "stream",
          "name": "stderr",
          "text": [
            "Epoch 29 - avg_train_loss: 0.0338  avg_val_loss: 0.0751  time: 294s\n",
            "Epoch 29 - Accuracy: 0.9778571428571429\n"
          ]
        },
        {
          "output_type": "stream",
          "name": "stdout",
          "text": [
            "EVAL: [131/132] Data 0.033 (0.131) Elapsed 0m 31s (remain 0m 0s) Loss: 0.2475(0.0751) \n",
            "Epoch: [30][0/525] Data 0.144 (0.144) Elapsed 0m 0s (remain 4m 29s) Loss: 0.0270(0.0270) \n",
            "Epoch: [30][524/525] Data 0.130 (0.133) Elapsed 4m 22s (remain 0m 0s) Loss: 0.0201(0.0334) \n",
            "EVAL: [0/132] Data 0.145 (0.145) Elapsed 0m 0s (remain 0m 33s) Loss: 0.1026(0.1026) \n"
          ]
        },
        {
          "output_type": "stream",
          "name": "stderr",
          "text": [
            "Epoch 30 - avg_train_loss: 0.0334  avg_val_loss: 0.2139  time: 294s\n",
            "Epoch 30 - Accuracy: 0.9332142857142857\n"
          ]
        },
        {
          "output_type": "stream",
          "name": "stdout",
          "text": [
            "EVAL: [131/132] Data 0.032 (0.132) Elapsed 0m 31s (remain 0m 0s) Loss: 0.3473(0.2139) \n",
            "Epoch: [31][0/525] Data 0.145 (0.145) Elapsed 0m 0s (remain 4m 29s) Loss: 0.0134(0.0134) \n",
            "Epoch: [31][524/525] Data 0.134 (0.133) Elapsed 4m 22s (remain 0m 0s) Loss: 0.0283(0.0294) \n",
            "EVAL: [0/132] Data 0.139 (0.139) Elapsed 0m 0s (remain 0m 32s) Loss: 0.0704(0.0704) \n"
          ]
        },
        {
          "output_type": "stream",
          "name": "stderr",
          "text": [
            "Epoch 31 - avg_train_loss: 0.0294  avg_val_loss: 0.0990  time: 294s\n",
            "Epoch 31 - Accuracy: 0.9713095238095238\n"
          ]
        },
        {
          "output_type": "stream",
          "name": "stdout",
          "text": [
            "EVAL: [131/132] Data 0.033 (0.132) Elapsed 0m 31s (remain 0m 0s) Loss: 0.0489(0.0990) \n",
            "Epoch: [32][0/525] Data 0.148 (0.148) Elapsed 0m 0s (remain 4m 30s) Loss: 0.0226(0.0226) \n",
            "Epoch: [32][524/525] Data 0.129 (0.133) Elapsed 4m 22s (remain 0m 0s) Loss: 0.0195(0.0233) \n",
            "EVAL: [0/132] Data 0.137 (0.137) Elapsed 0m 0s (remain 0m 31s) Loss: 0.0469(0.0469) \n"
          ]
        },
        {
          "output_type": "stream",
          "name": "stderr",
          "text": [
            "Epoch 32 - avg_train_loss: 0.0233  avg_val_loss: 0.1033  time: 295s\n",
            "Epoch 32 - Accuracy: 0.969047619047619\n"
          ]
        },
        {
          "output_type": "stream",
          "name": "stdout",
          "text": [
            "EVAL: [131/132] Data 0.034 (0.132) Elapsed 0m 31s (remain 0m 0s) Loss: 0.1349(0.1033) \n",
            "Epoch: [33][0/525] Data 0.141 (0.141) Elapsed 0m 0s (remain 4m 26s) Loss: 0.0485(0.0485) \n",
            "Epoch: [33][524/525] Data 0.134 (0.133) Elapsed 4m 22s (remain 0m 0s) Loss: 0.0433(0.0184) \n",
            "EVAL: [0/132] Data 0.142 (0.142) Elapsed 0m 0s (remain 0m 32s) Loss: 0.0418(0.0418) \n"
          ]
        },
        {
          "output_type": "stream",
          "name": "stderr",
          "text": [
            "Epoch 33 - avg_train_loss: 0.0184  avg_val_loss: 0.0696  time: 294s\n",
            "Epoch 33 - Accuracy: 0.9788095238095238\n"
          ]
        },
        {
          "output_type": "stream",
          "name": "stdout",
          "text": [
            "EVAL: [131/132] Data 0.034 (0.132) Elapsed 0m 31s (remain 0m 0s) Loss: 0.1939(0.0696) \n",
            "Epoch: [34][0/525] Data 0.139 (0.139) Elapsed 0m 0s (remain 4m 26s) Loss: 0.0048(0.0048) \n",
            "Epoch: [34][524/525] Data 0.130 (0.133) Elapsed 4m 22s (remain 0m 0s) Loss: 0.0160(0.0135) \n",
            "EVAL: [0/132] Data 0.139 (0.139) Elapsed 0m 0s (remain 0m 32s) Loss: 0.0283(0.0283) \n"
          ]
        },
        {
          "output_type": "stream",
          "name": "stderr",
          "text": [
            "Epoch 34 - avg_train_loss: 0.0135  avg_val_loss: 0.0557  time: 294s\n",
            "Epoch 34 - Accuracy: 0.9833333333333333\n",
            "Epoch 34 - Save Best Score: 0.9833 Model\n"
          ]
        },
        {
          "output_type": "stream",
          "name": "stdout",
          "text": [
            "EVAL: [131/132] Data 0.032 (0.132) Elapsed 0m 31s (remain 0m 0s) Loss: 0.3159(0.0557) \n",
            "/content/drive/MyDrive/kaggla-za/E002Round3/Week2/DigitRecognizer/model/exp3/resnet50_fold2_best_exp3.pth saved\n",
            "Epoch: [35][0/525] Data 0.140 (0.140) Elapsed 0m 0s (remain 4m 26s) Loss: 0.0286(0.0286) \n",
            "Epoch: [35][524/525] Data 0.136 (0.134) Elapsed 4m 23s (remain 0m 0s) Loss: 0.0091(0.0114) \n",
            "EVAL: [0/132] Data 0.136 (0.136) Elapsed 0m 0s (remain 0m 31s) Loss: 0.0132(0.0132) \n"
          ]
        },
        {
          "output_type": "stream",
          "name": "stderr",
          "text": [
            "Epoch 35 - avg_train_loss: 0.0114  avg_val_loss: 0.0495  time: 295s\n",
            "Epoch 35 - Accuracy: 0.9847619047619047\n",
            "Epoch 35 - Save Best Score: 0.9848 Model\n"
          ]
        },
        {
          "output_type": "stream",
          "name": "stdout",
          "text": [
            "EVAL: [131/132] Data 0.032 (0.132) Elapsed 0m 31s (remain 0m 0s) Loss: 0.2000(0.0495) \n",
            "/content/drive/MyDrive/kaggla-za/E002Round3/Week2/DigitRecognizer/model/exp3/resnet50_fold2_best_exp3.pth saved\n",
            "Epoch: [36][0/525] Data 0.141 (0.141) Elapsed 0m 0s (remain 4m 27s) Loss: 0.0072(0.0072) \n",
            "Epoch: [36][524/525] Data 0.132 (0.134) Elapsed 4m 22s (remain 0m 0s) Loss: 0.0143(0.0104) \n",
            "EVAL: [0/132] Data 0.134 (0.134) Elapsed 0m 0s (remain 0m 31s) Loss: 0.0131(0.0131) \n"
          ]
        },
        {
          "output_type": "stream",
          "name": "stderr",
          "text": [
            "Epoch 36 - avg_train_loss: 0.0104  avg_val_loss: 0.0454  time: 295s\n",
            "Epoch 36 - Accuracy: 0.9851190476190477\n",
            "Epoch 36 - Save Best Score: 0.9851 Model\n"
          ]
        },
        {
          "output_type": "stream",
          "name": "stdout",
          "text": [
            "EVAL: [131/132] Data 0.032 (0.131) Elapsed 0m 31s (remain 0m 0s) Loss: 0.1074(0.0454) \n",
            "/content/drive/MyDrive/kaggla-za/E002Round3/Week2/DigitRecognizer/model/exp3/resnet50_fold2_best_exp3.pth saved\n",
            "Epoch: [37][0/525] Data 0.140 (0.140) Elapsed 0m 0s (remain 4m 26s) Loss: 0.0115(0.0115) \n",
            "Epoch: [37][524/525] Data 0.136 (0.133) Elapsed 4m 22s (remain 0m 0s) Loss: 0.0076(0.0099) \n",
            "EVAL: [0/132] Data 0.147 (0.147) Elapsed 0m 0s (remain 0m 33s) Loss: 0.0196(0.0196) \n"
          ]
        },
        {
          "output_type": "stream",
          "name": "stderr",
          "text": [
            "Epoch 37 - avg_train_loss: 0.0099  avg_val_loss: 0.0474  time: 294s\n",
            "Epoch 37 - Accuracy: 0.9851190476190477\n"
          ]
        },
        {
          "output_type": "stream",
          "name": "stdout",
          "text": [
            "EVAL: [131/132] Data 0.033 (0.131) Elapsed 0m 31s (remain 0m 0s) Loss: 0.1324(0.0474) \n",
            "Epoch: [38][0/525] Data 0.140 (0.140) Elapsed 0m 0s (remain 4m 27s) Loss: 0.0252(0.0252) \n",
            "Epoch: [38][524/525] Data 0.140 (0.133) Elapsed 4m 22s (remain 0m 0s) Loss: 0.0145(0.0119) \n",
            "EVAL: [0/132] Data 0.139 (0.139) Elapsed 0m 0s (remain 0m 32s) Loss: 0.0264(0.0264) \n"
          ]
        },
        {
          "output_type": "stream",
          "name": "stderr",
          "text": [
            "Epoch 38 - avg_train_loss: 0.0119  avg_val_loss: 0.0537  time: 294s\n",
            "Epoch 38 - Accuracy: 0.9832142857142857\n"
          ]
        },
        {
          "output_type": "stream",
          "name": "stdout",
          "text": [
            "EVAL: [131/132] Data 0.032 (0.131) Elapsed 0m 31s (remain 0m 0s) Loss: 0.2185(0.0537) \n",
            "Epoch: [39][0/525] Data 0.139 (0.139) Elapsed 0m 0s (remain 4m 26s) Loss: 0.0034(0.0034) \n",
            "Epoch: [39][524/525] Data 0.140 (0.133) Elapsed 4m 22s (remain 0m 0s) Loss: 0.0108(0.0160) \n",
            "EVAL: [0/132] Data 0.138 (0.138) Elapsed 0m 0s (remain 0m 32s) Loss: 0.0288(0.0288) \n"
          ]
        },
        {
          "output_type": "stream",
          "name": "stderr",
          "text": [
            "Epoch 39 - avg_train_loss: 0.0160  avg_val_loss: 0.0694  time: 295s\n",
            "Epoch 39 - Accuracy: 0.9775\n"
          ]
        },
        {
          "output_type": "stream",
          "name": "stdout",
          "text": [
            "EVAL: [131/132] Data 0.033 (0.131) Elapsed 0m 31s (remain 0m 0s) Loss: 0.0406(0.0694) \n",
            "Epoch: [40][0/525] Data 0.142 (0.142) Elapsed 0m 0s (remain 4m 27s) Loss: 0.0024(0.0024) \n",
            "Epoch: [40][524/525] Data 0.132 (0.133) Elapsed 4m 22s (remain 0m 0s) Loss: 0.0176(0.0145) \n",
            "EVAL: [0/132] Data 0.140 (0.140) Elapsed 0m 0s (remain 0m 32s) Loss: 0.0498(0.0498) \n"
          ]
        },
        {
          "output_type": "stream",
          "name": "stderr",
          "text": [
            "Epoch 40 - avg_train_loss: 0.0145  avg_val_loss: 0.0749  time: 295s\n",
            "Epoch 40 - Accuracy: 0.9772619047619048\n"
          ]
        },
        {
          "output_type": "stream",
          "name": "stdout",
          "text": [
            "EVAL: [131/132] Data 0.034 (0.132) Elapsed 0m 31s (remain 0m 0s) Loss: 0.0840(0.0749) \n",
            "====================Fold 3====================\n",
            "Epoch: [1][0/525] Data 0.137 (0.137) Elapsed 0m 0s (remain 4m 25s) Loss: 6.9476(6.9476) \n",
            "Epoch: [1][524/525] Data 0.128 (0.134) Elapsed 4m 22s (remain 0m 0s) Loss: 2.1160(3.4861) \n",
            "EVAL: [0/132] Data 0.133 (0.133) Elapsed 0m 0s (remain 0m 31s) Loss: 2.0901(2.0901) \n"
          ]
        },
        {
          "output_type": "stream",
          "name": "stderr",
          "text": [
            "Epoch 1 - avg_train_loss: 3.4861  avg_val_loss: 2.0883  time: 294s\n",
            "Epoch 1 - Accuracy: 0.39011904761904764\n",
            "Epoch 1 - Save Best Score: 0.3901 Model\n"
          ]
        },
        {
          "output_type": "stream",
          "name": "stdout",
          "text": [
            "EVAL: [131/132] Data 0.030 (0.130) Elapsed 0m 31s (remain 0m 0s) Loss: 1.8321(2.0883) \n",
            "/content/drive/MyDrive/kaggla-za/E002Round3/Week2/DigitRecognizer/model/exp3/resnet50_fold3_best_exp3.pth saved\n",
            "Epoch: [2][0/525] Data 0.147 (0.147) Elapsed 0m 0s (remain 4m 34s) Loss: 2.0885(2.0885) \n",
            "Epoch: [2][524/525] Data 0.142 (0.132) Elapsed 4m 21s (remain 0m 0s) Loss: 1.6043(1.8487) \n",
            "EVAL: [0/132] Data 0.135 (0.135) Elapsed 0m 0s (remain 0m 31s) Loss: 1.6749(1.6749) \n"
          ]
        },
        {
          "output_type": "stream",
          "name": "stderr",
          "text": [
            "Epoch 2 - avg_train_loss: 1.8487  avg_val_loss: 1.6886  time: 293s\n",
            "Epoch 2 - Accuracy: 0.5507142857142857\n",
            "Epoch 2 - Save Best Score: 0.5507 Model\n"
          ]
        },
        {
          "output_type": "stream",
          "name": "stdout",
          "text": [
            "EVAL: [131/132] Data 0.036 (0.130) Elapsed 0m 31s (remain 0m 0s) Loss: 1.4725(1.6886) \n",
            "/content/drive/MyDrive/kaggla-za/E002Round3/Week2/DigitRecognizer/model/exp3/resnet50_fold3_best_exp3.pth saved\n",
            "Epoch: [3][0/525] Data 0.141 (0.141) Elapsed 0m 0s (remain 4m 26s) Loss: 1.6455(1.6455) \n",
            "Epoch: [3][524/525] Data 0.138 (0.132) Elapsed 4m 21s (remain 0m 0s) Loss: 1.3225(1.4821) \n",
            "EVAL: [0/132] Data 0.128 (0.128) Elapsed 0m 0s (remain 0m 30s) Loss: 1.4308(1.4308) \n"
          ]
        },
        {
          "output_type": "stream",
          "name": "stderr",
          "text": [
            "Epoch 3 - avg_train_loss: 1.4821  avg_val_loss: 1.4449  time: 293s\n",
            "Epoch 3 - Accuracy: 0.6297619047619047\n",
            "Epoch 3 - Save Best Score: 0.6298 Model\n"
          ]
        },
        {
          "output_type": "stream",
          "name": "stdout",
          "text": [
            "EVAL: [131/132] Data 0.030 (0.129) Elapsed 0m 30s (remain 0m 0s) Loss: 1.2859(1.4449) \n",
            "/content/drive/MyDrive/kaggla-za/E002Round3/Week2/DigitRecognizer/model/exp3/resnet50_fold3_best_exp3.pth saved\n",
            "Epoch: [4][0/525] Data 0.160 (0.160) Elapsed 0m 0s (remain 4m 37s) Loss: 1.3181(1.3181) \n",
            "Epoch: [4][524/525] Data 0.121 (0.131) Elapsed 4m 21s (remain 0m 0s) Loss: 1.1319(1.2019) \n",
            "EVAL: [0/132] Data 0.146 (0.146) Elapsed 0m 0s (remain 0m 33s) Loss: 1.0495(1.0495) \n"
          ]
        },
        {
          "output_type": "stream",
          "name": "stderr",
          "text": [
            "Epoch 4 - avg_train_loss: 1.2019  avg_val_loss: 1.0756  time: 293s\n",
            "Epoch 4 - Accuracy: 0.7677380952380952\n",
            "Epoch 4 - Save Best Score: 0.7677 Model\n"
          ]
        },
        {
          "output_type": "stream",
          "name": "stdout",
          "text": [
            "EVAL: [131/132] Data 0.031 (0.130) Elapsed 0m 31s (remain 0m 0s) Loss: 0.8012(1.0756) \n",
            "/content/drive/MyDrive/kaggla-za/E002Round3/Week2/DigitRecognizer/model/exp3/resnet50_fold3_best_exp3.pth saved\n",
            "Epoch: [5][0/525] Data 0.135 (0.135) Elapsed 0m 0s (remain 4m 24s) Loss: 1.0555(1.0555) \n",
            "Epoch: [5][524/525] Data 0.128 (0.131) Elapsed 4m 21s (remain 0m 0s) Loss: 0.8858(1.0306) \n",
            "EVAL: [0/132] Data 0.140 (0.140) Elapsed 0m 0s (remain 0m 32s) Loss: 0.9319(0.9319) \n"
          ]
        },
        {
          "output_type": "stream",
          "name": "stderr",
          "text": [
            "Epoch 5 - avg_train_loss: 1.0306  avg_val_loss: 0.9695  time: 293s\n",
            "Epoch 5 - Accuracy: 0.8060714285714285\n",
            "Epoch 5 - Save Best Score: 0.8061 Model\n"
          ]
        },
        {
          "output_type": "stream",
          "name": "stdout",
          "text": [
            "EVAL: [131/132] Data 0.031 (0.129) Elapsed 0m 30s (remain 0m 0s) Loss: 0.7232(0.9695) \n",
            "/content/drive/MyDrive/kaggla-za/E002Round3/Week2/DigitRecognizer/model/exp3/resnet50_fold3_best_exp3.pth saved\n",
            "Epoch: [6][0/525] Data 0.134 (0.134) Elapsed 0m 0s (remain 4m 25s) Loss: 0.9038(0.9038) \n",
            "Epoch: [6][524/525] Data 0.131 (0.133) Elapsed 4m 22s (remain 0m 0s) Loss: 1.0654(0.9492) \n",
            "EVAL: [0/132] Data 0.137 (0.137) Elapsed 0m 0s (remain 0m 32s) Loss: 0.8681(0.8681) \n"
          ]
        },
        {
          "output_type": "stream",
          "name": "stderr",
          "text": [
            "Epoch 6 - avg_train_loss: 0.9492  avg_val_loss: 0.9102  time: 294s\n",
            "Epoch 6 - Accuracy: 0.8104761904761905\n",
            "Epoch 6 - Save Best Score: 0.8105 Model\n"
          ]
        },
        {
          "output_type": "stream",
          "name": "stdout",
          "text": [
            "EVAL: [131/132] Data 0.032 (0.131) Elapsed 0m 31s (remain 0m 0s) Loss: 0.6642(0.9102) \n",
            "/content/drive/MyDrive/kaggla-za/E002Round3/Week2/DigitRecognizer/model/exp3/resnet50_fold3_best_exp3.pth saved\n",
            "Epoch: [7][0/525] Data 0.140 (0.140) Elapsed 0m 0s (remain 4m 26s) Loss: 0.9844(0.9844) \n",
            "Epoch: [7][524/525] Data 0.127 (0.132) Elapsed 4m 22s (remain 0m 0s) Loss: 0.8021(0.8728) \n",
            "EVAL: [0/132] Data 0.138 (0.138) Elapsed 0m 0s (remain 0m 32s) Loss: 0.7627(0.7627) \n"
          ]
        },
        {
          "output_type": "stream",
          "name": "stderr",
          "text": [
            "Epoch 7 - avg_train_loss: 0.8728  avg_val_loss: 0.8080  time: 294s\n",
            "Epoch 7 - Accuracy: 0.8344047619047619\n",
            "Epoch 7 - Save Best Score: 0.8344 Model\n"
          ]
        },
        {
          "output_type": "stream",
          "name": "stdout",
          "text": [
            "EVAL: [131/132] Data 0.032 (0.130) Elapsed 0m 31s (remain 0m 0s) Loss: 0.6058(0.8080) \n",
            "/content/drive/MyDrive/kaggla-za/E002Round3/Week2/DigitRecognizer/model/exp3/resnet50_fold3_best_exp3.pth saved\n",
            "Epoch: [8][0/525] Data 0.131 (0.131) Elapsed 0m 0s (remain 4m 21s) Loss: 0.9487(0.9487) \n",
            "Epoch: [8][524/525] Data 0.142 (0.132) Elapsed 4m 21s (remain 0m 0s) Loss: 0.5844(0.7293) \n",
            "EVAL: [0/132] Data 0.139 (0.139) Elapsed 0m 0s (remain 0m 32s) Loss: 0.6235(0.6235) \n"
          ]
        },
        {
          "output_type": "stream",
          "name": "stderr",
          "text": [
            "Epoch 8 - avg_train_loss: 0.7293  avg_val_loss: 0.6652  time: 293s\n",
            "Epoch 8 - Accuracy: 0.840952380952381\n",
            "Epoch 8 - Save Best Score: 0.8410 Model\n"
          ]
        },
        {
          "output_type": "stream",
          "name": "stdout",
          "text": [
            "EVAL: [131/132] Data 0.034 (0.127) Elapsed 0m 30s (remain 0m 0s) Loss: 0.5176(0.6652) \n",
            "/content/drive/MyDrive/kaggla-za/E002Round3/Week2/DigitRecognizer/model/exp3/resnet50_fold3_best_exp3.pth saved\n",
            "Epoch: [9][0/525] Data 0.138 (0.138) Elapsed 0m 0s (remain 4m 25s) Loss: 0.5328(0.5328) \n",
            "Epoch: [9][524/525] Data 0.126 (0.130) Elapsed 4m 20s (remain 0m 0s) Loss: 0.3879(0.5275) \n",
            "EVAL: [0/132] Data 0.127 (0.127) Elapsed 0m 0s (remain 0m 30s) Loss: 0.5374(0.5374) \n"
          ]
        },
        {
          "output_type": "stream",
          "name": "stderr",
          "text": [
            "Epoch 9 - avg_train_loss: 0.5275  avg_val_loss: 0.6365  time: 292s\n",
            "Epoch 9 - Accuracy: 0.8171428571428572\n"
          ]
        },
        {
          "output_type": "stream",
          "name": "stdout",
          "text": [
            "EVAL: [131/132] Data 0.029 (0.127) Elapsed 0m 30s (remain 0m 0s) Loss: 0.3240(0.6365) \n",
            "Epoch: [10][0/525] Data 0.129 (0.129) Elapsed 0m 0s (remain 4m 20s) Loss: 0.4373(0.4373) \n",
            "Epoch: [10][524/525] Data 0.126 (0.129) Elapsed 4m 20s (remain 0m 0s) Loss: 0.3807(0.3512) \n",
            "EVAL: [0/132] Data 0.138 (0.138) Elapsed 0m 0s (remain 0m 32s) Loss: 0.6936(0.6936) \n"
          ]
        },
        {
          "output_type": "stream",
          "name": "stderr",
          "text": [
            "Epoch 10 - avg_train_loss: 0.3512  avg_val_loss: 0.7238  time: 292s\n",
            "Epoch 10 - Accuracy: 0.758452380952381\n"
          ]
        },
        {
          "output_type": "stream",
          "name": "stdout",
          "text": [
            "EVAL: [131/132] Data 0.032 (0.128) Elapsed 0m 30s (remain 0m 0s) Loss: 0.3743(0.7238) \n",
            "Epoch: [11][0/525] Data 0.139 (0.139) Elapsed 0m 0s (remain 4m 25s) Loss: 0.2682(0.2682) \n",
            "Epoch: [11][524/525] Data 0.123 (0.130) Elapsed 4m 20s (remain 0m 0s) Loss: 0.2535(0.2397) \n",
            "EVAL: [0/132] Data 0.140 (0.140) Elapsed 0m 0s (remain 0m 32s) Loss: 0.2821(0.2821) \n"
          ]
        },
        {
          "output_type": "stream",
          "name": "stderr",
          "text": [
            "Epoch 11 - avg_train_loss: 0.2397  avg_val_loss: 0.3315  time: 292s\n",
            "Epoch 11 - Accuracy: 0.9129761904761905\n",
            "Epoch 11 - Save Best Score: 0.9130 Model\n"
          ]
        },
        {
          "output_type": "stream",
          "name": "stdout",
          "text": [
            "EVAL: [131/132] Data 0.031 (0.129) Elapsed 0m 30s (remain 0m 0s) Loss: 0.1108(0.3315) \n",
            "/content/drive/MyDrive/kaggla-za/E002Round3/Week2/DigitRecognizer/model/exp3/resnet50_fold3_best_exp3.pth saved\n",
            "Epoch: [12][0/525] Data 0.139 (0.139) Elapsed 0m 0s (remain 4m 26s) Loss: 0.2810(0.2810) \n",
            "Epoch: [12][524/525] Data 0.140 (0.132) Elapsed 4m 22s (remain 0m 0s) Loss: 0.1435(0.1770) \n",
            "EVAL: [0/132] Data 0.143 (0.143) Elapsed 0m 0s (remain 0m 32s) Loss: 0.3447(0.3447) \n"
          ]
        },
        {
          "output_type": "stream",
          "name": "stderr",
          "text": [
            "Epoch 12 - avg_train_loss: 0.1770  avg_val_loss: 0.4140  time: 294s\n",
            "Epoch 12 - Accuracy: 0.8751190476190476\n"
          ]
        },
        {
          "output_type": "stream",
          "name": "stdout",
          "text": [
            "EVAL: [131/132] Data 0.033 (0.130) Elapsed 0m 31s (remain 0m 0s) Loss: 0.1104(0.4140) \n",
            "Epoch: [13][0/525] Data 0.144 (0.144) Elapsed 0m 0s (remain 4m 29s) Loss: 0.1176(0.1176) \n",
            "Epoch: [13][524/525] Data 0.134 (0.131) Elapsed 4m 21s (remain 0m 0s) Loss: 0.0824(0.1427) \n",
            "EVAL: [0/132] Data 0.143 (0.143) Elapsed 0m 0s (remain 0m 32s) Loss: 0.5278(0.5278) \n"
          ]
        },
        {
          "output_type": "stream",
          "name": "stderr",
          "text": [
            "Epoch 13 - avg_train_loss: 0.1427  avg_val_loss: 0.6340  time: 293s\n",
            "Epoch 13 - Accuracy: 0.7619047619047619\n"
          ]
        },
        {
          "output_type": "stream",
          "name": "stdout",
          "text": [
            "EVAL: [131/132] Data 0.033 (0.129) Elapsed 0m 30s (remain 0m 0s) Loss: 0.3737(0.6340) \n",
            "Epoch: [14][0/525] Data 0.136 (0.136) Elapsed 0m 0s (remain 4m 24s) Loss: 0.0475(0.0475) \n",
            "Epoch: [14][524/525] Data 0.131 (0.133) Elapsed 4m 22s (remain 0m 0s) Loss: 0.0813(0.1198) \n",
            "EVAL: [0/132] Data 0.146 (0.146) Elapsed 0m 0s (remain 0m 33s) Loss: 0.0802(0.0802) \n"
          ]
        },
        {
          "output_type": "stream",
          "name": "stderr",
          "text": [
            "Epoch 14 - avg_train_loss: 0.1198  avg_val_loss: 0.1216  time: 294s\n",
            "Epoch 14 - Accuracy: 0.9730952380952381\n",
            "Epoch 14 - Save Best Score: 0.9731 Model\n"
          ]
        },
        {
          "output_type": "stream",
          "name": "stdout",
          "text": [
            "EVAL: [131/132] Data 0.031 (0.133) Elapsed 0m 31s (remain 0m 0s) Loss: 0.0202(0.1216) \n",
            "/content/drive/MyDrive/kaggla-za/E002Round3/Week2/DigitRecognizer/model/exp3/resnet50_fold3_best_exp3.pth saved\n",
            "Epoch: [15][0/525] Data 0.145 (0.145) Elapsed 0m 0s (remain 4m 29s) Loss: 0.1229(0.1229) \n",
            "Epoch: [15][524/525] Data 0.134 (0.133) Elapsed 4m 22s (remain 0m 0s) Loss: 0.0978(0.1072) \n",
            "EVAL: [0/132] Data 0.136 (0.136) Elapsed 0m 0s (remain 0m 31s) Loss: 0.0729(0.0729) \n"
          ]
        },
        {
          "output_type": "stream",
          "name": "stderr",
          "text": [
            "Epoch 15 - avg_train_loss: 0.1072  avg_val_loss: 0.1181  time: 294s\n",
            "Epoch 15 - Accuracy: 0.9730952380952381\n"
          ]
        },
        {
          "output_type": "stream",
          "name": "stdout",
          "text": [
            "EVAL: [131/132] Data 0.032 (0.129) Elapsed 0m 30s (remain 0m 0s) Loss: 0.0233(0.1181) \n",
            "Epoch: [16][0/525] Data 0.134 (0.134) Elapsed 0m 0s (remain 4m 23s) Loss: 0.1643(0.1643) \n",
            "Epoch: [16][524/525] Data 0.130 (0.132) Elapsed 4m 21s (remain 0m 0s) Loss: 0.1616(0.1034) \n",
            "EVAL: [0/132] Data 0.137 (0.137) Elapsed 0m 0s (remain 0m 32s) Loss: 0.0817(0.0817) \n"
          ]
        },
        {
          "output_type": "stream",
          "name": "stderr",
          "text": [
            "Epoch 16 - avg_train_loss: 0.1034  avg_val_loss: 0.1149  time: 294s\n",
            "Epoch 16 - Accuracy: 0.973452380952381\n",
            "Epoch 16 - Save Best Score: 0.9735 Model\n"
          ]
        },
        {
          "output_type": "stream",
          "name": "stdout",
          "text": [
            "EVAL: [131/132] Data 0.030 (0.132) Elapsed 0m 31s (remain 0m 0s) Loss: 0.0290(0.1149) \n",
            "/content/drive/MyDrive/kaggla-za/E002Round3/Week2/DigitRecognizer/model/exp3/resnet50_fold3_best_exp3.pth saved\n",
            "Epoch: [17][0/525] Data 0.145 (0.145) Elapsed 0m 0s (remain 4m 29s) Loss: 0.1022(0.1022) \n",
            "Epoch: [17][524/525] Data 0.131 (0.133) Elapsed 4m 22s (remain 0m 0s) Loss: 0.1666(0.0995) \n",
            "EVAL: [0/132] Data 0.135 (0.135) Elapsed 0m 0s (remain 0m 31s) Loss: 0.0945(0.0945) \n"
          ]
        },
        {
          "output_type": "stream",
          "name": "stderr",
          "text": [
            "Epoch 17 - avg_train_loss: 0.0995  avg_val_loss: 0.1324  time: 294s\n",
            "Epoch 17 - Accuracy: 0.965952380952381\n"
          ]
        },
        {
          "output_type": "stream",
          "name": "stdout",
          "text": [
            "EVAL: [131/132] Data 0.033 (0.131) Elapsed 0m 31s (remain 0m 0s) Loss: 0.0235(0.1324) \n",
            "Epoch: [18][0/525] Data 0.135 (0.135) Elapsed 0m 0s (remain 4m 28s) Loss: 0.1152(0.1152) \n",
            "Epoch: [18][524/525] Data 0.133 (0.132) Elapsed 4m 22s (remain 0m 0s) Loss: 0.1106(0.0978) \n",
            "EVAL: [0/132] Data 0.148 (0.148) Elapsed 0m 0s (remain 0m 33s) Loss: 0.1218(0.1218) \n"
          ]
        },
        {
          "output_type": "stream",
          "name": "stderr",
          "text": [
            "Epoch 18 - avg_train_loss: 0.0978  avg_val_loss: 0.1687  time: 294s\n",
            "Epoch 18 - Accuracy: 0.9530952380952381\n"
          ]
        },
        {
          "output_type": "stream",
          "name": "stdout",
          "text": [
            "EVAL: [131/132] Data 0.035 (0.130) Elapsed 0m 31s (remain 0m 0s) Loss: 0.0287(0.1687) \n",
            "Epoch: [19][0/525] Data 0.138 (0.138) Elapsed 0m 0s (remain 4m 25s) Loss: 0.1020(0.1020) \n",
            "Epoch: [19][524/525] Data 0.135 (0.133) Elapsed 4m 22s (remain 0m 0s) Loss: 0.0274(0.0898) \n",
            "EVAL: [0/132] Data 0.140 (0.140) Elapsed 0m 0s (remain 0m 32s) Loss: 0.0707(0.0707) \n"
          ]
        },
        {
          "output_type": "stream",
          "name": "stderr",
          "text": [
            "Epoch 19 - avg_train_loss: 0.0898  avg_val_loss: 0.0995  time: 294s\n",
            "Epoch 19 - Accuracy: 0.9738095238095238\n",
            "Epoch 19 - Save Best Score: 0.9738 Model\n"
          ]
        },
        {
          "output_type": "stream",
          "name": "stdout",
          "text": [
            "EVAL: [131/132] Data 0.033 (0.131) Elapsed 0m 31s (remain 0m 0s) Loss: 0.0113(0.0995) \n",
            "/content/drive/MyDrive/kaggla-za/E002Round3/Week2/DigitRecognizer/model/exp3/resnet50_fold3_best_exp3.pth saved\n",
            "Epoch: [20][0/525] Data 0.136 (0.136) Elapsed 0m 0s (remain 4m 24s) Loss: 0.0532(0.0532) \n",
            "Epoch: [20][524/525] Data 0.134 (0.133) Elapsed 4m 22s (remain 0m 0s) Loss: 0.0585(0.0816) \n",
            "EVAL: [0/132] Data 0.140 (0.140) Elapsed 0m 0s (remain 0m 32s) Loss: 0.3607(0.3607) \n"
          ]
        },
        {
          "output_type": "stream",
          "name": "stderr",
          "text": [
            "Epoch 20 - avg_train_loss: 0.0816  avg_val_loss: 0.4534  time: 294s\n",
            "Epoch 20 - Accuracy: 0.8553571428571428\n"
          ]
        },
        {
          "output_type": "stream",
          "name": "stdout",
          "text": [
            "EVAL: [131/132] Data 0.033 (0.129) Elapsed 0m 30s (remain 0m 0s) Loss: 0.1595(0.4534) \n",
            "Epoch: [21][0/525] Data 0.131 (0.131) Elapsed 0m 0s (remain 4m 21s) Loss: 0.0261(0.0261) \n",
            "Epoch: [21][524/525] Data 0.129 (0.133) Elapsed 4m 22s (remain 0m 0s) Loss: 0.0527(0.0690) \n",
            "EVAL: [0/132] Data 0.142 (0.142) Elapsed 0m 0s (remain 0m 32s) Loss: 0.0572(0.0572) \n"
          ]
        },
        {
          "output_type": "stream",
          "name": "stderr",
          "text": [
            "Epoch 21 - avg_train_loss: 0.0690  avg_val_loss: 0.0977  time: 294s\n",
            "Epoch 21 - Accuracy: 0.9745238095238096\n",
            "Epoch 21 - Save Best Score: 0.9745 Model\n"
          ]
        },
        {
          "output_type": "stream",
          "name": "stdout",
          "text": [
            "EVAL: [131/132] Data 0.032 (0.131) Elapsed 0m 31s (remain 0m 0s) Loss: 0.0094(0.0977) \n",
            "/content/drive/MyDrive/kaggla-za/E002Round3/Week2/DigitRecognizer/model/exp3/resnet50_fold3_best_exp3.pth saved\n",
            "Epoch: [22][0/525] Data 0.138 (0.138) Elapsed 0m 0s (remain 4m 26s) Loss: 0.0549(0.0549) \n",
            "Epoch: [22][524/525] Data 0.139 (0.133) Elapsed 4m 22s (remain 0m 0s) Loss: 0.0923(0.0589) \n",
            "EVAL: [0/132] Data 0.143 (0.143) Elapsed 0m 0s (remain 0m 32s) Loss: 0.1190(0.1190) \n"
          ]
        },
        {
          "output_type": "stream",
          "name": "stderr",
          "text": [
            "Epoch 22 - avg_train_loss: 0.0589  avg_val_loss: 0.1573  time: 294s\n",
            "Epoch 22 - Accuracy: 0.95\n"
          ]
        },
        {
          "output_type": "stream",
          "name": "stdout",
          "text": [
            "EVAL: [131/132] Data 0.033 (0.131) Elapsed 0m 31s (remain 0m 0s) Loss: 0.0135(0.1573) \n",
            "Epoch: [23][0/525] Data 0.147 (0.147) Elapsed 0m 0s (remain 4m 29s) Loss: 0.0372(0.0372) \n",
            "Epoch: [23][524/525] Data 0.130 (0.133) Elapsed 4m 22s (remain 0m 0s) Loss: 0.0199(0.0488) \n",
            "EVAL: [0/132] Data 0.131 (0.131) Elapsed 0m 0s (remain 0m 32s) Loss: 0.0619(0.0619) \n"
          ]
        },
        {
          "output_type": "stream",
          "name": "stderr",
          "text": [
            "Epoch 23 - avg_train_loss: 0.0488  avg_val_loss: 0.0765  time: 294s\n",
            "Epoch 23 - Accuracy: 0.978452380952381\n",
            "Epoch 23 - Save Best Score: 0.9785 Model\n"
          ]
        },
        {
          "output_type": "stream",
          "name": "stdout",
          "text": [
            "EVAL: [131/132] Data 0.033 (0.130) Elapsed 0m 31s (remain 0m 0s) Loss: 0.0079(0.0765) \n",
            "/content/drive/MyDrive/kaggla-za/E002Round3/Week2/DigitRecognizer/model/exp3/resnet50_fold3_best_exp3.pth saved\n",
            "Epoch: [24][0/525] Data 0.136 (0.136) Elapsed 0m 0s (remain 4m 24s) Loss: 0.0171(0.0171) \n",
            "Epoch: [24][524/525] Data 0.126 (0.133) Elapsed 4m 22s (remain 0m 0s) Loss: 0.0327(0.0400) \n",
            "EVAL: [0/132] Data 0.136 (0.136) Elapsed 0m 0s (remain 0m 32s) Loss: 0.0463(0.0463) \n"
          ]
        },
        {
          "output_type": "stream",
          "name": "stderr",
          "text": [
            "Epoch 24 - avg_train_loss: 0.0400  avg_val_loss: 0.0800  time: 294s\n",
            "Epoch 24 - Accuracy: 0.9778571428571429\n"
          ]
        },
        {
          "output_type": "stream",
          "name": "stdout",
          "text": [
            "EVAL: [131/132] Data 0.030 (0.131) Elapsed 0m 31s (remain 0m 0s) Loss: 0.0062(0.0800) \n",
            "Epoch: [25][0/525] Data 0.135 (0.135) Elapsed 0m 0s (remain 4m 23s) Loss: 0.0205(0.0205) \n",
            "Epoch: [25][524/525] Data 0.133 (0.132) Elapsed 4m 21s (remain 0m 0s) Loss: 0.0082(0.0338) \n",
            "EVAL: [0/132] Data 0.143 (0.143) Elapsed 0m 0s (remain 0m 32s) Loss: 0.0424(0.0424) \n"
          ]
        },
        {
          "output_type": "stream",
          "name": "stderr",
          "text": [
            "Epoch 25 - avg_train_loss: 0.0338  avg_val_loss: 0.0624  time: 293s\n",
            "Epoch 25 - Accuracy: 0.9835714285714285\n",
            "Epoch 25 - Save Best Score: 0.9836 Model\n"
          ]
        },
        {
          "output_type": "stream",
          "name": "stdout",
          "text": [
            "EVAL: [131/132] Data 0.030 (0.130) Elapsed 0m 30s (remain 0m 0s) Loss: 0.0038(0.0624) \n",
            "/content/drive/MyDrive/kaggla-za/E002Round3/Week2/DigitRecognizer/model/exp3/resnet50_fold3_best_exp3.pth saved\n",
            "Epoch: [26][0/525] Data 0.137 (0.137) Elapsed 0m 0s (remain 4m 24s) Loss: 0.0162(0.0162) \n",
            "Epoch: [26][524/525] Data 0.128 (0.130) Elapsed 4m 20s (remain 0m 0s) Loss: 0.0132(0.0317) \n",
            "EVAL: [0/132] Data 0.125 (0.125) Elapsed 0m 0s (remain 0m 30s) Loss: 0.0380(0.0380) \n"
          ]
        },
        {
          "output_type": "stream",
          "name": "stderr",
          "text": [
            "Epoch 26 - avg_train_loss: 0.0317  avg_val_loss: 0.0553  time: 292s\n",
            "Epoch 26 - Accuracy: 0.9858333333333333\n",
            "Epoch 26 - Save Best Score: 0.9858 Model\n"
          ]
        },
        {
          "output_type": "stream",
          "name": "stdout",
          "text": [
            "EVAL: [131/132] Data 0.030 (0.127) Elapsed 0m 30s (remain 0m 0s) Loss: 0.0042(0.0553) \n",
            "/content/drive/MyDrive/kaggla-za/E002Round3/Week2/DigitRecognizer/model/exp3/resnet50_fold3_best_exp3.pth saved\n",
            "Epoch: [27][0/525] Data 0.150 (0.150) Elapsed 0m 0s (remain 4m 31s) Loss: 0.0230(0.0230) \n",
            "Epoch: [27][524/525] Data 0.128 (0.130) Elapsed 4m 21s (remain 0m 0s) Loss: 0.0192(0.0320) \n",
            "EVAL: [0/132] Data 0.128 (0.128) Elapsed 0m 0s (remain 0m 30s) Loss: 0.0444(0.0444) \n"
          ]
        },
        {
          "output_type": "stream",
          "name": "stderr",
          "text": [
            "Epoch 27 - avg_train_loss: 0.0320  avg_val_loss: 0.0666  time: 292s\n",
            "Epoch 27 - Accuracy: 0.9828571428571429\n"
          ]
        },
        {
          "output_type": "stream",
          "name": "stdout",
          "text": [
            "EVAL: [131/132] Data 0.032 (0.129) Elapsed 0m 30s (remain 0m 0s) Loss: 0.0056(0.0666) \n",
            "Epoch: [28][0/525] Data 0.142 (0.142) Elapsed 0m 0s (remain 4m 29s) Loss: 0.0096(0.0096) \n",
            "Epoch: [28][524/525] Data 0.132 (0.133) Elapsed 4m 22s (remain 0m 0s) Loss: 0.0134(0.0327) \n",
            "EVAL: [0/132] Data 0.136 (0.136) Elapsed 0m 0s (remain 0m 31s) Loss: 0.0625(0.0625) \n"
          ]
        },
        {
          "output_type": "stream",
          "name": "stderr",
          "text": [
            "Epoch 28 - avg_train_loss: 0.0327  avg_val_loss: 0.1019  time: 294s\n",
            "Epoch 28 - Accuracy: 0.9714285714285714\n"
          ]
        },
        {
          "output_type": "stream",
          "name": "stdout",
          "text": [
            "EVAL: [131/132] Data 0.034 (0.131) Elapsed 0m 31s (remain 0m 0s) Loss: 0.0092(0.1019) \n",
            "Epoch: [29][0/525] Data 0.153 (0.153) Elapsed 0m 0s (remain 4m 33s) Loss: 0.0188(0.0188) \n",
            "Epoch: [29][524/525] Data 0.141 (0.133) Elapsed 4m 22s (remain 0m 0s) Loss: 0.0219(0.0354) \n",
            "EVAL: [0/132] Data 0.138 (0.138) Elapsed 0m 0s (remain 0m 32s) Loss: 0.0289(0.0289) \n"
          ]
        },
        {
          "output_type": "stream",
          "name": "stderr",
          "text": [
            "Epoch 29 - avg_train_loss: 0.0354  avg_val_loss: 0.0782  time: 294s\n",
            "Epoch 29 - Accuracy: 0.9779761904761904\n"
          ]
        },
        {
          "output_type": "stream",
          "name": "stdout",
          "text": [
            "EVAL: [131/132] Data 0.041 (0.130) Elapsed 0m 31s (remain 0m 0s) Loss: 0.0058(0.0782) \n",
            "Epoch: [30][0/525] Data 0.142 (0.142) Elapsed 0m 0s (remain 4m 27s) Loss: 0.0430(0.0430) \n",
            "Epoch: [30][524/525] Data 0.129 (0.135) Elapsed 4m 23s (remain 0m 0s) Loss: 0.0084(0.0323) \n",
            "EVAL: [0/132] Data 0.148 (0.148) Elapsed 0m 0s (remain 0m 33s) Loss: 0.1743(0.1743) \n"
          ]
        },
        {
          "output_type": "stream",
          "name": "stderr",
          "text": [
            "Epoch 30 - avg_train_loss: 0.0323  avg_val_loss: 0.2706  time: 296s\n",
            "Epoch 30 - Accuracy: 0.9146428571428571\n"
          ]
        },
        {
          "output_type": "stream",
          "name": "stdout",
          "text": [
            "EVAL: [131/132] Data 0.035 (0.133) Elapsed 0m 31s (remain 0m 0s) Loss: 0.0417(0.2706) \n",
            "Epoch: [31][0/525] Data 0.145 (0.145) Elapsed 0m 0s (remain 4m 29s) Loss: 0.0537(0.0537) \n",
            "Epoch: [31][524/525] Data 0.133 (0.135) Elapsed 4m 23s (remain 0m 0s) Loss: 0.0150(0.0278) \n",
            "EVAL: [0/132] Data 0.136 (0.136) Elapsed 0m 0s (remain 0m 31s) Loss: 0.0516(0.0516) \n"
          ]
        },
        {
          "output_type": "stream",
          "name": "stderr",
          "text": [
            "Epoch 31 - avg_train_loss: 0.0278  avg_val_loss: 0.0964  time: 296s\n",
            "Epoch 31 - Accuracy: 0.971547619047619\n"
          ]
        },
        {
          "output_type": "stream",
          "name": "stdout",
          "text": [
            "EVAL: [131/132] Data 0.032 (0.132) Elapsed 0m 31s (remain 0m 0s) Loss: 0.0064(0.0964) \n",
            "Epoch: [32][0/525] Data 0.152 (0.152) Elapsed 0m 0s (remain 4m 32s) Loss: 0.0280(0.0280) \n",
            "Epoch: [32][524/525] Data 0.132 (0.134) Elapsed 4m 23s (remain 0m 0s) Loss: 0.0483(0.0232) \n",
            "EVAL: [0/132] Data 0.140 (0.140) Elapsed 0m 0s (remain 0m 32s) Loss: 0.0422(0.0422) \n"
          ]
        },
        {
          "output_type": "stream",
          "name": "stderr",
          "text": [
            "Epoch 32 - avg_train_loss: 0.0232  avg_val_loss: 0.0673  time: 295s\n",
            "Epoch 32 - Accuracy: 0.98\n"
          ]
        },
        {
          "output_type": "stream",
          "name": "stdout",
          "text": [
            "EVAL: [131/132] Data 0.032 (0.133) Elapsed 0m 31s (remain 0m 0s) Loss: 0.0026(0.0673) \n",
            "Epoch: [33][0/525] Data 0.142 (0.142) Elapsed 0m 0s (remain 4m 27s) Loss: 0.0115(0.0115) \n",
            "Epoch: [33][524/525] Data 0.133 (0.135) Elapsed 4m 23s (remain 0m 0s) Loss: 0.0060(0.0172) \n",
            "EVAL: [0/132] Data 0.134 (0.134) Elapsed 0m 0s (remain 0m 31s) Loss: 0.1075(0.1075) \n"
          ]
        },
        {
          "output_type": "stream",
          "name": "stderr",
          "text": [
            "Epoch 33 - avg_train_loss: 0.0172  avg_val_loss: 0.0856  time: 296s\n",
            "Epoch 33 - Accuracy: 0.9733333333333334\n"
          ]
        },
        {
          "output_type": "stream",
          "name": "stdout",
          "text": [
            "EVAL: [131/132] Data 0.034 (0.133) Elapsed 0m 31s (remain 0m 0s) Loss: 0.0501(0.0856) \n",
            "Epoch: [34][0/525] Data 0.151 (0.151) Elapsed 0m 0s (remain 4m 32s) Loss: 0.0090(0.0090) \n",
            "Epoch: [34][524/525] Data 0.136 (0.135) Elapsed 4m 23s (remain 0m 0s) Loss: 0.0055(0.0133) \n",
            "EVAL: [0/132] Data 0.144 (0.144) Elapsed 0m 0s (remain 0m 32s) Loss: 0.0249(0.0249) \n"
          ]
        },
        {
          "output_type": "stream",
          "name": "stderr",
          "text": [
            "Epoch 34 - avg_train_loss: 0.0133  avg_val_loss: 0.0573  time: 295s\n",
            "Epoch 34 - Accuracy: 0.9833333333333333\n"
          ]
        },
        {
          "output_type": "stream",
          "name": "stdout",
          "text": [
            "EVAL: [131/132] Data 0.032 (0.132) Elapsed 0m 31s (remain 0m 0s) Loss: 0.0024(0.0573) \n",
            "Epoch: [35][0/525] Data 0.142 (0.142) Elapsed 0m 0s (remain 4m 27s) Loss: 0.0082(0.0082) \n",
            "Epoch: [35][524/525] Data 0.134 (0.135) Elapsed 4m 23s (remain 0m 0s) Loss: 0.0053(0.0111) \n",
            "EVAL: [0/132] Data 0.140 (0.140) Elapsed 0m 0s (remain 0m 32s) Loss: 0.0160(0.0160) \n"
          ]
        },
        {
          "output_type": "stream",
          "name": "stderr",
          "text": [
            "Epoch 35 - avg_train_loss: 0.0111  avg_val_loss: 0.0536  time: 296s\n",
            "Epoch 35 - Accuracy: 0.9847619047619047\n"
          ]
        },
        {
          "output_type": "stream",
          "name": "stdout",
          "text": [
            "EVAL: [131/132] Data 0.033 (0.134) Elapsed 0m 31s (remain 0m 0s) Loss: 0.0011(0.0536) \n",
            "Epoch: [36][0/525] Data 0.146 (0.146) Elapsed 0m 0s (remain 4m 30s) Loss: 0.0170(0.0170) \n",
            "Epoch: [36][524/525] Data 0.137 (0.135) Elapsed 4m 23s (remain 0m 0s) Loss: 0.0057(0.0100) \n",
            "EVAL: [0/132] Data 0.136 (0.136) Elapsed 0m 0s (remain 0m 32s) Loss: 0.0242(0.0242) \n"
          ]
        },
        {
          "output_type": "stream",
          "name": "stderr",
          "text": [
            "Epoch 36 - avg_train_loss: 0.0100  avg_val_loss: 0.0433  time: 296s\n",
            "Epoch 36 - Accuracy: 0.9886904761904762\n",
            "Epoch 36 - Save Best Score: 0.9887 Model\n"
          ]
        },
        {
          "output_type": "stream",
          "name": "stdout",
          "text": [
            "EVAL: [131/132] Data 0.033 (0.132) Elapsed 0m 31s (remain 0m 0s) Loss: 0.0008(0.0433) \n",
            "/content/drive/MyDrive/kaggla-za/E002Round3/Week2/DigitRecognizer/model/exp3/resnet50_fold3_best_exp3.pth saved\n",
            "Epoch: [37][0/525] Data 0.138 (0.138) Elapsed 0m 0s (remain 4m 25s) Loss: 0.0086(0.0086) \n",
            "Epoch: [37][524/525] Data 0.130 (0.134) Elapsed 4m 23s (remain 0m 0s) Loss: 0.0063(0.0099) \n",
            "EVAL: [0/132] Data 0.130 (0.130) Elapsed 0m 0s (remain 0m 31s) Loss: 0.0258(0.0258) \n"
          ]
        },
        {
          "output_type": "stream",
          "name": "stderr",
          "text": [
            "Epoch 37 - avg_train_loss: 0.0099  avg_val_loss: 0.0453  time: 295s\n",
            "Epoch 37 - Accuracy: 0.9873809523809524\n"
          ]
        },
        {
          "output_type": "stream",
          "name": "stdout",
          "text": [
            "EVAL: [131/132] Data 0.033 (0.131) Elapsed 0m 31s (remain 0m 0s) Loss: 0.0006(0.0453) \n",
            "Epoch: [38][0/525] Data 0.149 (0.149) Elapsed 0m 0s (remain 4m 31s) Loss: 0.0033(0.0033) \n",
            "Epoch: [38][524/525] Data 0.120 (0.132) Elapsed 4m 21s (remain 0m 0s) Loss: 0.0047(0.0120) \n",
            "EVAL: [0/132] Data 0.145 (0.145) Elapsed 0m 0s (remain 0m 33s) Loss: 0.0301(0.0301) \n"
          ]
        },
        {
          "output_type": "stream",
          "name": "stderr",
          "text": [
            "Epoch 38 - avg_train_loss: 0.0120  avg_val_loss: 0.0741  time: 293s\n",
            "Epoch 38 - Accuracy: 0.9771428571428571\n"
          ]
        },
        {
          "output_type": "stream",
          "name": "stdout",
          "text": [
            "EVAL: [131/132] Data 0.033 (0.126) Elapsed 0m 30s (remain 0m 0s) Loss: 0.0012(0.0741) \n",
            "Epoch: [39][0/525] Data 0.139 (0.139) Elapsed 0m 0s (remain 4m 26s) Loss: 0.0105(0.0105) \n",
            "Epoch: [39][524/525] Data 0.132 (0.129) Elapsed 4m 20s (remain 0m 0s) Loss: 0.0177(0.0136) \n",
            "EVAL: [0/132] Data 0.136 (0.136) Elapsed 0m 0s (remain 0m 31s) Loss: 0.0270(0.0270) \n"
          ]
        },
        {
          "output_type": "stream",
          "name": "stderr",
          "text": [
            "Epoch 39 - avg_train_loss: 0.0136  avg_val_loss: 0.1026  time: 291s\n",
            "Epoch 39 - Accuracy: 0.9692857142857143\n"
          ]
        },
        {
          "output_type": "stream",
          "name": "stdout",
          "text": [
            "EVAL: [131/132] Data 0.035 (0.128) Elapsed 0m 30s (remain 0m 0s) Loss: 0.0020(0.1026) \n",
            "Epoch: [40][0/525] Data 0.140 (0.140) Elapsed 0m 0s (remain 4m 26s) Loss: 0.0202(0.0202) \n",
            "Epoch: [40][524/525] Data 0.135 (0.130) Elapsed 4m 20s (remain 0m 0s) Loss: 0.0152(0.0149) \n",
            "EVAL: [0/132] Data 0.126 (0.126) Elapsed 0m 0s (remain 0m 30s) Loss: 0.0213(0.0213) \n"
          ]
        },
        {
          "output_type": "stream",
          "name": "stderr",
          "text": [
            "Epoch 40 - avg_train_loss: 0.0149  avg_val_loss: 0.0555  time: 292s\n",
            "Epoch 40 - Accuracy: 0.9839285714285714\n"
          ]
        },
        {
          "output_type": "stream",
          "name": "stdout",
          "text": [
            "EVAL: [131/132] Data 0.030 (0.126) Elapsed 0m 30s (remain 0m 0s) Loss: 0.0014(0.0555) \n",
            "====================Fold 4====================\n",
            "Epoch: [1][0/525] Data 0.124 (0.124) Elapsed 0m 0s (remain 4m 19s) Loss: 6.9047(6.9047) \n",
            "Epoch: [1][524/525] Data 0.121 (0.128) Elapsed 4m 19s (remain 0m 0s) Loss: 2.0497(3.4611) \n",
            "EVAL: [0/132] Data 0.130 (0.130) Elapsed 0m 0s (remain 0m 31s) Loss: 2.1121(2.1121) \n"
          ]
        },
        {
          "output_type": "stream",
          "name": "stderr",
          "text": [
            "Epoch 1 - avg_train_loss: 3.4611  avg_val_loss: 2.0686  time: 290s\n",
            "Epoch 1 - Accuracy: 0.36154761904761906\n",
            "Epoch 1 - Save Best Score: 0.3615 Model\n"
          ]
        },
        {
          "output_type": "stream",
          "name": "stdout",
          "text": [
            "EVAL: [131/132] Data 0.030 (0.125) Elapsed 0m 30s (remain 0m 0s) Loss: 2.0641(2.0686) \n",
            "/content/drive/MyDrive/kaggla-za/E002Round3/Week2/DigitRecognizer/model/exp3/resnet50_fold4_best_exp3.pth saved\n",
            "Epoch: [2][0/525] Data 0.147 (0.147) Elapsed 0m 0s (remain 4m 37s) Loss: 2.0621(2.0621) \n",
            "Epoch: [2][524/525] Data 0.122 (0.129) Elapsed 4m 20s (remain 0m 0s) Loss: 1.7202(1.8497) \n",
            "EVAL: [0/132] Data 0.133 (0.133) Elapsed 0m 0s (remain 0m 31s) Loss: 1.7127(1.7127) \n"
          ]
        },
        {
          "output_type": "stream",
          "name": "stderr",
          "text": [
            "Epoch 2 - avg_train_loss: 1.8497  avg_val_loss: 1.6874  time: 291s\n",
            "Epoch 2 - Accuracy: 0.5507142857142857\n",
            "Epoch 2 - Save Best Score: 0.5507 Model\n"
          ]
        },
        {
          "output_type": "stream",
          "name": "stdout",
          "text": [
            "EVAL: [131/132] Data 0.031 (0.128) Elapsed 0m 30s (remain 0m 0s) Loss: 1.6809(1.6874) \n",
            "/content/drive/MyDrive/kaggla-za/E002Round3/Week2/DigitRecognizer/model/exp3/resnet50_fold4_best_exp3.pth saved\n",
            "Epoch: [3][0/525] Data 0.134 (0.134) Elapsed 0m 0s (remain 4m 23s) Loss: 1.5787(1.5787) \n",
            "Epoch: [3][524/525] Data 0.144 (0.130) Elapsed 4m 20s (remain 0m 0s) Loss: 1.2863(1.4869) \n",
            "EVAL: [0/132] Data 0.142 (0.142) Elapsed 0m 0s (remain 0m 32s) Loss: 1.4305(1.4305) \n"
          ]
        },
        {
          "output_type": "stream",
          "name": "stderr",
          "text": [
            "Epoch 3 - avg_train_loss: 1.4869  avg_val_loss: 1.3118  time: 292s\n",
            "Epoch 3 - Accuracy: 0.6620238095238096\n",
            "Epoch 3 - Save Best Score: 0.6620 Model\n"
          ]
        },
        {
          "output_type": "stream",
          "name": "stdout",
          "text": [
            "EVAL: [131/132] Data 0.034 (0.127) Elapsed 0m 30s (remain 0m 0s) Loss: 1.2836(1.3118) \n",
            "/content/drive/MyDrive/kaggla-za/E002Round3/Week2/DigitRecognizer/model/exp3/resnet50_fold4_best_exp3.pth saved\n",
            "Epoch: [4][0/525] Data 0.134 (0.134) Elapsed 0m 0s (remain 4m 23s) Loss: 1.3218(1.3218) \n",
            "Epoch: [4][524/525] Data 0.142 (0.129) Elapsed 4m 20s (remain 0m 0s) Loss: 1.0622(1.1878) \n",
            "EVAL: [0/132] Data 0.124 (0.124) Elapsed 0m 0s (remain 0m 30s) Loss: 1.1498(1.1498) \n"
          ]
        },
        {
          "output_type": "stream",
          "name": "stderr",
          "text": [
            "Epoch 4 - avg_train_loss: 1.1878  avg_val_loss: 1.0931  time: 291s\n",
            "Epoch 4 - Accuracy: 0.7535714285714286\n",
            "Epoch 4 - Save Best Score: 0.7536 Model\n"
          ]
        },
        {
          "output_type": "stream",
          "name": "stdout",
          "text": [
            "EVAL: [131/132] Data 0.033 (0.126) Elapsed 0m 30s (remain 0m 0s) Loss: 0.9769(1.0931) \n",
            "/content/drive/MyDrive/kaggla-za/E002Round3/Week2/DigitRecognizer/model/exp3/resnet50_fold4_best_exp3.pth saved\n",
            "Epoch: [5][0/525] Data 0.125 (0.125) Elapsed 0m 0s (remain 4m 18s) Loss: 1.0000(1.0000) \n",
            "Epoch: [5][524/525] Data 0.136 (0.132) Elapsed 4m 22s (remain 0m 0s) Loss: 0.8829(0.9949) \n",
            "EVAL: [0/132] Data 0.133 (0.133) Elapsed 0m 0s (remain 0m 31s) Loss: 1.0083(1.0083) \n"
          ]
        },
        {
          "output_type": "stream",
          "name": "stderr",
          "text": [
            "Epoch 5 - avg_train_loss: 0.9949  avg_val_loss: 0.9251  time: 294s\n",
            "Epoch 5 - Accuracy: 0.8139285714285714\n",
            "Epoch 5 - Save Best Score: 0.8139 Model\n"
          ]
        },
        {
          "output_type": "stream",
          "name": "stdout",
          "text": [
            "EVAL: [131/132] Data 0.033 (0.129) Elapsed 0m 30s (remain 0m 0s) Loss: 0.8008(0.9251) \n",
            "/content/drive/MyDrive/kaggla-za/E002Round3/Week2/DigitRecognizer/model/exp3/resnet50_fold4_best_exp3.pth saved\n",
            "Epoch: [6][0/525] Data 0.134 (0.134) Elapsed 0m 0s (remain 4m 23s) Loss: 0.8804(0.8804) \n",
            "Epoch: [6][524/525] Data 0.130 (0.131) Elapsed 4m 21s (remain 0m 0s) Loss: 0.9090(0.9105) \n",
            "EVAL: [0/132] Data 0.133 (0.133) Elapsed 0m 0s (remain 0m 31s) Loss: 0.9424(0.9424) \n"
          ]
        },
        {
          "output_type": "stream",
          "name": "stderr",
          "text": [
            "Epoch 6 - avg_train_loss: 0.9105  avg_val_loss: 0.8651  time: 294s\n",
            "Epoch 6 - Accuracy: 0.8307142857142857\n",
            "Epoch 6 - Save Best Score: 0.8307 Model\n"
          ]
        },
        {
          "output_type": "stream",
          "name": "stdout",
          "text": [
            "EVAL: [131/132] Data 0.039 (0.134) Elapsed 0m 31s (remain 0m 0s) Loss: 0.7299(0.8651) \n",
            "/content/drive/MyDrive/kaggla-za/E002Round3/Week2/DigitRecognizer/model/exp3/resnet50_fold4_best_exp3.pth saved\n",
            "Epoch: [7][0/525] Data 0.147 (0.147) Elapsed 0m 0s (remain 4m 30s) Loss: 0.8933(0.8933) \n",
            "Epoch: [7][524/525] Data 0.122 (0.131) Elapsed 4m 21s (remain 0m 0s) Loss: 0.8339(0.8367) \n",
            "EVAL: [0/132] Data 0.132 (0.132) Elapsed 0m 0s (remain 0m 31s) Loss: 0.8461(0.8461) \n"
          ]
        },
        {
          "output_type": "stream",
          "name": "stderr",
          "text": [
            "Epoch 7 - avg_train_loss: 0.8367  avg_val_loss: 0.7934  time: 292s\n",
            "Epoch 7 - Accuracy: 0.8546428571428571\n",
            "Epoch 7 - Save Best Score: 0.8546 Model\n"
          ]
        },
        {
          "output_type": "stream",
          "name": "stdout",
          "text": [
            "EVAL: [131/132] Data 0.031 (0.125) Elapsed 0m 30s (remain 0m 0s) Loss: 0.6331(0.7934) \n",
            "/content/drive/MyDrive/kaggla-za/E002Round3/Week2/DigitRecognizer/model/exp3/resnet50_fold4_best_exp3.pth saved\n",
            "Epoch: [8][0/525] Data 0.127 (0.127) Elapsed 0m 0s (remain 4m 19s) Loss: 0.8236(0.8236) \n",
            "Epoch: [8][524/525] Data 0.129 (0.129) Elapsed 4m 20s (remain 0m 0s) Loss: 0.5467(0.7020) \n",
            "EVAL: [0/132] Data 0.132 (0.132) Elapsed 0m 0s (remain 0m 31s) Loss: 0.6600(0.6600) \n"
          ]
        },
        {
          "output_type": "stream",
          "name": "stderr",
          "text": [
            "Epoch 8 - avg_train_loss: 0.7020  avg_val_loss: 0.6127  time: 292s\n",
            "Epoch 8 - Accuracy: 0.8940476190476191\n",
            "Epoch 8 - Save Best Score: 0.8940 Model\n"
          ]
        },
        {
          "output_type": "stream",
          "name": "stdout",
          "text": [
            "EVAL: [131/132] Data 0.031 (0.130) Elapsed 0m 31s (remain 0m 0s) Loss: 0.4601(0.6127) \n",
            "/content/drive/MyDrive/kaggla-za/E002Round3/Week2/DigitRecognizer/model/exp3/resnet50_fold4_best_exp3.pth saved\n",
            "Epoch: [9][0/525] Data 0.135 (0.135) Elapsed 0m 0s (remain 4m 23s) Loss: 0.5893(0.5893) \n",
            "Epoch: [9][524/525] Data 0.126 (0.131) Elapsed 4m 21s (remain 0m 0s) Loss: 0.3904(0.5149) \n",
            "EVAL: [0/132] Data 0.130 (0.130) Elapsed 0m 0s (remain 0m 31s) Loss: 0.9233(0.9233) \n"
          ]
        },
        {
          "output_type": "stream",
          "name": "stderr",
          "text": [
            "Epoch 9 - avg_train_loss: 0.5149  avg_val_loss: 0.8241  time: 293s\n",
            "Epoch 9 - Accuracy: 0.7292857142857143\n"
          ]
        },
        {
          "output_type": "stream",
          "name": "stdout",
          "text": [
            "EVAL: [131/132] Data 0.034 (0.130) Elapsed 0m 31s (remain 0m 0s) Loss: 0.7923(0.8241) \n",
            "Epoch: [10][0/525] Data 0.142 (0.142) Elapsed 0m 0s (remain 4m 30s) Loss: 0.3426(0.3426) \n",
            "Epoch: [10][524/525] Data 0.131 (0.133) Elapsed 4m 22s (remain 0m 0s) Loss: 0.2530(0.3473) \n",
            "EVAL: [0/132] Data 0.139 (0.139) Elapsed 0m 0s (remain 0m 32s) Loss: 1.0962(1.0962) \n"
          ]
        },
        {
          "output_type": "stream",
          "name": "stderr",
          "text": [
            "Epoch 10 - avg_train_loss: 0.3473  avg_val_loss: 1.1192  time: 295s\n",
            "Epoch 10 - Accuracy: 0.6159523809523809\n"
          ]
        },
        {
          "output_type": "stream",
          "name": "stdout",
          "text": [
            "EVAL: [131/132] Data 0.034 (0.133) Elapsed 0m 31s (remain 0m 0s) Loss: 1.1651(1.1192) \n",
            "Epoch: [11][0/525] Data 0.147 (0.147) Elapsed 0m 0s (remain 4m 31s) Loss: 0.3264(0.3264) \n",
            "Epoch: [11][524/525] Data 0.132 (0.134) Elapsed 4m 23s (remain 0m 0s) Loss: 0.1823(0.2397) \n",
            "EVAL: [0/132] Data 0.142 (0.142) Elapsed 0m 0s (remain 0m 32s) Loss: 1.1998(1.1998) \n"
          ]
        },
        {
          "output_type": "stream",
          "name": "stderr",
          "text": [
            "Epoch 11 - avg_train_loss: 0.2397  avg_val_loss: 0.8630  time: 295s\n",
            "Epoch 11 - Accuracy: 0.7545238095238095\n"
          ]
        },
        {
          "output_type": "stream",
          "name": "stdout",
          "text": [
            "EVAL: [131/132] Data 0.032 (0.132) Elapsed 0m 31s (remain 0m 0s) Loss: 0.6999(0.8630) \n",
            "Epoch: [12][0/525] Data 0.137 (0.137) Elapsed 0m 0s (remain 4m 25s) Loss: 0.2149(0.2149) \n",
            "Epoch: [12][524/525] Data 0.125 (0.131) Elapsed 4m 21s (remain 0m 0s) Loss: 0.2252(0.1794) \n",
            "EVAL: [0/132] Data 0.143 (0.143) Elapsed 0m 0s (remain 0m 32s) Loss: 0.5091(0.5091) \n"
          ]
        },
        {
          "output_type": "stream",
          "name": "stderr",
          "text": [
            "Epoch 12 - avg_train_loss: 0.1794  avg_val_loss: 0.4873  time: 293s\n",
            "Epoch 12 - Accuracy: 0.8536904761904762\n"
          ]
        },
        {
          "output_type": "stream",
          "name": "stdout",
          "text": [
            "EVAL: [131/132] Data 0.034 (0.129) Elapsed 0m 30s (remain 0m 0s) Loss: 0.3724(0.4873) \n",
            "Epoch: [13][0/525] Data 0.145 (0.145) Elapsed 0m 0s (remain 4m 29s) Loss: 0.1811(0.1811) \n",
            "Epoch: [13][524/525] Data 0.141 (0.131) Elapsed 4m 21s (remain 0m 0s) Loss: 0.0960(0.1434) \n",
            "EVAL: [0/132] Data 0.128 (0.128) Elapsed 0m 0s (remain 0m 30s) Loss: 0.2569(0.2569) \n"
          ]
        },
        {
          "output_type": "stream",
          "name": "stderr",
          "text": [
            "Epoch 13 - avg_train_loss: 0.1434  avg_val_loss: 0.2296  time: 293s\n",
            "Epoch 13 - Accuracy: 0.9346428571428571\n",
            "Epoch 13 - Save Best Score: 0.9346 Model\n"
          ]
        },
        {
          "output_type": "stream",
          "name": "stdout",
          "text": [
            "EVAL: [131/132] Data 0.031 (0.129) Elapsed 0m 30s (remain 0m 0s) Loss: 0.1334(0.2296) \n",
            "/content/drive/MyDrive/kaggla-za/E002Round3/Week2/DigitRecognizer/model/exp3/resnet50_fold4_best_exp3.pth saved\n",
            "Epoch: [14][0/525] Data 0.132 (0.132) Elapsed 0m 0s (remain 4m 22s) Loss: 0.0926(0.0926) \n",
            "Epoch: [14][524/525] Data 0.128 (0.130) Elapsed 4m 21s (remain 0m 0s) Loss: 0.0934(0.1208) \n",
            "EVAL: [0/132] Data 0.140 (0.140) Elapsed 0m 0s (remain 0m 32s) Loss: 0.1251(0.1251) \n"
          ]
        },
        {
          "output_type": "stream",
          "name": "stderr",
          "text": [
            "Epoch 14 - avg_train_loss: 0.1208  avg_val_loss: 0.1428  time: 292s\n",
            "Epoch 14 - Accuracy: 0.9665476190476191\n",
            "Epoch 14 - Save Best Score: 0.9665 Model\n"
          ]
        },
        {
          "output_type": "stream",
          "name": "stdout",
          "text": [
            "EVAL: [131/132] Data 0.033 (0.128) Elapsed 0m 30s (remain 0m 0s) Loss: 0.1110(0.1428) \n",
            "/content/drive/MyDrive/kaggla-za/E002Round3/Week2/DigitRecognizer/model/exp3/resnet50_fold4_best_exp3.pth saved\n",
            "Epoch: [15][0/525] Data 0.132 (0.132) Elapsed 0m 0s (remain 4m 23s) Loss: 0.1614(0.1614) \n",
            "Epoch: [15][524/525] Data 0.126 (0.132) Elapsed 4m 22s (remain 0m 0s) Loss: 0.0827(0.1080) \n",
            "EVAL: [0/132] Data 0.130 (0.130) Elapsed 0m 0s (remain 0m 31s) Loss: 0.0960(0.0960) \n"
          ]
        },
        {
          "output_type": "stream",
          "name": "stderr",
          "text": [
            "Epoch 15 - avg_train_loss: 0.1080  avg_val_loss: 0.1189  time: 293s\n",
            "Epoch 15 - Accuracy: 0.9710714285714286\n",
            "Epoch 15 - Save Best Score: 0.9711 Model\n"
          ]
        },
        {
          "output_type": "stream",
          "name": "stdout",
          "text": [
            "EVAL: [131/132] Data 0.031 (0.128) Elapsed 0m 30s (remain 0m 0s) Loss: 0.0446(0.1189) \n",
            "/content/drive/MyDrive/kaggla-za/E002Round3/Week2/DigitRecognizer/model/exp3/resnet50_fold4_best_exp3.pth saved\n",
            "Epoch: [16][0/525] Data 0.137 (0.137) Elapsed 0m 0s (remain 4m 25s) Loss: 0.0885(0.0885) \n",
            "Epoch: [16][524/525] Data 0.129 (0.130) Elapsed 4m 21s (remain 0m 0s) Loss: 0.1849(0.1023) \n",
            "EVAL: [0/132] Data 0.141 (0.141) Elapsed 0m 0s (remain 0m 32s) Loss: 0.0895(0.0895) \n"
          ]
        },
        {
          "output_type": "stream",
          "name": "stderr",
          "text": [
            "Epoch 16 - avg_train_loss: 0.1023  avg_val_loss: 0.1093  time: 292s\n",
            "Epoch 16 - Accuracy: 0.9741666666666666\n",
            "Epoch 16 - Save Best Score: 0.9742 Model\n"
          ]
        },
        {
          "output_type": "stream",
          "name": "stdout",
          "text": [
            "EVAL: [131/132] Data 0.031 (0.128) Elapsed 0m 30s (remain 0m 0s) Loss: 0.0305(0.1093) \n",
            "/content/drive/MyDrive/kaggla-za/E002Round3/Week2/DigitRecognizer/model/exp3/resnet50_fold4_best_exp3.pth saved\n",
            "Epoch: [17][0/525] Data 0.143 (0.143) Elapsed 0m 0s (remain 4m 28s) Loss: 0.0633(0.0633) \n",
            "Epoch: [17][524/525] Data 0.124 (0.129) Elapsed 4m 20s (remain 0m 0s) Loss: 0.1023(0.0993) \n",
            "EVAL: [0/132] Data 0.133 (0.133) Elapsed 0m 0s (remain 0m 31s) Loss: 0.0966(0.0966) \n"
          ]
        },
        {
          "output_type": "stream",
          "name": "stderr",
          "text": [
            "Epoch 17 - avg_train_loss: 0.0993  avg_val_loss: 0.1099  time: 292s\n",
            "Epoch 17 - Accuracy: 0.9739285714285715\n"
          ]
        },
        {
          "output_type": "stream",
          "name": "stdout",
          "text": [
            "EVAL: [131/132] Data 0.031 (0.134) Elapsed 0m 31s (remain 0m 0s) Loss: 0.0314(0.1099) \n",
            "Epoch: [18][0/525] Data 0.139 (0.139) Elapsed 0m 0s (remain 4m 26s) Loss: 0.1254(0.1254) \n",
            "Epoch: [18][524/525] Data 0.133 (0.135) Elapsed 4m 23s (remain 0m 0s) Loss: 0.0918(0.0985) \n",
            "EVAL: [0/132] Data 0.142 (0.142) Elapsed 0m 0s (remain 0m 32s) Loss: 0.1130(0.1130) \n"
          ]
        },
        {
          "output_type": "stream",
          "name": "stderr",
          "text": [
            "Epoch 18 - avg_train_loss: 0.0985  avg_val_loss: 0.1329  time: 295s\n",
            "Epoch 18 - Accuracy: 0.9652380952380952\n"
          ]
        },
        {
          "output_type": "stream",
          "name": "stdout",
          "text": [
            "EVAL: [131/132] Data 0.035 (0.130) Elapsed 0m 31s (remain 0m 0s) Loss: 0.0378(0.1329) \n",
            "Epoch: [19][0/525] Data 0.131 (0.131) Elapsed 0m 0s (remain 4m 21s) Loss: 0.0972(0.0972) \n",
            "Epoch: [19][524/525] Data 0.146 (0.137) Elapsed 4m 26s (remain 0m 0s) Loss: 0.0405(0.0895) \n",
            "EVAL: [0/132] Data 0.152 (0.152) Elapsed 0m 0s (remain 0m 34s) Loss: 0.1809(0.1809) \n"
          ]
        },
        {
          "output_type": "stream",
          "name": "stderr",
          "text": [
            "Epoch 19 - avg_train_loss: 0.0895  avg_val_loss: 0.1875  time: 300s\n",
            "Epoch 19 - Accuracy: 0.9478571428571428\n"
          ]
        },
        {
          "output_type": "stream",
          "name": "stdout",
          "text": [
            "EVAL: [131/132] Data 0.037 (0.142) Elapsed 0m 32s (remain 0m 0s) Loss: 0.2032(0.1875) \n",
            "Epoch: [20][0/525] Data 0.168 (0.168) Elapsed 0m 0s (remain 4m 42s) Loss: 0.0297(0.0297) \n",
            "Epoch: [20][524/525] Data 0.143 (0.140) Elapsed 4m 27s (remain 0m 0s) Loss: 0.0763(0.0808) \n",
            "EVAL: [0/132] Data 0.155 (0.155) Elapsed 0m 0s (remain 0m 34s) Loss: 0.3820(0.3820) \n"
          ]
        },
        {
          "output_type": "stream",
          "name": "stderr",
          "text": [
            "Epoch 20 - avg_train_loss: 0.0808  avg_val_loss: 0.3543  time: 300s\n",
            "Epoch 20 - Accuracy: 0.8879761904761905\n"
          ]
        },
        {
          "output_type": "stream",
          "name": "stdout",
          "text": [
            "EVAL: [131/132] Data 0.034 (0.138) Elapsed 0m 32s (remain 0m 0s) Loss: 0.1082(0.3543) \n",
            "Epoch: [21][0/525] Data 0.150 (0.150) Elapsed 0m 0s (remain 4m 38s) Loss: 0.1031(0.1031) \n",
            "Epoch: [21][524/525] Data 0.138 (0.141) Elapsed 4m 27s (remain 0m 0s) Loss: 0.0427(0.0686) \n",
            "EVAL: [0/132] Data 0.149 (0.149) Elapsed 0m 0s (remain 0m 33s) Loss: 0.2818(0.2818) \n"
          ]
        },
        {
          "output_type": "stream",
          "name": "stderr",
          "text": [
            "Epoch 21 - avg_train_loss: 0.0686  avg_val_loss: 0.2750  time: 300s\n",
            "Epoch 21 - Accuracy: 0.915\n"
          ]
        },
        {
          "output_type": "stream",
          "name": "stdout",
          "text": [
            "EVAL: [131/132] Data 0.037 (0.138) Elapsed 0m 32s (remain 0m 0s) Loss: 0.1897(0.2750) \n",
            "Epoch: [22][0/525] Data 0.152 (0.152) Elapsed 0m 0s (remain 4m 34s) Loss: 0.0739(0.0739) \n",
            "Epoch: [22][524/525] Data 0.130 (0.140) Elapsed 4m 27s (remain 0m 0s) Loss: 0.0332(0.0596) \n",
            "EVAL: [0/132] Data 0.147 (0.147) Elapsed 0m 0s (remain 0m 33s) Loss: 0.8278(0.8278) \n"
          ]
        },
        {
          "output_type": "stream",
          "name": "stderr",
          "text": [
            "Epoch 22 - avg_train_loss: 0.0596  avg_val_loss: 0.9014  time: 300s\n",
            "Epoch 22 - Accuracy: 0.7008333333333333\n"
          ]
        },
        {
          "output_type": "stream",
          "name": "stdout",
          "text": [
            "EVAL: [131/132] Data 0.032 (0.135) Elapsed 0m 31s (remain 0m 0s) Loss: 0.7225(0.9014) \n",
            "Epoch: [23][0/525] Data 0.136 (0.136) Elapsed 0m 0s (remain 4m 25s) Loss: 0.0451(0.0451) \n",
            "Epoch: [23][524/525] Data 0.136 (0.138) Elapsed 4m 26s (remain 0m 0s) Loss: 0.0540(0.0474) \n",
            "EVAL: [0/132] Data 0.152 (0.152) Elapsed 0m 0s (remain 0m 34s) Loss: 0.0680(0.0680) \n"
          ]
        },
        {
          "output_type": "stream",
          "name": "stderr",
          "text": [
            "Epoch 23 - avg_train_loss: 0.0474  avg_val_loss: 0.1116  time: 299s\n",
            "Epoch 23 - Accuracy: 0.9671428571428572\n"
          ]
        },
        {
          "output_type": "stream",
          "name": "stdout",
          "text": [
            "EVAL: [131/132] Data 0.039 (0.135) Elapsed 0m 31s (remain 0m 0s) Loss: 0.0114(0.1116) \n",
            "Epoch: [24][0/525] Data 0.149 (0.149) Elapsed 0m 0s (remain 4m 32s) Loss: 0.0376(0.0376) \n",
            "Epoch: [24][524/525] Data 0.145 (0.138) Elapsed 4m 26s (remain 0m 0s) Loss: 0.0124(0.0393) \n",
            "EVAL: [0/132] Data 0.149 (0.149) Elapsed 0m 0s (remain 0m 34s) Loss: 0.0845(0.0845) \n"
          ]
        },
        {
          "output_type": "stream",
          "name": "stderr",
          "text": [
            "Epoch 24 - avg_train_loss: 0.0393  avg_val_loss: 0.1063  time: 299s\n",
            "Epoch 24 - Accuracy: 0.9702380952380952\n"
          ]
        },
        {
          "output_type": "stream",
          "name": "stdout",
          "text": [
            "EVAL: [131/132] Data 0.034 (0.137) Elapsed 0m 32s (remain 0m 0s) Loss: 0.0225(0.1063) \n",
            "Epoch: [25][0/525] Data 0.164 (0.164) Elapsed 0m 0s (remain 4m 40s) Loss: 0.0622(0.0622) \n",
            "Epoch: [25][524/525] Data 0.133 (0.140) Elapsed 4m 27s (remain 0m 0s) Loss: 0.0207(0.0333) \n",
            "EVAL: [0/132] Data 0.136 (0.136) Elapsed 0m 0s (remain 0m 31s) Loss: 0.0480(0.0480) \n"
          ]
        },
        {
          "output_type": "stream",
          "name": "stderr",
          "text": [
            "Epoch 25 - avg_train_loss: 0.0333  avg_val_loss: 0.0825  time: 300s\n",
            "Epoch 25 - Accuracy: 0.9763095238095238\n",
            "Epoch 25 - Save Best Score: 0.9763 Model\n"
          ]
        },
        {
          "output_type": "stream",
          "name": "stdout",
          "text": [
            "EVAL: [131/132] Data 0.032 (0.138) Elapsed 0m 32s (remain 0m 0s) Loss: 0.0102(0.0825) \n",
            "/content/drive/MyDrive/kaggla-za/E002Round3/Week2/DigitRecognizer/model/exp3/resnet50_fold4_best_exp3.pth saved\n",
            "Epoch: [26][0/525] Data 0.151 (0.151) Elapsed 0m 0s (remain 4m 33s) Loss: 0.0138(0.0138) \n",
            "Epoch: [26][524/525] Data 0.146 (0.141) Elapsed 4m 27s (remain 0m 0s) Loss: 0.0344(0.0316) \n",
            "EVAL: [0/132] Data 0.154 (0.154) Elapsed 0m 0s (remain 0m 34s) Loss: 0.0333(0.0333) \n"
          ]
        },
        {
          "output_type": "stream",
          "name": "stderr",
          "text": [
            "Epoch 26 - avg_train_loss: 0.0316  avg_val_loss: 0.0608  time: 300s\n",
            "Epoch 26 - Accuracy: 0.981547619047619\n",
            "Epoch 26 - Save Best Score: 0.9815 Model\n"
          ]
        },
        {
          "output_type": "stream",
          "name": "stdout",
          "text": [
            "EVAL: [131/132] Data 0.029 (0.138) Elapsed 0m 32s (remain 0m 0s) Loss: 0.0068(0.0608) \n",
            "/content/drive/MyDrive/kaggla-za/E002Round3/Week2/DigitRecognizer/model/exp3/resnet50_fold4_best_exp3.pth saved\n",
            "Epoch: [27][0/525] Data 0.138 (0.138) Elapsed 0m 0s (remain 4m 25s) Loss: 0.0151(0.0151) \n",
            "Epoch: [27][524/525] Data 0.142 (0.140) Elapsed 4m 27s (remain 0m 0s) Loss: 0.0133(0.0311) \n",
            "EVAL: [0/132] Data 0.149 (0.149) Elapsed 0m 0s (remain 0m 34s) Loss: 0.0311(0.0311) \n"
          ]
        },
        {
          "output_type": "stream",
          "name": "stderr",
          "text": [
            "Epoch 27 - avg_train_loss: 0.0311  avg_val_loss: 0.0689  time: 300s\n",
            "Epoch 27 - Accuracy: 0.9792857142857143\n"
          ]
        },
        {
          "output_type": "stream",
          "name": "stdout",
          "text": [
            "EVAL: [131/132] Data 0.034 (0.137) Elapsed 0m 32s (remain 0m 0s) Loss: 0.0079(0.0689) \n",
            "Epoch: [28][0/525] Data 0.146 (0.146) Elapsed 0m 0s (remain 4m 30s) Loss: 0.0413(0.0413) \n",
            "Epoch: [28][524/525] Data 0.142 (0.141) Elapsed 4m 27s (remain 0m 0s) Loss: 0.0228(0.0335) \n",
            "EVAL: [0/132] Data 0.149 (0.149) Elapsed 0m 0s (remain 0m 33s) Loss: 0.0971(0.0971) \n"
          ]
        },
        {
          "output_type": "stream",
          "name": "stderr",
          "text": [
            "Epoch 28 - avg_train_loss: 0.0335  avg_val_loss: 0.0847  time: 301s\n",
            "Epoch 28 - Accuracy: 0.9753571428571428\n"
          ]
        },
        {
          "output_type": "stream",
          "name": "stdout",
          "text": [
            "EVAL: [131/132] Data 0.034 (0.143) Elapsed 0m 32s (remain 0m 0s) Loss: 0.0111(0.0847) \n",
            "Epoch: [29][0/525] Data 0.153 (0.153) Elapsed 0m 0s (remain 4m 39s) Loss: 0.0614(0.0614) \n",
            "Epoch: [29][524/525] Data 0.143 (0.140) Elapsed 4m 27s (remain 0m 0s) Loss: 0.0232(0.0330) \n",
            "EVAL: [0/132] Data 0.146 (0.146) Elapsed 0m 0s (remain 0m 33s) Loss: 0.0351(0.0351) \n"
          ]
        },
        {
          "output_type": "stream",
          "name": "stderr",
          "text": [
            "Epoch 29 - avg_train_loss: 0.0330  avg_val_loss: 0.0977  time: 300s\n",
            "Epoch 29 - Accuracy: 0.9725\n"
          ]
        },
        {
          "output_type": "stream",
          "name": "stdout",
          "text": [
            "EVAL: [131/132] Data 0.035 (0.138) Elapsed 0m 32s (remain 0m 0s) Loss: 0.0308(0.0977) \n",
            "Epoch: [30][0/525] Data 0.150 (0.150) Elapsed 0m 0s (remain 4m 33s) Loss: 0.0221(0.0221) \n",
            "Epoch: [30][524/525] Data 0.133 (0.140) Elapsed 4m 27s (remain 0m 0s) Loss: 0.0290(0.0329) \n",
            "EVAL: [0/132] Data 0.143 (0.143) Elapsed 0m 0s (remain 0m 33s) Loss: 0.0397(0.0397) \n"
          ]
        },
        {
          "output_type": "stream",
          "name": "stderr",
          "text": [
            "Epoch 30 - avg_train_loss: 0.0329  avg_val_loss: 0.0765  time: 300s\n",
            "Epoch 30 - Accuracy: 0.9761904761904762\n"
          ]
        },
        {
          "output_type": "stream",
          "name": "stdout",
          "text": [
            "EVAL: [131/132] Data 0.034 (0.139) Elapsed 0m 32s (remain 0m 0s) Loss: 0.0077(0.0765) \n",
            "Epoch: [31][0/525] Data 0.152 (0.152) Elapsed 0m 0s (remain 4m 33s) Loss: 0.0356(0.0356) \n",
            "Epoch: [31][524/525] Data 0.147 (0.140) Elapsed 4m 27s (remain 0m 0s) Loss: 0.0282(0.0274) \n",
            "EVAL: [0/132] Data 0.143 (0.143) Elapsed 0m 0s (remain 0m 32s) Loss: 0.1171(0.1171) \n"
          ]
        },
        {
          "output_type": "stream",
          "name": "stderr",
          "text": [
            "Epoch 31 - avg_train_loss: 0.0274  avg_val_loss: 0.0894  time: 300s\n",
            "Epoch 31 - Accuracy: 0.9729761904761904\n"
          ]
        },
        {
          "output_type": "stream",
          "name": "stdout",
          "text": [
            "EVAL: [131/132] Data 0.029 (0.137) Elapsed 0m 32s (remain 0m 0s) Loss: 0.0274(0.0894) \n",
            "Epoch: [32][0/525] Data 0.131 (0.131) Elapsed 0m 0s (remain 4m 21s) Loss: 0.0117(0.0117) \n",
            "Epoch: [32][524/525] Data 0.156 (0.139) Elapsed 4m 26s (remain 0m 0s) Loss: 0.0189(0.0236) \n",
            "EVAL: [0/132] Data 0.147 (0.147) Elapsed 0m 0s (remain 0m 33s) Loss: 0.0781(0.0781) \n"
          ]
        },
        {
          "output_type": "stream",
          "name": "stderr",
          "text": [
            "Epoch 32 - avg_train_loss: 0.0236  avg_val_loss: 0.0775  time: 299s\n",
            "Epoch 32 - Accuracy: 0.9754761904761905\n"
          ]
        },
        {
          "output_type": "stream",
          "name": "stdout",
          "text": [
            "EVAL: [131/132] Data 0.043 (0.138) Elapsed 0m 32s (remain 0m 0s) Loss: 0.0119(0.0775) \n",
            "Epoch: [33][0/525] Data 0.153 (0.153) Elapsed 0m 0s (remain 4m 36s) Loss: 0.0152(0.0152) \n",
            "Epoch: [33][524/525] Data 0.141 (0.140) Elapsed 4m 27s (remain 0m 0s) Loss: 0.0053(0.0185) \n",
            "EVAL: [0/132] Data 0.153 (0.153) Elapsed 0m 0s (remain 0m 34s) Loss: 0.0212(0.0212) \n"
          ]
        },
        {
          "output_type": "stream",
          "name": "stderr",
          "text": [
            "Epoch 33 - avg_train_loss: 0.0185  avg_val_loss: 0.0722  time: 300s\n",
            "Epoch 33 - Accuracy: 0.9783333333333334\n"
          ]
        },
        {
          "output_type": "stream",
          "name": "stdout",
          "text": [
            "EVAL: [131/132] Data 0.035 (0.138) Elapsed 0m 32s (remain 0m 0s) Loss: 0.0034(0.0722) \n",
            "Epoch: [34][0/525] Data 0.153 (0.153) Elapsed 0m 0s (remain 4m 34s) Loss: 0.0159(0.0159) \n",
            "Epoch: [34][524/525] Data 0.141 (0.139) Elapsed 4m 26s (remain 0m 0s) Loss: 0.0101(0.0132) \n",
            "EVAL: [0/132] Data 0.144 (0.144) Elapsed 0m 0s (remain 0m 33s) Loss: 0.0253(0.0253) \n"
          ]
        },
        {
          "output_type": "stream",
          "name": "stderr",
          "text": [
            "Epoch 34 - avg_train_loss: 0.0132  avg_val_loss: 0.0568  time: 299s\n",
            "Epoch 34 - Accuracy: 0.9825\n",
            "Epoch 34 - Save Best Score: 0.9825 Model\n"
          ]
        },
        {
          "output_type": "stream",
          "name": "stdout",
          "text": [
            "EVAL: [131/132] Data 0.036 (0.137) Elapsed 0m 32s (remain 0m 0s) Loss: 0.0012(0.0568) \n",
            "/content/drive/MyDrive/kaggla-za/E002Round3/Week2/DigitRecognizer/model/exp3/resnet50_fold4_best_exp3.pth saved\n",
            "Epoch: [35][0/525] Data 0.154 (0.154) Elapsed 0m 0s (remain 4m 35s) Loss: 0.0120(0.0120) \n",
            "Epoch: [35][524/525] Data 0.125 (0.140) Elapsed 4m 27s (remain 0m 0s) Loss: 0.0047(0.0109) \n",
            "EVAL: [0/132] Data 0.143 (0.143) Elapsed 0m 0s (remain 0m 32s) Loss: 0.0193(0.0193) \n"
          ]
        },
        {
          "output_type": "stream",
          "name": "stderr",
          "text": [
            "Epoch 35 - avg_train_loss: 0.0109  avg_val_loss: 0.0529  time: 300s\n",
            "Epoch 35 - Accuracy: 0.9838095238095238\n",
            "Epoch 35 - Save Best Score: 0.9838 Model\n"
          ]
        },
        {
          "output_type": "stream",
          "name": "stdout",
          "text": [
            "EVAL: [131/132] Data 0.038 (0.136) Elapsed 0m 31s (remain 0m 0s) Loss: 0.0009(0.0529) \n",
            "/content/drive/MyDrive/kaggla-za/E002Round3/Week2/DigitRecognizer/model/exp3/resnet50_fold4_best_exp3.pth saved\n",
            "Epoch: [36][0/525] Data 0.149 (0.149) Elapsed 0m 0s (remain 4m 32s) Loss: 0.0074(0.0074) \n",
            "Epoch: [36][524/525] Data 0.144 (0.140) Elapsed 4m 27s (remain 0m 0s) Loss: 0.0069(0.0100) \n",
            "EVAL: [0/132] Data 0.140 (0.140) Elapsed 0m 0s (remain 0m 32s) Loss: 0.0292(0.0292) \n"
          ]
        },
        {
          "output_type": "stream",
          "name": "stderr",
          "text": [
            "Epoch 36 - avg_train_loss: 0.0100  avg_val_loss: 0.0502  time: 300s\n",
            "Epoch 36 - Accuracy: 0.9835714285714285\n"
          ]
        },
        {
          "output_type": "stream",
          "name": "stdout",
          "text": [
            "EVAL: [131/132] Data 0.035 (0.138) Elapsed 0m 32s (remain 0m 0s) Loss: 0.0024(0.0502) \n",
            "Epoch: [37][0/525] Data 0.131 (0.131) Elapsed 0m 0s (remain 4m 27s) Loss: 0.0095(0.0095) \n",
            "Epoch: [37][524/525] Data 0.140 (0.138) Elapsed 4m 26s (remain 0m 0s) Loss: 0.0151(0.0100) \n",
            "EVAL: [0/132] Data 0.152 (0.152) Elapsed 0m 0s (remain 0m 34s) Loss: 0.0254(0.0254) \n"
          ]
        },
        {
          "output_type": "stream",
          "name": "stderr",
          "text": [
            "Epoch 37 - avg_train_loss: 0.0100  avg_val_loss: 0.0509  time: 298s\n",
            "Epoch 37 - Accuracy: 0.9838095238095238\n"
          ]
        },
        {
          "output_type": "stream",
          "name": "stdout",
          "text": [
            "EVAL: [131/132] Data 0.033 (0.135) Elapsed 0m 31s (remain 0m 0s) Loss: 0.0015(0.0509) \n",
            "Epoch: [38][0/525] Data 0.143 (0.143) Elapsed 0m 0s (remain 4m 29s) Loss: 0.0088(0.0088) \n",
            "Epoch: [38][524/525] Data 0.136 (0.138) Elapsed 4m 25s (remain 0m 0s) Loss: 0.0037(0.0108) \n",
            "EVAL: [0/132] Data 0.154 (0.154) Elapsed 0m 0s (remain 0m 34s) Loss: 0.0235(0.0235) \n"
          ]
        },
        {
          "output_type": "stream",
          "name": "stderr",
          "text": [
            "Epoch 38 - avg_train_loss: 0.0108  avg_val_loss: 0.0756  time: 298s\n",
            "Epoch 38 - Accuracy: 0.976547619047619\n"
          ]
        },
        {
          "output_type": "stream",
          "name": "stdout",
          "text": [
            "EVAL: [131/132] Data 0.036 (0.135) Elapsed 0m 31s (remain 0m 0s) Loss: 0.0021(0.0756) \n",
            "Epoch: [39][0/525] Data 0.152 (0.152) Elapsed 0m 0s (remain 4m 36s) Loss: 0.0199(0.0199) \n",
            "Epoch: [39][524/525] Data 0.129 (0.138) Elapsed 4m 26s (remain 0m 0s) Loss: 0.0164(0.0145) \n",
            "EVAL: [0/132] Data 0.133 (0.133) Elapsed 0m 0s (remain 0m 31s) Loss: 0.0249(0.0249) \n"
          ]
        },
        {
          "output_type": "stream",
          "name": "stderr",
          "text": [
            "Epoch 39 - avg_train_loss: 0.0145  avg_val_loss: 0.0551  time: 299s\n",
            "Epoch 39 - Accuracy: 0.9827380952380952\n"
          ]
        },
        {
          "output_type": "stream",
          "name": "stdout",
          "text": [
            "EVAL: [131/132] Data 0.036 (0.138) Elapsed 0m 32s (remain 0m 0s) Loss: 0.0019(0.0551) \n",
            "Epoch: [40][0/525] Data 0.151 (0.151) Elapsed 0m 0s (remain 4m 33s) Loss: 0.0189(0.0189) \n",
            "Epoch: [40][524/525] Data 0.137 (0.139) Elapsed 4m 26s (remain 0m 0s) Loss: 0.0044(0.0166) \n",
            "EVAL: [0/132] Data 0.141 (0.141) Elapsed 0m 0s (remain 0m 32s) Loss: 0.3520(0.3520) \n"
          ]
        },
        {
          "output_type": "stream",
          "name": "stderr",
          "text": [
            "Epoch 40 - avg_train_loss: 0.0166  avg_val_loss: 0.3461  time: 299s\n",
            "Epoch 40 - Accuracy: 0.8985714285714286\n"
          ]
        },
        {
          "output_type": "stream",
          "name": "stdout",
          "text": [
            "EVAL: [131/132] Data 0.033 (0.137) Elapsed 0m 32s (remain 0m 0s) Loss: 0.2037(0.3461) \n"
          ]
        }
      ],
      "source": [
        "preds = [train_loop(train, fold=fold, class_num=Config.class_num, norms=norms) for fold in range(Config.N_FOLDS) ]"
      ]
    },
    {
      "cell_type": "markdown",
      "id": "1aa307d7",
      "metadata": {
        "papermill": {
          "duration": 0.047828,
          "end_time": "2022-02-09T05:14:45.206863",
          "exception": false,
          "start_time": "2022-02-09T05:14:45.159035",
          "status": "completed"
        },
        "tags": [],
        "id": "1aa307d7"
      },
      "source": [
        "# 推論"
      ]
    },
    {
      "cell_type": "code",
      "execution_count": null,
      "id": "9cbe6443",
      "metadata": {
        "execution": {
          "iopub.execute_input": "2022-02-09T05:14:45.310550Z",
          "iopub.status.busy": "2022-02-09T05:14:45.304957Z",
          "iopub.status.idle": "2022-02-09T05:14:45.313331Z",
          "shell.execute_reply": "2022-02-09T05:14:45.313815Z",
          "shell.execute_reply.started": "2021-10-27T03:32:54.194828Z"
        },
        "id": "9cbe6443",
        "papermill": {
          "duration": 0.05988,
          "end_time": "2022-02-09T05:14:45.313975",
          "exception": false,
          "start_time": "2022-02-09T05:14:45.254095",
          "status": "completed"
        },
        "tags": []
      },
      "outputs": [],
      "source": [
        "def inference(test, class_num=Config.class_num, n=0, norms=(0.5, 0.5)):\n",
        "    model = BaseModel(Config.MODEL_NAME, class_num, pretrained=False)\n",
        "\n",
        "    model.load_state_dict(torch.load(f'{Config.model_dir}/{Config.MODEL_NAME}_fold{n}_best_{Config.Version}.pth')) # 重みの読み込み\n",
        "    model.to(Config.device)\n",
        "    \n",
        "    test_dataset = TestDataset(test, transform=get_transforms(data='valid', size=Config.size, norms=norms))\n",
        "    test_loader = DataLoader(test_dataset, batch_size=Config.batch_size, shuffle=False, num_workers=Config.num_workers)\n",
        "    \n",
        "    all_predicts = []\n",
        "    model.eval() # 推論モード\n",
        "    with torch.no_grad(): # 勾配の計算をしない\n",
        "        for i, (images) in tqdm(enumerate(test_loader), total=len(test_loader)):\n",
        "            images = images.to(Config.device)\n",
        "            y_preds = model(images)\n",
        "            predicts = y_preds.softmax(1).to(\"cpu\").numpy()#.argmax(1)\n",
        "            all_predicts.append(predicts)\n",
        "    \n",
        "    predicts = np.concatenate(all_predicts)\n",
        "        \n",
        "    return predicts"
      ]
    },
    {
      "cell_type": "code",
      "execution_count": null,
      "id": "3cfb9c93",
      "metadata": {
        "execution": {
          "iopub.execute_input": "2022-02-09T05:14:45.411045Z",
          "iopub.status.busy": "2022-02-09T05:14:45.410448Z",
          "iopub.status.idle": "2022-02-09T05:14:47.162898Z",
          "shell.execute_reply": "2022-02-09T05:14:47.161764Z",
          "shell.execute_reply.started": "2021-10-27T03:32:54.197728Z"
        },
        "papermill": {
          "duration": 1.802172,
          "end_time": "2022-02-09T05:14:47.163041",
          "exception": false,
          "start_time": "2022-02-09T05:14:45.360869",
          "status": "completed"
        },
        "tags": [],
        "id": "3cfb9c93"
      },
      "outputs": [],
      "source": [
        "#MODEL_PATH = \"./\" # 自身の作成したモデルへのPATH\n",
        "\n",
        "if ON_KAGGLE:\n",
        "    test = pd.read_csv(Config.data_dir + \"/test.csv\")\n",
        "    submit = pd.read_csv(Config.data_dir + \"/sample_submission.csv\")\n",
        "else:\n",
        "    test = pd.read_csv(f'{Config.data_dir}/test/test.csv')\n",
        "    submit = pd.read_csv(f'{Config.data_dir}/sample_submission.csv')"
      ]
    },
    {
      "cell_type": "code",
      "execution_count": null,
      "id": "a1ece651",
      "metadata": {
        "execution": {
          "iopub.execute_input": "2022-02-09T05:14:47.263387Z",
          "iopub.status.busy": "2022-02-09T05:14:47.262793Z",
          "iopub.status.idle": "2022-02-09T05:43:32.334528Z",
          "shell.execute_reply": "2022-02-09T05:43:32.335006Z",
          "shell.execute_reply.started": "2021-10-27T03:32:54.20035Z"
        },
        "papermill": {
          "duration": 1725.123977,
          "end_time": "2022-02-09T05:43:32.335186",
          "exception": false,
          "start_time": "2022-02-09T05:14:47.211209",
          "status": "completed"
        },
        "tags": [],
        "colab": {
          "base_uri": "https://localhost:8080/",
          "height": 177,
          "referenced_widgets": [
            "dee52fcdbde1410c8336bd3421f96811",
            "ea6f56400f904c4ea735ceeefa961467",
            "0ce2aace7a864b839b76c1ddaca1f522",
            "31034940c77243dc988749e63412f9b7",
            "f629d6247c774b4eb7470d0e5a0b4d87",
            "2638ae86d0e84c89acfe4180f1df2036",
            "94a045abbe5844c0a06b09e461bb1c2a",
            "1e846decec824919926e2c5f822c514b",
            "93b907a69a7b418f8df35b072a9f9d08",
            "070fcddd23e34ca2b8443421c97e9071",
            "38cd5813e8cc49008b87660c9a8772a1",
            "211165f309624baf8ba1f2610c926b8a",
            "e942d17c50dc4433b97398c545041bd8",
            "5fb21d9728f143cc81561d7dce9bf113",
            "d07c696c03b2486f9005a61519859b6a",
            "1349fc45723b42efa658ff1d2ca5bb8f",
            "353d6db2689a478694ea0769353777d8",
            "efaa527c5c564b4eaac9fe5865b8b951",
            "4a7819f842c34d17ba555bbd4286074a",
            "68e5089f45914e188328e9af5c7519e5",
            "4010647b3bcc47eb971c883c5b829480",
            "d223a91706d444aa97b8b7c4548ac84f",
            "d3526f5dde31495ea8184ea35f917a66",
            "6ec90ab1e82147b082586c2c6d88dd3d",
            "e261cc5e45cd49548589d893186dcf7f",
            "c7ebeee9ac58491b84d79860c1342c81",
            "75f289ddd604418f9c76645dc44ba996",
            "c5e9339169fd42238efe5d618714f182",
            "b00cceb5194944019bffc3a0e2422d4b",
            "b5c92c57f155470da8cb87854be7216c",
            "a5481cbc0a994255ae1d2374acd9a3ba",
            "4c763e751a184f3a9cc3e4e23393f8f6",
            "aca2481bf4104936988da96431d4f71a",
            "42b940575b1c4fa897ba3da04c1dbbc0",
            "b20aad7058d8451a9480f43145e19c03",
            "b2e1336d00df4eda852b5ad429ba3e78",
            "8746bd9c62b042959c2ab98a278a7b6b",
            "2dae9e20761d43e4a151df165036a5c7",
            "79b36dc501ac4b868836bc43ba26e2a9",
            "cb098084dac9403394828f80a007eb20",
            "84dd66a96499468f99d837f1b0a42528",
            "4c858b0746a94eedbab1d6ae3930c562",
            "91422e4967f148f0b51117b6b0c70c72",
            "8b037cebfb6e43e6bb56893215400383",
            "3d47681034014e3ab5424b51fcbad521",
            "8c5f47e970dd4ddab213152f3aa2881e",
            "c0c31aeb02cb40e98338029d4e113266",
            "2a3de50843fe440b9c6d48e436d1a73c",
            "35bf9f260ec846598c100b1a04a8c5ad",
            "acb18dc8ff0f49cfa69df6733de7045c",
            "4d8865ba5ea347e98d0707f97d76781c",
            "144d0212b1f14092817d855788cd3360",
            "1cd2b0122ae645d8a21f5335320a5849",
            "a7451832b8dd4b4a85a35184dcce7d9c",
            "e506eab7f8dd487183b4d648b8a54d83"
          ]
        },
        "id": "a1ece651",
        "outputId": "638710ed-82dd-4fc3-d1e5-ab73efd658a1"
      },
      "outputs": [
        {
          "output_type": "display_data",
          "data": {
            "application/vnd.jupyter.widget-view+json": {
              "model_id": "dee52fcdbde1410c8336bd3421f96811",
              "version_minor": 0,
              "version_major": 2
            },
            "text/plain": [
              "  0%|          | 0/438 [00:00<?, ?it/s]"
            ]
          },
          "metadata": {}
        },
        {
          "output_type": "display_data",
          "data": {
            "application/vnd.jupyter.widget-view+json": {
              "model_id": "211165f309624baf8ba1f2610c926b8a",
              "version_minor": 0,
              "version_major": 2
            },
            "text/plain": [
              "  0%|          | 0/438 [00:00<?, ?it/s]"
            ]
          },
          "metadata": {}
        },
        {
          "output_type": "display_data",
          "data": {
            "application/vnd.jupyter.widget-view+json": {
              "model_id": "d3526f5dde31495ea8184ea35f917a66",
              "version_minor": 0,
              "version_major": 2
            },
            "text/plain": [
              "  0%|          | 0/438 [00:00<?, ?it/s]"
            ]
          },
          "metadata": {}
        },
        {
          "output_type": "display_data",
          "data": {
            "application/vnd.jupyter.widget-view+json": {
              "model_id": "42b940575b1c4fa897ba3da04c1dbbc0",
              "version_minor": 0,
              "version_major": 2
            },
            "text/plain": [
              "  0%|          | 0/438 [00:00<?, ?it/s]"
            ]
          },
          "metadata": {}
        },
        {
          "output_type": "display_data",
          "data": {
            "application/vnd.jupyter.widget-view+json": {
              "model_id": "3d47681034014e3ab5424b51fcbad521",
              "version_minor": 0,
              "version_major": 2
            },
            "text/plain": [
              "  0%|          | 0/438 [00:00<?, ?it/s]"
            ]
          },
          "metadata": {}
        }
      ],
      "source": [
        "predicts = [inference(test, class_num=Config.class_num, n=fold, norms=norms) for fold in range(Config.N_FOLDS)]\n"
      ]
    },
    {
      "cell_type": "code",
      "source": [
        "predicts_em = np.argmax(np.sum(predicts, axis=0), axis=1)"
      ],
      "metadata": {
        "id": "2iujihdXuZ65"
      },
      "id": "2iujihdXuZ65",
      "execution_count": null,
      "outputs": []
    },
    {
      "cell_type": "code",
      "source": [
        "# predicts_2 = [inference(test, \"resnet50\", n=fold) for fold in range(5)]\n",
        "# predicts_2_em = np.argmax(np.sum(predicts, axis=0), axis=1)\n",
        "\n",
        "# predicts_em = np.mean(predicts, axis=0)\n",
        "# predicts_2_em = np.mean(predicts_2, axis=0)\n",
        "\n",
        "# predicts_final = np.argmax(predicts_em * 0.7 + predicts_2_em * 0.3, axis=1)\n"
      ],
      "metadata": {
        "id": "8xFe7bGbJSao"
      },
      "id": "8xFe7bGbJSao",
      "execution_count": null,
      "outputs": []
    },
    {
      "cell_type": "markdown",
      "id": "28652f1f",
      "metadata": {
        "papermill": {
          "duration": 0.046604,
          "end_time": "2022-02-09T05:43:32.429262",
          "exception": false,
          "start_time": "2022-02-09T05:43:32.382658",
          "status": "completed"
        },
        "tags": [],
        "id": "28652f1f"
      },
      "source": [
        "# 後処理"
      ]
    },
    {
      "cell_type": "code",
      "execution_count": null,
      "id": "9ca0af85",
      "metadata": {
        "execution": {
          "iopub.execute_input": "2022-02-09T05:43:32.528700Z",
          "iopub.status.busy": "2022-02-09T05:43:32.525423Z",
          "iopub.status.idle": "2022-02-09T05:43:32.565654Z",
          "shell.execute_reply": "2022-02-09T05:43:32.565154Z",
          "shell.execute_reply.started": "2021-10-27T03:32:54.2037Z"
        },
        "papermill": {
          "duration": 0.089909,
          "end_time": "2022-02-09T05:43:32.565825",
          "exception": false,
          "start_time": "2022-02-09T05:43:32.475916",
          "status": "completed"
        },
        "tags": [],
        "id": "9ca0af85"
      },
      "outputs": [],
      "source": [
        "submit[\"Label\"] = predicts_em # 提出用csvに書き込み\n",
        "submit.to_csv('submission.csv', index=False) # csvを書き出す"
      ]
    },
    {
      "cell_type": "code",
      "source": [
        "submit"
      ],
      "metadata": {
        "colab": {
          "base_uri": "https://localhost:8080/",
          "height": 423
        },
        "id": "KX3SIun7grD-",
        "outputId": "82bc7af3-6885-488f-81fa-8d3b0d5f6c4d"
      },
      "id": "KX3SIun7grD-",
      "execution_count": null,
      "outputs": [
        {
          "output_type": "execute_result",
          "data": {
            "text/html": [
              "\n",
              "  <div id=\"df-2a421124-f61a-41d5-8ab2-70d26f86b458\">\n",
              "    <div class=\"colab-df-container\">\n",
              "      <div>\n",
              "<style scoped>\n",
              "    .dataframe tbody tr th:only-of-type {\n",
              "        vertical-align: middle;\n",
              "    }\n",
              "\n",
              "    .dataframe tbody tr th {\n",
              "        vertical-align: top;\n",
              "    }\n",
              "\n",
              "    .dataframe thead th {\n",
              "        text-align: right;\n",
              "    }\n",
              "</style>\n",
              "<table border=\"1\" class=\"dataframe\">\n",
              "  <thead>\n",
              "    <tr style=\"text-align: right;\">\n",
              "      <th></th>\n",
              "      <th>ImageId</th>\n",
              "      <th>Label</th>\n",
              "    </tr>\n",
              "  </thead>\n",
              "  <tbody>\n",
              "    <tr>\n",
              "      <th>0</th>\n",
              "      <td>1</td>\n",
              "      <td>2</td>\n",
              "    </tr>\n",
              "    <tr>\n",
              "      <th>1</th>\n",
              "      <td>2</td>\n",
              "      <td>0</td>\n",
              "    </tr>\n",
              "    <tr>\n",
              "      <th>2</th>\n",
              "      <td>3</td>\n",
              "      <td>9</td>\n",
              "    </tr>\n",
              "    <tr>\n",
              "      <th>3</th>\n",
              "      <td>4</td>\n",
              "      <td>9</td>\n",
              "    </tr>\n",
              "    <tr>\n",
              "      <th>4</th>\n",
              "      <td>5</td>\n",
              "      <td>3</td>\n",
              "    </tr>\n",
              "    <tr>\n",
              "      <th>...</th>\n",
              "      <td>...</td>\n",
              "      <td>...</td>\n",
              "    </tr>\n",
              "    <tr>\n",
              "      <th>27995</th>\n",
              "      <td>27996</td>\n",
              "      <td>9</td>\n",
              "    </tr>\n",
              "    <tr>\n",
              "      <th>27996</th>\n",
              "      <td>27997</td>\n",
              "      <td>7</td>\n",
              "    </tr>\n",
              "    <tr>\n",
              "      <th>27997</th>\n",
              "      <td>27998</td>\n",
              "      <td>3</td>\n",
              "    </tr>\n",
              "    <tr>\n",
              "      <th>27998</th>\n",
              "      <td>27999</td>\n",
              "      <td>9</td>\n",
              "    </tr>\n",
              "    <tr>\n",
              "      <th>27999</th>\n",
              "      <td>28000</td>\n",
              "      <td>2</td>\n",
              "    </tr>\n",
              "  </tbody>\n",
              "</table>\n",
              "<p>28000 rows × 2 columns</p>\n",
              "</div>\n",
              "      <button class=\"colab-df-convert\" onclick=\"convertToInteractive('df-2a421124-f61a-41d5-8ab2-70d26f86b458')\"\n",
              "              title=\"Convert this dataframe to an interactive table.\"\n",
              "              style=\"display:none;\">\n",
              "        \n",
              "  <svg xmlns=\"http://www.w3.org/2000/svg\" height=\"24px\"viewBox=\"0 0 24 24\"\n",
              "       width=\"24px\">\n",
              "    <path d=\"M0 0h24v24H0V0z\" fill=\"none\"/>\n",
              "    <path d=\"M18.56 5.44l.94 2.06.94-2.06 2.06-.94-2.06-.94-.94-2.06-.94 2.06-2.06.94zm-11 1L8.5 8.5l.94-2.06 2.06-.94-2.06-.94L8.5 2.5l-.94 2.06-2.06.94zm10 10l.94 2.06.94-2.06 2.06-.94-2.06-.94-.94-2.06-.94 2.06-2.06.94z\"/><path d=\"M17.41 7.96l-1.37-1.37c-.4-.4-.92-.59-1.43-.59-.52 0-1.04.2-1.43.59L10.3 9.45l-7.72 7.72c-.78.78-.78 2.05 0 2.83L4 21.41c.39.39.9.59 1.41.59.51 0 1.02-.2 1.41-.59l7.78-7.78 2.81-2.81c.8-.78.8-2.07 0-2.86zM5.41 20L4 18.59l7.72-7.72 1.47 1.35L5.41 20z\"/>\n",
              "  </svg>\n",
              "      </button>\n",
              "      \n",
              "  <style>\n",
              "    .colab-df-container {\n",
              "      display:flex;\n",
              "      flex-wrap:wrap;\n",
              "      gap: 12px;\n",
              "    }\n",
              "\n",
              "    .colab-df-convert {\n",
              "      background-color: #E8F0FE;\n",
              "      border: none;\n",
              "      border-radius: 50%;\n",
              "      cursor: pointer;\n",
              "      display: none;\n",
              "      fill: #1967D2;\n",
              "      height: 32px;\n",
              "      padding: 0 0 0 0;\n",
              "      width: 32px;\n",
              "    }\n",
              "\n",
              "    .colab-df-convert:hover {\n",
              "      background-color: #E2EBFA;\n",
              "      box-shadow: 0px 1px 2px rgba(60, 64, 67, 0.3), 0px 1px 3px 1px rgba(60, 64, 67, 0.15);\n",
              "      fill: #174EA6;\n",
              "    }\n",
              "\n",
              "    [theme=dark] .colab-df-convert {\n",
              "      background-color: #3B4455;\n",
              "      fill: #D2E3FC;\n",
              "    }\n",
              "\n",
              "    [theme=dark] .colab-df-convert:hover {\n",
              "      background-color: #434B5C;\n",
              "      box-shadow: 0px 1px 3px 1px rgba(0, 0, 0, 0.15);\n",
              "      filter: drop-shadow(0px 1px 2px rgba(0, 0, 0, 0.3));\n",
              "      fill: #FFFFFF;\n",
              "    }\n",
              "  </style>\n",
              "\n",
              "      <script>\n",
              "        const buttonEl =\n",
              "          document.querySelector('#df-2a421124-f61a-41d5-8ab2-70d26f86b458 button.colab-df-convert');\n",
              "        buttonEl.style.display =\n",
              "          google.colab.kernel.accessAllowed ? 'block' : 'none';\n",
              "\n",
              "        async function convertToInteractive(key) {\n",
              "          const element = document.querySelector('#df-2a421124-f61a-41d5-8ab2-70d26f86b458');\n",
              "          const dataTable =\n",
              "            await google.colab.kernel.invokeFunction('convertToInteractive',\n",
              "                                                     [key], {});\n",
              "          if (!dataTable) return;\n",
              "\n",
              "          const docLinkHtml = 'Like what you see? Visit the ' +\n",
              "            '<a target=\"_blank\" href=https://colab.research.google.com/notebooks/data_table.ipynb>data table notebook</a>'\n",
              "            + ' to learn more about interactive tables.';\n",
              "          element.innerHTML = '';\n",
              "          dataTable['output_type'] = 'display_data';\n",
              "          await google.colab.output.renderOutput(dataTable, element);\n",
              "          const docLink = document.createElement('div');\n",
              "          docLink.innerHTML = docLinkHtml;\n",
              "          element.appendChild(docLink);\n",
              "        }\n",
              "      </script>\n",
              "    </div>\n",
              "  </div>\n",
              "  "
            ],
            "text/plain": [
              "       ImageId  Label\n",
              "0            1      2\n",
              "1            2      0\n",
              "2            3      9\n",
              "3            4      9\n",
              "4            5      3\n",
              "...        ...    ...\n",
              "27995    27996      9\n",
              "27996    27997      7\n",
              "27997    27998      3\n",
              "27998    27999      9\n",
              "27999    28000      2\n",
              "\n",
              "[28000 rows x 2 columns]"
            ]
          },
          "metadata": {},
          "execution_count": 37
        }
      ]
    },
    {
      "cell_type": "code",
      "execution_count": null,
      "id": "847e0a4d",
      "metadata": {
        "execution": {
          "iopub.execute_input": "2022-02-09T05:43:32.670930Z",
          "iopub.status.busy": "2022-02-09T05:43:32.669997Z",
          "iopub.status.idle": "2022-02-09T05:43:32.684899Z",
          "shell.execute_reply": "2022-02-09T05:43:32.685585Z",
          "shell.execute_reply.started": "2021-10-27T03:32:54.206569Z"
        },
        "papermill": {
          "duration": 0.073174,
          "end_time": "2022-02-09T05:43:32.685814",
          "exception": false,
          "start_time": "2022-02-09T05:43:32.612640",
          "status": "completed"
        },
        "tags": [],
        "colab": {
          "base_uri": "https://localhost:8080/"
        },
        "id": "847e0a4d",
        "outputId": "8e64d2c0-eb98-4082-d3dc-3fb19a2213f3"
      },
      "outputs": [
        {
          "output_type": "execute_result",
          "data": {
            "text/plain": [
              "array([2, 0, 9, 3, 7, 5, 4, 1, 6, 8])"
            ]
          },
          "metadata": {},
          "execution_count": 38
        }
      ],
      "source": [
        "submit['Label'].unique()"
      ]
    },
    {
      "cell_type": "code",
      "execution_count": null,
      "id": "b908ceb6",
      "metadata": {
        "papermill": {
          "duration": 0.048245,
          "end_time": "2022-02-09T05:43:32.792793",
          "exception": false,
          "start_time": "2022-02-09T05:43:32.744548",
          "status": "completed"
        },
        "tags": [],
        "id": "b908ceb6"
      },
      "outputs": [],
      "source": [
        "if not ON_KAGGLE:\n",
        "    submit.to_csv(f'{Config.output_dir}/{Config.Version}.csv', index=False)"
      ]
    }
  ],
  "metadata": {
    "kernelspec": {
      "display_name": "Python 3",
      "language": "python",
      "name": "python3"
    },
    "language_info": {
      "codemirror_mode": {
        "name": "ipython",
        "version": 3
      },
      "file_extension": ".py",
      "mimetype": "text/x-python",
      "name": "python",
      "nbconvert_exporter": "python",
      "pygments_lexer": "ipython3",
      "version": "3.7.10"
    },
    "papermill": {
      "default_parameters": {},
      "duration": 9318.778398,
      "end_time": "2022-02-09T05:43:34.730696",
      "environment_variables": {},
      "exception": null,
      "input_path": "__notebook__.ipynb",
      "output_path": "__notebook__.ipynb",
      "parameters": {},
      "start_time": "2022-02-09T03:08:15.952298",
      "version": "2.3.3"
    },
    "widgets": {
      "application/vnd.jupyter.widget-state+json": {
        "dee52fcdbde1410c8336bd3421f96811": {
          "model_module": "@jupyter-widgets/controls",
          "model_name": "HBoxModel",
          "model_module_version": "1.5.0",
          "state": {
            "_view_name": "HBoxView",
            "_dom_classes": [],
            "_model_name": "HBoxModel",
            "_view_module": "@jupyter-widgets/controls",
            "_model_module_version": "1.5.0",
            "_view_count": null,
            "_view_module_version": "1.5.0",
            "box_style": "",
            "layout": "IPY_MODEL_ea6f56400f904c4ea735ceeefa961467",
            "_model_module": "@jupyter-widgets/controls",
            "children": [
              "IPY_MODEL_0ce2aace7a864b839b76c1ddaca1f522",
              "IPY_MODEL_31034940c77243dc988749e63412f9b7",
              "IPY_MODEL_f629d6247c774b4eb7470d0e5a0b4d87"
            ]
          }
        },
        "ea6f56400f904c4ea735ceeefa961467": {
          "model_module": "@jupyter-widgets/base",
          "model_name": "LayoutModel",
          "model_module_version": "1.2.0",
          "state": {
            "_view_name": "LayoutView",
            "grid_template_rows": null,
            "right": null,
            "justify_content": null,
            "_view_module": "@jupyter-widgets/base",
            "overflow": null,
            "_model_module_version": "1.2.0",
            "_view_count": null,
            "flex_flow": null,
            "width": null,
            "min_width": null,
            "border": null,
            "align_items": null,
            "bottom": null,
            "_model_module": "@jupyter-widgets/base",
            "top": null,
            "grid_column": null,
            "overflow_y": null,
            "overflow_x": null,
            "grid_auto_flow": null,
            "grid_area": null,
            "grid_template_columns": null,
            "flex": null,
            "_model_name": "LayoutModel",
            "justify_items": null,
            "grid_row": null,
            "max_height": null,
            "align_content": null,
            "visibility": null,
            "align_self": null,
            "height": null,
            "min_height": null,
            "padding": null,
            "grid_auto_rows": null,
            "grid_gap": null,
            "max_width": null,
            "order": null,
            "_view_module_version": "1.2.0",
            "grid_template_areas": null,
            "object_position": null,
            "object_fit": null,
            "grid_auto_columns": null,
            "margin": null,
            "display": null,
            "left": null
          }
        },
        "0ce2aace7a864b839b76c1ddaca1f522": {
          "model_module": "@jupyter-widgets/controls",
          "model_name": "HTMLModel",
          "model_module_version": "1.5.0",
          "state": {
            "_view_name": "HTMLView",
            "style": "IPY_MODEL_2638ae86d0e84c89acfe4180f1df2036",
            "_dom_classes": [],
            "description": "",
            "_model_name": "HTMLModel",
            "placeholder": "​",
            "_view_module": "@jupyter-widgets/controls",
            "_model_module_version": "1.5.0",
            "value": "100%",
            "_view_count": null,
            "_view_module_version": "1.5.0",
            "description_tooltip": null,
            "_model_module": "@jupyter-widgets/controls",
            "layout": "IPY_MODEL_94a045abbe5844c0a06b09e461bb1c2a"
          }
        },
        "31034940c77243dc988749e63412f9b7": {
          "model_module": "@jupyter-widgets/controls",
          "model_name": "FloatProgressModel",
          "model_module_version": "1.5.0",
          "state": {
            "_view_name": "ProgressView",
            "style": "IPY_MODEL_1e846decec824919926e2c5f822c514b",
            "_dom_classes": [],
            "description": "",
            "_model_name": "FloatProgressModel",
            "bar_style": "success",
            "max": 438,
            "_view_module": "@jupyter-widgets/controls",
            "_model_module_version": "1.5.0",
            "value": 438,
            "_view_count": null,
            "_view_module_version": "1.5.0",
            "orientation": "horizontal",
            "min": 0,
            "description_tooltip": null,
            "_model_module": "@jupyter-widgets/controls",
            "layout": "IPY_MODEL_93b907a69a7b418f8df35b072a9f9d08"
          }
        },
        "f629d6247c774b4eb7470d0e5a0b4d87": {
          "model_module": "@jupyter-widgets/controls",
          "model_name": "HTMLModel",
          "model_module_version": "1.5.0",
          "state": {
            "_view_name": "HTMLView",
            "style": "IPY_MODEL_070fcddd23e34ca2b8443421c97e9071",
            "_dom_classes": [],
            "description": "",
            "_model_name": "HTMLModel",
            "placeholder": "​",
            "_view_module": "@jupyter-widgets/controls",
            "_model_module_version": "1.5.0",
            "value": " 438/438 [01:48&lt;00:00,  4.71it/s]",
            "_view_count": null,
            "_view_module_version": "1.5.0",
            "description_tooltip": null,
            "_model_module": "@jupyter-widgets/controls",
            "layout": "IPY_MODEL_38cd5813e8cc49008b87660c9a8772a1"
          }
        },
        "2638ae86d0e84c89acfe4180f1df2036": {
          "model_module": "@jupyter-widgets/controls",
          "model_name": "DescriptionStyleModel",
          "model_module_version": "1.5.0",
          "state": {
            "_view_name": "StyleView",
            "_model_name": "DescriptionStyleModel",
            "description_width": "",
            "_view_module": "@jupyter-widgets/base",
            "_model_module_version": "1.5.0",
            "_view_count": null,
            "_view_module_version": "1.2.0",
            "_model_module": "@jupyter-widgets/controls"
          }
        },
        "94a045abbe5844c0a06b09e461bb1c2a": {
          "model_module": "@jupyter-widgets/base",
          "model_name": "LayoutModel",
          "model_module_version": "1.2.0",
          "state": {
            "_view_name": "LayoutView",
            "grid_template_rows": null,
            "right": null,
            "justify_content": null,
            "_view_module": "@jupyter-widgets/base",
            "overflow": null,
            "_model_module_version": "1.2.0",
            "_view_count": null,
            "flex_flow": null,
            "width": null,
            "min_width": null,
            "border": null,
            "align_items": null,
            "bottom": null,
            "_model_module": "@jupyter-widgets/base",
            "top": null,
            "grid_column": null,
            "overflow_y": null,
            "overflow_x": null,
            "grid_auto_flow": null,
            "grid_area": null,
            "grid_template_columns": null,
            "flex": null,
            "_model_name": "LayoutModel",
            "justify_items": null,
            "grid_row": null,
            "max_height": null,
            "align_content": null,
            "visibility": null,
            "align_self": null,
            "height": null,
            "min_height": null,
            "padding": null,
            "grid_auto_rows": null,
            "grid_gap": null,
            "max_width": null,
            "order": null,
            "_view_module_version": "1.2.0",
            "grid_template_areas": null,
            "object_position": null,
            "object_fit": null,
            "grid_auto_columns": null,
            "margin": null,
            "display": null,
            "left": null
          }
        },
        "1e846decec824919926e2c5f822c514b": {
          "model_module": "@jupyter-widgets/controls",
          "model_name": "ProgressStyleModel",
          "model_module_version": "1.5.0",
          "state": {
            "_view_name": "StyleView",
            "_model_name": "ProgressStyleModel",
            "description_width": "",
            "_view_module": "@jupyter-widgets/base",
            "_model_module_version": "1.5.0",
            "_view_count": null,
            "_view_module_version": "1.2.0",
            "bar_color": null,
            "_model_module": "@jupyter-widgets/controls"
          }
        },
        "93b907a69a7b418f8df35b072a9f9d08": {
          "model_module": "@jupyter-widgets/base",
          "model_name": "LayoutModel",
          "model_module_version": "1.2.0",
          "state": {
            "_view_name": "LayoutView",
            "grid_template_rows": null,
            "right": null,
            "justify_content": null,
            "_view_module": "@jupyter-widgets/base",
            "overflow": null,
            "_model_module_version": "1.2.0",
            "_view_count": null,
            "flex_flow": null,
            "width": null,
            "min_width": null,
            "border": null,
            "align_items": null,
            "bottom": null,
            "_model_module": "@jupyter-widgets/base",
            "top": null,
            "grid_column": null,
            "overflow_y": null,
            "overflow_x": null,
            "grid_auto_flow": null,
            "grid_area": null,
            "grid_template_columns": null,
            "flex": null,
            "_model_name": "LayoutModel",
            "justify_items": null,
            "grid_row": null,
            "max_height": null,
            "align_content": null,
            "visibility": null,
            "align_self": null,
            "height": null,
            "min_height": null,
            "padding": null,
            "grid_auto_rows": null,
            "grid_gap": null,
            "max_width": null,
            "order": null,
            "_view_module_version": "1.2.0",
            "grid_template_areas": null,
            "object_position": null,
            "object_fit": null,
            "grid_auto_columns": null,
            "margin": null,
            "display": null,
            "left": null
          }
        },
        "070fcddd23e34ca2b8443421c97e9071": {
          "model_module": "@jupyter-widgets/controls",
          "model_name": "DescriptionStyleModel",
          "model_module_version": "1.5.0",
          "state": {
            "_view_name": "StyleView",
            "_model_name": "DescriptionStyleModel",
            "description_width": "",
            "_view_module": "@jupyter-widgets/base",
            "_model_module_version": "1.5.0",
            "_view_count": null,
            "_view_module_version": "1.2.0",
            "_model_module": "@jupyter-widgets/controls"
          }
        },
        "38cd5813e8cc49008b87660c9a8772a1": {
          "model_module": "@jupyter-widgets/base",
          "model_name": "LayoutModel",
          "model_module_version": "1.2.0",
          "state": {
            "_view_name": "LayoutView",
            "grid_template_rows": null,
            "right": null,
            "justify_content": null,
            "_view_module": "@jupyter-widgets/base",
            "overflow": null,
            "_model_module_version": "1.2.0",
            "_view_count": null,
            "flex_flow": null,
            "width": null,
            "min_width": null,
            "border": null,
            "align_items": null,
            "bottom": null,
            "_model_module": "@jupyter-widgets/base",
            "top": null,
            "grid_column": null,
            "overflow_y": null,
            "overflow_x": null,
            "grid_auto_flow": null,
            "grid_area": null,
            "grid_template_columns": null,
            "flex": null,
            "_model_name": "LayoutModel",
            "justify_items": null,
            "grid_row": null,
            "max_height": null,
            "align_content": null,
            "visibility": null,
            "align_self": null,
            "height": null,
            "min_height": null,
            "padding": null,
            "grid_auto_rows": null,
            "grid_gap": null,
            "max_width": null,
            "order": null,
            "_view_module_version": "1.2.0",
            "grid_template_areas": null,
            "object_position": null,
            "object_fit": null,
            "grid_auto_columns": null,
            "margin": null,
            "display": null,
            "left": null
          }
        },
        "211165f309624baf8ba1f2610c926b8a": {
          "model_module": "@jupyter-widgets/controls",
          "model_name": "HBoxModel",
          "model_module_version": "1.5.0",
          "state": {
            "_view_name": "HBoxView",
            "_dom_classes": [],
            "_model_name": "HBoxModel",
            "_view_module": "@jupyter-widgets/controls",
            "_model_module_version": "1.5.0",
            "_view_count": null,
            "_view_module_version": "1.5.0",
            "box_style": "",
            "layout": "IPY_MODEL_e942d17c50dc4433b97398c545041bd8",
            "_model_module": "@jupyter-widgets/controls",
            "children": [
              "IPY_MODEL_5fb21d9728f143cc81561d7dce9bf113",
              "IPY_MODEL_d07c696c03b2486f9005a61519859b6a",
              "IPY_MODEL_1349fc45723b42efa658ff1d2ca5bb8f"
            ]
          }
        },
        "e942d17c50dc4433b97398c545041bd8": {
          "model_module": "@jupyter-widgets/base",
          "model_name": "LayoutModel",
          "model_module_version": "1.2.0",
          "state": {
            "_view_name": "LayoutView",
            "grid_template_rows": null,
            "right": null,
            "justify_content": null,
            "_view_module": "@jupyter-widgets/base",
            "overflow": null,
            "_model_module_version": "1.2.0",
            "_view_count": null,
            "flex_flow": null,
            "width": null,
            "min_width": null,
            "border": null,
            "align_items": null,
            "bottom": null,
            "_model_module": "@jupyter-widgets/base",
            "top": null,
            "grid_column": null,
            "overflow_y": null,
            "overflow_x": null,
            "grid_auto_flow": null,
            "grid_area": null,
            "grid_template_columns": null,
            "flex": null,
            "_model_name": "LayoutModel",
            "justify_items": null,
            "grid_row": null,
            "max_height": null,
            "align_content": null,
            "visibility": null,
            "align_self": null,
            "height": null,
            "min_height": null,
            "padding": null,
            "grid_auto_rows": null,
            "grid_gap": null,
            "max_width": null,
            "order": null,
            "_view_module_version": "1.2.0",
            "grid_template_areas": null,
            "object_position": null,
            "object_fit": null,
            "grid_auto_columns": null,
            "margin": null,
            "display": null,
            "left": null
          }
        },
        "5fb21d9728f143cc81561d7dce9bf113": {
          "model_module": "@jupyter-widgets/controls",
          "model_name": "HTMLModel",
          "model_module_version": "1.5.0",
          "state": {
            "_view_name": "HTMLView",
            "style": "IPY_MODEL_353d6db2689a478694ea0769353777d8",
            "_dom_classes": [],
            "description": "",
            "_model_name": "HTMLModel",
            "placeholder": "​",
            "_view_module": "@jupyter-widgets/controls",
            "_model_module_version": "1.5.0",
            "value": "100%",
            "_view_count": null,
            "_view_module_version": "1.5.0",
            "description_tooltip": null,
            "_model_module": "@jupyter-widgets/controls",
            "layout": "IPY_MODEL_efaa527c5c564b4eaac9fe5865b8b951"
          }
        },
        "d07c696c03b2486f9005a61519859b6a": {
          "model_module": "@jupyter-widgets/controls",
          "model_name": "FloatProgressModel",
          "model_module_version": "1.5.0",
          "state": {
            "_view_name": "ProgressView",
            "style": "IPY_MODEL_4a7819f842c34d17ba555bbd4286074a",
            "_dom_classes": [],
            "description": "",
            "_model_name": "FloatProgressModel",
            "bar_style": "success",
            "max": 438,
            "_view_module": "@jupyter-widgets/controls",
            "_model_module_version": "1.5.0",
            "value": 438,
            "_view_count": null,
            "_view_module_version": "1.5.0",
            "orientation": "horizontal",
            "min": 0,
            "description_tooltip": null,
            "_model_module": "@jupyter-widgets/controls",
            "layout": "IPY_MODEL_68e5089f45914e188328e9af5c7519e5"
          }
        },
        "1349fc45723b42efa658ff1d2ca5bb8f": {
          "model_module": "@jupyter-widgets/controls",
          "model_name": "HTMLModel",
          "model_module_version": "1.5.0",
          "state": {
            "_view_name": "HTMLView",
            "style": "IPY_MODEL_4010647b3bcc47eb971c883c5b829480",
            "_dom_classes": [],
            "description": "",
            "_model_name": "HTMLModel",
            "placeholder": "​",
            "_view_module": "@jupyter-widgets/controls",
            "_model_module_version": "1.5.0",
            "value": " 438/438 [01:47&lt;00:00,  4.71it/s]",
            "_view_count": null,
            "_view_module_version": "1.5.0",
            "description_tooltip": null,
            "_model_module": "@jupyter-widgets/controls",
            "layout": "IPY_MODEL_d223a91706d444aa97b8b7c4548ac84f"
          }
        },
        "353d6db2689a478694ea0769353777d8": {
          "model_module": "@jupyter-widgets/controls",
          "model_name": "DescriptionStyleModel",
          "model_module_version": "1.5.0",
          "state": {
            "_view_name": "StyleView",
            "_model_name": "DescriptionStyleModel",
            "description_width": "",
            "_view_module": "@jupyter-widgets/base",
            "_model_module_version": "1.5.0",
            "_view_count": null,
            "_view_module_version": "1.2.0",
            "_model_module": "@jupyter-widgets/controls"
          }
        },
        "efaa527c5c564b4eaac9fe5865b8b951": {
          "model_module": "@jupyter-widgets/base",
          "model_name": "LayoutModel",
          "model_module_version": "1.2.0",
          "state": {
            "_view_name": "LayoutView",
            "grid_template_rows": null,
            "right": null,
            "justify_content": null,
            "_view_module": "@jupyter-widgets/base",
            "overflow": null,
            "_model_module_version": "1.2.0",
            "_view_count": null,
            "flex_flow": null,
            "width": null,
            "min_width": null,
            "border": null,
            "align_items": null,
            "bottom": null,
            "_model_module": "@jupyter-widgets/base",
            "top": null,
            "grid_column": null,
            "overflow_y": null,
            "overflow_x": null,
            "grid_auto_flow": null,
            "grid_area": null,
            "grid_template_columns": null,
            "flex": null,
            "_model_name": "LayoutModel",
            "justify_items": null,
            "grid_row": null,
            "max_height": null,
            "align_content": null,
            "visibility": null,
            "align_self": null,
            "height": null,
            "min_height": null,
            "padding": null,
            "grid_auto_rows": null,
            "grid_gap": null,
            "max_width": null,
            "order": null,
            "_view_module_version": "1.2.0",
            "grid_template_areas": null,
            "object_position": null,
            "object_fit": null,
            "grid_auto_columns": null,
            "margin": null,
            "display": null,
            "left": null
          }
        },
        "4a7819f842c34d17ba555bbd4286074a": {
          "model_module": "@jupyter-widgets/controls",
          "model_name": "ProgressStyleModel",
          "model_module_version": "1.5.0",
          "state": {
            "_view_name": "StyleView",
            "_model_name": "ProgressStyleModel",
            "description_width": "",
            "_view_module": "@jupyter-widgets/base",
            "_model_module_version": "1.5.0",
            "_view_count": null,
            "_view_module_version": "1.2.0",
            "bar_color": null,
            "_model_module": "@jupyter-widgets/controls"
          }
        },
        "68e5089f45914e188328e9af5c7519e5": {
          "model_module": "@jupyter-widgets/base",
          "model_name": "LayoutModel",
          "model_module_version": "1.2.0",
          "state": {
            "_view_name": "LayoutView",
            "grid_template_rows": null,
            "right": null,
            "justify_content": null,
            "_view_module": "@jupyter-widgets/base",
            "overflow": null,
            "_model_module_version": "1.2.0",
            "_view_count": null,
            "flex_flow": null,
            "width": null,
            "min_width": null,
            "border": null,
            "align_items": null,
            "bottom": null,
            "_model_module": "@jupyter-widgets/base",
            "top": null,
            "grid_column": null,
            "overflow_y": null,
            "overflow_x": null,
            "grid_auto_flow": null,
            "grid_area": null,
            "grid_template_columns": null,
            "flex": null,
            "_model_name": "LayoutModel",
            "justify_items": null,
            "grid_row": null,
            "max_height": null,
            "align_content": null,
            "visibility": null,
            "align_self": null,
            "height": null,
            "min_height": null,
            "padding": null,
            "grid_auto_rows": null,
            "grid_gap": null,
            "max_width": null,
            "order": null,
            "_view_module_version": "1.2.0",
            "grid_template_areas": null,
            "object_position": null,
            "object_fit": null,
            "grid_auto_columns": null,
            "margin": null,
            "display": null,
            "left": null
          }
        },
        "4010647b3bcc47eb971c883c5b829480": {
          "model_module": "@jupyter-widgets/controls",
          "model_name": "DescriptionStyleModel",
          "model_module_version": "1.5.0",
          "state": {
            "_view_name": "StyleView",
            "_model_name": "DescriptionStyleModel",
            "description_width": "",
            "_view_module": "@jupyter-widgets/base",
            "_model_module_version": "1.5.0",
            "_view_count": null,
            "_view_module_version": "1.2.0",
            "_model_module": "@jupyter-widgets/controls"
          }
        },
        "d223a91706d444aa97b8b7c4548ac84f": {
          "model_module": "@jupyter-widgets/base",
          "model_name": "LayoutModel",
          "model_module_version": "1.2.0",
          "state": {
            "_view_name": "LayoutView",
            "grid_template_rows": null,
            "right": null,
            "justify_content": null,
            "_view_module": "@jupyter-widgets/base",
            "overflow": null,
            "_model_module_version": "1.2.0",
            "_view_count": null,
            "flex_flow": null,
            "width": null,
            "min_width": null,
            "border": null,
            "align_items": null,
            "bottom": null,
            "_model_module": "@jupyter-widgets/base",
            "top": null,
            "grid_column": null,
            "overflow_y": null,
            "overflow_x": null,
            "grid_auto_flow": null,
            "grid_area": null,
            "grid_template_columns": null,
            "flex": null,
            "_model_name": "LayoutModel",
            "justify_items": null,
            "grid_row": null,
            "max_height": null,
            "align_content": null,
            "visibility": null,
            "align_self": null,
            "height": null,
            "min_height": null,
            "padding": null,
            "grid_auto_rows": null,
            "grid_gap": null,
            "max_width": null,
            "order": null,
            "_view_module_version": "1.2.0",
            "grid_template_areas": null,
            "object_position": null,
            "object_fit": null,
            "grid_auto_columns": null,
            "margin": null,
            "display": null,
            "left": null
          }
        },
        "d3526f5dde31495ea8184ea35f917a66": {
          "model_module": "@jupyter-widgets/controls",
          "model_name": "HBoxModel",
          "model_module_version": "1.5.0",
          "state": {
            "_view_name": "HBoxView",
            "_dom_classes": [],
            "_model_name": "HBoxModel",
            "_view_module": "@jupyter-widgets/controls",
            "_model_module_version": "1.5.0",
            "_view_count": null,
            "_view_module_version": "1.5.0",
            "box_style": "",
            "layout": "IPY_MODEL_6ec90ab1e82147b082586c2c6d88dd3d",
            "_model_module": "@jupyter-widgets/controls",
            "children": [
              "IPY_MODEL_e261cc5e45cd49548589d893186dcf7f",
              "IPY_MODEL_c7ebeee9ac58491b84d79860c1342c81",
              "IPY_MODEL_75f289ddd604418f9c76645dc44ba996"
            ]
          }
        },
        "6ec90ab1e82147b082586c2c6d88dd3d": {
          "model_module": "@jupyter-widgets/base",
          "model_name": "LayoutModel",
          "model_module_version": "1.2.0",
          "state": {
            "_view_name": "LayoutView",
            "grid_template_rows": null,
            "right": null,
            "justify_content": null,
            "_view_module": "@jupyter-widgets/base",
            "overflow": null,
            "_model_module_version": "1.2.0",
            "_view_count": null,
            "flex_flow": null,
            "width": null,
            "min_width": null,
            "border": null,
            "align_items": null,
            "bottom": null,
            "_model_module": "@jupyter-widgets/base",
            "top": null,
            "grid_column": null,
            "overflow_y": null,
            "overflow_x": null,
            "grid_auto_flow": null,
            "grid_area": null,
            "grid_template_columns": null,
            "flex": null,
            "_model_name": "LayoutModel",
            "justify_items": null,
            "grid_row": null,
            "max_height": null,
            "align_content": null,
            "visibility": null,
            "align_self": null,
            "height": null,
            "min_height": null,
            "padding": null,
            "grid_auto_rows": null,
            "grid_gap": null,
            "max_width": null,
            "order": null,
            "_view_module_version": "1.2.0",
            "grid_template_areas": null,
            "object_position": null,
            "object_fit": null,
            "grid_auto_columns": null,
            "margin": null,
            "display": null,
            "left": null
          }
        },
        "e261cc5e45cd49548589d893186dcf7f": {
          "model_module": "@jupyter-widgets/controls",
          "model_name": "HTMLModel",
          "model_module_version": "1.5.0",
          "state": {
            "_view_name": "HTMLView",
            "style": "IPY_MODEL_c5e9339169fd42238efe5d618714f182",
            "_dom_classes": [],
            "description": "",
            "_model_name": "HTMLModel",
            "placeholder": "​",
            "_view_module": "@jupyter-widgets/controls",
            "_model_module_version": "1.5.0",
            "value": "100%",
            "_view_count": null,
            "_view_module_version": "1.5.0",
            "description_tooltip": null,
            "_model_module": "@jupyter-widgets/controls",
            "layout": "IPY_MODEL_b00cceb5194944019bffc3a0e2422d4b"
          }
        },
        "c7ebeee9ac58491b84d79860c1342c81": {
          "model_module": "@jupyter-widgets/controls",
          "model_name": "FloatProgressModel",
          "model_module_version": "1.5.0",
          "state": {
            "_view_name": "ProgressView",
            "style": "IPY_MODEL_b5c92c57f155470da8cb87854be7216c",
            "_dom_classes": [],
            "description": "",
            "_model_name": "FloatProgressModel",
            "bar_style": "success",
            "max": 438,
            "_view_module": "@jupyter-widgets/controls",
            "_model_module_version": "1.5.0",
            "value": 438,
            "_view_count": null,
            "_view_module_version": "1.5.0",
            "orientation": "horizontal",
            "min": 0,
            "description_tooltip": null,
            "_model_module": "@jupyter-widgets/controls",
            "layout": "IPY_MODEL_a5481cbc0a994255ae1d2374acd9a3ba"
          }
        },
        "75f289ddd604418f9c76645dc44ba996": {
          "model_module": "@jupyter-widgets/controls",
          "model_name": "HTMLModel",
          "model_module_version": "1.5.0",
          "state": {
            "_view_name": "HTMLView",
            "style": "IPY_MODEL_4c763e751a184f3a9cc3e4e23393f8f6",
            "_dom_classes": [],
            "description": "",
            "_model_name": "HTMLModel",
            "placeholder": "​",
            "_view_module": "@jupyter-widgets/controls",
            "_model_module_version": "1.5.0",
            "value": " 438/438 [01:48&lt;00:00,  4.63it/s]",
            "_view_count": null,
            "_view_module_version": "1.5.0",
            "description_tooltip": null,
            "_model_module": "@jupyter-widgets/controls",
            "layout": "IPY_MODEL_aca2481bf4104936988da96431d4f71a"
          }
        },
        "c5e9339169fd42238efe5d618714f182": {
          "model_module": "@jupyter-widgets/controls",
          "model_name": "DescriptionStyleModel",
          "model_module_version": "1.5.0",
          "state": {
            "_view_name": "StyleView",
            "_model_name": "DescriptionStyleModel",
            "description_width": "",
            "_view_module": "@jupyter-widgets/base",
            "_model_module_version": "1.5.0",
            "_view_count": null,
            "_view_module_version": "1.2.0",
            "_model_module": "@jupyter-widgets/controls"
          }
        },
        "b00cceb5194944019bffc3a0e2422d4b": {
          "model_module": "@jupyter-widgets/base",
          "model_name": "LayoutModel",
          "model_module_version": "1.2.0",
          "state": {
            "_view_name": "LayoutView",
            "grid_template_rows": null,
            "right": null,
            "justify_content": null,
            "_view_module": "@jupyter-widgets/base",
            "overflow": null,
            "_model_module_version": "1.2.0",
            "_view_count": null,
            "flex_flow": null,
            "width": null,
            "min_width": null,
            "border": null,
            "align_items": null,
            "bottom": null,
            "_model_module": "@jupyter-widgets/base",
            "top": null,
            "grid_column": null,
            "overflow_y": null,
            "overflow_x": null,
            "grid_auto_flow": null,
            "grid_area": null,
            "grid_template_columns": null,
            "flex": null,
            "_model_name": "LayoutModel",
            "justify_items": null,
            "grid_row": null,
            "max_height": null,
            "align_content": null,
            "visibility": null,
            "align_self": null,
            "height": null,
            "min_height": null,
            "padding": null,
            "grid_auto_rows": null,
            "grid_gap": null,
            "max_width": null,
            "order": null,
            "_view_module_version": "1.2.0",
            "grid_template_areas": null,
            "object_position": null,
            "object_fit": null,
            "grid_auto_columns": null,
            "margin": null,
            "display": null,
            "left": null
          }
        },
        "b5c92c57f155470da8cb87854be7216c": {
          "model_module": "@jupyter-widgets/controls",
          "model_name": "ProgressStyleModel",
          "model_module_version": "1.5.0",
          "state": {
            "_view_name": "StyleView",
            "_model_name": "ProgressStyleModel",
            "description_width": "",
            "_view_module": "@jupyter-widgets/base",
            "_model_module_version": "1.5.0",
            "_view_count": null,
            "_view_module_version": "1.2.0",
            "bar_color": null,
            "_model_module": "@jupyter-widgets/controls"
          }
        },
        "a5481cbc0a994255ae1d2374acd9a3ba": {
          "model_module": "@jupyter-widgets/base",
          "model_name": "LayoutModel",
          "model_module_version": "1.2.0",
          "state": {
            "_view_name": "LayoutView",
            "grid_template_rows": null,
            "right": null,
            "justify_content": null,
            "_view_module": "@jupyter-widgets/base",
            "overflow": null,
            "_model_module_version": "1.2.0",
            "_view_count": null,
            "flex_flow": null,
            "width": null,
            "min_width": null,
            "border": null,
            "align_items": null,
            "bottom": null,
            "_model_module": "@jupyter-widgets/base",
            "top": null,
            "grid_column": null,
            "overflow_y": null,
            "overflow_x": null,
            "grid_auto_flow": null,
            "grid_area": null,
            "grid_template_columns": null,
            "flex": null,
            "_model_name": "LayoutModel",
            "justify_items": null,
            "grid_row": null,
            "max_height": null,
            "align_content": null,
            "visibility": null,
            "align_self": null,
            "height": null,
            "min_height": null,
            "padding": null,
            "grid_auto_rows": null,
            "grid_gap": null,
            "max_width": null,
            "order": null,
            "_view_module_version": "1.2.0",
            "grid_template_areas": null,
            "object_position": null,
            "object_fit": null,
            "grid_auto_columns": null,
            "margin": null,
            "display": null,
            "left": null
          }
        },
        "4c763e751a184f3a9cc3e4e23393f8f6": {
          "model_module": "@jupyter-widgets/controls",
          "model_name": "DescriptionStyleModel",
          "model_module_version": "1.5.0",
          "state": {
            "_view_name": "StyleView",
            "_model_name": "DescriptionStyleModel",
            "description_width": "",
            "_view_module": "@jupyter-widgets/base",
            "_model_module_version": "1.5.0",
            "_view_count": null,
            "_view_module_version": "1.2.0",
            "_model_module": "@jupyter-widgets/controls"
          }
        },
        "aca2481bf4104936988da96431d4f71a": {
          "model_module": "@jupyter-widgets/base",
          "model_name": "LayoutModel",
          "model_module_version": "1.2.0",
          "state": {
            "_view_name": "LayoutView",
            "grid_template_rows": null,
            "right": null,
            "justify_content": null,
            "_view_module": "@jupyter-widgets/base",
            "overflow": null,
            "_model_module_version": "1.2.0",
            "_view_count": null,
            "flex_flow": null,
            "width": null,
            "min_width": null,
            "border": null,
            "align_items": null,
            "bottom": null,
            "_model_module": "@jupyter-widgets/base",
            "top": null,
            "grid_column": null,
            "overflow_y": null,
            "overflow_x": null,
            "grid_auto_flow": null,
            "grid_area": null,
            "grid_template_columns": null,
            "flex": null,
            "_model_name": "LayoutModel",
            "justify_items": null,
            "grid_row": null,
            "max_height": null,
            "align_content": null,
            "visibility": null,
            "align_self": null,
            "height": null,
            "min_height": null,
            "padding": null,
            "grid_auto_rows": null,
            "grid_gap": null,
            "max_width": null,
            "order": null,
            "_view_module_version": "1.2.0",
            "grid_template_areas": null,
            "object_position": null,
            "object_fit": null,
            "grid_auto_columns": null,
            "margin": null,
            "display": null,
            "left": null
          }
        },
        "42b940575b1c4fa897ba3da04c1dbbc0": {
          "model_module": "@jupyter-widgets/controls",
          "model_name": "HBoxModel",
          "model_module_version": "1.5.0",
          "state": {
            "_view_name": "HBoxView",
            "_dom_classes": [],
            "_model_name": "HBoxModel",
            "_view_module": "@jupyter-widgets/controls",
            "_model_module_version": "1.5.0",
            "_view_count": null,
            "_view_module_version": "1.5.0",
            "box_style": "",
            "layout": "IPY_MODEL_b20aad7058d8451a9480f43145e19c03",
            "_model_module": "@jupyter-widgets/controls",
            "children": [
              "IPY_MODEL_b2e1336d00df4eda852b5ad429ba3e78",
              "IPY_MODEL_8746bd9c62b042959c2ab98a278a7b6b",
              "IPY_MODEL_2dae9e20761d43e4a151df165036a5c7"
            ]
          }
        },
        "b20aad7058d8451a9480f43145e19c03": {
          "model_module": "@jupyter-widgets/base",
          "model_name": "LayoutModel",
          "model_module_version": "1.2.0",
          "state": {
            "_view_name": "LayoutView",
            "grid_template_rows": null,
            "right": null,
            "justify_content": null,
            "_view_module": "@jupyter-widgets/base",
            "overflow": null,
            "_model_module_version": "1.2.0",
            "_view_count": null,
            "flex_flow": null,
            "width": null,
            "min_width": null,
            "border": null,
            "align_items": null,
            "bottom": null,
            "_model_module": "@jupyter-widgets/base",
            "top": null,
            "grid_column": null,
            "overflow_y": null,
            "overflow_x": null,
            "grid_auto_flow": null,
            "grid_area": null,
            "grid_template_columns": null,
            "flex": null,
            "_model_name": "LayoutModel",
            "justify_items": null,
            "grid_row": null,
            "max_height": null,
            "align_content": null,
            "visibility": null,
            "align_self": null,
            "height": null,
            "min_height": null,
            "padding": null,
            "grid_auto_rows": null,
            "grid_gap": null,
            "max_width": null,
            "order": null,
            "_view_module_version": "1.2.0",
            "grid_template_areas": null,
            "object_position": null,
            "object_fit": null,
            "grid_auto_columns": null,
            "margin": null,
            "display": null,
            "left": null
          }
        },
        "b2e1336d00df4eda852b5ad429ba3e78": {
          "model_module": "@jupyter-widgets/controls",
          "model_name": "HTMLModel",
          "model_module_version": "1.5.0",
          "state": {
            "_view_name": "HTMLView",
            "style": "IPY_MODEL_79b36dc501ac4b868836bc43ba26e2a9",
            "_dom_classes": [],
            "description": "",
            "_model_name": "HTMLModel",
            "placeholder": "​",
            "_view_module": "@jupyter-widgets/controls",
            "_model_module_version": "1.5.0",
            "value": "100%",
            "_view_count": null,
            "_view_module_version": "1.5.0",
            "description_tooltip": null,
            "_model_module": "@jupyter-widgets/controls",
            "layout": "IPY_MODEL_cb098084dac9403394828f80a007eb20"
          }
        },
        "8746bd9c62b042959c2ab98a278a7b6b": {
          "model_module": "@jupyter-widgets/controls",
          "model_name": "FloatProgressModel",
          "model_module_version": "1.5.0",
          "state": {
            "_view_name": "ProgressView",
            "style": "IPY_MODEL_84dd66a96499468f99d837f1b0a42528",
            "_dom_classes": [],
            "description": "",
            "_model_name": "FloatProgressModel",
            "bar_style": "success",
            "max": 438,
            "_view_module": "@jupyter-widgets/controls",
            "_model_module_version": "1.5.0",
            "value": 438,
            "_view_count": null,
            "_view_module_version": "1.5.0",
            "orientation": "horizontal",
            "min": 0,
            "description_tooltip": null,
            "_model_module": "@jupyter-widgets/controls",
            "layout": "IPY_MODEL_4c858b0746a94eedbab1d6ae3930c562"
          }
        },
        "2dae9e20761d43e4a151df165036a5c7": {
          "model_module": "@jupyter-widgets/controls",
          "model_name": "HTMLModel",
          "model_module_version": "1.5.0",
          "state": {
            "_view_name": "HTMLView",
            "style": "IPY_MODEL_91422e4967f148f0b51117b6b0c70c72",
            "_dom_classes": [],
            "description": "",
            "_model_name": "HTMLModel",
            "placeholder": "​",
            "_view_module": "@jupyter-widgets/controls",
            "_model_module_version": "1.5.0",
            "value": " 438/438 [01:46&lt;00:00,  4.82it/s]",
            "_view_count": null,
            "_view_module_version": "1.5.0",
            "description_tooltip": null,
            "_model_module": "@jupyter-widgets/controls",
            "layout": "IPY_MODEL_8b037cebfb6e43e6bb56893215400383"
          }
        },
        "79b36dc501ac4b868836bc43ba26e2a9": {
          "model_module": "@jupyter-widgets/controls",
          "model_name": "DescriptionStyleModel",
          "model_module_version": "1.5.0",
          "state": {
            "_view_name": "StyleView",
            "_model_name": "DescriptionStyleModel",
            "description_width": "",
            "_view_module": "@jupyter-widgets/base",
            "_model_module_version": "1.5.0",
            "_view_count": null,
            "_view_module_version": "1.2.0",
            "_model_module": "@jupyter-widgets/controls"
          }
        },
        "cb098084dac9403394828f80a007eb20": {
          "model_module": "@jupyter-widgets/base",
          "model_name": "LayoutModel",
          "model_module_version": "1.2.0",
          "state": {
            "_view_name": "LayoutView",
            "grid_template_rows": null,
            "right": null,
            "justify_content": null,
            "_view_module": "@jupyter-widgets/base",
            "overflow": null,
            "_model_module_version": "1.2.0",
            "_view_count": null,
            "flex_flow": null,
            "width": null,
            "min_width": null,
            "border": null,
            "align_items": null,
            "bottom": null,
            "_model_module": "@jupyter-widgets/base",
            "top": null,
            "grid_column": null,
            "overflow_y": null,
            "overflow_x": null,
            "grid_auto_flow": null,
            "grid_area": null,
            "grid_template_columns": null,
            "flex": null,
            "_model_name": "LayoutModel",
            "justify_items": null,
            "grid_row": null,
            "max_height": null,
            "align_content": null,
            "visibility": null,
            "align_self": null,
            "height": null,
            "min_height": null,
            "padding": null,
            "grid_auto_rows": null,
            "grid_gap": null,
            "max_width": null,
            "order": null,
            "_view_module_version": "1.2.0",
            "grid_template_areas": null,
            "object_position": null,
            "object_fit": null,
            "grid_auto_columns": null,
            "margin": null,
            "display": null,
            "left": null
          }
        },
        "84dd66a96499468f99d837f1b0a42528": {
          "model_module": "@jupyter-widgets/controls",
          "model_name": "ProgressStyleModel",
          "model_module_version": "1.5.0",
          "state": {
            "_view_name": "StyleView",
            "_model_name": "ProgressStyleModel",
            "description_width": "",
            "_view_module": "@jupyter-widgets/base",
            "_model_module_version": "1.5.0",
            "_view_count": null,
            "_view_module_version": "1.2.0",
            "bar_color": null,
            "_model_module": "@jupyter-widgets/controls"
          }
        },
        "4c858b0746a94eedbab1d6ae3930c562": {
          "model_module": "@jupyter-widgets/base",
          "model_name": "LayoutModel",
          "model_module_version": "1.2.0",
          "state": {
            "_view_name": "LayoutView",
            "grid_template_rows": null,
            "right": null,
            "justify_content": null,
            "_view_module": "@jupyter-widgets/base",
            "overflow": null,
            "_model_module_version": "1.2.0",
            "_view_count": null,
            "flex_flow": null,
            "width": null,
            "min_width": null,
            "border": null,
            "align_items": null,
            "bottom": null,
            "_model_module": "@jupyter-widgets/base",
            "top": null,
            "grid_column": null,
            "overflow_y": null,
            "overflow_x": null,
            "grid_auto_flow": null,
            "grid_area": null,
            "grid_template_columns": null,
            "flex": null,
            "_model_name": "LayoutModel",
            "justify_items": null,
            "grid_row": null,
            "max_height": null,
            "align_content": null,
            "visibility": null,
            "align_self": null,
            "height": null,
            "min_height": null,
            "padding": null,
            "grid_auto_rows": null,
            "grid_gap": null,
            "max_width": null,
            "order": null,
            "_view_module_version": "1.2.0",
            "grid_template_areas": null,
            "object_position": null,
            "object_fit": null,
            "grid_auto_columns": null,
            "margin": null,
            "display": null,
            "left": null
          }
        },
        "91422e4967f148f0b51117b6b0c70c72": {
          "model_module": "@jupyter-widgets/controls",
          "model_name": "DescriptionStyleModel",
          "model_module_version": "1.5.0",
          "state": {
            "_view_name": "StyleView",
            "_model_name": "DescriptionStyleModel",
            "description_width": "",
            "_view_module": "@jupyter-widgets/base",
            "_model_module_version": "1.5.0",
            "_view_count": null,
            "_view_module_version": "1.2.0",
            "_model_module": "@jupyter-widgets/controls"
          }
        },
        "8b037cebfb6e43e6bb56893215400383": {
          "model_module": "@jupyter-widgets/base",
          "model_name": "LayoutModel",
          "model_module_version": "1.2.0",
          "state": {
            "_view_name": "LayoutView",
            "grid_template_rows": null,
            "right": null,
            "justify_content": null,
            "_view_module": "@jupyter-widgets/base",
            "overflow": null,
            "_model_module_version": "1.2.0",
            "_view_count": null,
            "flex_flow": null,
            "width": null,
            "min_width": null,
            "border": null,
            "align_items": null,
            "bottom": null,
            "_model_module": "@jupyter-widgets/base",
            "top": null,
            "grid_column": null,
            "overflow_y": null,
            "overflow_x": null,
            "grid_auto_flow": null,
            "grid_area": null,
            "grid_template_columns": null,
            "flex": null,
            "_model_name": "LayoutModel",
            "justify_items": null,
            "grid_row": null,
            "max_height": null,
            "align_content": null,
            "visibility": null,
            "align_self": null,
            "height": null,
            "min_height": null,
            "padding": null,
            "grid_auto_rows": null,
            "grid_gap": null,
            "max_width": null,
            "order": null,
            "_view_module_version": "1.2.0",
            "grid_template_areas": null,
            "object_position": null,
            "object_fit": null,
            "grid_auto_columns": null,
            "margin": null,
            "display": null,
            "left": null
          }
        },
        "3d47681034014e3ab5424b51fcbad521": {
          "model_module": "@jupyter-widgets/controls",
          "model_name": "HBoxModel",
          "model_module_version": "1.5.0",
          "state": {
            "_view_name": "HBoxView",
            "_dom_classes": [],
            "_model_name": "HBoxModel",
            "_view_module": "@jupyter-widgets/controls",
            "_model_module_version": "1.5.0",
            "_view_count": null,
            "_view_module_version": "1.5.0",
            "box_style": "",
            "layout": "IPY_MODEL_8c5f47e970dd4ddab213152f3aa2881e",
            "_model_module": "@jupyter-widgets/controls",
            "children": [
              "IPY_MODEL_c0c31aeb02cb40e98338029d4e113266",
              "IPY_MODEL_2a3de50843fe440b9c6d48e436d1a73c",
              "IPY_MODEL_35bf9f260ec846598c100b1a04a8c5ad"
            ]
          }
        },
        "8c5f47e970dd4ddab213152f3aa2881e": {
          "model_module": "@jupyter-widgets/base",
          "model_name": "LayoutModel",
          "model_module_version": "1.2.0",
          "state": {
            "_view_name": "LayoutView",
            "grid_template_rows": null,
            "right": null,
            "justify_content": null,
            "_view_module": "@jupyter-widgets/base",
            "overflow": null,
            "_model_module_version": "1.2.0",
            "_view_count": null,
            "flex_flow": null,
            "width": null,
            "min_width": null,
            "border": null,
            "align_items": null,
            "bottom": null,
            "_model_module": "@jupyter-widgets/base",
            "top": null,
            "grid_column": null,
            "overflow_y": null,
            "overflow_x": null,
            "grid_auto_flow": null,
            "grid_area": null,
            "grid_template_columns": null,
            "flex": null,
            "_model_name": "LayoutModel",
            "justify_items": null,
            "grid_row": null,
            "max_height": null,
            "align_content": null,
            "visibility": null,
            "align_self": null,
            "height": null,
            "min_height": null,
            "padding": null,
            "grid_auto_rows": null,
            "grid_gap": null,
            "max_width": null,
            "order": null,
            "_view_module_version": "1.2.0",
            "grid_template_areas": null,
            "object_position": null,
            "object_fit": null,
            "grid_auto_columns": null,
            "margin": null,
            "display": null,
            "left": null
          }
        },
        "c0c31aeb02cb40e98338029d4e113266": {
          "model_module": "@jupyter-widgets/controls",
          "model_name": "HTMLModel",
          "model_module_version": "1.5.0",
          "state": {
            "_view_name": "HTMLView",
            "style": "IPY_MODEL_acb18dc8ff0f49cfa69df6733de7045c",
            "_dom_classes": [],
            "description": "",
            "_model_name": "HTMLModel",
            "placeholder": "​",
            "_view_module": "@jupyter-widgets/controls",
            "_model_module_version": "1.5.0",
            "value": "100%",
            "_view_count": null,
            "_view_module_version": "1.5.0",
            "description_tooltip": null,
            "_model_module": "@jupyter-widgets/controls",
            "layout": "IPY_MODEL_4d8865ba5ea347e98d0707f97d76781c"
          }
        },
        "2a3de50843fe440b9c6d48e436d1a73c": {
          "model_module": "@jupyter-widgets/controls",
          "model_name": "FloatProgressModel",
          "model_module_version": "1.5.0",
          "state": {
            "_view_name": "ProgressView",
            "style": "IPY_MODEL_144d0212b1f14092817d855788cd3360",
            "_dom_classes": [],
            "description": "",
            "_model_name": "FloatProgressModel",
            "bar_style": "success",
            "max": 438,
            "_view_module": "@jupyter-widgets/controls",
            "_model_module_version": "1.5.0",
            "value": 438,
            "_view_count": null,
            "_view_module_version": "1.5.0",
            "orientation": "horizontal",
            "min": 0,
            "description_tooltip": null,
            "_model_module": "@jupyter-widgets/controls",
            "layout": "IPY_MODEL_1cd2b0122ae645d8a21f5335320a5849"
          }
        },
        "35bf9f260ec846598c100b1a04a8c5ad": {
          "model_module": "@jupyter-widgets/controls",
          "model_name": "HTMLModel",
          "model_module_version": "1.5.0",
          "state": {
            "_view_name": "HTMLView",
            "style": "IPY_MODEL_a7451832b8dd4b4a85a35184dcce7d9c",
            "_dom_classes": [],
            "description": "",
            "_model_name": "HTMLModel",
            "placeholder": "​",
            "_view_module": "@jupyter-widgets/controls",
            "_model_module_version": "1.5.0",
            "value": " 438/438 [01:47&lt;00:00,  4.73it/s]",
            "_view_count": null,
            "_view_module_version": "1.5.0",
            "description_tooltip": null,
            "_model_module": "@jupyter-widgets/controls",
            "layout": "IPY_MODEL_e506eab7f8dd487183b4d648b8a54d83"
          }
        },
        "acb18dc8ff0f49cfa69df6733de7045c": {
          "model_module": "@jupyter-widgets/controls",
          "model_name": "DescriptionStyleModel",
          "model_module_version": "1.5.0",
          "state": {
            "_view_name": "StyleView",
            "_model_name": "DescriptionStyleModel",
            "description_width": "",
            "_view_module": "@jupyter-widgets/base",
            "_model_module_version": "1.5.0",
            "_view_count": null,
            "_view_module_version": "1.2.0",
            "_model_module": "@jupyter-widgets/controls"
          }
        },
        "4d8865ba5ea347e98d0707f97d76781c": {
          "model_module": "@jupyter-widgets/base",
          "model_name": "LayoutModel",
          "model_module_version": "1.2.0",
          "state": {
            "_view_name": "LayoutView",
            "grid_template_rows": null,
            "right": null,
            "justify_content": null,
            "_view_module": "@jupyter-widgets/base",
            "overflow": null,
            "_model_module_version": "1.2.0",
            "_view_count": null,
            "flex_flow": null,
            "width": null,
            "min_width": null,
            "border": null,
            "align_items": null,
            "bottom": null,
            "_model_module": "@jupyter-widgets/base",
            "top": null,
            "grid_column": null,
            "overflow_y": null,
            "overflow_x": null,
            "grid_auto_flow": null,
            "grid_area": null,
            "grid_template_columns": null,
            "flex": null,
            "_model_name": "LayoutModel",
            "justify_items": null,
            "grid_row": null,
            "max_height": null,
            "align_content": null,
            "visibility": null,
            "align_self": null,
            "height": null,
            "min_height": null,
            "padding": null,
            "grid_auto_rows": null,
            "grid_gap": null,
            "max_width": null,
            "order": null,
            "_view_module_version": "1.2.0",
            "grid_template_areas": null,
            "object_position": null,
            "object_fit": null,
            "grid_auto_columns": null,
            "margin": null,
            "display": null,
            "left": null
          }
        },
        "144d0212b1f14092817d855788cd3360": {
          "model_module": "@jupyter-widgets/controls",
          "model_name": "ProgressStyleModel",
          "model_module_version": "1.5.0",
          "state": {
            "_view_name": "StyleView",
            "_model_name": "ProgressStyleModel",
            "description_width": "",
            "_view_module": "@jupyter-widgets/base",
            "_model_module_version": "1.5.0",
            "_view_count": null,
            "_view_module_version": "1.2.0",
            "bar_color": null,
            "_model_module": "@jupyter-widgets/controls"
          }
        },
        "1cd2b0122ae645d8a21f5335320a5849": {
          "model_module": "@jupyter-widgets/base",
          "model_name": "LayoutModel",
          "model_module_version": "1.2.0",
          "state": {
            "_view_name": "LayoutView",
            "grid_template_rows": null,
            "right": null,
            "justify_content": null,
            "_view_module": "@jupyter-widgets/base",
            "overflow": null,
            "_model_module_version": "1.2.0",
            "_view_count": null,
            "flex_flow": null,
            "width": null,
            "min_width": null,
            "border": null,
            "align_items": null,
            "bottom": null,
            "_model_module": "@jupyter-widgets/base",
            "top": null,
            "grid_column": null,
            "overflow_y": null,
            "overflow_x": null,
            "grid_auto_flow": null,
            "grid_area": null,
            "grid_template_columns": null,
            "flex": null,
            "_model_name": "LayoutModel",
            "justify_items": null,
            "grid_row": null,
            "max_height": null,
            "align_content": null,
            "visibility": null,
            "align_self": null,
            "height": null,
            "min_height": null,
            "padding": null,
            "grid_auto_rows": null,
            "grid_gap": null,
            "max_width": null,
            "order": null,
            "_view_module_version": "1.2.0",
            "grid_template_areas": null,
            "object_position": null,
            "object_fit": null,
            "grid_auto_columns": null,
            "margin": null,
            "display": null,
            "left": null
          }
        },
        "a7451832b8dd4b4a85a35184dcce7d9c": {
          "model_module": "@jupyter-widgets/controls",
          "model_name": "DescriptionStyleModel",
          "model_module_version": "1.5.0",
          "state": {
            "_view_name": "StyleView",
            "_model_name": "DescriptionStyleModel",
            "description_width": "",
            "_view_module": "@jupyter-widgets/base",
            "_model_module_version": "1.5.0",
            "_view_count": null,
            "_view_module_version": "1.2.0",
            "_model_module": "@jupyter-widgets/controls"
          }
        },
        "e506eab7f8dd487183b4d648b8a54d83": {
          "model_module": "@jupyter-widgets/base",
          "model_name": "LayoutModel",
          "model_module_version": "1.2.0",
          "state": {
            "_view_name": "LayoutView",
            "grid_template_rows": null,
            "right": null,
            "justify_content": null,
            "_view_module": "@jupyter-widgets/base",
            "overflow": null,
            "_model_module_version": "1.2.0",
            "_view_count": null,
            "flex_flow": null,
            "width": null,
            "min_width": null,
            "border": null,
            "align_items": null,
            "bottom": null,
            "_model_module": "@jupyter-widgets/base",
            "top": null,
            "grid_column": null,
            "overflow_y": null,
            "overflow_x": null,
            "grid_auto_flow": null,
            "grid_area": null,
            "grid_template_columns": null,
            "flex": null,
            "_model_name": "LayoutModel",
            "justify_items": null,
            "grid_row": null,
            "max_height": null,
            "align_content": null,
            "visibility": null,
            "align_self": null,
            "height": null,
            "min_height": null,
            "padding": null,
            "grid_auto_rows": null,
            "grid_gap": null,
            "max_width": null,
            "order": null,
            "_view_module_version": "1.2.0",
            "grid_template_areas": null,
            "object_position": null,
            "object_fit": null,
            "grid_auto_columns": null,
            "margin": null,
            "display": null,
            "left": null
          }
        }
      }
    },
    "colab": {
      "name": "week2_exp3.ipynb",
      "provenance": [],
      "collapsed_sections": [],
      "include_colab_link": true
    },
    "accelerator": "GPU"
  },
  "nbformat": 4,
  "nbformat_minor": 5
}